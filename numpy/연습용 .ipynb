{
 "cells": [
  {
   "cell_type": "code",
   "execution_count": null,
   "id": "7eb0e011",
   "metadata": {},
   "outputs": [],
   "source": [
    "#[1,-3,2,0,-5,6]에서 양수만 필터링해서 출력하세요(내장함수, 사용자 함수 각각 이용)"
   ]
  },
  {
   "cell_type": "code",
   "execution_count": 6,
   "id": "76880869",
   "metadata": {},
   "outputs": [
    {
     "name": "stdout",
     "output_type": "stream",
     "text": [
      "1 2 3 4 5 "
     ]
    }
   ],
   "source": [
    "# for ~ continue ~ break\n",
    "# 1~10 범위의 정수에서 1부터 5까지만 출력하세요\n",
    "for i in range(1,11):\n",
    "    print(i,end=' ')\n",
    "    if i < 5:\n",
    "        continue\n",
    "    else:\n",
    "        break"
   ]
  },
  {
   "cell_type": "code",
   "execution_count": 7,
   "id": "688fdeb1",
   "metadata": {},
   "outputs": [
    {
     "name": "stdout",
     "output_type": "stream",
     "text": [
      "1 2 3 4 5 6 7 8 9 10 "
     ]
    }
   ],
   "source": [
    "# for ~ continue ~ break\n",
    "# 1~25범위의 정수에서 1부터 10까지만 출력하세요\n",
    "for i in range(1,26):\n",
    "    print(i,end=' ')\n",
    "    if i < 10:\n",
    "        continue\n",
    "    else:\n",
    "        break"
   ]
  },
  {
   "cell_type": "code",
   "execution_count": 20,
   "id": "ca491ae9",
   "metadata": {},
   "outputs": [
    {
     "name": "stdout",
     "output_type": "stream",
     "text": [
      "15 20 25 "
     ]
    }
   ],
   "source": [
    "#numbers 리스트에서 15,20,25를 출력하세요(for문과 if 조건 사용 필수)\n",
    "numbers = [5,15,6,20,7,25]\n",
    "for number in numbers:\n",
    "    if(number%5==0 and number>5):\n",
    "        print(number, end=' ')\n",
    "    else:\n",
    "        continue"
   ]
  },
  {
   "cell_type": "code",
   "execution_count": null,
   "id": "0e9e299e",
   "metadata": {},
   "outputs": [],
   "source": [
    "# while\n",
    "# 정수 1부터 n까지 더할 때 그 합이 1000보다 커지게 되는 n과 합을 구하세요"
   ]
  },
  {
   "cell_type": "code",
   "execution_count": 23,
   "id": "402bc1c5",
   "metadata": {},
   "outputs": [
    {
     "name": "stdout",
     "output_type": "stream",
     "text": [
      "45\n",
      "1035\n"
     ]
    }
   ],
   "source": [
    "i = 1\n",
    "sum = 0\n",
    "while 1:\n",
    "    sum = sum + i\n",
    "    if sum > 1000:\n",
    "        print(i)\n",
    "        print(sum)\n",
    "        break\n",
    "    i = i + 1\n",
    "    "
   ]
  },
  {
   "cell_type": "code",
   "execution_count": 25,
   "id": "c5a14961",
   "metadata": {},
   "outputs": [
    {
     "name": "stdout",
     "output_type": "stream",
     "text": [
      "22\n",
      "253\n"
     ]
    }
   ],
   "source": [
    "# while\n",
    "# 정수 1부터 n까지 더할 때 그 합이 250보다 커지게 되는 n과 합을 구하세요\n",
    "i = 1\n",
    "sum = 0\n",
    "while 1:\n",
    "    sum = sum + i\n",
    "    if sum > 250:\n",
    "        print(i)\n",
    "        print(sum)\n",
    "        break\n",
    "    i = i + 1"
   ]
  },
  {
   "cell_type": "code",
   "execution_count": null,
   "id": "c1e8d6ce",
   "metadata": {},
   "outputs": [],
   "source": [
    "# while를 사용해서 1부터 1000까지의 정수 중 3의 배수의 합을 구해 보세요"
   ]
  },
  {
   "cell_type": "code",
   "execution_count": 26,
   "id": "f5f84b7a",
   "metadata": {},
   "outputs": [
    {
     "name": "stdout",
     "output_type": "stream",
     "text": [
      "333\n"
     ]
    }
   ],
   "source": [
    "i = 0\n",
    "sum = 0\n",
    "while i< 1000:\n",
    "    i += 1\n",
    "    if i%3==0:\n",
    "        sum = sum + 1\n",
    "        \n",
    "print(sum)"
   ]
  },
  {
   "cell_type": "code",
   "execution_count": 27,
   "id": "3ca39ebf",
   "metadata": {},
   "outputs": [
    {
     "name": "stdout",
     "output_type": "stream",
     "text": [
      "50\n"
     ]
    }
   ],
   "source": [
    "# while를 사용해서 1부터 100까지의 정수 중 2의 배수의 합을 구해 보세요\n",
    "i = 0\n",
    "sum = 0\n",
    "while i < 100:\n",
    "    i += 1\n",
    "    if i%2==0:\n",
    "        sum = sum + 1\n",
    "print(sum)"
   ]
  },
  {
   "cell_type": "code",
   "execution_count": 28,
   "id": "7205dd4b",
   "metadata": {},
   "outputs": [
    {
     "name": "stdout",
     "output_type": "stream",
     "text": [
      "77\n"
     ]
    }
   ],
   "source": [
    "# while를 사용해서 1부터 100까지의 정수중 20~98 까지의 합을 구해 보세요\n",
    "i = 0\n",
    "sum = 0\n",
    "while i < 100:\n",
    "    i += 1\n",
    "    if i > 20 and i < 98:\n",
    "        sum = sum + 1\n",
    "print(sum)"
   ]
  },
  {
   "cell_type": "code",
   "execution_count": 5,
   "id": "47a9cf15",
   "metadata": {},
   "outputs": [
    {
     "name": "stdout",
     "output_type": "stream",
     "text": [
      "210\n"
     ]
    }
   ],
   "source": [
    "# while를 사용해서 1부터 100까지의 정수중 3의 배수와 7의 공배수의 합을 구해 보세요\n",
    "i = 0\n",
    "sum = 0\n",
    "while i< 100:\n",
    "    i+= 1\n",
    "    if i%21==0:\n",
    "        sum+=i\n",
    "        \n",
    "print(sum)"
   ]
  },
  {
   "cell_type": "code",
   "execution_count": 10,
   "id": "4e0cd4b6",
   "metadata": {},
   "outputs": [
    {
     "name": "stdout",
     "output_type": "stream",
     "text": [
      "2500\n"
     ]
    }
   ],
   "source": [
    "# 과제 1부터 100까지의 아래와 같이 2개의 수를 곱해서 가장 큰 수를 구하세요\n",
    "#1*99~~99*1\n",
    "\n",
    "n = 1\n",
    "result = 0\n",
    "while n <= 100:\n",
    "    a = n*(100-n)\n",
    "    if a > result:\n",
    "        result = a\n",
    "        n += 1\n",
    "    else:\n",
    "        n += 1\n",
    "        continue\n",
    "print(result)\n",
    "    "
   ]
  },
  {
   "cell_type": "code",
   "execution_count": null,
   "id": "823b70b7",
   "metadata": {},
   "outputs": [],
   "source": [
    "# 사용자가 입력한 게임 횟수만큼 로또 번호를 출력하는 프로그램을 작성하세요."
   ]
  },
  {
   "cell_type": "code",
   "execution_count": 16,
   "id": "275b2a84",
   "metadata": {},
   "outputs": [
    {
     "name": "stdout",
     "output_type": "stream",
     "text": [
      "게임 횟수: 5\n",
      "로또번호 1 :  로또번호 2 :  로또번호 3 :  로또번호 4 :  로또번호 5 :  [2, 7, 17, 30, 33, 35]\n"
     ]
    }
   ],
   "source": [
    "from random import shuffle\n",
    "num = int(input('게임 횟수: '))\n",
    "for i in range(num):\n",
    "    lt = [x+1 for x in range(45)]\n",
    "    ret = []\n",
    "    for j in range(6):\n",
    "        shuffle(lt)\n",
    "        mm = lt.pop()\n",
    "        ret.append(mm)\n",
    "        ret.sort()\n",
    "    print('로또번호 %d :  ' %(i+1), end = '')\n",
    "print(ret)"
   ]
  },
  {
   "cell_type": "code",
   "execution_count": null,
   "id": "3a07b829",
   "metadata": {},
   "outputs": [],
   "source": [
    "# 람다함수와 적합한 내장함수를 사용하여 아래와 같이 출력하세요\n",
    "[1,2,3,4,5] -> [1,4,9,16,25]\n",
    "[1,2,3,4,5] -> [2,4]"
   ]
  },
  {
   "cell_type": "code",
   "execution_count": 1,
   "id": "7d185912",
   "metadata": {},
   "outputs": [
    {
     "name": "stdout",
     "output_type": "stream",
     "text": [
      "[1, 4, 9, 16, 25]\n",
      "[1, 2]\n"
     ]
    }
   ],
   "source": [
    "num = lambda a : a*a\n",
    "lt = [num(i) for i in range(1,6)]\n",
    "print(lt)\n",
    "\n",
    "lst_3= [1,2,3,4,5]\n",
    "filtered_list = filter(lambda a: (a < 3), lst_3)\n",
    "\n",
    "print(list(filtered_list))\n"
   ]
  },
  {
   "cell_type": "code",
   "execution_count": 1,
   "id": "4565492c",
   "metadata": {},
   "outputs": [
    {
     "name": "stdout",
     "output_type": "stream",
     "text": [
      "[1, 4, 9, 16, 25]\n",
      "[1, 2]\n"
     ]
    }
   ],
   "source": [
    "square = lambda a: a*a \n",
    "lst = [square(i) for i in range(1,6)]\n",
    "print(lst)\n",
    "\n",
    "lst_2 = [1,2,3,4,5]\n",
    "filtered_list = filter(lambda a: (a < 3), lst_2)\n",
    "\n",
    "print(list(filtered_list))\n"
   ]
  },
  {
   "cell_type": "code",
   "execution_count": 4,
   "id": "d67734d2",
   "metadata": {},
   "outputs": [
    {
     "data": {
      "text/plain": [
       "['bar', 'ababa', 'ca', 'aaaa', 'a']"
      ]
     },
     "execution_count": 4,
     "metadata": {},
     "output_type": "execute_result"
    }
   ],
   "source": [
    "#strings를 다양한 문자 포함된 순서로 정렬하세요\n",
    "\n",
    "strings = ['a','ca','bar','aaaa','ababa']\n",
    "\n",
    "strings.sort(key=lambda a : len(set(a)))\n",
    "strings[::-1]"
   ]
  },
  {
   "cell_type": "code",
   "execution_count": 6,
   "id": "51eef038",
   "metadata": {},
   "outputs": [
    {
     "data": {
      "text/plain": [
       "['ddca', 'abd', 'ca', 'ab', 'dd']"
      ]
     },
     "execution_count": 6,
     "metadata": {},
     "output_type": "execute_result"
    }
   ],
   "source": [
    "strings = ['ab','ca','dd','abd','ddca']\n",
    "\n",
    "strings.sort(key=lambda a : len(set(a)))\n",
    "strings[::-1]"
   ]
  },
  {
   "cell_type": "code",
   "execution_count": null,
   "id": "a054fe91",
   "metadata": {},
   "outputs": [],
   "source": [
    "# 위 코드에서 try~except~finally를 사용하여 아래와 같이 출력하세요\n",
    "\n",
    "프로그램이 시작되었습니다.\n",
    "try 구문이 시작되었습니다.\n",
    "except 구문이 실행되었습니다.\n",
    "finally 구문이 실행되었습니다\n",
    "프로그램이 종료되었습니다."
   ]
  },
  {
   "cell_type": "code",
   "execution_count": 13,
   "id": "ae9992c4",
   "metadata": {},
   "outputs": [
    {
     "name": "stdout",
     "output_type": "stream",
     "text": [
      "프로그램이 사작되었다.\n",
      "except 구문이 시작되었습니다. \n",
      "finally 구문이 실행되었습니다. \n",
      "프로그램이 종료되었습니다.\n"
     ]
    }
   ],
   "source": [
    "print('프로그램이 사작되었다.')\n",
    "while 1:\n",
    "    try: \n",
    "        int(a)\n",
    "        break\n",
    "    except:\n",
    "        print('except 구문이 시작되었습니다. ')\n",
    "        break\n",
    "    finally:\n",
    "        print('finally 구문이 실행되었습니다. ')\n",
    "        break\n",
    "print('프로그램이 종료되었습니다.')"
   ]
  },
  {
   "cell_type": "code",
   "execution_count": null,
   "id": "b6436f8e",
   "metadata": {},
   "outputs": [],
   "source": [
    "#숫자 대신 문자를 입력 시 에외가 발생되는데 아래 코드를 수정해서 예외 객체의자료형과 예외 객체 자체를 출력하세요\n",
    "\n",
    "num_input = int(input('정수 입력>'))\n",
    "print('원의 반지름:', num_input)\n",
    "print('원의 둘레:', 2*3.14*num_input)\n",
    "print('원의 넓이:', 3.14*num_input*num_input)"
   ]
  },
  {
   "cell_type": "code",
   "execution_count": 16,
   "id": "27f028e3",
   "metadata": {},
   "outputs": [
    {
     "name": "stdout",
     "output_type": "stream",
     "text": [
      "정수 입력>rk\n",
      "정수만 입력하세요\n",
      "예외 처리 완료\n",
      "원의 반지름: 2\n",
      "원의 둘레: 12.56\n",
      "원의 넓이: 12.56\n"
     ]
    }
   ],
   "source": [
    "try:\n",
    "    num_input = int(input('정수 입력>'))\n",
    "except ValueError:\n",
    "    print('정수만 입력하세요')\n",
    "finally:\n",
    "    print('예외 처리 완료')\n",
    "print('원의 반지름:', num_input)\n",
    "print('원의 둘레:', 2*3.14*num_input)\n",
    "print('원의 넓이:', 3.14*num_input*num_input)"
   ]
  },
  {
   "cell_type": "code",
   "execution_count": null,
   "id": "6c6e4b67",
   "metadata": {},
   "outputs": [],
   "source": [
    "#아래 코드를 보완하여 발생 가능한 모든 예외(정수,인덱스, 미리 파악하지 못한 예외)를 처리한후 마지막에\"모든예외처리 완료\"를 출력\n",
    "\n",
    "list_num = [52,273,32,72,100]\n",
    "\n",
    "num_input = int(input('정수 입력>'))\n",
    "print('{}번쨰 요소: {}'.format(num_input,list_num[num_input-1]))"
   ]
  },
  {
   "cell_type": "code",
   "execution_count": 18,
   "id": "af0badfd",
   "metadata": {},
   "outputs": [
    {
     "name": "stdout",
     "output_type": "stream",
     "text": [
      "정수 입력>3\n",
      "3번쨰 요소: 32\n",
      "모든예외처리 완료\n"
     ]
    }
   ],
   "source": [
    "list_num = [52,273,32,72,100]\n",
    "\n",
    "try:\n",
    "    num_input = int(input('정수 입력>'))\n",
    "    print('{}번쨰 요소: {}'.format(num_input,list_num[num_input-1]))\n",
    "except ValueError:\n",
    "    print('정수만 입력하세요')\n",
    "except IndexError:\n",
    "    print('인덱스 오류, 범위의 값 입력')\n",
    "except ExceptionError:\n",
    "    print('정수 값을 입력')\n",
    "finally:\n",
    "    print(\"모든예외처리 완료\")\n"
   ]
  },
  {
   "cell_type": "code",
   "execution_count": null,
   "id": "e22b08ff",
   "metadata": {},
   "outputs": [],
   "source": [
    "#[과제] 4칙 연산 기능을 포함한 Cal4 클래스(생성자 이용)을 작성하고 이 클래스를 이용하여 cal 계산기 객체를 만든 후\n",
    "# 적절한 수를 적용하여 사칙연산 수행 결과를 출력하세요."
   ]
  },
  {
   "cell_type": "code",
   "execution_count": 5,
   "id": "a088d62e",
   "metadata": {},
   "outputs": [
    {
     "name": "stdout",
     "output_type": "stream",
     "text": [
      "4\n",
      "2\n",
      "0.5\n",
      "4\n"
     ]
    }
   ],
   "source": [
    "class FourCal:\n",
    "    def __init__self(m1,m2):\n",
    "        self.m1 = m1\n",
    "        self.m2 = m2\n",
    "class Sum:\n",
    "    def sum(self,m1,m2):\n",
    "        return m1 + m2\n",
    "class Mul:\n",
    "    def mul(self,m1,m2):\n",
    "        return m1 - m2\n",
    "class Div:\n",
    "    def div(self,m1,m2):\n",
    "        return m1 / m2\n",
    "class Cal(Sum,Mul,Div):\n",
    "    def sub(self,m1,m2):\n",
    "        return m1 * m2\n",
    "    \n",
    "obj = Cal()\n",
    "print(obj.sum(2,2))\n",
    "print(obj.mul(3,1))\n",
    "print(obj.div(2,4))\n",
    "print(obj.sub(2,2))\n",
    "    "
   ]
  },
  {
   "cell_type": "code",
   "execution_count": 5,
   "id": "1f06125c",
   "metadata": {},
   "outputs": [
    {
     "name": "stdout",
     "output_type": "stream",
     "text": [
      "2\n",
      "1\n",
      "2.0\n",
      "2\n"
     ]
    }
   ],
   "source": [
    "class FourCal:\n",
    "    def __init__(self,m1,m2):\n",
    "        self.m1 = m1\n",
    "        self.m2 = m2\n",
    "class Sum:\n",
    "    def sum(self,m1,m2):\n",
    "        return m1 * m2\n",
    "class Mul:\n",
    "    def mul(self,m1,m2):\n",
    "        return m1 - m2\n",
    "class Div:\n",
    "    def div(self,m1,m2):\n",
    "        return m1 / m2\n",
    "class Cal(Sum,Mul,Div):\n",
    "    def sub(self,m1,m2):\n",
    "        return  m1 + m2\n",
    "obj = Cal()\n",
    "\n",
    "print(obj.sum(1,2))\n",
    "print(obj.mul(3,2))\n",
    "print(obj.div(4,2))\n",
    "print(obj.sub(1,1))\n",
    "\n",
    "        "
   ]
  },
  {
   "cell_type": "code",
   "execution_count": 1,
   "id": "78e8bcd0",
   "metadata": {},
   "outputs": [
    {
     "ename": "NameError",
     "evalue": "name 'MyClass' is not defined",
     "output_type": "error",
     "traceback": [
      "\u001b[1;31m---------------------------------------------------------------------------\u001b[0m",
      "\u001b[1;31mNameError\u001b[0m                                 Traceback (most recent call last)",
      "\u001b[1;32m~\\AppData\\Local\\Temp/ipykernel_8216/4106884967.py\u001b[0m in \u001b[0;36m<module>\u001b[1;34m\u001b[0m\n\u001b[0;32m     10\u001b[0m          \u001b[0mprint\u001b[0m\u001b[1;33m(\u001b[0m\u001b[1;34mf'{self.name}, 다음에 보자'\u001b[0m\u001b[1;33m)\u001b[0m\u001b[1;33m\u001b[0m\u001b[1;33m\u001b[0m\u001b[0m\n\u001b[0;32m     11\u001b[0m \u001b[1;33m\u001b[0m\u001b[0m\n\u001b[1;32m---> 12\u001b[1;33m \u001b[0mobj\u001b[0m\u001b[1;33m=\u001b[0m\u001b[0mMyClass\u001b[0m\u001b[1;33m(\u001b[0m\u001b[1;34m'이재호'\u001b[0m\u001b[1;33m)\u001b[0m\u001b[1;33m\u001b[0m\u001b[1;33m\u001b[0m\u001b[0m\n\u001b[0m\u001b[0;32m     13\u001b[0m \u001b[0mobj\u001b[0m\u001b[1;33m.\u001b[0m\u001b[0msayHello\u001b[0m\u001b[1;33m(\u001b[0m\u001b[1;33m)\u001b[0m\u001b[1;33m\u001b[0m\u001b[1;33m\u001b[0m\u001b[0m\n\u001b[0;32m     14\u001b[0m \u001b[0mobj\u001b[0m\u001b[1;33m.\u001b[0m\u001b[0msayBye\u001b[0m\u001b[1;33m(\u001b[0m\u001b[1;33m)\u001b[0m\u001b[1;33m\u001b[0m\u001b[1;33m\u001b[0m\u001b[0m\n",
      "\u001b[1;31mNameError\u001b[0m: name 'MyClass' is not defined"
     ]
    }
   ],
   "source": [
    "#클래스 MyClasss를 작성하고 객체를 생성하여 아래와 같이 출력하세요(생성자)\n",
    "# dlwogh, 안녕하세요\n",
    "# dlwogh! 다음에 보자\n",
    "class Myclass:\n",
    "    def __init__(self,name):\n",
    "         self.name=name\n",
    "    def sayHello(self):\n",
    "         print(f'{self.name}, 안녕하세요')\n",
    "    def sayBye(self):\n",
    "         print(f'{self.name}, 다음에 보자')\n",
    "            \n",
    "obj=MyClass('이재호')\n",
    "obj.sayHello()\n",
    "obj.sayBye()\n"
   ]
  },
  {
   "cell_type": "code",
   "execution_count": null,
   "id": "4aa0e84c",
   "metadata": {},
   "outputs": [],
   "source": [
    "#기본가격 1000인 2개의 상품에 대하여 임의의 추가 가격을 입력시 아래 두개의 방식으로 산출하세요(class이용)\n",
    "#price1 : 기본가격 + 추가가격\n",
    "#price2 : (기본가격 + 추가가격) *90%    \n",
    "\n",
    "class order:\n",
    "    def __init__(self):\n",
    "        self.basic=1000\n",
    "    def m2(self,add):\n",
    "        return self.basic+add\n",
    "    def m3(self,add):\n",
    "        return round((self.basic+add)*0.9)\n",
    "    \n",
    "a=order()\n",
    "b=order()\n",
    "\n",
    "print(a.m2(1000))\n",
    "print(b.m3(1000))"
   ]
  },
  {
   "cell_type": "code",
   "execution_count": 3,
   "id": "dd27780e",
   "metadata": {},
   "outputs": [
    {
     "name": "stdout",
     "output_type": "stream",
     "text": [
      "2000\n",
      "1800\n"
     ]
    }
   ],
   "source": [
    "class order:\n",
    "    def __init__(self):\n",
    "        self.basic=1000\n",
    "    def m2(self,add):\n",
    "        return self.basic+add\n",
    "    def m3(self,add):\n",
    "        return round((self.basic+add)*0.9)\n",
    "a = order()\n",
    "b = order()\n",
    "\n",
    "print(a.m2(1000))\n",
    "print(a.m3(1000))"
   ]
  },
  {
   "cell_type": "code",
   "execution_count": 4,
   "id": "f182e1b7",
   "metadata": {},
   "outputs": [
    {
     "name": "stdout",
     "output_type": "stream",
     "text": [
      "2800\n",
      "1600\n"
     ]
    }
   ],
   "source": [
    "class order:\n",
    "    def __init__(self):\n",
    "        self.basic=2000\n",
    "    def m2(self,add):\n",
    "        return round((self.basic+add)*0.7)\n",
    "    def m3(self,add):\n",
    "        return round((self.basic+add)*0.4)\n",
    "a = order()\n",
    "b = order()\n",
    "\n",
    "print(a.m2(2000))\n",
    "print(b.m3(2000))"
   ]
  },
  {
   "cell_type": "code",
   "execution_count": null,
   "id": "feba9004",
   "metadata": {},
   "outputs": [],
   "source": [
    "#[과제] 4칙 연산 기능을 포함한 Cal4 클래스(생성자 이용)을 작성하고 이 클래스를 이용하여 cal 계산기 객체를 만든 후\n",
    "# 적절한 수를 적용하여 사칙연산 수행 결과를 출력하세요."
   ]
  },
  {
   "cell_type": "code",
   "execution_count": null,
   "id": "52d5a550",
   "metadata": {},
   "outputs": [],
   "source": [
    "class Cal():\n",
    "    def __init__(cal, x, y):\n",
    "        cal.x=x\n",
    "        cal.y=y\n",
    "        \n",
    "    def getSum(cal):\n",
    "        print(f'{cal.x} + {cal.y} = {cal.x+cal.y}')\n",
    "    def getSub(cal):\n",
    "        print(f'{cal.x} - {cal.y} = {cal.x-cal.y}')\n",
    "    def getMul(cal):\n",
    "        print(f'{cal.x} * {cal.y} = {cal.x*cal.y}')\n",
    "    def getDiv(cal):\n",
    "        print(f'{cal.x} / {cal.y} = {cal.x/cal.y}')\n",
    "            \n",
    "    def getAll(cal):\n",
    "        cal.getSum()\n",
    "        cal.getSub()\n",
    "        cal.getMul()\n",
    "        cal.getDiv()       \n",
    "\n",
    "while 1:\n",
    "    x=int(input(\"첫 번째 숫자 입력:\"))\n",
    "    y=int(input(\"두 번째 숫자 입력: \"))\n",
    "    if x == 0 or y == 0:\n",
    "        print('0이 아닌 수를 입력하세요')\n",
    "    else:\n",
    "        cal = Cal(x,y)\n",
    "        cal.getAll()\n",
    "        break"
   ]
  },
  {
   "cell_type": "code",
   "execution_count": 14,
   "id": "de3cae6a",
   "metadata": {},
   "outputs": [
    {
     "name": "stdout",
     "output_type": "stream",
     "text": [
      "첫번째 숫자 입력: 10\n",
      "두번째 숫자 입력 2\n",
      "10 + 2 = 12\n",
      "10 - 2 = 12\n",
      "10 * 2 = 20\n",
      "10 / 2 = 5.0\n"
     ]
    }
   ],
   "source": [
    "class Cal():\n",
    "    def __init__(cal,x,y):\n",
    "        cal.x=x\n",
    "        cal.y=y\n",
    "    \n",
    "    def Sum(cal):\n",
    "        print(f'{cal.x} + {cal.y} = {cal.x+cal.y}')\n",
    "    def Sub(cal):\n",
    "        print(f'{cal.x} - {cal.y} = {cal.x+cal.y}')\n",
    "    def Div(cal):\n",
    "        print(f'{cal.x} / {cal.y} = {cal.x / cal.y}')\n",
    "    def Mul(cal):\n",
    "        print(f'{cal.x} * {cal.y} = { cal.x * cal.y}')\n",
    "        \n",
    "    def All(cal):\n",
    "        cal.Sum()\n",
    "        cal.Sub()\n",
    "        cal.Mul()\n",
    "        cal.Div()\n",
    "while 1:\n",
    "    x=int(input(\"첫번째 숫자 입력: \"))\n",
    "    y=int(input(\"두번째 숫자 입력 \"))\n",
    "    if x ==0 or y ==0:\n",
    "        print('0이 아닌 수를 입력')\n",
    "    else:\n",
    "        cal = Cal(x,y)\n",
    "        cal.All()\n",
    "        break"
   ]
  },
  {
   "cell_type": "code",
   "execution_count": 13,
   "id": "9d53e295",
   "metadata": {},
   "outputs": [
    {
     "name": "stdout",
     "output_type": "stream",
     "text": [
      "첫 번째 숫자: 10\n",
      "두 번째 숫자: 2\n"
     ]
    },
    {
     "ename": "NameError",
     "evalue": "name 'cal' is not defined",
     "output_type": "error",
     "traceback": [
      "\u001b[1;31m---------------------------------------------------------------------------\u001b[0m",
      "\u001b[1;31mNameError\u001b[0m                                 Traceback (most recent call last)",
      "\u001b[1;32m~\\AppData\\Local\\Temp/ipykernel_10720/4200856158.py\u001b[0m in \u001b[0;36m<module>\u001b[1;34m\u001b[0m\n\u001b[0;32m     25\u001b[0m     \u001b[1;32melse\u001b[0m\u001b[1;33m:\u001b[0m\u001b[1;33m\u001b[0m\u001b[1;33m\u001b[0m\u001b[0m\n\u001b[0;32m     26\u001b[0m         \u001b[0mself\u001b[0m \u001b[1;33m=\u001b[0m \u001b[0mCal\u001b[0m\u001b[1;33m(\u001b[0m\u001b[0mx\u001b[0m\u001b[1;33m,\u001b[0m\u001b[0my\u001b[0m\u001b[1;33m)\u001b[0m\u001b[1;33m\u001b[0m\u001b[1;33m\u001b[0m\u001b[0m\n\u001b[1;32m---> 27\u001b[1;33m         \u001b[0mcal\u001b[0m\u001b[1;33m.\u001b[0m\u001b[0mAll\u001b[0m\u001b[1;33m(\u001b[0m\u001b[1;33m)\u001b[0m\u001b[1;33m\u001b[0m\u001b[1;33m\u001b[0m\u001b[0m\n\u001b[0m\u001b[0;32m     28\u001b[0m         \u001b[1;32mbreak\u001b[0m\u001b[1;33m\u001b[0m\u001b[1;33m\u001b[0m\u001b[0m\n",
      "\u001b[1;31mNameError\u001b[0m: name 'cal' is not defined"
     ]
    }
   ],
   "source": [
    "class Cal():\n",
    "    def __init__(self,x,y):\n",
    "        self.x = x\n",
    "        self.y = y\n",
    "        \n",
    "    def Sum(self):\n",
    "        print(f'{self.x} + {self.y} = {self.x + self.y}')\n",
    "    def Mul(self):\n",
    "        print(f'{self.x} - {self.y} = {self.x -self.y}')\n",
    "    def Div(self):\n",
    "        print(f'{self.x} / {self.y} = {self.x / self.y}')\n",
    "    def Sub(self):\n",
    "        print(f'{self,x} * {self.y} = {self.x * self.y}')\n",
    "        \n",
    "    def All(cal):\n",
    "        self.sum()\n",
    "        self.mul()\n",
    "        self.div()\n",
    "        self.sub()\n",
    "while 1:\n",
    "    x=int(input(\"첫 번째 숫자: \"))\n",
    "    y=int(input(\"두 번째 숫자: \"))\n",
    "    if x ==0 or y == 0:\n",
    "        print('0이 아닌 숫자 입력: ')\n",
    "    else:\n",
    "        self = Cal(x,y)\n",
    "        cal.All()\n",
    "        break"
   ]
  },
  {
   "cell_type": "code",
   "execution_count": null,
   "id": "836c1ad6",
   "metadata": {},
   "outputs": [],
   "source": [
    "#기본가격 1000인 2개의 상품에 대하여 임의의 추가 가격을 입력시 아래 두개의 방식으로 산출하세요(class이용)\n",
    "#price1 : 기본가격 + 추가가격\n",
    "#price2 : (기본가격 + 추가가격) *90%    \n",
    "\n",
    "class order:\n",
    "    def __init__(self):\n",
    "        self.basic=1000\n",
    "    def m2(self,add):\n",
    "        return self.basic+add\n",
    "    def m3(self,add):\n",
    "        return round((self.basic+add)*0.9)\n",
    "    \n",
    "a=order()\n",
    "b=order()\n",
    "\n",
    "print(a.m2(1000))\n",
    "print(b.m3(1000))"
   ]
  },
  {
   "cell_type": "code",
   "execution_count": 13,
   "id": "a9bd40bf",
   "metadata": {},
   "outputs": [
    {
     "name": "stdout",
     "output_type": "stream",
     "text": [
      "900\n",
      "600\n"
     ]
    }
   ],
   "source": [
    "class order:\n",
    "    def __init__(self):\n",
    "        self.basic=1000\n",
    "    def m2(self,add):\n",
    "        return round((self.basic+add)*0.3)\n",
    "    def m3(self,add):\n",
    "        return round((self.basic+add)*0.2)\n",
    "a = order()\n",
    "b = order()\n",
    "\n",
    "print(a.m2(2000))\n",
    "print(b.m3(2000))"
   ]
  },
  {
   "cell_type": "code",
   "execution_count": null,
   "id": "68207438",
   "metadata": {},
   "outputs": [],
   "source": [
    "# Order 클래스를 상속받아 extraOrder 클래스에서 메소드 오버라이딩하여 출력 가격에 원이추가되도록 하세요\n",
    "class Order:\n",
    "    def __init__(self, name):\n",
    "        self.customer = 0\n",
    "        self.name = name\n",
    "    def order(self,price):\n",
    "        self.customer += price\n",
    "        return self.customer\n",
    "\n",
    "class ExtraOrder(Order):\n",
    "    def order(self,price):\n",
    "        self.customer += price\n",
    "        return str(self.customer)+'원'\n",
    "    \n",
    "order = Order('kevin')\n",
    "print(order.order(1000))\n",
    "\n",
    "extraCustomer = ExtraOrder('kevin')\n",
    "print(extraCustomer.order(1000))"
   ]
  },
  {
   "cell_type": "code",
   "execution_count": 15,
   "id": "adb875a4",
   "metadata": {},
   "outputs": [
    {
     "name": "stdout",
     "output_type": "stream",
     "text": [
      "1000\n",
      "1000원\n"
     ]
    }
   ],
   "source": [
    "class Order:\n",
    "    def __init__(self,name):\n",
    "        self.customer = 0\n",
    "        self.name = name\n",
    "    def order(self,price):\n",
    "        self.customer += price\n",
    "        return self.customer\n",
    "class ExtraOrder(Order):\n",
    "    def order(self,price):\n",
    "        self.customer += price\n",
    "        return str(self.customer)+'원'\n",
    "    \n",
    "order = Order('dlwogh')\n",
    "print(order.order(1000))\n",
    "\n",
    "extraCustomer = ExtraOrder('dlwogh')\n",
    "print(extraCustomer.order(1000))"
   ]
  },
  {
   "cell_type": "code",
   "execution_count": 16,
   "id": "009cbe17",
   "metadata": {},
   "outputs": [
    {
     "name": "stdout",
     "output_type": "stream",
     "text": [
      "1000\n",
      "1000원\n"
     ]
    }
   ],
   "source": [
    "class Order:\n",
    "    def __init__(self,name):\n",
    "        self.customer = 0\n",
    "        self.name = name\n",
    "    def order(self,price):\n",
    "        self.customer += price\n",
    "        return self.customer\n",
    "class ExtraOrder(Order):\n",
    "    def order(self,price):\n",
    "        self.customer += price\n",
    "        return str(self.customer)+'원'\n",
    "    \n",
    "order = Order('dlwogh')\n",
    "print(order.order(1000))\n",
    "\n",
    "extraCustomer = ExtraOrder('dlwogh')\n",
    "print(extraCustomer.order(1000))"
   ]
  },
  {
   "cell_type": "code",
   "execution_count": null,
   "id": "d8339731",
   "metadata": {},
   "outputs": [],
   "source": [
    "#numbers 리스트에서 15,20,25를 출력하세요(for문과 if 조건 사용 필수)\n",
    "numbers = [5,15,6,20,7,25]"
   ]
  },
  {
   "cell_type": "code",
   "execution_count": 17,
   "id": "3ac6053d",
   "metadata": {},
   "outputs": [
    {
     "name": "stdout",
     "output_type": "stream",
     "text": [
      "15 20 25 "
     ]
    }
   ],
   "source": [
    "numbers = [5,15,6,20,7,25]\n",
    "for number in numbers:\n",
    "    if(number%5==0 and number>5 ):\n",
    "        print(number, end=' ')\n",
    "    else:\n",
    "        continue"
   ]
  },
  {
   "cell_type": "code",
   "execution_count": 21,
   "id": "7e490f76",
   "metadata": {},
   "outputs": [
    {
     "name": "stdout",
     "output_type": "stream",
     "text": [
      "15 6 "
     ]
    }
   ],
   "source": [
    "numbers = [5,15,6,20,7,25]\n",
    "for number in numbers:\n",
    "    if(number%3==0):\n",
    "        print(number, end=' ')\n",
    "    else:\n",
    "        continue"
   ]
  },
  {
   "cell_type": "code",
   "execution_count": 26,
   "id": "9f6bd70f",
   "metadata": {},
   "outputs": [
    {
     "name": "stdout",
     "output_type": "stream",
     "text": [
      "4550\n"
     ]
    }
   ],
   "source": [
    "#1부터 100까지의 정수중 5에서 95까지의 합을 구하세요\n",
    "i = 0\n",
    "sum = 0\n",
    "\n",
    "while i<100:\n",
    "    i+=1\n",
    "    if i >= 5 and i <= 95:\n",
    "        sum += i\n",
    "print(sum)\n",
    "    "
   ]
  },
  {
   "cell_type": "code",
   "execution_count": 27,
   "id": "86020670",
   "metadata": {},
   "outputs": [
    {
     "name": "stdout",
     "output_type": "stream",
     "text": [
      "5050\n"
     ]
    }
   ],
   "source": [
    "i = 0\n",
    "sum = 0\n",
    "\n",
    "while i<101:\n",
    "    i+=1\n",
    "    if i>0 and i < 101:\n",
    "        sum += i\n",
    "        \n",
    "print(sum)"
   ]
  },
  {
   "cell_type": "code",
   "execution_count": 28,
   "id": "e5d72c39",
   "metadata": {},
   "outputs": [
    {
     "name": "stdout",
     "output_type": "stream",
     "text": [
      "499200\n"
     ]
    }
   ],
   "source": [
    "i = 0\n",
    "sum = 0\n",
    "\n",
    "while i <1000:\n",
    "    i+=1\n",
    "    if i >=25 and i < 1000:\n",
    "        sum += i\n",
    "print(sum)"
   ]
  },
  {
   "cell_type": "code",
   "execution_count": null,
   "id": "4e8af4c9",
   "metadata": {},
   "outputs": [],
   "source": [
    " #while문을 사용해서 1부터 1000까지의 정수중 3과 5의 공배수의 합을 구해보세요"
   ]
  },
  {
   "cell_type": "code",
   "execution_count": 30,
   "id": "bd6241ca",
   "metadata": {},
   "outputs": [
    {
     "name": "stdout",
     "output_type": "stream",
     "text": [
      "234168\n"
     ]
    }
   ],
   "source": [
    "i = 0\n",
    "sum = 0\n",
    "\n",
    "while i <1000:\n",
    "    i +=1\n",
    "    if i%3== 0 or i%5== 0:\n",
    "        sum += i\n",
    "print(sum)"
   ]
  },
  {
   "cell_type": "code",
   "execution_count": null,
   "id": "256372cc",
   "metadata": {},
   "outputs": [],
   "source": [
    "#정수 1부터 n까지 더할 때 그 합이 1000보다 커지게 되는 n과 합을 구하세요"
   ]
  },
  {
   "cell_type": "code",
   "execution_count": 4,
   "id": "b7866123",
   "metadata": {},
   "outputs": [
    {
     "name": "stdout",
     "output_type": "stream",
     "text": [
      "45\n",
      "1035\n"
     ]
    }
   ],
   "source": [
    "x = 1\n",
    "sum = 0\n",
    "while 1:\n",
    "    sum = sum + x\n",
    "    if sum > 1000:\n",
    "        print(x)\n",
    "        print(sum)\n",
    "        break\n",
    "    x = x + 1"
   ]
  },
  {
   "cell_type": "code",
   "execution_count": 2,
   "id": "cb8b61ff",
   "metadata": {},
   "outputs": [
    {
     "name": "stdout",
     "output_type": "stream",
     "text": [
      "45\n",
      "1035\n"
     ]
    }
   ],
   "source": [
    "x = 1\n",
    "sum = 0\n",
    "while 1:\n",
    "    sum = sum + x\n",
    "    if sum > 1000:\n",
    "        print(x)\n",
    "        print(sum)\n",
    "        break\n",
    "    x = x + 1"
   ]
  },
  {
   "cell_type": "code",
   "execution_count": null,
   "id": "c5afa394",
   "metadata": {},
   "outputs": [],
   "source": [
    "정수 1부터 n까지 곱할 때 그 곱이 1000보다 커지게 되는 n과 합을 구하세요"
   ]
  },
  {
   "cell_type": "code",
   "execution_count": 6,
   "id": "5f345a19",
   "metadata": {},
   "outputs": [
    {
     "name": "stdout",
     "output_type": "stream",
     "text": [
      "1806\n",
      "910224\n"
     ]
    }
   ],
   "source": [
    "x = 1\n",
    "sum = 1\n",
    "\n",
    "while 1:\n",
    "    sum = sum * x\n",
    "    if sum > 1000:\n",
    "        print(x)\n",
    "        print(sum)\n",
    "        break\n",
    "    x = x * (x+ 1)\n",
    "        "
   ]
  },
  {
   "cell_type": "code",
   "execution_count": null,
   "id": "66ecbba7",
   "metadata": {},
   "outputs": [],
   "source": [
    "#정수 1부터 n까지 더할 때 그 합이 2500보다 커지게 되는 n과 합을 구하세요"
   ]
  },
  {
   "cell_type": "code",
   "execution_count": 5,
   "id": "d31f3af1",
   "metadata": {},
   "outputs": [
    {
     "name": "stdout",
     "output_type": "stream",
     "text": [
      "71\n",
      "2556\n"
     ]
    }
   ],
   "source": [
    "x = 1\n",
    "sum = 0\n",
    "\n",
    "while 1:\n",
    "    sum = sum + x\n",
    "    if sum >2500:\n",
    "        print(x)\n",
    "        print(sum)\n",
    "        break\n",
    "    x = x + 1"
   ]
  },
  {
   "cell_type": "code",
   "execution_count": null,
   "id": "05e89949",
   "metadata": {},
   "outputs": [],
   "source": [
    "# 과제 1부터 100까지의 아래와 같이 2개의 수를 곱해서 가장 큰 수를 구하세요\n",
    "1*99,2*98,.....,99*1"
   ]
  },
  {
   "cell_type": "code",
   "execution_count": null,
   "id": "cc572c13",
   "metadata": {},
   "outputs": [],
   "source": [
    "n = 1\n",
    "result = 0\n",
    "while n<=100:\n",
    "    a = n*(100-n)\n",
    "    if a>result:\n",
    "        result = a\n",
    "        n+=1\n",
    "    else:\n",
    "        n+=1\n",
    "        continue\n",
    "print(result)\n"
   ]
  },
  {
   "cell_type": "code",
   "execution_count": null,
   "id": "b4cacc7a",
   "metadata": {},
   "outputs": [],
   "source": [
    "n = 1 \n",
    "result = 0\n",
    "while n<=100:\n",
    "    a = n*(100-n)\n",
    "    if a>result:\n",
    "        result = a\n",
    "        n+=1\n",
    "    else:\n",
    "        n+=1\n",
    "        contuine\n",
    "print(result)"
   ]
  },
  {
   "cell_type": "code",
   "execution_count": null,
   "id": "247759e5",
   "metadata": {},
   "outputs": [],
   "source": [
    "[과제] while문을 사용해서 1부터 1000까지의 정수중 3과 5의 공배수의 합을 구해보세요"
   ]
  },
  {
   "cell_type": "code",
   "execution_count": null,
   "id": "a9878fd3",
   "metadata": {},
   "outputs": [],
   "source": [
    "i=0\n",
    "sum=0\n",
    "while i<1000:\n",
    "    i+=1\n",
    "    if i%15==0:\n",
    "        sum+=i\n",
    "print(sum)\n"
   ]
  },
  {
   "cell_type": "code",
   "execution_count": 7,
   "id": "0fb6cd84",
   "metadata": {},
   "outputs": [
    {
     "name": "stdout",
     "output_type": "stream",
     "text": [
      "95760\n"
     ]
    }
   ],
   "source": [
    "i=0\n",
    "sum=0\n",
    "while i<2000:\n",
    "    i+=1\n",
    "    if i%21==0:\n",
    "        sum+=i\n",
    "print(sum)"
   ]
  },
  {
   "cell_type": "code",
   "execution_count": 8,
   "id": "328203be",
   "metadata": {},
   "outputs": [
    {
     "name": "stdout",
     "output_type": "stream",
     "text": [
      "166833\n"
     ]
    }
   ],
   "source": [
    "i=0\n",
    "sum=0\n",
    "while i<1000:\n",
    "    i+=1\n",
    "    if i%3==0:\n",
    "        sum+=i\n",
    "print(sum)"
   ]
  },
  {
   "cell_type": "code",
   "execution_count": 9,
   "id": "1323d4eb",
   "metadata": {},
   "outputs": [
    {
     "name": "stdout",
     "output_type": "stream",
     "text": [
      "100500\n"
     ]
    }
   ],
   "source": [
    "i=0\n",
    "sum=0\n",
    "while i<1000:\n",
    "    i+=1\n",
    "    if i%5==0:\n",
    "        sum+=i\n",
    "print(sum)"
   ]
  },
  {
   "cell_type": "code",
   "execution_count": 10,
   "id": "1d06e608",
   "metadata": {},
   "outputs": [
    {
     "name": "stdout",
     "output_type": "stream",
     "text": [
      "7350\n"
     ]
    }
   ],
   "source": [
    "i=0\n",
    "sum=0\n",
    "while i<1000:\n",
    "    i+=1\n",
    "    if i%7==0 and i%10==0:\n",
    "        sum+=i\n",
    "print(sum)"
   ]
  },
  {
   "cell_type": "code",
   "execution_count": 23,
   "id": "1f588566",
   "metadata": {},
   "outputs": [
    {
     "name": "stdout",
     "output_type": "stream",
     "text": [
      "첫 번째 숫자: 5\n",
      "두 번째 숫자: 4\n",
      "5 + 4 = 9\n",
      "5 - 4 = 9\n",
      "5 * 4 = 20\n",
      "5 / 4 = 1.25\n"
     ]
    }
   ],
   "source": [
    "class Cal():\n",
    "    def __init__(self,x,y):\n",
    "        self.x = x\n",
    "        self.y = y\n",
    "        \n",
    "    def Sum(self):\n",
    "        print(f'{self.x} + {self.y} = {self.x + self.y}')\n",
    "    def Mul(self):\n",
    "        print(f'{self.x} - {self.y} = {self.x -self.y}')\n",
    "    def Div(self):\n",
    "        print(f'{self.x} / {self.y} = {self.x / self.y}')\n",
    "    def Sub(self):\n",
    "        print(f'{self,x} * {self.y} = {self.x * self.y}')\n",
    "        \n",
    "    def All(cal):\n",
    "        self.sum()\n",
    "        self.mul()\n",
    "        self.div()\n",
    "        self.sub()\n",
    "while 1:\n",
    "    x=int(input(\"첫 번째 숫자: \"))\n",
    "    y=int(input(\"두 번째 숫자: \"))\n",
    "    if x ==0 or y == 0:\n",
    "        print('0이 아닌 숫자 입력: ')\n",
    "    else:\n",
    "        self = Cal(x,y)\n",
    "        cal.All()\n",
    "        break"
   ]
  },
  {
   "cell_type": "code",
   "execution_count": 3,
   "id": "23f98d3a",
   "metadata": {},
   "outputs": [
    {
     "name": "stdout",
     "output_type": "stream",
     "text": [
      "첫 번쨰 숫자: 1\n",
      "두 번째 숫자: 2\n",
      "1 + 2 = 3\n",
      "1 - 2 = -1\n",
      "1 / 2 = 0.5\n",
      "1 * 2 = 2\n"
     ]
    }
   ],
   "source": [
    "class Cal():\n",
    "    def __init__(self,x,y):\n",
    "        self.x = x\n",
    "        self.y = y\n",
    "        \n",
    "    def Sum(self):\n",
    "        print(f'{self.x} + {self.y} = {self.x + self.y}')\n",
    "    def Mul(self):\n",
    "        print(f'{self.x} - {self.y} = {self.x - self.y}')\n",
    "    def Div(self):\n",
    "        print(f'{self.x} / {self.y} = {self.x /self.y}')\n",
    "    def Sub(self):\n",
    "        print(f'{self.x} * {self.y} = {self.x * self.y}')\n",
    "        \n",
    "    def All(cal):\n",
    "        self.Sum()\n",
    "        self.Mul()\n",
    "        self.Div()\n",
    "        self.Sub()\n",
    "while 1:\n",
    "    x=int(input(\"첫 번쨰 숫자: \"))\n",
    "    y=int(input(\"두 번째 숫자: \"))\n",
    "    if x ==0 or y ==0:\n",
    "        print('0이 아닌 숫자 입력')\n",
    "    else:\n",
    "        self = Cal(x,y)\n",
    "        self.All()\n",
    "        break"
   ]
  },
  {
   "cell_type": "code",
   "execution_count": 3,
   "id": "df1c2c2b",
   "metadata": {},
   "outputs": [
    {
     "name": "stdout",
     "output_type": "stream",
     "text": [
      "첫번째 숫자 입력: 4\n",
      "두번째 숫자 입력 5\n",
      "4 + 5 = 9\n",
      "4 - 5 = 9\n",
      "4 * 5 = 20\n",
      "4 / 5 = 0.8\n"
     ]
    }
   ],
   "source": [
    "class Cal():\n",
    "    def __init__(cal,x,y):\n",
    "        cal.x=x\n",
    "        cal.y=y\n",
    "    \n",
    "    def Sum(cal):\n",
    "        print(f'{cal.x} + {cal.y} = {cal.x+cal.y}')\n",
    "    def Sub(cal):\n",
    "        print(f'{cal.x} - {cal.y} = {cal.x+cal.y}')\n",
    "    def Div(cal):\n",
    "        print(f'{cal.x} / {cal.y} = {cal.x / cal.y}')\n",
    "    def Mul(cal):\n",
    "        print(f'{cal.x} * {cal.y} = { cal.x * cal.y}')\n",
    "        \n",
    "    def All(cal):\n",
    "        cal.Sum()\n",
    "        cal.Sub()\n",
    "        cal.Mul()\n",
    "        cal.Div()\n",
    "while 1:\n",
    "    x=int(input(\"첫번째 숫자 입력: \"))\n",
    "    y=int(input(\"두번째 숫자 입력 \"))\n",
    "    if x ==0 or y ==0:\n",
    "        print('0이 아닌 수를 입력')\n",
    "    else:\n",
    "        cal = Cal(x,y)\n",
    "        cal.All()\n",
    "        break"
   ]
  },
  {
   "cell_type": "code",
   "execution_count": null,
   "id": "e01688d0",
   "metadata": {},
   "outputs": [],
   "source": [
    "#[1,-3,2,0,-5,6]에서 양수만 필터링해서 출력하세요(내장함수, 사용자 함수 각각 이용)"
   ]
  },
  {
   "cell_type": "code",
   "execution_count": null,
   "id": "75aa2069",
   "metadata": {},
   "outputs": [],
   "source": [
    "x=[1,-3,2,0,-5,6]\n",
    "list(filter(lambda x: x > 0 , x))\n"
   ]
  },
  {
   "cell_type": "code",
   "execution_count": 1,
   "id": "6f6aa8fe",
   "metadata": {},
   "outputs": [
    {
     "data": {
      "text/plain": [
       "[-3, -5]"
      ]
     },
     "execution_count": 1,
     "metadata": {},
     "output_type": "execute_result"
    }
   ],
   "source": [
    "x=[1,-3,2,0,-5,6,7]\n",
    "list(filter(lambda x: x < 0, x))"
   ]
  },
  {
   "cell_type": "code",
   "execution_count": 2,
   "id": "e0b3a053",
   "metadata": {},
   "outputs": [
    {
     "data": {
      "text/plain": [
       "[1, 7]"
      ]
     },
     "execution_count": 2,
     "metadata": {},
     "output_type": "execute_result"
    }
   ],
   "source": [
    "x=[1,-3,2,0,-5,6,7]\n",
    "list(filter(lambda x: x > 0 and x%2==1, x))"
   ]
  },
  {
   "cell_type": "code",
   "execution_count": 4,
   "id": "c3a85a04",
   "metadata": {},
   "outputs": [
    {
     "data": {
      "text/plain": [
       "[-3, -5, -7]"
      ]
     },
     "execution_count": 4,
     "metadata": {},
     "output_type": "execute_result"
    }
   ],
   "source": [
    "x=[1,-3,2,0,-5,6,-7]\n",
    "list(filter(lambda x: x < 0 and x%2==1, x))"
   ]
  },
  {
   "cell_type": "code",
   "execution_count": null,
   "id": "631b8b18",
   "metadata": {},
   "outputs": [],
   "source": [
    "# strings를 다양한 문자 포함된 순서로 정렬하세요\n",
    "strings = ['a','ca','bar','aaaa','ababa']"
   ]
  },
  {
   "cell_type": "code",
   "execution_count": null,
   "id": "d107707c",
   "metadata": {},
   "outputs": [],
   "source": [
    "strings.sort(key=lambda x:len(set(x)))\n",
    "strings[::-1]"
   ]
  },
  {
   "cell_type": "code",
   "execution_count": 6,
   "id": "d4f8529a",
   "metadata": {},
   "outputs": [
    {
     "data": {
      "text/plain": [
       "['abc', 'aaabb', 'abab', 'ab', 'a,']"
      ]
     },
     "execution_count": 6,
     "metadata": {},
     "output_type": "execute_result"
    }
   ],
   "source": [
    "strings = ['a,','ab','abc','abab','aaabb']\n",
    "strings.sort(key=lambda x:len(set(x)))\n",
    "strings[::-1]"
   ]
  },
  {
   "cell_type": "code",
   "execution_count": 11,
   "id": "64b18dba",
   "metadata": {},
   "outputs": [
    {
     "data": {
      "text/plain": [
       "['bar', 'ababa', 'ca', 'aaaa', 'a']"
      ]
     },
     "execution_count": 11,
     "metadata": {},
     "output_type": "execute_result"
    }
   ],
   "source": [
    "my_data_string = ['a','ca','bar','aaaa','ababa']\n",
    "priority_dict = {'bar': 0, 'ababa': 1, 'ca': 2, 'aaaa': 3, 'a': 4}\n",
    "sorted(my_data_string, key=lambda x: priority_dict[x])"
   ]
  },
  {
   "cell_type": "code",
   "execution_count": 15,
   "id": "7294672d",
   "metadata": {},
   "outputs": [
    {
     "data": {
      "text/plain": [
       "['bar', 'br', 'abab', 'a', 'ca', 'bbbb']"
      ]
     },
     "execution_count": 15,
     "metadata": {},
     "output_type": "execute_result"
    }
   ],
   "source": [
    "my_data_string = ['a','ca','bar','abab','bbbb','br']\n",
    "priority_dict = {'bar': 0, 'br': 1, 'abab': 2, 'a': 3, 'ca': 4, 'bbbb': 5}\n",
    "sorted(my_data_string, key=lambda x: priority_dict[x])"
   ]
  },
  {
   "cell_type": "code",
   "execution_count": null,
   "id": "b32a62ad",
   "metadata": {},
   "outputs": [],
   "source": [
    "{과제}튜플 형태인 string를 다양한 문자가 포함된 순서로 정렬하세요.\n",
    "string = ('a','ca','bar','aaaa','ababa')\n"
   ]
  },
  {
   "cell_type": "code",
   "execution_count": 16,
   "id": "b43e5495",
   "metadata": {},
   "outputs": [
    {
     "data": {
      "text/plain": [
       "['bar', 'ca', 'ababa', 'aaaa', 'a']"
      ]
     },
     "execution_count": 16,
     "metadata": {},
     "output_type": "execute_result"
    }
   ],
   "source": [
    "my_data_string = ['a','ca','bar','aaaa','ababa']\n",
    "priority_dict = {'bar': 0, 'ca': 1, 'ababa': 2, 'aaaa': 3, 'a': 4}\n",
    "sorted(my_data_string, key=lambda x: priority_dict[x])"
   ]
  },
  {
   "cell_type": "code",
   "execution_count": null,
   "id": "bc0a03ba",
   "metadata": {},
   "outputs": [],
   "source": [
    "# 사용자가 입력한 게임 횟수만큼 로또 번호를 출력하는 프로그램을 작성하세요."
   ]
  },
  {
   "cell_type": "code",
   "execution_count": null,
   "id": "c9754a78",
   "metadata": {},
   "outputs": [],
   "source": [
    "from random import shuffle\n",
    "from time import sleep\n",
    "\n",
    "gnum = int(input('로또 횟수를 입력하세요> '))\n",
    "for i in range(gnum):\n",
    "    lt = [x+1 for x in range(45)]\n",
    "    ret = []\n",
    "    for j in range(6):\n",
    "        shuffle(lt)\n",
    "        num = lt.pop()\n",
    "        ret.append(num)\n",
    "        ret.sort()\n",
    "    print('로또번호 %d: ' %(i+1), end='')\n",
    "    print(ret)\n",
    "    sleep(1)\n",
    "    "
   ]
  },
  {
   "cell_type": "code",
   "execution_count": 18,
   "id": "f530032d",
   "metadata": {},
   "outputs": [
    {
     "name": "stdout",
     "output_type": "stream",
     "text": [
      "로또 횟수 입력>4\n",
      "로또 번호 1: [5, 12, 15, 19, 23, 25]\n",
      "로또 번호 2: [2, 8, 29, 32, 40, 41]\n",
      "로또 번호 3: [9, 17, 23, 28, 42, 44]\n",
      "로또 번호 4: [5, 13, 22, 23, 27, 30]\n"
     ]
    }
   ],
   "source": [
    "from random import shuffle\n",
    "\n",
    "rt = int(input('로또 횟수 입력>'))\n",
    "for i in range(rt):\n",
    "    lt = [x+1 for x in range(45)]\n",
    "    ret = []\n",
    "    for j in range(6):\n",
    "        shuffle(lt)\n",
    "        rt = lt.pop()\n",
    "        ret.append(rt)\n",
    "        ret.sort()\n",
    "    print('로또 번호 %d: ' %(i+1), end='')\n",
    "    print(ret)"
   ]
  },
  {
   "cell_type": "code",
   "execution_count": null,
   "id": "74bdbe96",
   "metadata": {},
   "outputs": [],
   "source": [
    "class Cal():\n",
    "    def __init__(cal, x, y):\n",
    "        cal.x=x\n",
    "        cal.y=y\n",
    "        \n",
    "    def getSum(cal):\n",
    "        print(f'{cal.x} + {cal.y} = {cal.x+cal.y}')\n",
    "    def getSub(cal):\n",
    "        print(f'{cal.x} - {cal.y} = {cal.x-cal.y}')\n",
    "    def getMul(cal):\n",
    "        print(f'{cal.x} * {cal.y} = {cal.x*cal.y}')\n",
    "    def getDiv(cal):\n",
    "        print(f'{cal.x} / {cal.y} = {cal.x/cal.y}')\n",
    "            \n",
    "    def getAll(cal):\n",
    "        cal.getSum()\n",
    "        cal.getSub()\n",
    "        cal.getMul()\n",
    "        cal.getDiv()       \n",
    "\n",
    "while 1:\n",
    "    x=int(input(\"첫 번째 숫자 입력:\"))\n",
    "    y=int(input(\"두 번째 숫자 입력: \"))\n",
    "    if x == 0 or y == 0:\n",
    "        print('0이 아닌 수를 입력하세요')\n",
    "    else:\n",
    "        cal = Cal(x,y)\n",
    "        cal.getAll()\n",
    "        break"
   ]
  },
  {
   "cell_type": "code",
   "execution_count": 4,
   "id": "d39a6e54",
   "metadata": {},
   "outputs": [
    {
     "name": "stdout",
     "output_type": "stream",
     "text": [
      "첫 번째 숫자: 4\n",
      "두 번쨰 숫자: 3\n"
     ]
    },
    {
     "ename": "NameError",
     "evalue": "name 'cal' is not defined",
     "output_type": "error",
     "traceback": [
      "\u001b[1;31m---------------------------------------------------------------------------\u001b[0m",
      "\u001b[1;31mNameError\u001b[0m                                 Traceback (most recent call last)",
      "\u001b[1;32m~\\AppData\\Local\\Temp/ipykernel_10100/3028493743.py\u001b[0m in \u001b[0;36m<module>\u001b[1;34m\u001b[0m\n\u001b[0;32m     26\u001b[0m     \u001b[1;32melse\u001b[0m\u001b[1;33m:\u001b[0m\u001b[1;33m\u001b[0m\u001b[1;33m\u001b[0m\u001b[0m\n\u001b[0;32m     27\u001b[0m         \u001b[0mself\u001b[0m \u001b[1;33m=\u001b[0m \u001b[0mCal\u001b[0m\u001b[1;33m(\u001b[0m\u001b[0mx\u001b[0m\u001b[1;33m,\u001b[0m\u001b[0my\u001b[0m\u001b[1;33m)\u001b[0m\u001b[1;33m\u001b[0m\u001b[1;33m\u001b[0m\u001b[0m\n\u001b[1;32m---> 28\u001b[1;33m         \u001b[0mcal\u001b[0m\u001b[1;33m.\u001b[0m\u001b[0mAll\u001b[0m\u001b[1;33m(\u001b[0m\u001b[1;33m)\u001b[0m\u001b[1;33m\u001b[0m\u001b[1;33m\u001b[0m\u001b[0m\n\u001b[0m\u001b[0;32m     29\u001b[0m         \u001b[1;32mbreak\u001b[0m\u001b[1;33m\u001b[0m\u001b[1;33m\u001b[0m\u001b[0m\n",
      "\u001b[1;31mNameError\u001b[0m: name 'cal' is not defined"
     ]
    }
   ],
   "source": [
    "class Cal():\n",
    "    def __init__(self, x, y):\n",
    "        self.x = x\n",
    "        self.y = y\n",
    "    \n",
    "    def Sum(self):\n",
    "        print(f'{self.x} + {self.y} = {self.x + self.y}')\n",
    "    def Mul(self):\n",
    "        print(f'{self.x} - {self.y} = {self.x - self.y}')\n",
    "    def Div(self):\n",
    "        print(f'{self.x} / {self.y} = {self.x / self.y}')\n",
    "    def Sub(self):\n",
    "        print(f'{self.x} * {self.y} = {self.x * self.y}')\n",
    "        \n",
    "    def All(cal):\n",
    "        self.sum()\n",
    "        self.mul()\n",
    "        self.div()\n",
    "        self.sub()\n",
    "        \n",
    "while 1:\n",
    "    x=int(input('첫 번째 숫자: '))\n",
    "    y=int(input('두 번쨰 숫자: '))\n",
    "    if x ==0 or y ==0:\n",
    "        print('0이아닌수를 입력: ')\n",
    "    else:\n",
    "        self = Cal(x,y)\n",
    "        cal.All()\n",
    "        break"
   ]
  },
  {
   "cell_type": "code",
   "execution_count": 6,
   "id": "c1415dbf",
   "metadata": {},
   "outputs": [
    {
     "name": "stdout",
     "output_type": "stream",
     "text": [
      "첫 번쨰 숫자: 5\n",
      "두 번째 숫자: 4\n",
      "5 + 4 = 9\n",
      "5 - 4 = 1\n",
      "5 / 4 = 1.25\n",
      "5 * 4 = 20\n"
     ]
    }
   ],
   "source": [
    "class Cal():\n",
    "    def __init__(self,x,y):\n",
    "        self.x = x\n",
    "        self.y = y\n",
    "        \n",
    "    def Sum(self):\n",
    "        print(f'{self.x} + {self.y} = {self.x + self.y}')\n",
    "    def Mul(self):\n",
    "        print(f'{self.x} - {self.y} = {self.x - self.y}')\n",
    "    def Div(self):\n",
    "        print(f'{self.x} / {self.y} = {self.x /self.y}')\n",
    "    def Sub(self):\n",
    "        print(f'{self.x} * {self.y} = {self.x * self.y}')\n",
    "        \n",
    "    def All(cal):\n",
    "        self.Sum()\n",
    "        self.Mul()\n",
    "        self.Div()\n",
    "        self.Sub()\n",
    "while 1:\n",
    "    x=int(input(\"첫 번쨰 숫자: \"))\n",
    "    y=int(input(\"두 번째 숫자: \"))\n",
    "    if x ==0 or y ==0:\n",
    "        print('0이 아닌 숫자: ')\n",
    "    else:\n",
    "        self = Cal(x,y)\n",
    "        self.All()\n",
    "        break"
   ]
  },
  {
   "cell_type": "code",
   "execution_count": 8,
   "id": "9ac7a050",
   "metadata": {},
   "outputs": [
    {
     "name": "stdout",
     "output_type": "stream",
     "text": [
      "첫 번 째 숫자 입력: 5\n",
      "두 번째 숫자 입력:4\n",
      "5 + 4 = 9\n",
      "5 - 4 = 1\n",
      "5 / 4 = 1.25\n",
      "5 * 4 = 20\n"
     ]
    }
   ],
   "source": [
    "class Cal():\n",
    "    def __init__(self,x,y):\n",
    "        self.x = x\n",
    "        self.y = y\n",
    "        \n",
    "    def Sum(self):\n",
    "        print(f'{self.x} + {self.y} = {self.x + self.y}')\n",
    "    def Mul(self):\n",
    "        print(f'{self.x} - {self.y} = {self.x - self.y}')\n",
    "    def Div(self):\n",
    "        print(f'{self.x} / {self.y} = {self.x / self.y}')\n",
    "    def Sub(self):\n",
    "        print(f'{self.x} * {self.y} = {self.x * self.y}')\n",
    "    \n",
    "    def All(cal):\n",
    "        self.Sum()\n",
    "        self.Mul()\n",
    "        self.Div()\n",
    "        self.Sub()\n",
    "        \n",
    "while 1:\n",
    "    x = int(input('첫 번 째 숫자 입력: '))\n",
    "    y = int(input('두 번째 숫자 입력:'))\n",
    "    if x ==0 or y ==0:\n",
    "        print('0이 아닌 숫자: ')\n",
    "    else:\n",
    "        self = Cal(x,y)\n",
    "        self.All()\n",
    "        break\n",
    "    \n",
    "        \n",
    "        "
   ]
  },
  {
   "cell_type": "code",
   "execution_count": null,
   "id": "65090257",
   "metadata": {},
   "outputs": [],
   "source": [
    "# 2와 5를 더한 후 3으로 나눈 나머지 값을 사용자 함수를 이용하여 구하세요\n",
    "def cal_abc(a,b,c):\n",
    "    return(a+b)%c\n",
    "cal_abc(2,5,3)"
   ]
  },
  {
   "cell_type": "code",
   "execution_count": 9,
   "id": "727207d3",
   "metadata": {},
   "outputs": [
    {
     "data": {
      "text/plain": [
       "0"
      ]
     },
     "execution_count": 9,
     "metadata": {},
     "output_type": "execute_result"
    }
   ],
   "source": [
    "def cal_abc(a,b,c,):\n",
    "    return(a+b)%c\n",
    "cal_abc(2,4,3)"
   ]
  },
  {
   "cell_type": "code",
   "execution_count": null,
   "id": "198743b2",
   "metadata": {},
   "outputs": [],
   "source": [
    "# 람다 함수를 이용해서 a의 b제곱을 구하는 식을 만들고 \n",
    "# a,b가 아래와 같이 주어졌을떄 각각의 값을 구하세요\n",
    "# a = 2, b =5\n",
    "# a = 5 b =2"
   ]
  },
  {
   "cell_type": "code",
   "execution_count": 10,
   "id": "6a7f0a84",
   "metadata": {},
   "outputs": [
    {
     "data": {
      "text/plain": [
       "32"
      ]
     },
     "execution_count": 10,
     "metadata": {},
     "output_type": "execute_result"
    }
   ],
   "source": [
    "x = lambda x: x**5\n",
    "x(2)"
   ]
  },
  {
   "cell_type": "code",
   "execution_count": 11,
   "id": "69a923fb",
   "metadata": {},
   "outputs": [
    {
     "data": {
      "text/plain": [
       "25"
      ]
     },
     "execution_count": 11,
     "metadata": {},
     "output_type": "execute_result"
    }
   ],
   "source": [
    "x = lambda x: x**2\n",
    "x(5)"
   ]
  },
  {
   "cell_type": "code",
   "execution_count": null,
   "id": "a4b84171",
   "metadata": {},
   "outputs": [],
   "source": [
    "#numbers 리스트에서 15,20,25를 출력하세요(for문과 if 조건 사용 필수)\n",
    "numbers = [5,15,6,20,7,25]"
   ]
  },
  {
   "cell_type": "code",
   "execution_count": null,
   "id": "35e1e20e",
   "metadata": {},
   "outputs": [],
   "source": [
    "numbers = [ 5, 15, 6, 20, 7, 25 ]\n",
    "for number in numbers:\n",
    "    if(number%5==0 and number>5):\n",
    "        print(number, end=' ')\n",
    "    else:\n",
    "        continue"
   ]
  },
  {
   "cell_type": "code",
   "execution_count": 12,
   "id": "d1bfc112",
   "metadata": {},
   "outputs": [
    {
     "name": "stdout",
     "output_type": "stream",
     "text": [
      "5 20 14 "
     ]
    }
   ],
   "source": [
    "numbers = [2,3,5,10,20,14]\n",
    "for number in numbers:\n",
    "    if(number%3==2 and number>2):\n",
    "        print(number, end=' ')\n",
    "    else:\n",
    "        continue"
   ]
  },
  {
   "cell_type": "code",
   "execution_count": null,
   "id": "47575e16",
   "metadata": {},
   "outputs": [],
   "source": [
    "# for ~ continue ~ break\n",
    "# 1~10 범위의 정수에서 1부터 5까지만 출력하세요\n",
    "for i in range(1,11):\n",
    "    print(i,end=' ')\n",
    "    if i < 5:\n",
    "        continue\n",
    "    else:\n",
    "        break"
   ]
  },
  {
   "cell_type": "code",
   "execution_count": 14,
   "id": "60ecba29",
   "metadata": {},
   "outputs": [
    {
     "name": "stdout",
     "output_type": "stream",
     "text": [
      "1 2 3 4 5 6 7 8 9 10 11 12 13 14 15 16 17 18 19 20 21 22 23 24 25 26 27 28 29 30 31 32 33 34 35 36 37 38 39 40 "
     ]
    }
   ],
   "source": [
    "for i in range(1,100):\n",
    "    print(i,end=' ')\n",
    "    if i < 40:\n",
    "        continue\n",
    "    else:\n",
    "        break"
   ]
  },
  {
   "cell_type": "code",
   "execution_count": null,
   "id": "0a914aad",
   "metadata": {},
   "outputs": [],
   "source": [
    "# while\n",
    "# 정수 1부터 n까지 더할 때 그 합이 1000보다 커지게 되는 n과 합을 구하세요\n",
    "\n",
    "x = 1\n",
    "sum = 0\n",
    "while 1:\n",
    "    sum = sum + x\n",
    "    if sum > 1000:\n",
    "        print(x)\n",
    "        print(sum)\n",
    "        break\n",
    "    x = x + 1"
   ]
  },
  {
   "cell_type": "code",
   "execution_count": 15,
   "id": "9eb9258b",
   "metadata": {},
   "outputs": [
    {
     "name": "stdout",
     "output_type": "stream",
     "text": [
      "45\n",
      "1035\n"
     ]
    }
   ],
   "source": [
    "x = 1\n",
    "sum = 0\n",
    "while 1:\n",
    "    sum = sum + x\n",
    "    if sum > 1000:\n",
    "        print(x)\n",
    "        print(sum)\n",
    "        break\n",
    "    x = x + 1"
   ]
  },
  {
   "cell_type": "code",
   "execution_count": 19,
   "id": "955feda9",
   "metadata": {},
   "outputs": [
    {
     "name": "stdout",
     "output_type": "stream",
     "text": [
      "7\n",
      "5040\n"
     ]
    }
   ],
   "source": [
    "x = 1\n",
    "sum = 1\n",
    "while 1:\n",
    "    sum = sum * x\n",
    "    if sum >1000:\n",
    "        print(x)\n",
    "        print(sum)\n",
    "        break\n",
    "    x =  x + 1"
   ]
  },
  {
   "cell_type": "code",
   "execution_count": null,
   "id": "a4dcecfc",
   "metadata": {},
   "outputs": [],
   "source": [
    "# [과제] while문을 사용해서 1부터 1000까지의 정수중 3과 5의 공배수의 합을 구해보세요"
   ]
  },
  {
   "cell_type": "code",
   "execution_count": null,
   "id": "6409f6db",
   "metadata": {},
   "outputs": [],
   "source": [
    "i=0\n",
    "sum=0\n",
    "while i<1000:\n",
    "    i+=1\n",
    "    if i%15==0:\n",
    "        sum+=i\n",
    "print(sum)"
   ]
  },
  {
   "cell_type": "code",
   "execution_count": 21,
   "id": "24c5e619",
   "metadata": {},
   "outputs": [
    {
     "name": "stdout",
     "output_type": "stream",
     "text": [
      "35784\n"
     ]
    }
   ],
   "source": [
    "i = 0\n",
    "sum = 0\n",
    "while i <1000:\n",
    "    i+=1\n",
    "    if i%14==0:\n",
    "        sum+=i\n",
    "print(sum)"
   ]
  },
  {
   "cell_type": "code",
   "execution_count": 23,
   "id": "79c1bdae",
   "metadata": {},
   "outputs": [
    {
     "name": "stdout",
     "output_type": "stream",
     "text": [
      "[9, 9, 8, 8, 5, 4, 4, 4, 3, 1]\n"
     ]
    }
   ],
   "source": [
    "#{4,8,5,4,8,4,3,9,1,9}를 내림차순으로 정렬하세요\n",
    "\n",
    "a= [4,8,5,4,8,4,3,9,1,9]\n",
    "a_d = sorted(a ,reverse=True)\n",
    "print(a_d)"
   ]
  },
  {
   "cell_type": "code",
   "execution_count": 24,
   "id": "504bfc9c",
   "metadata": {},
   "outputs": [
    {
     "name": "stdout",
     "output_type": "stream",
     "text": [
      "250000\n"
     ]
    }
   ],
   "source": [
    "i=0\n",
    "sum=0\n",
    "while i < 1000:\n",
    "    i+=1\n",
    "    if i %2==1:\n",
    "        sum+=i\n",
    "print(sum)"
   ]
  },
  {
   "cell_type": "code",
   "execution_count": null,
   "id": "94a997ab",
   "metadata": {},
   "outputs": [],
   "source": [
    "i=0\n",
    "sum=0\n",
    "\n",
    "while i<1000:\n",
    "    i+=1\n",
    "    if i%3==0:\n",
    "        sum =sum+i\n",
    "\n",
    "print(sum)\n",
    "\n"
   ]
  },
  {
   "cell_type": "code",
   "execution_count": 25,
   "id": "3af296db",
   "metadata": {},
   "outputs": [
    {
     "name": "stdout",
     "output_type": "stream",
     "text": [
      "2550\n"
     ]
    }
   ],
   "source": [
    "i = 0\n",
    "sum = 0\n",
    "while i <100:\n",
    "    i+=1\n",
    "    if i%2==0:\n",
    "        sum = sum+i\n",
    "print(sum)"
   ]
  },
  {
   "cell_type": "code",
   "execution_count": 26,
   "id": "745ce730",
   "metadata": {},
   "outputs": [
    {
     "name": "stdout",
     "output_type": "stream",
     "text": [
      "2500\n"
     ]
    }
   ],
   "source": [
    "i = 0\n",
    "sum = 0\n",
    "while i<100:\n",
    "    i+=1\n",
    "    if i%2==1:\n",
    "        sum = sum+i\n",
    "print(sum)"
   ]
  },
  {
   "cell_type": "code",
   "execution_count": 4,
   "id": "921a2e12",
   "metadata": {},
   "outputs": [
    {
     "name": "stdout",
     "output_type": "stream",
     "text": [
      "첫 번째 숫자 입력: 5\n",
      "두 번째 숫자 입력: 4\n",
      "5 + 4 = 9\n",
      "5 - 4 = 1\n",
      "5 / 4 = 1.25\n",
      "5 * 4 = 20\n"
     ]
    }
   ],
   "source": [
    "class Cal():\n",
    "    def __init__(self,x,y):\n",
    "        self.x = x\n",
    "        self.y = y\n",
    "    \n",
    "    def Sum(self):\n",
    "        print(f'{self.x} + {self.y} = {self.x +self.y}')\n",
    "    def Mul(self):\n",
    "        print(f'{self.x} - {self.y} = {self.x - self.y}')\n",
    "    def Div(self):\n",
    "        print(f'{self.x} / {self.y} = {self.x / self.y}')\n",
    "    def Sub(self):\n",
    "        print(f'{self.x} * {self.y} = {self.x * self.y}')\n",
    "        \n",
    "    def All(cal):\n",
    "        self.Sum()\n",
    "        self.Mul()\n",
    "        self.Div()\n",
    "        self.Sub()\n",
    "        \n",
    "while 1:\n",
    "    x = int(input('첫 번째 숫자 입력: '))\n",
    "    y = int(input('두 번째 숫자 입력: '))\n",
    "    if x ==0 or y ==0:\n",
    "        print('0이 아닌 숫자: ')\n",
    "    else:\n",
    "        self = Cal(x,y)\n",
    "        self.All()\n",
    "        break"
   ]
  },
  {
   "cell_type": "code",
   "execution_count": null,
   "id": "6280c5a5",
   "metadata": {},
   "outputs": [],
   "source": [
    "#[과제] 아래 코드를 보완하여 발생 가능한 모든 예외(정수,인덱스, 미리 파악하지 못한 예외)를 처리한후 마지막에\"모든예외처리 완료\"를 출력\n",
    "\n",
    "list_num = [52,273,32,72,100]\n",
    "\n",
    "num_input = int(input('정수 입력>'))\n",
    "print('{}번쨰 요소: {}'.format(num_input,list_num[num_input-1]))"
   ]
  },
  {
   "cell_type": "code",
   "execution_count": 7,
   "id": "7f5c661b",
   "metadata": {},
   "outputs": [
    {
     "name": "stdout",
     "output_type": "stream",
     "text": [
      "정수 입력>가\n",
      "정수 값을 입력하세요\n",
      "모든 예외 처리 완료\n"
     ]
    }
   ],
   "source": [
    "list_num = [52,273,32,72,100]\n",
    "\n",
    "try:\n",
    "    num_input = int(input('정수 입력>'))\n",
    "    print('{}번째 요소: {}'.format(num_input,list_num[num_input-1]))\n",
    "except IndexError:\n",
    "    print('인덱스 오류, 범위의 값을 입력하세요')\n",
    "except ValueError:\n",
    "    print('정수 값을 입력하세요')\n",
    "except Exception:\n",
    "    print('정수 값 입력하세요')\n",
    "finally:\n",
    "    print('모든 예외 처리 완료')\n",
    "    "
   ]
  },
  {
   "cell_type": "code",
   "execution_count": null,
   "id": "f4041bcd",
   "metadata": {},
   "outputs": [],
   "source": [
    "class MyClass:\n",
    "    def sayHello(self):\n",
    "        print('안녕하세요')\n",
    "    def sayBye(self,name):\n",
    "        print(f'{name}! 다음에 보자')\n",
    "        \n",
    "obj = MyClass()\n",
    "obj.sayHello()\n",
    "obj.sayBye('kevin')"
   ]
  },
  {
   "cell_type": "code",
   "execution_count": null,
   "id": "6ca2be60",
   "metadata": {},
   "outputs": [],
   "source": [
    "class MyClass:\n",
    "    def sayHello(self):\n",
    "        print('안녕하세요')\n",
    "    def sayBye(self,name):\n",
    "        print(f'{name}! 다음에 보자')\n",
    "        \n",
    "obj = MyClass()\n",
    "obj.sayHello()\n",
    "obj.sayBye('dlwogh')"
   ]
  },
  {
   "cell_type": "code",
   "execution_count": null,
   "id": "2193bea8",
   "metadata": {},
   "outputs": [],
   "source": [
    "프로그램이 시작되었습니다.\n",
    "try 구문이 시작되었습니다.\n",
    "except 구문이 실행되었습니다.\n",
    "finally 구문이 실행되었습니다\n",
    "프로그램이 종료되었습니다."
   ]
  },
  {
   "cell_type": "code",
   "execution_count": 8,
   "id": "dd857e96",
   "metadata": {},
   "outputs": [
    {
     "name": "stdout",
     "output_type": "stream",
     "text": [
      "프로그램이 시작되었습니다.\n",
      "try구문이 시작되었습니다.\n",
      "finally구문이 실행되었습니다.\n",
      "프로그램이 종료되었습니다. \n"
     ]
    }
   ],
   "source": [
    "print('프로그램이 시작되었습니다.')\n",
    "while 1:\n",
    "    try:\n",
    "        print('try구문이 시작되었습니다.')\n",
    "        break\n",
    "    except:\n",
    "        print('except구문이 시작되었습니다. ')\n",
    "        break\n",
    "    finally:\n",
    "        print('finally구문이 실행되었습니다.')\n",
    "print('프로그램이 종료되었습니다. ')"
   ]
  },
  {
   "cell_type": "code",
   "execution_count": null,
   "id": "85a14802",
   "metadata": {},
   "outputs": [],
   "source": [
    "# [과제] 숫자 대신 문자를 입력 시 에외가 발생되는데 아래 코드를 수정해서 예외 객체의자료형과 예외 객체 자체를 출력하세요\n",
    "\n",
    "num_input = int(input('정수 입력>'))\n",
    "print('원의 반지름:', num_input)\n",
    "print('원의 둘레:', 2*3.14*num_input)\n",
    "print('원의 넓이:', 3.14*num_input*num_input)"
   ]
  },
  {
   "cell_type": "code",
   "execution_count": 9,
   "id": "7c84a992",
   "metadata": {},
   "outputs": [
    {
     "name": "stdout",
     "output_type": "stream",
     "text": [
      "정수 입력>가\n",
      "문자만 \n",
      "예외 처리 완료\n",
      "원의 반지름: 4\n",
      "원의 둘레: 25.12\n",
      "원의 넓이: 50.24\n"
     ]
    }
   ],
   "source": [
    "try:\n",
    "    num_input(int(input('정수 입력>')))\n",
    "except:\n",
    "    print('문자만 ')\n",
    "finally:\n",
    "    print('예외 처리 완료')\n",
    "print('원의 반지름:', num_input)\n",
    "print('원의 둘레:', 2*3.14*num_input)\n",
    "print('원의 넓이:', 3.14*num_input*num_input)\n",
    "    "
   ]
  },
  {
   "cell_type": "code",
   "execution_count": null,
   "id": "3fb59e94",
   "metadata": {},
   "outputs": [],
   "source": [
    "# strings를 다양한 문자 포함된 순서로 정렬하세요\n",
    "strings = ['a','ca','bar','aaaa','ababa']"
   ]
  },
  {
   "cell_type": "code",
   "execution_count": null,
   "id": "37263a54",
   "metadata": {},
   "outputs": [],
   "source": [
    "strings.sort(key=lambda x:len(set(x)))\n",
    "strings[::-1]"
   ]
  },
  {
   "cell_type": "code",
   "execution_count": null,
   "id": "fa502d7f",
   "metadata": {},
   "outputs": [],
   "source": [
    "my_data_string = ['a','ca','bar','aaaa','ababa']\n",
    "priority_dict = {'bar': 0, 'ababa': 1, 'ca': 2, 'aaaa': 3, 'a': 4}\n",
    "sorted(my_data_string, key=lambda x: priority_dict[x])"
   ]
  },
  {
   "cell_type": "code",
   "execution_count": 12,
   "id": "fc5afd2b",
   "metadata": {},
   "outputs": [
    {
     "data": {
      "text/plain": [
       "['bar', 'ababa', 'ca', 'aaaa', 'a']"
      ]
     },
     "execution_count": 12,
     "metadata": {},
     "output_type": "execute_result"
    }
   ],
   "source": [
    "strings = ['a','ca','bar','aaaa','ababa']\n",
    "strings.sort(key=lambda x:len(set(x)))\n",
    "strings[::-1]"
   ]
  },
  {
   "cell_type": "code",
   "execution_count": null,
   "id": "5f7476af",
   "metadata": {},
   "outputs": [],
   "source": [
    "strings = ['aa','ab','abc','addbb','abba']"
   ]
  },
  {
   "cell_type": "code",
   "execution_count": 15,
   "id": "79bd1b5b",
   "metadata": {},
   "outputs": [
    {
     "name": "stdout",
     "output_type": "stream",
     "text": [
      "-26\n",
      "0.0010416666666666667\n"
     ]
    }
   ],
   "source": [
    "def sub_div(choice,*args):\n",
    "    if choice == 'sub':\n",
    "        result = args[0]\n",
    "        for i in args[1:]:\n",
    "            result -= i\n",
    "        return result\n",
    "    elif choice == 'div':\n",
    "        result = args[0]\n",
    "        for i in args[1:]:\n",
    "            if i == 0:\n",
    "                return print('오류')\n",
    "            result /= i\n",
    "        return result\n",
    "    \n",
    "print(sub_div('sub', 2,4,6,8,10))\n",
    "print(sub_div('div', 2,4,6,8,10))\n"
   ]
  },
  {
   "cell_type": "code",
   "execution_count": null,
   "id": "da8b0d70",
   "metadata": {},
   "outputs": [],
   "source": [
    "#[과제] 뺼셈, 나누셈 멀티 계산 함수 작성\n",
    "#('sub',2,4,6,8,10)\n",
    "#('div',2,4,6,8,10)\n"
   ]
  },
  {
   "cell_type": "code",
   "execution_count": 14,
   "id": "3abc5041",
   "metadata": {},
   "outputs": [
    {
     "name": "stdout",
     "output_type": "stream",
     "text": [
      "-26\n",
      "0.0019240019240019239\n"
     ]
    }
   ],
   "source": [
    "def sub_div(choice, *args):\n",
    "    if choice == 'sub':\n",
    "        result = args[0]\n",
    "        for i in args[1:]:\n",
    "            result -= i\n",
    "        return result\n",
    "    elif choice == 'div':\n",
    "        result = args[0]\n",
    "        for i in args[1:]:\n",
    "            if i == 0:\n",
    "                return print('오류')\n",
    "            result /= i\n",
    "        return result\n",
    "print(sub_div('sub', 4,3,7,9,11))\n",
    "print(sub_div('div', 4,3,7,9,11))"
   ]
  },
  {
   "cell_type": "code",
   "execution_count": 17,
   "id": "7529d961",
   "metadata": {},
   "outputs": [
    {
     "name": "stdout",
     "output_type": "stream",
     "text": [
      "34\n",
      "8316\n"
     ]
    }
   ],
   "source": [
    "def sub_div(choice, *args):\n",
    "    if choice == 'sub':\n",
    "        result = args[0]\n",
    "        for i in args[1:]:\n",
    "            result += i\n",
    "        return result\n",
    "    elif choice == 'div':\n",
    "        result = args[0]\n",
    "        for i in args[1:]:\n",
    "            if i == 0:\n",
    "                return print('오류')\n",
    "            result *= i\n",
    "        return result\n",
    "    \n",
    "print(sub_div('sub', 4,3,7,9,11))\n",
    "print(sub_div('div', 4,3,7,9,11))\n",
    "    "
   ]
  },
  {
   "cell_type": "code",
   "execution_count": 19,
   "id": "21c1a30d",
   "metadata": {},
   "outputs": [
    {
     "name": "stdout",
     "output_type": "stream",
     "text": [
      "36\n",
      "-34\n"
     ]
    }
   ],
   "source": [
    "def sub_div(choice, *args):\n",
    "    if choice == 'sub':\n",
    "        result = args[0]\n",
    "        for i in args[1:]:\n",
    "            result += i\n",
    "        return result\n",
    "    elif choice == 'div':\n",
    "        result = args[0]\n",
    "        for i in args[1:]:\n",
    "            if i == 0:\n",
    "                return print('오류')\n",
    "            result -= i\n",
    "        return result\n",
    "    \n",
    "print(sub_div('sub',1,3,5,7,9,11))\n",
    "print(sub_div('div',1,3,5,7,9,11))"
   ]
  },
  {
   "cell_type": "code",
   "execution_count": 21,
   "id": "2e69e802",
   "metadata": {},
   "outputs": [
    {
     "name": "stdout",
     "output_type": "stream",
     "text": [
      "10395\n",
      "9.620009620009618e-05\n"
     ]
    }
   ],
   "source": [
    "def sub_div(choice, *args):\n",
    "    if choice == 'sub':\n",
    "        result = args[0]\n",
    "        for i in args[1:]:\n",
    "            result *= i\n",
    "        return result\n",
    "    elif choice == 'div':\n",
    "        result = args[0]\n",
    "        for i in args[1:]:\n",
    "            if i ==0:\n",
    "                return print('오류')\n",
    "            result /= i\n",
    "        return result\n",
    "    \n",
    "print(sub_div('sub',1,3,5,7,9,11))\n",
    "print(sub_div('div',1,3,5,7,9,11))\n"
   ]
  },
  {
   "cell_type": "code",
   "execution_count": 22,
   "id": "f1ebd705",
   "metadata": {},
   "outputs": [
    {
     "name": "stdout",
     "output_type": "stream",
     "text": [
      "2000\n",
      "3000\n",
      "4000\n"
     ]
    }
   ],
   "source": [
    "# 기본 가격 1000원인 3개의 상품에 대하여 임의의 추가 가격을 인수로 대입시 더한 가격을 산출하세요\n",
    "\n",
    "class Order:\n",
    "    def __init__(self):\n",
    "        self.p = 1000\n",
    "    def order(self,price):\n",
    "        \n",
    "        self.p += price\n",
    "        return self.p\n",
    "    \n",
    "    \n",
    "pd1 = Order()\n",
    "pd2 = Order()\n",
    "pd3 = Order()\n",
    "\n",
    "print(pd1.order(1000))\n",
    "print(pd2.order(2000))\n",
    "print(pd3.order(3000))"
   ]
  },
  {
   "cell_type": "code",
   "execution_count": 23,
   "id": "55435225",
   "metadata": {},
   "outputs": [
    {
     "name": "stdout",
     "output_type": "stream",
     "text": [
      "2000\n",
      "3000\n"
     ]
    }
   ],
   "source": [
    "class Order:\n",
    "    def __init__(self):\n",
    "        self.p = 1000\n",
    "    def order(self,price):\n",
    "        \n",
    "        self.p += price\n",
    "        return self.p\n",
    "pd1 = Order()\n",
    "pd2 = Order()\n",
    "\n",
    "print(pd1.order(1000))\n",
    "print(pd2.order(2000))"
   ]
  },
  {
   "cell_type": "code",
   "execution_count": null,
   "id": "8df27520",
   "metadata": {},
   "outputs": [],
   "source": [
    "# 기본가격 1000인 2개의 상품에 대하여 임의의 추가 가격을 입력시 아래 두개의 방식으로 산출하세요(class이용)\n",
    "price1 : 기본가격 + 추가가격\n",
    "price2 : (기본가격 + 추가가격) *90%    "
   ]
  },
  {
   "cell_type": "code",
   "execution_count": 28,
   "id": "393af111",
   "metadata": {},
   "outputs": [
    {
     "name": "stdout",
     "output_type": "stream",
     "text": [
      "2000\n",
      "2700\n"
     ]
    }
   ],
   "source": [
    "class Order:\n",
    "    def __init__(self):\n",
    "        self.basic = 1000\n",
    "    def m2(self,add):\n",
    "        return self.basic + add\n",
    "    def m3(self,add):\n",
    "        return round((self.basic + add)*0.9)\n",
    "a = Order()\n",
    "b = Order()\n",
    "\n",
    "print(a.m2(1000))\n",
    "print(b.m3(2000))"
   ]
  },
  {
   "cell_type": "code",
   "execution_count": 29,
   "id": "e2dc8d14",
   "metadata": {},
   "outputs": [
    {
     "name": "stdout",
     "output_type": "stream",
     "text": [
      "900\n",
      "1000\n"
     ]
    }
   ],
   "source": [
    "class Order:\n",
    "    def __init__(self):\n",
    "        self.basic = 1000\n",
    "    def m2(self,add):\n",
    "        return round((self.basic+add)*0.3)\n",
    "    def m3(self,add):\n",
    "        return round((self.basic+add)*0.5)\n",
    "a = Order()\n",
    "b = Order()\n",
    "\n",
    "print(a.m2(2000))\n",
    "print(b.m3(1000))"
   ]
  },
  {
   "cell_type": "code",
   "execution_count": 33,
   "id": "174ad807",
   "metadata": {},
   "outputs": [
    {
     "name": "stdout",
     "output_type": "stream",
     "text": [
      "첫 번째 숫자 입력: 8\n",
      "두 번째 숫자 입력: 7\n",
      "8 + 7 = 15\n",
      "8 - 7 = 1\n",
      "8 / 7 = 1.1428571428571428\n",
      "8 * 7 = 56\n"
     ]
    }
   ],
   "source": [
    "class Cal():\n",
    "    def __init__(self,x,y):\n",
    "        self.x = x\n",
    "        self.y = y\n",
    "    def Sum(self):\n",
    "        print(f'{self.x} + {self.y} = {self.x + self.y}')\n",
    "    def Mul(self):\n",
    "        print(f'{self.x} - {self.y} = {self.x - self.y}')\n",
    "    def Div(self):\n",
    "        print(f'{self.x} / {self.y} = {self.x /self.y}')\n",
    "    def Sub(self):\n",
    "        print(f'{self.x} * {self.y} = {self.x * self.y}')\n",
    "    \n",
    "    def All(cal):\n",
    "        self.Sum()\n",
    "        self.Mul()\n",
    "        self. Div()\n",
    "        self. Sub()\n",
    "              \n",
    "while 1:\n",
    "    x = int(input('첫 번째 숫자 입력: '))\n",
    "    y = int(input('두 번째 숫자 입력: '))\n",
    "    if x ==0 or y ==0:\n",
    "              print('0이 아닌 수 입력 ')\n",
    "    else:\n",
    "        self = Cal(x,y)\n",
    "        self.All()\n",
    "        break"
   ]
  },
  {
   "cell_type": "code",
   "execution_count": null,
   "id": "55bad4db",
   "metadata": {},
   "outputs": [],
   "source": [
    "#[1,-3,2,0,-5,6]에서 양수만 필터링해서 출력하세요\n",
    "x=[1,-3,2,0,-5,6]\n",
    "list(filter(lambda x: x > 0 , x))"
   ]
  },
  {
   "cell_type": "code",
   "execution_count": 34,
   "id": "db7fdca4",
   "metadata": {},
   "outputs": [
    {
     "data": {
      "text/plain": [
       "[-3, -5]"
      ]
     },
     "execution_count": 34,
     "metadata": {},
     "output_type": "execute_result"
    }
   ],
   "source": [
    "x=[1,-3,2,0,-5,6]\n",
    "list(filter(lambda x: x < 0, x))"
   ]
  },
  {
   "cell_type": "code",
   "execution_count": 36,
   "id": "f39d7de3",
   "metadata": {},
   "outputs": [
    {
     "data": {
      "text/plain": [
       "[2, 6]"
      ]
     },
     "execution_count": 36,
     "metadata": {},
     "output_type": "execute_result"
    }
   ],
   "source": [
    "x=[1,-3,2,0,-5,6]\n",
    "list(filter(lambda x: x%2==0 and  x > 0, x))"
   ]
  },
  {
   "cell_type": "code",
   "execution_count": 37,
   "id": "dea795f5",
   "metadata": {},
   "outputs": [
    {
     "data": {
      "text/plain": [
       "[-3, -5]"
      ]
     },
     "execution_count": 37,
     "metadata": {},
     "output_type": "execute_result"
    }
   ],
   "source": [
    "x=[1,-3,2,0,-5,6]\n",
    "list(filter(lambda x: x%2==1 and x < 0,x))"
   ]
  },
  {
   "cell_type": "code",
   "execution_count": 38,
   "id": "ce6ac72b",
   "metadata": {},
   "outputs": [
    {
     "data": {
      "text/plain": [
       "[-6]"
      ]
     },
     "execution_count": 38,
     "metadata": {},
     "output_type": "execute_result"
    }
   ],
   "source": [
    "x=[1,3,2,-2,-5,-6,4]\n",
    "list(filter(lambda x: x%3==0 and x < 0, x))"
   ]
  },
  {
   "cell_type": "code",
   "execution_count": 40,
   "id": "f0407912",
   "metadata": {},
   "outputs": [
    {
     "data": {
      "text/plain": [
       "[-7, -3]"
      ]
     },
     "execution_count": 40,
     "metadata": {},
     "output_type": "execute_result"
    }
   ],
   "source": [
    "x=[1,3,-2,5,-7,-2,-3]\n",
    "list(filter(lambda x: x%2==1 and x < 0, x))"
   ]
  },
  {
   "cell_type": "code",
   "execution_count": 42,
   "id": "73343182",
   "metadata": {},
   "outputs": [
    {
     "data": {
      "text/plain": [
       "[2, -2]"
      ]
     },
     "execution_count": 42,
     "metadata": {},
     "output_type": "execute_result"
    }
   ],
   "source": [
    "x=[1,3,2,5,-7,-2,-3]\n",
    "list(filter(lambda x: x%2==0, x))"
   ]
  },
  {
   "cell_type": "code",
   "execution_count": 44,
   "id": "f7684ff6",
   "metadata": {},
   "outputs": [
    {
     "data": {
      "text/plain": [
       "[-2, -9, -4]"
      ]
     },
     "execution_count": 44,
     "metadata": {},
     "output_type": "execute_result"
    }
   ],
   "source": [
    "x=[1,-2,5,-9,2,-4]\n",
    "list(filter(lambda x: x < 0, x))"
   ]
  },
  {
   "cell_type": "code",
   "execution_count": 46,
   "id": "678508ef",
   "metadata": {},
   "outputs": [
    {
     "data": {
      "text/plain": [
       "3.0"
      ]
     },
     "execution_count": 46,
     "metadata": {},
     "output_type": "execute_result"
    }
   ],
   "source": [
    "# 입력으로 들어오는 모든 수의 평균값을 계산해주는 함수를 작성한 후 1,2,3을 입력한 결과를 출력하세요\n",
    "def mid (*args):\n",
    "    sum = 0\n",
    "    for i in args:\n",
    "        sum += i\n",
    "    return sum/2\n",
    "\n",
    "mid(1,2,3)\n"
   ]
  },
  {
   "cell_type": "code",
   "execution_count": 45,
   "id": "2988ce04",
   "metadata": {},
   "outputs": [
    {
     "data": {
      "text/plain": [
       "7.5"
      ]
     },
     "execution_count": 45,
     "metadata": {},
     "output_type": "execute_result"
    }
   ],
   "source": [
    "def mid(*args):\n",
    "    sum = 0\n",
    "    for i in args:\n",
    "        sum += i\n",
    "    return sum/2\n",
    "mid(4,5,6)"
   ]
  },
  {
   "cell_type": "code",
   "execution_count": 47,
   "id": "4bc5a313",
   "metadata": {},
   "outputs": [
    {
     "data": {
      "text/plain": [
       "3.5"
      ]
     },
     "execution_count": 47,
     "metadata": {},
     "output_type": "execute_result"
    }
   ],
   "source": [
    "def mid(*args):\n",
    "    sum = 0\n",
    "    for i in args:\n",
    "        sum += i\n",
    "    return sum/2\n",
    "mid(2,2,3)"
   ]
  },
  {
   "cell_type": "code",
   "execution_count": null,
   "id": "e869819f",
   "metadata": {},
   "outputs": [],
   "source": [
    "# strings를 다양한 문자 포함된 순서로 정렬하세요\n",
    "strings = ['a','ca','bar','aaaa','ababa']"
   ]
  },
  {
   "cell_type": "code",
   "execution_count": 49,
   "id": "6c3205e6",
   "metadata": {},
   "outputs": [
    {
     "data": {
      "text/plain": [
       "['abcd', 'abc', 'ab', 'bb', 'aa']"
      ]
     },
     "execution_count": 49,
     "metadata": {},
     "output_type": "execute_result"
    }
   ],
   "source": [
    "strings.sort(key=lambda x:len(set(x)))\n",
    "strings[::-1]"
   ]
  },
  {
   "cell_type": "code",
   "execution_count": 50,
   "id": "46280a5e",
   "metadata": {},
   "outputs": [
    {
     "data": {
      "text/plain": [
       "['abcd', 'abc', 'ab', 'bb', 'aa']"
      ]
     },
     "execution_count": 50,
     "metadata": {},
     "output_type": "execute_result"
    }
   ],
   "source": [
    "strings = ['ab','abc','aa','bb','abcd']\n",
    "strings.sort(key=lambda x:len(set(x)))\n",
    "strings[::-1]"
   ]
  },
  {
   "cell_type": "code",
   "execution_count": null,
   "id": "dce8adb5",
   "metadata": {},
   "outputs": [],
   "source": [
    "my_data_string = ['a','ca','bar','aaaa','ababa']\n",
    "priority_dict = {'bar': 0, 'ababa': 1, 'ca': 2, 'aaaa': 3, 'a': 4}\n",
    "sorted(my_data_string, key=lambda x: priority_dict[x])"
   ]
  },
  {
   "cell_type": "code",
   "execution_count": 52,
   "id": "b4ad1382",
   "metadata": {},
   "outputs": [
    {
     "data": {
      "text/plain": [
       "['abc', 'ccbb', 'bc', 'ac', 'adad']"
      ]
     },
     "execution_count": 52,
     "metadata": {},
     "output_type": "execute_result"
    }
   ],
   "source": [
    "strings = ['abc','adad','ac','bc','ccbb']\n",
    "strings.sort(key=lambda x: len(set(x)))\n",
    "strings[::-1]"
   ]
  },
  {
   "cell_type": "code",
   "execution_count": null,
   "id": "bfee772f",
   "metadata": {},
   "outputs": [],
   "source": [
    "1. numbers 리스트에서 15, 20, 25를 출력하세요.(for문과 if 조건 사용 필수)\n",
    "numbers = [5, 15, 6, 20, 7, 25]"
   ]
  },
  {
   "cell_type": "code",
   "execution_count": 56,
   "id": "770bfe1c",
   "metadata": {},
   "outputs": [
    {
     "name": "stdout",
     "output_type": "stream",
     "text": [
      "15 20 25 "
     ]
    }
   ],
   "source": [
    "numbers = [5, 15, 6, 20, 7, 25]\n",
    "for number in numbers:\n",
    "    if (number %5==0 and number > 5):\n",
    "        print(number, end=' ')\n",
    "    else:\n",
    "        continue"
   ]
  },
  {
   "cell_type": "code",
   "execution_count": null,
   "id": "636849d0",
   "metadata": {},
   "outputs": [],
   "source": [
    "#### 3. 정수를 입력하면 짝수 홀수 여부를 반환해주는 프로그램을 작성하세요.(정수 입력 후 '짝수', '홀수'가 일치하게 출력) "
   ]
  },
  {
   "cell_type": "code",
   "execution_count": 82,
   "id": "b410e9fc",
   "metadata": {},
   "outputs": [
    {
     "name": "stdout",
     "output_type": "stream",
     "text": [
      "정수를 입력하세요: 12\n",
      "짝수\n"
     ]
    }
   ],
   "source": [
    "numbers = int(input('정수를 입력하세요: '))\n",
    "if numbers %2==0:\n",
    "    print('짝수')\n",
    "else:\n",
    "    print('홀수')\n",
    "\n"
   ]
  },
  {
   "cell_type": "code",
   "execution_count": 109,
   "id": "73a367e0",
   "metadata": {},
   "outputs": [
    {
     "name": "stdout",
     "output_type": "stream",
     "text": [
      "정수를 입력하세요: 2\n",
      "짝수\n"
     ]
    }
   ],
   "source": [
    "numbers = int(input('정수를 입력하세요: '))\n",
    "if numbers %2==0:\n",
    "    print('짝수')\n",
    "else:\n",
    "    print('홀수')\n"
   ]
  },
  {
   "cell_type": "code",
   "execution_count": null,
   "id": "c90b190e",
   "metadata": {},
   "outputs": [],
   "source": [
    "#### 4. 람다 함수를 이용해서 a의 b제곱에서 a x b를 뺀 수를 구하는 식을 만들고 그 식을 이용해서  a, b가 아래와 같이 주어졌을 때 각각의 값을 구하세요.\n",
    "a = 2, b = 5 \n",
    "a= 5, b = 2"
   ]
  },
  {
   "cell_type": "code",
   "execution_count": 85,
   "id": "4024a9a4",
   "metadata": {},
   "outputs": [
    {
     "name": "stdout",
     "output_type": "stream",
     "text": [
      "15\n",
      "22\n"
     ]
    }
   ],
   "source": [
    "x = lambda a,b: a**b -(a*b)\n",
    "print(x(5,2))\n",
    "print(x(2,5))"
   ]
  },
  {
   "cell_type": "code",
   "execution_count": null,
   "id": "3ab7af96",
   "metadata": {},
   "outputs": [],
   "source": [
    "#### 9. 사용자로부터 서로 다른 숫자 두 개를 입력받고 첫 번째 와 두 번째중 큰 숫자를 구하는 프로그램을 수행하세요.\n"
   ]
  },
  {
   "cell_type": "code",
   "execution_count": 62,
   "id": "fe13d08b",
   "metadata": {},
   "outputs": [
    {
     "name": "stdout",
     "output_type": "stream",
     "text": [
      "첫 번째 숫자1\n",
      "두 번째 숫자5\n",
      "5\n"
     ]
    }
   ],
   "source": [
    "n1 = int(input('첫 번째 숫자'))\n",
    "n2 = int(input('두 번째 숫자'))\n",
    "if n1> n2:\n",
    "    print(n1)\n",
    "else:\n",
    "    print(n2)"
   ]
  },
  {
   "cell_type": "code",
   "execution_count": null,
   "id": "9db0b674",
   "metadata": {},
   "outputs": [],
   "source": [
    "1#부터 100까지의 2개의 수를 곱해서 큰수\n"
   ]
  },
  {
   "cell_type": "code",
   "execution_count": 63,
   "id": "548b440f",
   "metadata": {},
   "outputs": [
    {
     "name": "stdout",
     "output_type": "stream",
     "text": [
      "2500\n"
     ]
    }
   ],
   "source": [
    "n = 1\n",
    "result = 0\n",
    "while n<=100:\n",
    "    a = n*(100-n)\n",
    "    if a>result:\n",
    "        result = a\n",
    "        n+=1\n",
    "    else:\n",
    "        n+=1\n",
    "        continue\n",
    "print(result)"
   ]
  },
  {
   "cell_type": "code",
   "execution_count": null,
   "id": "20ef4bd9",
   "metadata": {},
   "outputs": [],
   "source": [
    "#### 11. 정규표현식을 사용하여 text에서 지역코드만 출력하세요.\n",
    "text = \"문의사항이 있으면 032-232-3245 으로 연락주시기 바랍니다.\""
   ]
  },
  {
   "cell_type": "code",
   "execution_count": 65,
   "id": "83f49cb3",
   "metadata": {},
   "outputs": [
    {
     "name": "stdout",
     "output_type": "stream",
     "text": [
      "032\n"
     ]
    }
   ],
   "source": [
    "import re\n",
    "p = re. compile(r'(\\d+)-(\\d+)-(\\d)')\n",
    "text = \"문의사항이 있으면 032-232-3245 으로 연락주시기 바랍니다.\"\n",
    "m = p.search(text)\n",
    "print(m.group(1))"
   ]
  },
  {
   "cell_type": "code",
   "execution_count": null,
   "id": "6c0f363c",
   "metadata": {},
   "outputs": [],
   "source": [
    "#### 12. 'abcdefghij' 에 대하여 중첩을 적용한 서브그룹 5개로 컴파일하여 group()함수를 이용하여 'abcdefghi'와 e'를 출력하세요"
   ]
  },
  {
   "cell_type": "code",
   "execution_count": null,
   "id": "fc4306eb",
   "metadata": {},
   "outputs": [],
   "source": [
    "import re\n",
    "p = re.compile('((ab)(cd(e)f)(ghij))+')\n",
    "m = p.search('abcdefghij OK?')\n",
    "\n",
    "print(m)\n",
    "print(m.group(0))\n",
    "print(m.group(4))"
   ]
  },
  {
   "cell_type": "code",
   "execution_count": null,
   "id": "cf0fd5dc",
   "metadata": {},
   "outputs": [],
   "source": [
    "#### 13. [0, 1, 2, 3, 4, 5, 6, 7, 8, 9, 'a', 'b', 'c']에서 9와 'a'를 삭제 후 리스트로 출력하세요"
   ]
  },
  {
   "cell_type": "code",
   "execution_count": 67,
   "id": "178d096a",
   "metadata": {},
   "outputs": [
    {
     "name": "stdout",
     "output_type": "stream",
     "text": [
      "[0, 1, 2, 3, 4, 5, 6, 7, 8, 'b', 'c']\n"
     ]
    }
   ],
   "source": [
    "a = [0,1,2,3,4,5,6,7,8,9,'a','b','c']\n",
    "del a[9]\n",
    "del a[9]\n",
    "print(a)"
   ]
  },
  {
   "cell_type": "code",
   "execution_count": null,
   "id": "9c56a14d",
   "metadata": {},
   "outputs": [],
   "source": [
    "#### 14. 500 ~ 1000사이의 정수 중 5와 7의 공배수의 합을 구하세요"
   ]
  },
  {
   "cell_type": "code",
   "execution_count": 69,
   "id": "85497a70",
   "metadata": {},
   "outputs": [
    {
     "name": "stdout",
     "output_type": "stream",
     "text": [
      "10535\n"
     ]
    }
   ],
   "source": [
    "i = 500\n",
    "sum = 0\n",
    "while i < 1000:\n",
    "    i+=1\n",
    "    if i%35==0:\n",
    "        sum+=i\n",
    "print(sum)\n",
    "    "
   ]
  },
  {
   "cell_type": "code",
   "execution_count": null,
   "id": "d53e729f",
   "metadata": {},
   "outputs": [],
   "source": [
    "아래 사용자 함수, 변수 리스트 및 2개의 내장함수를 각각 이용해서 [1, 4, 9, 16, 25], [1, 2]를 출력하세요.(내장함수 2개 사용 필수)"
   ]
  },
  {
   "cell_type": "code",
   "execution_count": null,
   "id": "b19b2a46",
   "metadata": {},
   "outputs": [],
   "source": [
    "# 함수를 선언합니다.\n",
    "def power(item):\n",
    "    return item * item\n",
    "def under_3(item):\n",
    "    return item < 3\n",
    "\n",
    "# 변수를 선언합니다.\n",
    "list_input_a = [1, 2, 3, 4, 5]"
   ]
  },
  {
   "cell_type": "code",
   "execution_count": 97,
   "id": "84b9886b",
   "metadata": {},
   "outputs": [
    {
     "name": "stdout",
     "output_type": "stream",
     "text": [
      "[1, 4, 9, 16, 25]\n"
     ]
    },
    {
     "data": {
      "text/plain": [
       "[1, 2]"
      ]
     },
     "execution_count": 97,
     "metadata": {},
     "output_type": "execute_result"
    }
   ],
   "source": [
    "a =[1,2,3,4,5,]\n",
    "\n",
    "b = map(power,a)\n",
    "print(list(b))\n",
    "\n",
    "\n",
    "list(filter(lambda a : a < 3, a))\n",
    "\n",
    "\n",
    "\n",
    "\n"
   ]
  },
  {
   "cell_type": "code",
   "execution_count": 92,
   "id": "0aa87c0d",
   "metadata": {},
   "outputs": [
    {
     "name": "stdout",
     "output_type": "stream",
     "text": [
      "[1, 4, 9, 16, 25]\n",
      "[1, 2]\n"
     ]
    }
   ],
   "source": [
    "def power(item):\n",
    "    return item * item\n",
    "def under_3(item):\n",
    "    return item < 3\n",
    "\n",
    "# 변수를 선언합니다.\n",
    "input_a = [1, 2, 3, 4, 5]\n",
    "\n",
    "out_a = map(power, input_a)\n",
    "print(list(out_a))\n",
    "\n",
    "out_b = filter(under_3, input_a)\n",
    "print(list(out_b))"
   ]
  },
  {
   "cell_type": "code",
   "execution_count": 98,
   "id": "7dbbe6ea",
   "metadata": {},
   "outputs": [],
   "source": [
    "#사용자로부터 서로 다른 숫자 두 개를 입력받고 첫 번째 와 두 번째중 큰 숫자를 구하는 프로그램을 수행하세요."
   ]
  },
  {
   "cell_type": "code",
   "execution_count": 104,
   "id": "940a6adf",
   "metadata": {},
   "outputs": [
    {
     "name": "stdout",
     "output_type": "stream",
     "text": [
      "첫 정수4\n",
      "2번쨰 정수5\n",
      "5\n"
     ]
    }
   ],
   "source": [
    "n1 =int(input('첫 정수'))\n",
    "n2 = int(input('2번쨰 정수'))\n",
    "if n1> n2:\n",
    "    print(n1)\n",
    "else:\n",
    "    print(n2)"
   ]
  },
  {
   "cell_type": "code",
   "execution_count": null,
   "id": "24588439",
   "metadata": {},
   "outputs": [],
   "source": [
    "1. numbers 리스트에서 15, 20, 25를 출력하세요.(for문과 if 조건 사용 필수)\n",
    "numbers = [5, 15, 6, 20, 7, 25]"
   ]
  },
  {
   "cell_type": "code",
   "execution_count": 2,
   "id": "78555879",
   "metadata": {},
   "outputs": [
    {
     "name": "stdout",
     "output_type": "stream",
     "text": [
      "15 20 25 "
     ]
    }
   ],
   "source": [
    "numbers = [5, 15, 6, 20, 7, 25]\n",
    "for number in numbers:\n",
    "    if (number%5==0 and number >5):\n",
    "        print(number, end=' ')\n",
    "    else:\n",
    "        continue"
   ]
  },
  {
   "cell_type": "code",
   "execution_count": null,
   "id": "23cab9b9",
   "metadata": {},
   "outputs": [],
   "source": [
    "2. 아래 사용자 함수, 변수 리스트 및 2개의 내장함수를 각각 이용해서 [1, 4, 9, 16, 25], [1, 2]를 출력하세요.(내장함수 2개 사용 필수)"
   ]
  },
  {
   "cell_type": "code",
   "execution_count": null,
   "id": "40c7cf42",
   "metadata": {},
   "outputs": [],
   "source": [
    "# 함수를 선언합니다.\n",
    "def power(item):\n",
    "    return item * item\n",
    "def under_3(item):\n",
    "    return item < 3\n",
    "\n",
    "# 변수를 선언합니다.\n",
    "list_input_a = [1, 2, 3, 4, 5]"
   ]
  },
  {
   "cell_type": "code",
   "execution_count": 6,
   "id": "95a81a3e",
   "metadata": {},
   "outputs": [
    {
     "name": "stdout",
     "output_type": "stream",
     "text": [
      "[1, 4, 9, 16, 25]\n"
     ]
    },
    {
     "data": {
      "text/plain": [
       "[1, 2]"
      ]
     },
     "execution_count": 6,
     "metadata": {},
     "output_type": "execute_result"
    }
   ],
   "source": [
    "# 함수를 선언합니다.\n",
    "def power(item):\n",
    "    return item * item\n",
    "def under_3(item):\n",
    "    return item < 3\n",
    "\n",
    "# 변수를 선언합니다.\n",
    "list_input_a = [1, 2, 3, 4, 5]\n",
    "\n",
    "a =[1,2,3,4,5,]\n",
    "\n",
    "b = map(power,a)\n",
    "print(list(b))\n",
    "\n",
    "list(filter(lambda a : a < 3, a))"
   ]
  },
  {
   "cell_type": "code",
   "execution_count": null,
   "id": "7c4ff794",
   "metadata": {},
   "outputs": [],
   "source": [
    "3. 정수를 입력하면 짝수 홀수 여부를 반환해주는 프로그램을 작성하세요.(정수 입력 후 '짝수', '홀수'가 일치하게 출력"
   ]
  },
  {
   "cell_type": "code",
   "execution_count": 8,
   "id": "45e97d73",
   "metadata": {},
   "outputs": [
    {
     "name": "stdout",
     "output_type": "stream",
     "text": [
      "정수 입력하세요: 4\n",
      "짝수\n"
     ]
    }
   ],
   "source": [
    "numbers = int(input('정수 입력하세요: '))\n",
    "if numbers%2==0:\n",
    "    print('짝수')\n",
    "else:\n",
    "    print('홀수')"
   ]
  },
  {
   "cell_type": "code",
   "execution_count": null,
   "id": "8799e67e",
   "metadata": {},
   "outputs": [],
   "source": [
    "4. 람다 함수를 이용해서 a의 b제곱에서 a x b를 뺀 수를 구하는 식을 만들고 그 식을 이용해서 a, b가 아래와 같이 주어졌을 때 각각의 값을 구하세요."
   ]
  },
  {
   "cell_type": "code",
   "execution_count": 9,
   "id": "86c7ad8c",
   "metadata": {},
   "outputs": [
    {
     "name": "stdout",
     "output_type": "stream",
     "text": [
      "22\n",
      "15\n"
     ]
    }
   ],
   "source": [
    "x = lambda a,b: a**b -(a*b)\n",
    "print(x(2,5))\n",
    "print(x(5,2))"
   ]
  },
  {
   "cell_type": "code",
   "execution_count": 12,
   "id": "247f07bc",
   "metadata": {},
   "outputs": [
    {
     "data": {
      "text/plain": [
       "(2, 7)"
      ]
     },
     "execution_count": 12,
     "metadata": {},
     "output_type": "execute_result"
    }
   ],
   "source": [
    "# 97을 40으로 나눈 몫과 나머지를 내장함수를 이용하여 구하세요.(튜플로 출력 필수)\n",
    "def cal_ab(a,b):\n",
    "    return (a//b, a%b)\n",
    "cal_ab(97,45)"
   ]
  },
  {
   "cell_type": "code",
   "execution_count": 15,
   "id": "32fdbd4a",
   "metadata": {},
   "outputs": [
    {
     "name": "stdout",
     "output_type": "stream",
     "text": [
      "첫 번째 숫자34\n",
      "두 번쨰 숫자32\n",
      "34\n"
     ]
    }
   ],
   "source": [
    "# 사용자로부터 서로 다른 숫자 두 개를 입력받고 첫 번째 와 두 번째중 큰 숫자를 구하는 프로그램을 수행하세요.\n",
    "n1 = int(input('첫 번째 숫자'))\n",
    "n2 = int(input('두 번쨰 숫자'))\n",
    "if n1>n2:\n",
    "    print(n1)\n",
    "else:\n",
    "    print(n2)"
   ]
  },
  {
   "cell_type": "code",
   "execution_count": null,
   "id": "6cf63e70",
   "metadata": {},
   "outputs": [],
   "source": [
    "10. 1부터 100까지 아래와 같은 방식으로 2개의 수를 곱해서 가장 큰 수를 구하세요."
   ]
  },
  {
   "cell_type": "code",
   "execution_count": 18,
   "id": "1aa68d72",
   "metadata": {},
   "outputs": [
    {
     "name": "stdout",
     "output_type": "stream",
     "text": [
      "2500\n"
     ]
    }
   ],
   "source": [
    "n =1 \n",
    "result = 0\n",
    "while n<=100:\n",
    "    a = n*(100-n)\n",
    "    if a>result:\n",
    "        result = a\n",
    "        n +=1 \n",
    "    else:\n",
    "        n+=1\n",
    "        continue\n",
    "print(result)"
   ]
  },
  {
   "cell_type": "code",
   "execution_count": null,
   "id": "9f6d78b6",
   "metadata": {},
   "outputs": [],
   "source": [
    "11. 정규표현식을 사용하여 text에서 지역코드만 출력하세요.\n",
    "text = \"문의사항이 있으면 032-232-3245 으로 연락주시기 바랍니다.\""
   ]
  },
  {
   "cell_type": "code",
   "execution_count": null,
   "id": "9ac48bfd",
   "metadata": {},
   "outputs": [],
   "source": [
    "import re\n",
    "p = re.compile(r'(\\d+)-(\\d+)-(\\d+)')\n",
    "text = \"문의사항이 있으면 032-232-3245 으로 연락주시기 바랍니다.\"\n",
    "m = p.search(text)\n",
    "print(m.group(1))"
   ]
  },
  {
   "cell_type": "code",
   "execution_count": null,
   "id": "811ab4cc",
   "metadata": {},
   "outputs": [],
   "source": [
    "12. 'abcdefghij' 에 대하여 중첩을 적용한 서브그룹 5개로 컴파일하여 group()함수를 이용하여 'abcdefghi'와 e'를 출력하세요"
   ]
  },
  {
   "cell_type": "code",
   "execution_count": null,
   "id": "a73f5f16",
   "metadata": {},
   "outputs": [],
   "source": [
    "import re\n",
    "p = re.compile('((ab)(cd(e)f)(ghij))+')\n",
    "m = p.search('abcdefghij OK?')\n",
    "\n",
    "print(m)\n",
    "print(m.group(0))\n",
    "print(m.group(4))"
   ]
  },
  {
   "cell_type": "code",
   "execution_count": null,
   "id": "47343b21",
   "metadata": {},
   "outputs": [],
   "source": [
    "13. [0, 1, 2, 3, 4, 5, 6, 7, 8, 9, 'a', 'b', 'c']에서 9와 'a'를 삭제 후 리스트로 출력하세요"
   ]
  },
  {
   "cell_type": "code",
   "execution_count": 20,
   "id": "a1909bfe",
   "metadata": {},
   "outputs": [
    {
     "name": "stdout",
     "output_type": "stream",
     "text": [
      "[0, 1, 2, 3, 4, 5, 6, 7, 8, 'b', 'c']\n"
     ]
    }
   ],
   "source": [
    "a = [0, 1, 2, 3, 4, 5, 6, 7, 8, 9, 'a', 'b', 'c']\n",
    "del a[9]\n",
    "del a[9]\n",
    "print(a)"
   ]
  },
  {
   "cell_type": "code",
   "execution_count": null,
   "id": "4de54daa",
   "metadata": {},
   "outputs": [],
   "source": [
    "14. 500 ~ 1000사이의 정수 중 5와 7의 공배수의 합을 구하세요"
   ]
  },
  {
   "cell_type": "code",
   "execution_count": 21,
   "id": "6c36b25b",
   "metadata": {},
   "outputs": [
    {
     "name": "stdout",
     "output_type": "stream",
     "text": [
      "10535\n"
     ]
    }
   ],
   "source": [
    "i = 500\n",
    "sum = 0\n",
    "while i <1000:\n",
    "    i+=1\n",
    "    if i%35==0:\n",
    "        sum+=i\n",
    "print(sum)"
   ]
  },
  {
   "cell_type": "code",
   "execution_count": null,
   "id": "c388c3e9",
   "metadata": {},
   "outputs": [],
   "source": [
    "15. [ ]을 채워서 아래와 같이 출력하세요."
   ]
  },
  {
   "cell_type": "code",
   "execution_count": null,
   "id": "f8c789ec",
   "metadata": {},
   "outputs": [],
   "source": [
    "numbers = [1,2,3,4,5,6,7,8,9]\n",
    "output = [[], [], []]\n",
    "\n",
    "for number in numbers:\n",
    "    output[     ].append(number)\n",
    "print(output)"
   ]
  },
  {
   "cell_type": "code",
   "execution_count": 22,
   "id": "5fadbfc5",
   "metadata": {},
   "outputs": [
    {
     "name": "stdout",
     "output_type": "stream",
     "text": [
      "[[1, 4, 7], [2, 5, 8], [3, 6, 9]]\n"
     ]
    }
   ],
   "source": [
    "numbers = [1,2,3,4,5,6,7,8,9]\n",
    "output = [[], [], []]\n",
    "\n",
    "for number in numbers:\n",
    "    output[  (number-1)%3 ].append(number)\n",
    "print(output)"
   ]
  },
  {
   "cell_type": "code",
   "execution_count": null,
   "id": "588e278f",
   "metadata": {},
   "outputs": [],
   "source": [
    "18. 사칙연산을 수행하는 클래스를 작성하여 객체를 만들고 2개의 정수 10, 5를 입력한 후 연산 결과를 포멧을 이용하여 출력하세요."
   ]
  },
  {
   "cell_type": "code",
   "execution_count": 27,
   "id": "76455864",
   "metadata": {},
   "outputs": [
    {
     "name": "stdout",
     "output_type": "stream",
     "text": [
      "첫 번째 숫자 입력: 5\n",
      "두 번째 숫자 입력: 4\n",
      "5 + 4 = 9\n",
      "5 - 4 = 1\n",
      "5 / 4 = 1.25\n",
      "5 * 4 = 20\n"
     ]
    }
   ],
   "source": [
    "class Cal():\n",
    "    def __init__(self,x,y):\n",
    "        self.x = x\n",
    "        self.y = y\n",
    "    def Sum(self):\n",
    "        print(f'{self.x} + {self.y} = {self.x + self.y}')\n",
    "    def Mul(self):\n",
    "        print(f'{self.x} - {self.y} = {self.x - self.y}')\n",
    "    def Div(self):\n",
    "        print(f'{self.x} / {self.y} = {self.x / self.y}')\n",
    "    def Sub(self):\n",
    "        print(f'{self.x} * {self.y} = {self.x * self.y}')\n",
    "    def All(cal):\n",
    "        self.Sum()\n",
    "        self.Mul()\n",
    "        self.Div()\n",
    "        self.Sub()\n",
    "        \n",
    "while 1:\n",
    "    x=int(input('첫 번째 숫자 입력: '))\n",
    "    y=int(input('두 번째 숫자 입력: '))\n",
    "    if x ==0 or y ==0:\n",
    "        print('0이아닌숫자 입력: ')\n",
    "    else:\n",
    "        self = Cal(x,y)\n",
    "        self.All()\n",
    "        break\n",
    "    \n",
    "        \n",
    "    "
   ]
  },
  {
   "cell_type": "code",
   "execution_count": null,
   "id": "ac86eea0",
   "metadata": {},
   "outputs": [],
   "source": [
    "16. numbers 내부에 들어 있는 숫자가 몇 번 등장하는지를 출력하는 코드를 작성하세요.\n",
    "numbers = [3,6,3,5,8,2,9,7,4,3,6,3,5,8,2,9,7,4]"
   ]
  },
  {
   "cell_type": "code",
   "execution_count": 23,
   "id": "ceb7ae99",
   "metadata": {},
   "outputs": [
    {
     "name": "stdout",
     "output_type": "stream",
     "text": [
      "{2: 2, 3: 4, 4: 2, 5: 2, 6: 2, 7: 2, 8: 2, 9: 2}\n"
     ]
    }
   ],
   "source": [
    "numbers = [3,6,3,5,8,2,9,7,4,3,6,3,5,8,2,9,7,4]\n",
    "dic_num={}\n",
    "for i in set(numbers):\n",
    "    dic_num[i] = numbers.count(i)\n",
    "print(dic_num)"
   ]
  },
  {
   "cell_type": "code",
   "execution_count": 29,
   "id": "eab67ecf",
   "metadata": {},
   "outputs": [
    {
     "name": "stdout",
     "output_type": "stream",
     "text": [
      "{2: 2, 3: 4, 4: 2, 5: 2, 6: 2, 7: 2, 8: 2, 9: 2}\n"
     ]
    }
   ],
   "source": [
    "numbers = [3,6,3,5,8,2,9,7,4,3,6,3,5,8,2,9,7,4]\n",
    "dic_num = {}\n",
    "for i in set(numbers):\n",
    "    dic_num[i] = numbers.count(i)\n",
    "print(dic_num)"
   ]
  },
  {
   "cell_type": "code",
   "execution_count": null,
   "id": "21f7503e",
   "metadata": {},
   "outputs": [],
   "source": [
    "1. numbers 리스트에서 15, 20, 25를 출력하세요.(for문과 if 조건 사용 필수)\n",
    "numbers = [5, 15, 6, 20, 7, 25]"
   ]
  },
  {
   "cell_type": "code",
   "execution_count": null,
   "id": "5af8e722",
   "metadata": {},
   "outputs": [],
   "source": [
    "2. 아래 사용자 함수, 변수 리스트 및 2개의 내장함수를 각각 이용해서 [1, 4, 9, 16, 25], [1, 2]를 출력하세요.(내장함수 2개 사용 필수)¶"
   ]
  },
  {
   "cell_type": "code",
   "execution_count": null,
   "id": "6f4a22a9",
   "metadata": {},
   "outputs": [],
   "source": [
    "# 함수를 선언합니다.\n",
    "def power(item):\n",
    "    return item * item\n",
    "def under_3(item):\n",
    "    return item < 3\n",
    "\n",
    "# 변수를 선언합니다.\n",
    "list_input_a = [1, 2, 3, 4, 5]"
   ]
  },
  {
   "cell_type": "code",
   "execution_count": null,
   "id": "14cad3fe",
   "metadata": {},
   "outputs": [],
   "source": [
    "3. 정수를 입력하면 짝수 홀수 여부를 반환해주는 프로그램을 작성하세요.(정수 입력 후 '짝수', '홀수'가 일치하게 출력)"
   ]
  },
  {
   "cell_type": "code",
   "execution_count": null,
   "id": "0ca87394",
   "metadata": {},
   "outputs": [],
   "source": [
    "4. 람다 함수를 이용해서 a의 b제곱에서 a x b를 뺀 수를 구하는 식을 만들고 그 식을 이용해서 a, b가 아래와 같이 주어졌을 때 각각의 값을 구하세요.\n",
    "a = 2, b = 5\n",
    "a= 5, b = 2"
   ]
  },
  {
   "cell_type": "code",
   "execution_count": null,
   "id": "a9dda1d3",
   "metadata": {},
   "outputs": [],
   "source": [
    "7. 97을 40으로 나눈 몫과 나머지를 내장함수를 이용하여 구하세요.(튜플로 출력 필수)"
   ]
  },
  {
   "cell_type": "code",
   "execution_count": null,
   "id": "2c93605c",
   "metadata": {},
   "outputs": [],
   "source": [
    "9. 사용자로부터 서로 다른 숫자 두 개를 입력받고 첫 번째 와 두 번째중 큰 숫자를 구하는 프로그램을 수행하세요."
   ]
  },
  {
   "cell_type": "code",
   "execution_count": null,
   "id": "6e75e9c3",
   "metadata": {},
   "outputs": [],
   "source": [
    "10. 1부터 100까지 아래와 같은 방식으로 2개의 수를 곱해서 가장 큰 수를 구하세요."
   ]
  },
  {
   "cell_type": "code",
   "execution_count": null,
   "id": "41f6cfe0",
   "metadata": {},
   "outputs": [],
   "source": [
    "11. 정규표현식을 사용하여 text에서 지역코드만 출력하세요.\n",
    "text = \"문의사항이 있으면 032-232-3245 으로 연락주시기 바랍니다.\""
   ]
  },
  {
   "cell_type": "code",
   "execution_count": null,
   "id": "5afa5d5a",
   "metadata": {},
   "outputs": [],
   "source": [
    "12. 'abcdefghij' 에 대하여 중첩을 적용한 서브그룹 5개로 컴파일하여 group()함수를 이용하여 'abcdefghi'와 e'를 출력하세요"
   ]
  },
  {
   "cell_type": "code",
   "execution_count": null,
   "id": "0ce9c6ed",
   "metadata": {},
   "outputs": [],
   "source": [
    "13. [0, 1, 2, 3, 4, 5, 6, 7, 8, 9, 'a', 'b', 'c']에서 9와 'a'를 삭제 후 리스트로 출력하세요"
   ]
  },
  {
   "cell_type": "code",
   "execution_count": null,
   "id": "3c670222",
   "metadata": {},
   "outputs": [],
   "source": [
    "14. 500 ~ 1000사이의 정수 중 5와 7의 공배수의 합을 구하세요"
   ]
  },
  {
   "cell_type": "code",
   "execution_count": null,
   "id": "0e2bad88",
   "metadata": {},
   "outputs": [],
   "source": [
    "15. [ ]을 채워서 아래와 같이 출력하세요."
   ]
  },
  {
   "cell_type": "code",
   "execution_count": null,
   "id": "d10a6caa",
   "metadata": {},
   "outputs": [],
   "source": [
    "numbers = [1,2,3,4,5,6,7,8,9]\n",
    "output = [[], [], []]\n",
    "\n",
    "for number in numbers:\n",
    "    output[   ].append(number)\n",
    "print(output)\n",
    "\n",
    "# 출력 결과 [[1, 4, 7], [2, 5, 8], [3, 6, 9]]"
   ]
  },
  {
   "cell_type": "code",
   "execution_count": null,
   "id": "daef335b",
   "metadata": {},
   "outputs": [],
   "source": [
    "16. numbers 내부에 들어 있는 숫자가 몇 번 등장하는지를 출력하는 코드를 작성하세요.\n",
    "numbers = [3,6,3,5,8,2,9,7,4,3,6,3,5,8,2,9,7,4]"
   ]
  },
  {
   "cell_type": "code",
   "execution_count": null,
   "id": "cdbdcf39",
   "metadata": {},
   "outputs": [],
   "source": [
    "18. 사칙연산을 수행하는 클래스를 작성하여 객체를 만들고 2개의 정수 10, 5를 입력한 후 연산 결과를 포멧을 이용하여 출력하세요."
   ]
  },
  {
   "cell_type": "code",
   "execution_count": 38,
   "id": "4e36e3e1",
   "metadata": {},
   "outputs": [
    {
     "name": "stdout",
     "output_type": "stream",
     "text": [
      "15 20 25 "
     ]
    }
   ],
   "source": [
    "numbers = [5,15,6,20,7,25]\n",
    "for number in numbers:\n",
    "    if (number%5==0 and number >5):\n",
    "        print(number, end=' ')\n",
    "    else:\n",
    "        continue"
   ]
  },
  {
   "cell_type": "code",
   "execution_count": 46,
   "id": "01dce2e6",
   "metadata": {},
   "outputs": [
    {
     "name": "stdout",
     "output_type": "stream",
     "text": [
      "[1, 4, 9, 16, 25]\n"
     ]
    },
    {
     "data": {
      "text/plain": [
       "[1, 2]"
      ]
     },
     "execution_count": 46,
     "metadata": {},
     "output_type": "execute_result"
    }
   ],
   "source": [
    "# 함수를 선언합니다.\n",
    "def power(item):\n",
    "    return item * item\n",
    "def under_3(item):\n",
    "    return item < 3\n",
    "\n",
    "# 변수를 선언합니다.\n",
    "list_input_a = [1, 2, 3, 4, 5]\n",
    "\n",
    "a = [1,2,3,4,5]\n",
    "\n",
    "b = map(power,a)\n",
    "print(list(b))\n",
    "          \n",
    "list(filter(lambda a : a < 3, a))\n"
   ]
  },
  {
   "cell_type": "code",
   "execution_count": 49,
   "id": "11e756a9",
   "metadata": {},
   "outputs": [
    {
     "name": "stdout",
     "output_type": "stream",
     "text": [
      "정수 입력하세요: 3\n",
      "홀수\n"
     ]
    }
   ],
   "source": [
    "numbers = int(input('정수 입력하세요: '))\n",
    "if numbers%2==0:\n",
    "    print('짝수')\n",
    "else:\n",
    "    print('홀수')"
   ]
  },
  {
   "cell_type": "code",
   "execution_count": 50,
   "id": "fb750286",
   "metadata": {},
   "outputs": [
    {
     "name": "stdout",
     "output_type": "stream",
     "text": [
      "22\n",
      "15\n"
     ]
    }
   ],
   "source": [
    "x = lambda a,b: a**b -(a*b)\n",
    "print(x(2,5))\n",
    "print(x(5,2))"
   ]
  },
  {
   "cell_type": "code",
   "execution_count": 51,
   "id": "a3ba79f2",
   "metadata": {},
   "outputs": [
    {
     "data": {
      "text/plain": [
       "(2, 7)"
      ]
     },
     "execution_count": 51,
     "metadata": {},
     "output_type": "execute_result"
    }
   ],
   "source": [
    "def cal_ab(a,b):\n",
    "    return (a//b, a%b)\n",
    "cal_ab(97,45)"
   ]
  },
  {
   "cell_type": "code",
   "execution_count": 55,
   "id": "874c3057",
   "metadata": {},
   "outputs": [
    {
     "name": "stdout",
     "output_type": "stream",
     "text": [
      "첫 번째 숫자56\n",
      "두 번쟤 숫자33\n",
      "56\n"
     ]
    }
   ],
   "source": [
    "n1 = int(input('첫 번째 숫자'))\n",
    "n2 = int(input('두 번쟤 숫자'))\n",
    "if n1 > n2:\n",
    "     print(n1)\n",
    "else: \n",
    "     print(n2)\n",
    "         "
   ]
  },
  {
   "cell_type": "code",
   "execution_count": 58,
   "id": "bbc0e1e1",
   "metadata": {},
   "outputs": [
    {
     "name": "stdout",
     "output_type": "stream",
     "text": [
      "2500\n"
     ]
    }
   ],
   "source": [
    "n =1\n",
    "result = 0\n",
    "while n<=100:\n",
    "    a= n*(100-n)\n",
    "    if a>result:\n",
    "        result = a\n",
    "        n +=1\n",
    "    else:\n",
    "        n+=1\n",
    "        continue\n",
    "print(result)"
   ]
  },
  {
   "cell_type": "code",
   "execution_count": 59,
   "id": "b6cfba95",
   "metadata": {},
   "outputs": [
    {
     "name": "stdout",
     "output_type": "stream",
     "text": [
      "032\n"
     ]
    }
   ],
   "source": [
    "import re\n",
    "p = re.compile(r'(\\d+)-(\\d+)-(\\d+)')\n",
    "text = \"문의사항이 있으면 032-232-3245로 연락주시기 바랍니다.\"\n",
    "m = p.search(text)\n",
    "print(m.group(1))"
   ]
  },
  {
   "cell_type": "code",
   "execution_count": 62,
   "id": "ba35fe05",
   "metadata": {},
   "outputs": [
    {
     "name": "stdout",
     "output_type": "stream",
     "text": [
      "<re.Match object; span=(0, 10), match='abcdefghij'>\n",
      "abcdefghij\n",
      "e\n"
     ]
    }
   ],
   "source": [
    "import re\n",
    "p = re.compile('((ab(cd(e)f)ghij))+')\n",
    "m = p.search('abcdefghij OK?')\n",
    "\n",
    "print(m)\n",
    "print(m.group(0))\n",
    "print(m.group(4))"
   ]
  },
  {
   "cell_type": "code",
   "execution_count": 64,
   "id": "fe6ceaf1",
   "metadata": {},
   "outputs": [
    {
     "name": "stdout",
     "output_type": "stream",
     "text": [
      "[0, 1, 2, 3, 4, 5, 6, 7, 8, 'b', 'c']\n"
     ]
    }
   ],
   "source": [
    "a = [0, 1, 2, 3, 4, 5, 6, 7, 8, 9, 'a', 'b', 'c']\n",
    "del a[9]\n",
    "del a[9]\n",
    "print(a)"
   ]
  },
  {
   "cell_type": "code",
   "execution_count": 67,
   "id": "f7f3f294",
   "metadata": {},
   "outputs": [
    {
     "name": "stdout",
     "output_type": "stream",
     "text": [
      "10535\n"
     ]
    }
   ],
   "source": [
    "i = 500\n",
    "sum = 0\n",
    "while i < 1000:\n",
    "    i+=1\n",
    "    if i%35==0:\n",
    "        sum+=i\n",
    "print(sum)"
   ]
  },
  {
   "cell_type": "code",
   "execution_count": null,
   "id": "628e1cc9",
   "metadata": {},
   "outputs": [],
   "source": [
    "numbers = [3,6,3,5,8,2,9,7,4,3,6,3,5,8,2,9,7,4]\n",
    "dic_num={}\n",
    "for i in set(numbers):\n",
    "    dic_num[i] = numbers.count(i)\n",
    "print(dic_num)"
   ]
  },
  {
   "cell_type": "code",
   "execution_count": 68,
   "id": "d0e6331a",
   "metadata": {},
   "outputs": [
    {
     "name": "stdout",
     "output_type": "stream",
     "text": [
      "{2: 2, 3: 4, 4: 2, 5: 2, 6: 2, 7: 2, 8: 2, 9: 2}\n"
     ]
    }
   ],
   "source": [
    "numbers = [3,6,3,5,8,2,9,7,4,3,6,3,5,8,2,9,7,4]\n",
    "dic_num={}\n",
    "for i in set(numbers):\n",
    "    dic_num[i] = numbers.count(i)\n",
    "print(dic_num)"
   ]
  },
  {
   "cell_type": "code",
   "execution_count": 71,
   "id": "61ab0ee4",
   "metadata": {},
   "outputs": [
    {
     "name": "stdout",
     "output_type": "stream",
     "text": [
      "15 20 25 "
     ]
    }
   ],
   "source": [
    "numbers = [5, 15, 6, 20, 7, 25]\n",
    "for number in numbers:\n",
    "    if(number%5==0 and number>10):\n",
    "        print(number, end=' ')\n",
    "    else:\n",
    "        continue"
   ]
  },
  {
   "cell_type": "code",
   "execution_count": 73,
   "id": "67a2297d",
   "metadata": {},
   "outputs": [
    {
     "name": "stdout",
     "output_type": "stream",
     "text": [
      "15 20 25 "
     ]
    }
   ],
   "source": [
    "numbers = [5, 15, 6, 20, 7, 25]\n",
    "for number in numbers:\n",
    "    if(number%5==0 and number>10):\n",
    "        print(number, end=' ')\n",
    "    else:\n",
    "        continue"
   ]
  },
  {
   "cell_type": "code",
   "execution_count": 76,
   "id": "1541e4d4",
   "metadata": {},
   "outputs": [
    {
     "name": "stdout",
     "output_type": "stream",
     "text": [
      "[1, 4, 9, 16, 25]\n"
     ]
    },
    {
     "data": {
      "text/plain": [
       "[1, 2]"
      ]
     },
     "execution_count": 76,
     "metadata": {},
     "output_type": "execute_result"
    }
   ],
   "source": [
    "# 함수를 선언합니다.\n",
    "def power(item):\n",
    "    return item * item\n",
    "def under_3(item):\n",
    "    return item < 3\n",
    "# 변수를 선언합니다.\n",
    "list_input_a = [1, 2, 3, 4, 5]\n",
    "\n",
    "a = [1,2,3,4,5]\n",
    "\n",
    "b = map(power,a)\n",
    "print(list(b))\n",
    "\n",
    "list(filter(lambda a: a < 3, a))\n"
   ]
  },
  {
   "cell_type": "code",
   "execution_count": 78,
   "id": "5a3d3c19",
   "metadata": {},
   "outputs": [
    {
     "name": "stdout",
     "output_type": "stream",
     "text": [
      "[1, 4, 9, 16, 25]\n"
     ]
    },
    {
     "data": {
      "text/plain": [
       "[1, 2]"
      ]
     },
     "execution_count": 78,
     "metadata": {},
     "output_type": "execute_result"
    }
   ],
   "source": [
    "# 함수를 선언합니다.\n",
    "def power(item):\n",
    "    return item * item\n",
    "def under_3(item):\n",
    "    return item < 3\n",
    "\n",
    "# 변수를 선언합니다.\n",
    "list_input_a = [1, 2, 3, 4, 5]\n",
    "\n",
    "a =  [ 1,2,3,4,5]\n",
    "\n",
    "b = map(power,a)\n",
    "print(list(b))\n",
    "\n",
    "list(filter(lambda a: a < 3, a))"
   ]
  },
  {
   "cell_type": "code",
   "execution_count": 80,
   "id": "1bcac9a3",
   "metadata": {},
   "outputs": [
    {
     "name": "stdout",
     "output_type": "stream",
     "text": [
      "정수를 입력하세요5\n",
      "홀수\n"
     ]
    }
   ],
   "source": [
    "numbers = int(input('정수를 입력하세요'))\n",
    "if numbers %2==0:\n",
    "    print('짝수')\n",
    "else:\n",
    "    print('홀수')"
   ]
  },
  {
   "cell_type": "code",
   "execution_count": 81,
   "id": "8cacfac7",
   "metadata": {},
   "outputs": [
    {
     "name": "stdout",
     "output_type": "stream",
     "text": [
      "22\n",
      "15\n"
     ]
    }
   ],
   "source": [
    "x = lambda a,b: a**b-(a*b)\n",
    "print(x(2,5))\n",
    "print(x(5,2))"
   ]
  },
  {
   "cell_type": "code",
   "execution_count": 83,
   "id": "8ef04a36",
   "metadata": {},
   "outputs": [
    {
     "data": {
      "text/plain": [
       "(2, 17)"
      ]
     },
     "execution_count": 83,
     "metadata": {},
     "output_type": "execute_result"
    }
   ],
   "source": [
    "divmod(97,40)"
   ]
  },
  {
   "cell_type": "code",
   "execution_count": 85,
   "id": "e32432de",
   "metadata": {},
   "outputs": [
    {
     "name": "stdout",
     "output_type": "stream",
     "text": [
      "첫 번째 숫자45\n",
      "두 번째 숫자65\n",
      "65\n"
     ]
    }
   ],
   "source": [
    "a = int(input('첫 번째 숫자'))\n",
    "b = int(input('두 번째 숫자'))\n",
    "\n",
    "if a > b:\n",
    "    print(a)\n",
    "else:\n",
    "    print(b)"
   ]
  },
  {
   "cell_type": "code",
   "execution_count": 86,
   "id": "838a07bb",
   "metadata": {},
   "outputs": [
    {
     "name": "stdout",
     "output_type": "stream",
     "text": [
      "2500\n"
     ]
    }
   ],
   "source": [
    "n =1\n",
    "result = 0\n",
    "while n<=100:\n",
    "    a = n*(100-n)\n",
    "    if a>result:\n",
    "        result = a\n",
    "        n+=1\n",
    "    else:\n",
    "        n+=1\n",
    "        continue\n",
    "print(result)"
   ]
  },
  {
   "cell_type": "code",
   "execution_count": 87,
   "id": "7bb0ed64",
   "metadata": {},
   "outputs": [
    {
     "name": "stdout",
     "output_type": "stream",
     "text": [
      "2500\n"
     ]
    }
   ],
   "source": [
    "n = 1\n",
    "result = 0\n",
    "while n<=100:\n",
    "    a = n*(100-n)\n",
    "    if a>result:\n",
    "        result = a\n",
    "        n+=1\n",
    "    else:\n",
    "        n+=1\n",
    "        continue\n",
    "print(result)"
   ]
  },
  {
   "cell_type": "code",
   "execution_count": 90,
   "id": "d0fc8bda",
   "metadata": {},
   "outputs": [
    {
     "name": "stdout",
     "output_type": "stream",
     "text": [
      "2500\n"
     ]
    }
   ],
   "source": [
    "n = 1\n",
    "result = 0\n",
    "while n<=100:\n",
    "    a = n*(100-n)\n",
    "    if a>result:\n",
    "        result = a\n",
    "        n+=1\n",
    "    else:\n",
    "        n+=1\n",
    "        continue\n",
    "print(result)"
   ]
  },
  {
   "cell_type": "code",
   "execution_count": 91,
   "id": "e5679e47",
   "metadata": {},
   "outputs": [
    {
     "name": "stdout",
     "output_type": "stream",
     "text": [
      "032\n"
     ]
    }
   ],
   "source": [
    "import re\n",
    "p = re.compile(r'(\\d+)-(\\d+)-(\\d+)')\n",
    "text = \"문의사항이 있으면 032-232-3245 으로 연락주시기 바랍니다.\"\n",
    "m = p.search(text)\n",
    "print(m.group(1))"
   ]
  },
  {
   "cell_type": "code",
   "execution_count": null,
   "id": "3fbb96ce",
   "metadata": {},
   "outputs": [],
   "source": [
    "import re\n",
    "p = re.compile('((ab)(cd(e)f)(ghij))+')\n",
    "m = p.search('abcdefghij OK?')\n",
    "\n",
    "print(m)\n",
    "print(m.group(0))\n",
    "print(m.group(4))"
   ]
  },
  {
   "cell_type": "code",
   "execution_count": 92,
   "id": "f37f1bfd",
   "metadata": {},
   "outputs": [
    {
     "name": "stdout",
     "output_type": "stream",
     "text": [
      "[0, 1, 2, 3, 4, 5, 6, 7, 8, 'b', 'c']\n"
     ]
    }
   ],
   "source": [
    "a = [0,1,2,3,4,5,6,7,8,9,'a','b','c']\n",
    "del a[9]\n",
    "del a[9]\n",
    "print(a)"
   ]
  },
  {
   "cell_type": "code",
   "execution_count": 93,
   "id": "128bd968",
   "metadata": {},
   "outputs": [
    {
     "name": "stdout",
     "output_type": "stream",
     "text": [
      "10535\n"
     ]
    }
   ],
   "source": [
    "i = 500\n",
    "sum = 0\n",
    "while i<1000:\n",
    "    i+=1\n",
    "    if i%35==0:\n",
    "        sum+=i\n",
    "print(sum)"
   ]
  },
  {
   "cell_type": "code",
   "execution_count": null,
   "id": "dab159c6",
   "metadata": {},
   "outputs": [],
   "source": [
    "numbers = [3,6,3,5,8,2,9,7,4,3,6,3,5,8,2,9,7,4]\n",
    "dic_num={}\n",
    "for i in set(numbers):\n",
    "    dic_num[i] = numbers.count(i)\n",
    "print(dic_num)"
   ]
  },
  {
   "cell_type": "code",
   "execution_count": 94,
   "id": "b0821a70",
   "metadata": {},
   "outputs": [
    {
     "name": "stdout",
     "output_type": "stream",
     "text": [
      "{2: 2, 3: 4, 4: 2, 5: 2, 6: 2, 7: 2, 8: 2, 9: 2}\n"
     ]
    }
   ],
   "source": [
    "numbers = [3,6,3,5,8,2,9,7,4,3,6,3,5,8,2,9,7,4]\n",
    "dic_num={}\n",
    "for i in set(numbers):\n",
    "    dic_num[i] = numbers.count(i)\n",
    "print(dic_num)"
   ]
  },
  {
   "cell_type": "code",
   "execution_count": 95,
   "id": "7da9135d",
   "metadata": {},
   "outputs": [
    {
     "name": "stdout",
     "output_type": "stream",
     "text": [
      "15 20 25 "
     ]
    }
   ],
   "source": [
    "numbers = [5, 15, 6, 20, 7, 25]\n",
    "for number in numbers:\n",
    "    if(number%5==0 and number >10):\n",
    "        print(number, end=' ')\n",
    "    else:\n",
    "        continue"
   ]
  },
  {
   "cell_type": "code",
   "execution_count": 98,
   "id": "277ce990",
   "metadata": {},
   "outputs": [
    {
     "name": "stdout",
     "output_type": "stream",
     "text": [
      "[1, 4, 9, 16, 25]\n"
     ]
    },
    {
     "data": {
      "text/plain": [
       "[1, 2]"
      ]
     },
     "execution_count": 98,
     "metadata": {},
     "output_type": "execute_result"
    }
   ],
   "source": [
    "# 함수를 선언합니다.\n",
    "def power(item):\n",
    "    return item * item\n",
    "def under_3(item):\n",
    "    return item < 3\n",
    "\n",
    "# 변수를 선언합니다.\n",
    "list_input_a = [1, 2, 3, 4, 5]\n",
    "\n",
    "a = [1,2,3,4,5]\n",
    "b = map(power,a)\n",
    "print(list(b))\n",
    "\n",
    "list(filter(lambda a: a<3, a))"
   ]
  },
  {
   "cell_type": "code",
   "execution_count": 104,
   "id": "a4ac48aa",
   "metadata": {},
   "outputs": [
    {
     "name": "stdout",
     "output_type": "stream",
     "text": [
      "정수를 입력하세요:5\n",
      "홀수\n"
     ]
    }
   ],
   "source": [
    "numbers = int(input('정수를 입력하세요:'))\n",
    "if numbers %2==0:\n",
    "    print('짝수')\n",
    "else:\n",
    "    print('홀수')"
   ]
  },
  {
   "cell_type": "code",
   "execution_count": 105,
   "id": "23884d0a",
   "metadata": {},
   "outputs": [
    {
     "name": "stdout",
     "output_type": "stream",
     "text": [
      "22\n",
      "15\n"
     ]
    }
   ],
   "source": [
    "x = lambda a,b: a**b -(a*b)\n",
    "print(x(2,5))\n",
    "print(x(5,2))"
   ]
  },
  {
   "cell_type": "code",
   "execution_count": 106,
   "id": "8292ac35",
   "metadata": {},
   "outputs": [
    {
     "data": {
      "text/plain": [
       "(2, 17)"
      ]
     },
     "execution_count": 106,
     "metadata": {},
     "output_type": "execute_result"
    }
   ],
   "source": [
    "divmod(97,40)"
   ]
  },
  {
   "cell_type": "code",
   "execution_count": 108,
   "id": "57768d93",
   "metadata": {},
   "outputs": [
    {
     "name": "stdout",
     "output_type": "stream",
     "text": [
      "첫 번째 숫자12\n",
      "두번쨰 숫자2\n",
      "12\n"
     ]
    }
   ],
   "source": [
    "n1 = int(input('첫 번째 숫자'))\n",
    "n2 = int(input('두번쨰 숫자'))\n",
    "if n1>n2:\n",
    "    print(n1)\n",
    "else:\n",
    "    print(n2)"
   ]
  },
  {
   "cell_type": "code",
   "execution_count": 5,
   "id": "378ae4dc",
   "metadata": {},
   "outputs": [
    {
     "name": "stdout",
     "output_type": "stream",
     "text": [
      "2500\n"
     ]
    }
   ],
   "source": [
    "n = 1\n",
    "result = 0\n",
    "while n<=100:\n",
    "    a = n*(100-n)\n",
    "    if a> result:\n",
    "        result = a\n",
    "        n+=1\n",
    "    else:\n",
    "        n+=1\n",
    "        continue\n",
    "print(result)"
   ]
  },
  {
   "cell_type": "code",
   "execution_count": 109,
   "id": "c7481f07",
   "metadata": {},
   "outputs": [
    {
     "name": "stdout",
     "output_type": "stream",
     "text": [
      "032\n"
     ]
    }
   ],
   "source": [
    "import re\n",
    "p = re.compile(r'(\\d+)-(\\d+)-(\\d+)')\n",
    "text = \"문의사항이 있으면 032-232-3245 으로 연락주시기 바랍니다.\"\n",
    "m = p.search(text)\n",
    "print(m.group(1))"
   ]
  },
  {
   "cell_type": "code",
   "execution_count": 110,
   "id": "53d91736",
   "metadata": {},
   "outputs": [
    {
     "name": "stdout",
     "output_type": "stream",
     "text": [
      "<re.Match object; span=(0, 10), match='abcdefghij'>\n",
      "abcdefghij\n",
      "e\n"
     ]
    }
   ],
   "source": [
    "import re\n",
    "p = re.compile('((ab)(cd(e)f)(ghij))+')\n",
    "m = p.search('abcdefghij OK?')\n",
    "\n",
    "print(m)\n",
    "print(m.group(0))\n",
    "print(m.group(4))"
   ]
  },
  {
   "cell_type": "code",
   "execution_count": 112,
   "id": "67b42954",
   "metadata": {},
   "outputs": [
    {
     "name": "stdout",
     "output_type": "stream",
     "text": [
      "[0, 1, 2, 3, 4, 5, 6, 7, 8, 'b', 'c']\n"
     ]
    }
   ],
   "source": [
    "a = [0, 1, 2, 3, 4, 5, 6, 7, 8, 9, 'a', 'b', 'c']\n",
    "del a[9]\n",
    "del a[9]\n",
    "print(a)"
   ]
  },
  {
   "cell_type": "code",
   "execution_count": 116,
   "id": "756e6338",
   "metadata": {},
   "outputs": [
    {
     "name": "stdout",
     "output_type": "stream",
     "text": [
      "10535\n"
     ]
    }
   ],
   "source": [
    "i=500\n",
    "sum = 0\n",
    "while i <1000:\n",
    "    i+=1\n",
    "    if i%35==0:\n",
    "        sum+=i\n",
    "print(sum)"
   ]
  },
  {
   "cell_type": "code",
   "execution_count": null,
   "id": "452a6365",
   "metadata": {},
   "outputs": [],
   "source": [
    "(number-1)%3"
   ]
  },
  {
   "cell_type": "code",
   "execution_count": 2,
   "id": "680d54ab",
   "metadata": {},
   "outputs": [
    {
     "name": "stdout",
     "output_type": "stream",
     "text": [
      "첫번쨰 정수: 4\n",
      "두번째 정수: 5\n",
      "4 + 5 = 9\n",
      "4 - 5 = -1\n",
      "4 / 5 = 0.8\n",
      "4 * 5 = 20\n"
     ]
    }
   ],
   "source": [
    "class Cal():\n",
    "    def __init__(self,x,y):\n",
    "        self.x = x\n",
    "        self.y = y\n",
    "    def Sum(self):\n",
    "        print(f'{self.x} + {self.y} = {self.x + self.y}')\n",
    "    def Mul(self):\n",
    "        print(f'{self.x} - {self.y} = {self.x - self.y}')\n",
    "    def Div(self):\n",
    "        print(f'{self.x} / {self.y} = {self.x / self.y}')\n",
    "    def Sub(self):\n",
    "        print(f'{self.x} * {self.y} = {self.x * self.y}')\n",
    "        \n",
    "    def All(cal):\n",
    "        self.Sum()\n",
    "        self.Mul()\n",
    "        self.Div()\n",
    "        self.Sub()\n",
    "while 1:\n",
    "    x=int(input('첫번쨰 정수: '))\n",
    "    y=int(input('두번째 정수: '))\n",
    "    if x ==0 or y ==0:\n",
    "        print('0이 아닌숫자')\n",
    "    else:\n",
    "        self = Cal(x,y)\n",
    "        self.All()\n",
    "        break\n",
    "    "
   ]
  },
  {
   "cell_type": "code",
   "execution_count": null,
   "id": "87fe2ba9",
   "metadata": {},
   "outputs": [],
   "source": [
    "numbers = [3,6,3,5,8,2,9,7,4,3,6,3,5,8,2,9,7,4]"
   ]
  },
  {
   "cell_type": "code",
   "execution_count": 8,
   "id": "71261ce1",
   "metadata": {},
   "outputs": [
    {
     "name": "stdout",
     "output_type": "stream",
     "text": [
      "{2: 2, 3: 4, 4: 2, 5: 2, 6: 2, 7: 2, 8: 2, 9: 2}\n"
     ]
    }
   ],
   "source": [
    "numbers = [3,6,3,5,8,2,9,7,4,3,6,3,5,8,2,9,7,4]\n",
    "dic_num ={}\n",
    "for i in set(numbers):\n",
    "    dic_num[i] = numbers.count(i)\n",
    "print(dic_num)"
   ]
  },
  {
   "cell_type": "code",
   "execution_count": 9,
   "id": "69057f57",
   "metadata": {},
   "outputs": [
    {
     "name": "stdout",
     "output_type": "stream",
     "text": [
      "{2: 2, 3: 4, 4: 2, 5: 2, 6: 2, 7: 2, 8: 2, 9: 2}\n"
     ]
    }
   ],
   "source": [
    "numbers = [3,6,3,5,8,2,9,7,4,3,6,3,5,8,2,9,7,4]\n",
    "dic_num = {}\n",
    "for i in set(numbers):\n",
    "    dic_num[i] = numbers.count(i)\n",
    "print(dic_num)"
   ]
  },
  {
   "cell_type": "code",
   "execution_count": 10,
   "id": "8f7e79c7",
   "metadata": {},
   "outputs": [
    {
     "name": "stdout",
     "output_type": "stream",
     "text": [
      "2500\n"
     ]
    }
   ],
   "source": [
    "n = 1\n",
    "result = 0\n",
    "while n<= 100:\n",
    "    a = n*(100-n)\n",
    "    if a >result:\n",
    "        result = a\n",
    "        n+=1\n",
    "    else:\n",
    "        n+=1\n",
    "        continue\n",
    "print(result)"
   ]
  },
  {
   "cell_type": "code",
   "execution_count": 11,
   "id": "4efb9119",
   "metadata": {},
   "outputs": [
    {
     "name": "stdout",
     "output_type": "stream",
     "text": [
      "{2: 2, 3: 4, 4: 2, 5: 2, 6: 2, 7: 2, 8: 2, 9: 2}\n"
     ]
    }
   ],
   "source": [
    "numbers = [3,6,3,5,8,2,9,7,4,3,6,3,5,8,2,9,7,4]\n",
    "dic_num = {}\n",
    "for i in set(numbers):\n",
    "    dic_num[i] = numbers.count(i)\n",
    "print(dic_num)"
   ]
  },
  {
   "cell_type": "code",
   "execution_count": 12,
   "id": "45cf31d6",
   "metadata": {},
   "outputs": [
    {
     "name": "stdout",
     "output_type": "stream",
     "text": [
      "15 20 25 "
     ]
    }
   ],
   "source": [
    "numbers = [5, 15, 6, 20, 7, 25]\n",
    "for number in numbers:\n",
    "    if (number%5==0 and number>5):\n",
    "        print(number, end=' ')\n",
    "    else:\n",
    "        continue"
   ]
  },
  {
   "cell_type": "code",
   "execution_count": 13,
   "id": "2485ed0d",
   "metadata": {},
   "outputs": [
    {
     "name": "stdout",
     "output_type": "stream",
     "text": [
      "[1, 4, 9, 16, 25]\n"
     ]
    },
    {
     "data": {
      "text/plain": [
       "[1, 2]"
      ]
     },
     "execution_count": 13,
     "metadata": {},
     "output_type": "execute_result"
    }
   ],
   "source": [
    "# 함수를 선언합니다.\n",
    "def power(item):\n",
    "    return item * item\n",
    "def under_3(item):\n",
    "    return item < 3\n",
    "\n",
    "# 변수를 선언합니다.\n",
    "list_input_a = [1, 2, 3, 4, 5]\n",
    "a = [1,2,3,4,5]\n",
    "b = map(power,a)\n",
    "print(list(b))\n",
    "\n",
    "list(filter(lambda a: a<3, a))"
   ]
  },
  {
   "cell_type": "code",
   "execution_count": 15,
   "id": "c1fd5e2c",
   "metadata": {},
   "outputs": [
    {
     "name": "stdout",
     "output_type": "stream",
     "text": [
      "정수를 입력하세요:2\n",
      "짝수\n"
     ]
    }
   ],
   "source": [
    "numbers = int(input('정수를 입력하세요:'))\n",
    "if numbers%2==0:\n",
    "    print('짝수')\n",
    "else:\n",
    "    print('홀수')"
   ]
  },
  {
   "cell_type": "code",
   "execution_count": 16,
   "id": "c9cd7866",
   "metadata": {},
   "outputs": [
    {
     "name": "stdout",
     "output_type": "stream",
     "text": [
      "22\n",
      "15\n"
     ]
    }
   ],
   "source": [
    "x = lambda a,b: a**b-(a*b)\n",
    "print(x(2,5))\n",
    "print(x(5,2))"
   ]
  },
  {
   "cell_type": "code",
   "execution_count": 17,
   "id": "fc2b428f",
   "metadata": {},
   "outputs": [
    {
     "data": {
      "text/plain": [
       "(2, 17)"
      ]
     },
     "execution_count": 17,
     "metadata": {},
     "output_type": "execute_result"
    }
   ],
   "source": [
    "divmod(97,40)"
   ]
  },
  {
   "cell_type": "code",
   "execution_count": 19,
   "id": "1fb28104",
   "metadata": {},
   "outputs": [
    {
     "name": "stdout",
     "output_type": "stream",
     "text": [
      "첫 번째 숫자: 3\n",
      "두 번째 숫자: 2\n",
      "3\n"
     ]
    }
   ],
   "source": [
    "n1= int(input('첫 번째 숫자: '))\n",
    "n2 = int(input('두 번째 숫자: '))\n",
    "\n",
    "if n1>n2:\n",
    "    print(n1)\n",
    "else:\n",
    "    print(n2)"
   ]
  },
  {
   "cell_type": "code",
   "execution_count": 21,
   "id": "63241a48",
   "metadata": {},
   "outputs": [
    {
     "name": "stdout",
     "output_type": "stream",
     "text": [
      "2500\n"
     ]
    }
   ],
   "source": [
    "n = 1\n",
    "result = 0\n",
    "while n<=100:\n",
    "    a = n*(100-n)\n",
    "    if a>result:\n",
    "        result = a\n",
    "        n+=1\n",
    "    else:\n",
    "        n+=1\n",
    "        continue\n",
    "print(result)"
   ]
  },
  {
   "cell_type": "code",
   "execution_count": 23,
   "id": "4b3996e6",
   "metadata": {},
   "outputs": [
    {
     "name": "stdout",
     "output_type": "stream",
     "text": [
      "032\n"
     ]
    }
   ],
   "source": [
    "import re\n",
    "p = re.compile(r'(\\d+)-(\\d+)-(\\d+)')\n",
    "text = \"문의사항이 있으면 032-232-3245 으로 연락주시기 바랍니다.\"\n",
    "m = p.search(text)\n",
    "print(m.group(1))"
   ]
  },
  {
   "cell_type": "code",
   "execution_count": null,
   "id": "9f7428e4",
   "metadata": {},
   "outputs": [],
   "source": [
    "import re\n",
    "p = re.compile('((ab)(cd(e)f)(ghij))+')\n",
    "m = p.search('abcdefghij OK?')\n",
    "\n",
    "print(m)\n",
    "print(m.group(0))\n",
    "print(m.group(4))"
   ]
  },
  {
   "cell_type": "code",
   "execution_count": 25,
   "id": "4fea24c8",
   "metadata": {},
   "outputs": [
    {
     "name": "stdout",
     "output_type": "stream",
     "text": [
      "[0, 1, 2, 3, 4, 5, 6, 7, 8, 'b', 'c']\n"
     ]
    }
   ],
   "source": [
    "a =  [0, 1, 2, 3, 4, 5, 6, 7, 8, 9, 'a', 'b', 'c']\n",
    "del a[9]\n",
    "del a[9]\n",
    "print(a)"
   ]
  },
  {
   "cell_type": "code",
   "execution_count": 26,
   "id": "fea6c6eb",
   "metadata": {},
   "outputs": [
    {
     "name": "stdout",
     "output_type": "stream",
     "text": [
      "10535\n"
     ]
    }
   ],
   "source": [
    "i = 500\n",
    "sum = 0\n",
    "while i<1000:\n",
    "    i+=1\n",
    "    if i %35==0:\n",
    "        sum+=i\n",
    "print(sum)\n",
    "    "
   ]
  },
  {
   "cell_type": "code",
   "execution_count": null,
   "id": "71cb3aa0",
   "metadata": {},
   "outputs": [],
   "source": [
    "#### 15. [    ]을 채워서 아래와 같이 출력하세요."
   ]
  },
  {
   "cell_type": "code",
   "execution_count": 27,
   "id": "5106417b",
   "metadata": {},
   "outputs": [
    {
     "name": "stdout",
     "output_type": "stream",
     "text": [
      "[[1, 4, 7], [2, 5, 8], [3, 6, 9]]\n"
     ]
    }
   ],
   "source": [
    "numbers = [1,2,3,4,5,6,7,8,9]\n",
    "output = [[], [], []]\n",
    "\n",
    "for number in numbers:\n",
    "    output[ (number-1)%3    ].append(number)\n",
    "print(output)"
   ]
  },
  {
   "cell_type": "code",
   "execution_count": null,
   "id": "8c02c471",
   "metadata": {},
   "outputs": [],
   "source": [
    "####  16. numbers 내부에 들어 있는 숫자가 몇 번 등장하는지를 출력하는 코드를 작성하세요.\n",
    "numbers = [3,6,3,5,8,2,9,7,4,3,6,3,5,8,2,9,7,4]"
   ]
  },
  {
   "cell_type": "code",
   "execution_count": 28,
   "id": "c579b6fa",
   "metadata": {},
   "outputs": [
    {
     "name": "stdout",
     "output_type": "stream",
     "text": [
      "{2: 2, 3: 4, 4: 2, 5: 2, 6: 2, 7: 2, 8: 2, 9: 2}\n"
     ]
    }
   ],
   "source": [
    "numbers = [3,6,3,5,8,2,9,7,4,3,6,3,5,8,2,9,7,4]\n",
    "dic_num = {}\n",
    "for i in set(numbers):\n",
    "    dic_num[i] = numbers.count(i)\n",
    "print(dic_num)\n"
   ]
  },
  {
   "cell_type": "code",
   "execution_count": 29,
   "id": "09103fa6",
   "metadata": {},
   "outputs": [
    {
     "name": "stdout",
     "output_type": "stream",
     "text": [
      "15 20 25 "
     ]
    }
   ],
   "source": [
    "numbers = [5, 15, 6, 20, 7, 25]\n",
    "for number in numbers:\n",
    "    if(number%5==0 and number>10):\n",
    "        print(number,end=' ')\n",
    "    else:\n",
    "        continue"
   ]
  },
  {
   "cell_type": "code",
   "execution_count": 30,
   "id": "bb6f7d67",
   "metadata": {},
   "outputs": [
    {
     "name": "stdout",
     "output_type": "stream",
     "text": [
      "[1, 4, 9, 16, 25]\n"
     ]
    },
    {
     "data": {
      "text/plain": [
       "[1, 2]"
      ]
     },
     "execution_count": 30,
     "metadata": {},
     "output_type": "execute_result"
    }
   ],
   "source": [
    "# 함수를 선언합니다.\n",
    "def power(item):\n",
    "    return item * item\n",
    "def under_3(item):\n",
    "    return item < 3\n",
    "\n",
    "# 변수를 선언합니다.\n",
    "list_input_a = [1, 2, 3, 4, 5]\n",
    "\n",
    "a = [1,2,3,4,5]\n",
    "b = map(power,a)\n",
    "print(list(b))\n",
    "\n",
    "list(filter(lambda a: a< 3, a))"
   ]
  },
  {
   "cell_type": "code",
   "execution_count": 34,
   "id": "d618f8a6",
   "metadata": {},
   "outputs": [
    {
     "name": "stdout",
     "output_type": "stream",
     "text": [
      "정수 입력: 4\n",
      "짝수\n"
     ]
    }
   ],
   "source": [
    "numbers = int(input('정수 입력: '))\n",
    "if numbers %2==0:\n",
    "    print('짝수')\n",
    "else:\n",
    "    print('홀수')"
   ]
  },
  {
   "cell_type": "code",
   "execution_count": 37,
   "id": "f073514f",
   "metadata": {},
   "outputs": [
    {
     "name": "stdout",
     "output_type": "stream",
     "text": [
      "22\n",
      "15\n"
     ]
    }
   ],
   "source": [
    "x = lambda a,b: a**b - (a*b)\n",
    "print(x(2,5))\n",
    "print(x(5,2))"
   ]
  },
  {
   "cell_type": "code",
   "execution_count": 38,
   "id": "67bacbf3",
   "metadata": {},
   "outputs": [
    {
     "data": {
      "text/plain": [
       "(2, 17)"
      ]
     },
     "execution_count": 38,
     "metadata": {},
     "output_type": "execute_result"
    }
   ],
   "source": [
    "divmod(97,40)"
   ]
  },
  {
   "cell_type": "code",
   "execution_count": 39,
   "id": "a09a39d0",
   "metadata": {},
   "outputs": [
    {
     "name": "stdout",
     "output_type": "stream",
     "text": [
      "첫 번째 숫자 입력: 4\n",
      "두 번째 숫자 입력: 3\n",
      "4\n"
     ]
    }
   ],
   "source": [
    "n1 = int(input('첫 번째 숫자 입력: '))\n",
    "n2 = int(input('두 번째 숫자 입력: '))\n",
    "if n1>n2:\n",
    "    print(n1)\n",
    "else:\n",
    "    print(n2)"
   ]
  },
  {
   "cell_type": "code",
   "execution_count": 40,
   "id": "c8f8b8cd",
   "metadata": {},
   "outputs": [
    {
     "name": "stdout",
     "output_type": "stream",
     "text": [
      "2500\n"
     ]
    }
   ],
   "source": [
    "n = 1\n",
    "result = 0\n",
    "while n<=100:\n",
    "    a = n*(100-n)\n",
    "    if a>result:\n",
    "        result = a\n",
    "        n+=1\n",
    "    else:\n",
    "        n+=1\n",
    "        continue\n",
    "print(result)"
   ]
  },
  {
   "cell_type": "code",
   "execution_count": 41,
   "id": "299091fb",
   "metadata": {},
   "outputs": [
    {
     "name": "stdout",
     "output_type": "stream",
     "text": [
      "032\n"
     ]
    }
   ],
   "source": [
    "import re\n",
    "p = re.compile(r'(\\d+)-(\\d+)-(\\d+)')\n",
    "text = \"문의사항이 있으면 032-232-3245 으로 연락주시기 바랍니다.\"\n",
    "m = p.search(text)\n",
    "print(m.group(1))"
   ]
  },
  {
   "cell_type": "code",
   "execution_count": 42,
   "id": "0d05bfc8",
   "metadata": {},
   "outputs": [
    {
     "name": "stdout",
     "output_type": "stream",
     "text": [
      "[0, 1, 2, 3, 4, 5, 6, 7, 8, 'b', 'c']\n"
     ]
    }
   ],
   "source": [
    "a = [0, 1, 2, 3, 4, 5, 6, 7, 8, 9, 'a', 'b', 'c']\n",
    "del a[9]\n",
    "del a[9]\n",
    "print(a)"
   ]
  },
  {
   "cell_type": "code",
   "execution_count": null,
   "id": "16ae5c98",
   "metadata": {},
   "outputs": [],
   "source": [
    "(number-1)%3"
   ]
  },
  {
   "cell_type": "code",
   "execution_count": 43,
   "id": "835d94b3",
   "metadata": {},
   "outputs": [
    {
     "name": "stdout",
     "output_type": "stream",
     "text": [
      "10535\n"
     ]
    }
   ],
   "source": [
    "i = 500\n",
    "sum = 0\n",
    "while i<1000:\n",
    "    i+=1\n",
    "    if i%35==0:\n",
    "        sum+=i\n",
    "print(sum)"
   ]
  },
  {
   "cell_type": "code",
   "execution_count": 45,
   "id": "88954a90",
   "metadata": {},
   "outputs": [
    {
     "name": "stdout",
     "output_type": "stream",
     "text": [
      "{2: 2, 3: 4, 4: 2, 5: 2, 6: 2, 7: 2, 8: 2, 9: 2}\n"
     ]
    }
   ],
   "source": [
    "numbers = [3,6,3,5,8,2,9,7,4,3,6,3,5,8,2,9,7,4]\n",
    "dic_num = {}\n",
    "for i in set(numbers):\n",
    "    dic_num[i] = numbers.count(i)\n",
    "print(dic_num)"
   ]
  },
  {
   "cell_type": "code",
   "execution_count": null,
   "id": "fa546c01",
   "metadata": {},
   "outputs": [],
   "source": []
  },
  {
   "cell_type": "code",
   "execution_count": null,
   "id": "63be688c",
   "metadata": {},
   "outputs": [],
   "source": []
  },
  {
   "cell_type": "code",
   "execution_count": null,
   "id": "407d253e",
   "metadata": {},
   "outputs": [],
   "source": []
  },
  {
   "cell_type": "code",
   "execution_count": null,
   "id": "9df477da",
   "metadata": {},
   "outputs": [],
   "source": []
  },
  {
   "cell_type": "code",
   "execution_count": null,
   "id": "c7c848c8",
   "metadata": {},
   "outputs": [],
   "source": []
  },
  {
   "cell_type": "code",
   "execution_count": null,
   "id": "b98201ff",
   "metadata": {},
   "outputs": [],
   "source": []
  },
  {
   "cell_type": "code",
   "execution_count": null,
   "id": "4cd3d2c7",
   "metadata": {},
   "outputs": [],
   "source": []
  },
  {
   "cell_type": "code",
   "execution_count": null,
   "id": "c84a4bd9",
   "metadata": {},
   "outputs": [],
   "source": []
  },
  {
   "cell_type": "code",
   "execution_count": null,
   "id": "a82bfd28",
   "metadata": {},
   "outputs": [],
   "source": []
  },
  {
   "cell_type": "code",
   "execution_count": null,
   "id": "fb992ad0",
   "metadata": {},
   "outputs": [],
   "source": []
  }
 ],
 "metadata": {
  "kernelspec": {
   "display_name": "Python 3 (ipykernel)",
   "language": "python",
   "name": "python3"
  },
  "language_info": {
   "codemirror_mode": {
    "name": "ipython",
    "version": 3
   },
   "file_extension": ".py",
   "mimetype": "text/x-python",
   "name": "python",
   "nbconvert_exporter": "python",
   "pygments_lexer": "ipython3",
   "version": "3.8.12"
  }
 },
 "nbformat": 4,
 "nbformat_minor": 5
}

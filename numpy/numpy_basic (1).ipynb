{
 "cells": [
  {
   "cell_type": "markdown",
   "id": "ce8ce65b",
   "metadata": {},
   "source": [
    "Numpy는 \"Numerical Python\"의 약자로 대규모 다차원 배열과 행렬 연산에 필요한 다양한 함수를 제공\n",
    "\n",
    "- Numerical Python을 의미하는 Numpy는 파이썬에서 선형대수 기반의 프로그램을 쉽게 만들수있도록 지원하는 대표적인 패키지\n",
    "- 많은 머신러닝 알고리즘이 넘파이 기반으로 작성되어 있으며 알고리즘의 입출력 데이터를 넘파이 배열 타입으로 사용함\n",
    "- 넘파이의 기본 데이터 타입은 ndarray.nd.array를 이용해 넘파이에서 다차원 배열을 쉽게 생성하고 다양한 연산 수행\n",
    "\n",
    "Numpy 특징\n",
    "- 강력한 N차원 배열 객체\n",
    "- 정교한 브로드케스팅 기능\n",
    "- 유용한 선형 대수학, 푸리에 변환 및 난수 기능\n",
    "- 푸리에 변환은 시간이나 공간에 대한 함수를 시간 또는 공간 주파수 성분으로분해하는 변환\n",
    "- 범용적 데이터 처리에 사용 가능한 다차원 컨테이너"
   ]
  },
  {
   "cell_type": "code",
   "execution_count": 1,
   "id": "282f9f7c",
   "metadata": {},
   "outputs": [
    {
     "name": "stdout",
     "output_type": "stream",
     "text": [
      "Collecting numpy\n",
      "  Downloading numpy-1.22.0-cp38-cp38-win_amd64.whl (14.7 MB)\n",
      "Installing collected packages: numpy\n",
      "Successfully installed numpy-1.22.0\n"
     ]
    }
   ],
   "source": [
    "!pip install numpy"
   ]
  },
  {
   "cell_type": "code",
   "execution_count": 3,
   "id": "9c00ae90",
   "metadata": {},
   "outputs": [
    {
     "name": "stdout",
     "output_type": "stream",
     "text": [
      "[0 1 2 3 4 5 6 7 8 9] <class 'numpy.ndarray'>\n"
     ]
    }
   ],
   "source": [
    "import numpy as np\n",
    "z = np.arange(10)\n",
    "print(z,type(z))"
   ]
  },
  {
   "cell_type": "code",
   "execution_count": 6,
   "id": "9eacc2dd",
   "metadata": {},
   "outputs": [],
   "source": [
    "my_arr = np.arange(1000000)\n",
    "my_list = list(range(1000000))"
   ]
  },
  {
   "cell_type": "code",
   "execution_count": 7,
   "id": "a870312a",
   "metadata": {},
   "outputs": [
    {
     "name": "stdout",
     "output_type": "stream",
     "text": [
      "Wall time: 12.9 ms\n"
     ]
    }
   ],
   "source": [
    "%time for _ in range(10): my_array2 = my_arr * 2"
   ]
  },
  {
   "cell_type": "code",
   "execution_count": 8,
   "id": "603aaed2",
   "metadata": {},
   "outputs": [
    {
     "name": "stdout",
     "output_type": "stream",
     "text": [
      "Wall time: 591 ms\n"
     ]
    }
   ],
   "source": [
    "%time for _ in range(10): my_list2 = [x*2 for x in my_list]"
   ]
  },
  {
   "cell_type": "code",
   "execution_count": 10,
   "id": "cc105913",
   "metadata": {},
   "outputs": [
    {
     "name": "stdout",
     "output_type": "stream",
     "text": [
      "[[-1.78247473  0.08727414 -0.03022014]\n",
      " [-1.13613818 -1.34393733 -0.85311017]] \n",
      "\n",
      "[[-17.82474733   0.87274143  -0.30220136]\n",
      " [-11.3613818  -13.43937333  -8.53110174]] \n",
      "\n",
      "[[-3.56494947  0.17454829 -0.06044027]\n",
      " [-2.27227636 -2.68787467 -1.70622035]]\n"
     ]
    }
   ],
   "source": [
    "# 배열 연산\n",
    "#np.random.randn 가우시안 표준 정규분표에서 난수 매트릭스 array생성\n",
    "data = np.random.randn(2,3)  # 표준 정규 분포로 구성되는 2행 3열 매트릭스\n",
    "print(data,'\\n')\n",
    "print(data * 10, '\\n')\n",
    "print(data + data)\n"
   ]
  },
  {
   "cell_type": "code",
   "execution_count": 11,
   "id": "258681ac",
   "metadata": {},
   "outputs": [
    {
     "name": "stdout",
     "output_type": "stream",
     "text": [
      "(2, 3)\n",
      "float64\n",
      "2\n"
     ]
    }
   ],
   "source": [
    "print(data.shape) # 크기\n",
    "print(data.dtype) #데이터 타입\n",
    "print(data.ndim) # 차원"
   ]
  },
  {
   "cell_type": "markdown",
   "id": "93ccfd4f",
   "metadata": {},
   "source": [
    "다차원 배열\n",
    "<img src = 'numpy차원.jpg' STYLE='width:300px;'>"
   ]
  },
  {
   "cell_type": "code",
   "execution_count": 15,
   "id": "f7ed8bfd",
   "metadata": {},
   "outputs": [
    {
     "name": "stdout",
     "output_type": "stream",
     "text": [
      "<class 'list'> \n",
      "\n",
      "[[1 2 3 4]\n",
      " [5 6 7 8]] <class 'numpy.ndarray'>\n"
     ]
    }
   ],
   "source": [
    "data2 = [[1,2,3,4],[5,6,7,8]]\n",
    "print(type(data2),'\\n')\n",
    "arr2 = np.array(data2)\n",
    "print(arr2, type(arr2))"
   ]
  },
  {
   "cell_type": "code",
   "execution_count": 16,
   "id": "4f96bf09",
   "metadata": {},
   "outputs": [
    {
     "name": "stdout",
     "output_type": "stream",
     "text": [
      "2 \n",
      "\n",
      "(2, 4)\n"
     ]
    }
   ],
   "source": [
    "print(arr2.ndim,'\\n')\n",
    "print(arr2.shape)"
   ]
  },
  {
   "cell_type": "code",
   "execution_count": 19,
   "id": "c3275e6c",
   "metadata": {},
   "outputs": [
    {
     "name": "stdout",
     "output_type": "stream",
     "text": [
      "[1 2 3] <class 'numpy.ndarray'> (3,)\n"
     ]
    }
   ],
   "source": [
    "# 1차원 배열로 3개의 데이터\n",
    "array1 = np.array([1,2,3])\n",
    "print(array1,type(array1),array1.shape) #(,열)이 아닌(열,)형태로 출력\n"
   ]
  },
  {
   "cell_type": "code",
   "execution_count": null,
   "id": "bb945f48",
   "metadata": {},
   "outputs": [],
   "source": [
    "# 2차원 배열로 2개의 row와 3개의 column으로 구성된 6개의 데이터"
   ]
  },
  {
   "cell_type": "code",
   "execution_count": 28,
   "id": "80cfc986",
   "metadata": {},
   "outputs": [
    {
     "name": "stdout",
     "output_type": "stream",
     "text": [
      "[[1 2 3]\n",
      " [2 3 4]] <class 'numpy.ndarray'> (2, 3)\n"
     ]
    }
   ],
   "source": [
    "array2 = np.array([[1,2,3],[2,3,4]])\n",
    "print(array2,type(array2),array2.shape)"
   ]
  },
  {
   "cell_type": "code",
   "execution_count": 23,
   "id": "40e74270",
   "metadata": {},
   "outputs": [
    {
     "name": "stdout",
     "output_type": "stream",
     "text": [
      "[1 2 3 4 5 6] <class 'numpy.ndarray'> 1 \n",
      "\n"
     ]
    }
   ],
   "source": [
    "array2 = np.array([1,2,3,4,5,6])\n",
    "print(array2,type(array2),array2.ndim,'\\n')"
   ]
  },
  {
   "cell_type": "code",
   "execution_count": null,
   "id": "d615f66f",
   "metadata": {},
   "outputs": [],
   "source": [
    "# 1개의 row와 3개의 colimn으로 구성된 2차원 배열"
   ]
  },
  {
   "cell_type": "code",
   "execution_count": 29,
   "id": "301163dd",
   "metadata": {},
   "outputs": [
    {
     "name": "stdout",
     "output_type": "stream",
     "text": [
      "[[1 2 3]] (1, 3)\n"
     ]
    }
   ],
   "source": [
    "array21 = np.array([[1,2,3]])     #2차원으로 할시 []추가된다.\n",
    "print(array21,array21.shape)"
   ]
  },
  {
   "cell_type": "code",
   "execution_count": 31,
   "id": "004a624f",
   "metadata": {},
   "outputs": [
    {
     "name": "stdout",
     "output_type": "stream",
     "text": [
      "[[[1 2 3]]] (1, 1, 3)\n"
     ]
    }
   ],
   "source": [
    "# 3차원 \n",
    "array3 = np.array([[[1,2,3,]]])\n",
    "print(array3,array3.shape)"
   ]
  },
  {
   "cell_type": "code",
   "execution_count": 33,
   "id": "a62092b5",
   "metadata": {},
   "outputs": [
    {
     "name": "stdout",
     "output_type": "stream",
     "text": [
      "[[[ 1  2  3  4  5]\n",
      "  [ 6  7  8  9 10]]\n",
      "\n",
      " [[ 1  2  3  4  5]\n",
      "  [ 6  7  8  9 10]]\n",
      "\n",
      " [[ 1  2  3  4  5]\n",
      "  [ 6  7  8  9 10]]] (3, 2, 5) \n",
      "\n",
      "<class 'numpy.ndarray'>\n"
     ]
    }
   ],
   "source": [
    "array4 = np.array([[[1,2,3,4,5],[6,7,8,9,10]],\n",
    "                  [[1,2,3,4,5],[6,7,8,9,10]],\n",
    "                  [[1,2,3,4,5],[6,7,8,9,10]]])\n",
    "print(array4,array4.shape,'\\n')\n",
    "print(type(array4))"
   ]
  },
  {
   "cell_type": "code",
   "execution_count": null,
   "id": "d6bbe1bd",
   "metadata": {},
   "outputs": [],
   "source": [
    "import warnings\n",
    "warnings.filterwarnings('ignore')"
   ]
  },
  {
   "cell_type": "code",
   "execution_count": null,
   "id": "0cf074e7",
   "metadata": {},
   "outputs": [],
   "source": [
    "# 경고 메시지 제외 처리\n",
    "import warnings\n",
    "warnings.filterwarning('igonore')"
   ]
  },
  {
   "cell_type": "markdown",
   "id": "6bc62fc1",
   "metadata": {},
   "source": [
    "배열 생성 및 초기화\n",
    "- Numpy는 원하는 shape로 배열을 설정하고 각 요소를 특정값으로 초기화하는 zeros,ones,full,eye 함수 제공\n",
    "- 피라미터로 입력한 배열과 같은 shape의 배열을 만드는 zeros_like, ones_like,full_like 함수도 제공\n"
   ]
  },
  {
   "cell_type": "code",
   "execution_count": 34,
   "id": "c28183a6",
   "metadata": {},
   "outputs": [
    {
     "name": "stdout",
     "output_type": "stream",
     "text": [
      "[0. 0. 0. 0. 0. 0. 0. 0. 0. 0.] \n",
      "\n",
      "[[0. 0. 0. 0. 0. 0.]\n",
      " [0. 0. 0. 0. 0. 0.]\n",
      " [0. 0. 0. 0. 0. 0.]] \n",
      "\n",
      "[[[0. 0.]\n",
      "  [0. 0.]\n",
      "  [0. 0.]]\n",
      "\n",
      " [[0. 0.]\n",
      "  [0. 0.]\n",
      "  [0. 0.]]]\n"
     ]
    }
   ],
   "source": [
    "print(np.zeros(10),'\\n')\n",
    "print(np.zeros((3,6)),'\\n')\n",
    "print(np.zeros((2,3,2)))"
   ]
  },
  {
   "cell_type": "code",
   "execution_count": 35,
   "id": "5c1863d4",
   "metadata": {},
   "outputs": [
    {
     "name": "stdout",
     "output_type": "stream",
     "text": [
      "[[[1. 1.]\n",
      "  [1. 1.]\n",
      "  [1. 1.]]\n",
      "\n",
      " [[1. 1.]\n",
      "  [1. 1.]\n",
      "  [1. 1.]]]\n"
     ]
    }
   ],
   "source": [
    "print(np.ones((2,3,2)))"
   ]
  },
  {
   "cell_type": "code",
   "execution_count": 36,
   "id": "a0072f04",
   "metadata": {},
   "outputs": [
    {
     "data": {
      "text/plain": [
       "array([[5, 5],\n",
       "       [5, 5]])"
      ]
     },
     "execution_count": 36,
     "metadata": {},
     "output_type": "execute_result"
    }
   ],
   "source": [
    "ar1 = np.full((2,2),5)\n",
    "ar1"
   ]
  },
  {
   "cell_type": "code",
   "execution_count": 37,
   "id": "a826f09e",
   "metadata": {},
   "outputs": [
    {
     "data": {
      "text/plain": [
       "array([[1., 0., 0.],\n",
       "       [0., 1., 0.],\n",
       "       [0., 0., 1.]])"
      ]
     },
     "execution_count": 37,
     "metadata": {},
     "output_type": "execute_result"
    }
   ],
   "source": [
    "# 항등행렬, 단위행렬 \n",
    "ar2 = np.eye(3)\n",
    "ar2"
   ]
  },
  {
   "cell_type": "code",
   "execution_count": null,
   "id": "b9a2fd7e",
   "metadata": {},
   "outputs": [],
   "source": [
    "# [과제] \n",
    " # zeros_like, ones_like,full_like 함수 사용 예"
   ]
  },
  {
   "cell_type": "code",
   "execution_count": 3,
   "id": "1780797e",
   "metadata": {},
   "outputs": [
    {
     "name": "stdout",
     "output_type": "stream",
     "text": [
      "[[1 2 3]\n",
      " [4 5 6]\n",
      " [7 8 9]]\n",
      "\n",
      "[[0. 0. 0.]\n",
      " [0. 0. 0.]\n",
      " [0. 0. 0.]] float64\n",
      "\n",
      "[[1. 1. 1.]\n",
      " [1. 1. 1.]\n",
      " [1. 1. 1.]] float64\n",
      "\n",
      "[[6. 6. 6.]\n",
      " [6. 6. 6.]\n",
      " [6. 6. 6.]] float32\n",
      "\n"
     ]
    }
   ],
   "source": [
    "import numpy as np\n",
    "a = np.array([[1,2,3],[4,5,6],[7,8,9]])\n",
    "print(a)\n",
    "print()\n",
    "\n",
    "ar1 = np.zeros_like(a)\n",
    "ar2 = ar1.astype(float)\n",
    "print(ar2, ar2.dtype)\n",
    "print()\n",
    "\n",
    "ar3 = np.ones_like(a)\n",
    "ar4 = ar3.astype(float)\n",
    "print(ar4, ar4.dtype)\n",
    "print()\n",
    "\n",
    "ar5 = np.full_like(a, 6)\n",
    "ar6 = ar5.astype('float32')\n",
    "print(ar6, ar6.dtype)\n",
    "print()\n"
   ]
  },
  {
   "cell_type": "code",
   "execution_count": 208,
   "id": "0d525e26",
   "metadata": {},
   "outputs": [
    {
     "name": "stdout",
     "output_type": "stream",
     "text": [
      "[[0 0]\n",
      " [0 0]]\n",
      "[1, 2, 3, 4, 5]\n",
      "[0 0 0 0 0]\n"
     ]
    }
   ],
   "source": [
    "import numpy as np\n",
    "\n",
    "a = np.zeros((2,2), dtype=int)\n",
    "b = [1, 2, 3, 4, 5]\n",
    "c = np.zeros_like(b, dtype=int)\n",
    "\n",
    "print(a)\n",
    "print(b)\n",
    "print(c)"
   ]
  },
  {
   "cell_type": "code",
   "execution_count": 209,
   "id": "67bb6c1a",
   "metadata": {},
   "outputs": [
    {
     "data": {
      "text/plain": [
       "array([[1, 1, 1],\n",
       "       [1, 1, 1]])"
      ]
     },
     "execution_count": 209,
     "metadata": {},
     "output_type": "execute_result"
    }
   ],
   "source": [
    "a = np.array([1,4,3,7,9])\n",
    "b = np.array([[1,6,7],[4,5,3]])\n",
    "\n",
    "np.zeros_like(a)\n",
    "\n",
    "np.ones_like(b)"
   ]
  },
  {
   "cell_type": "code",
   "execution_count": 210,
   "id": "e2345673",
   "metadata": {},
   "outputs": [
    {
     "name": "stdout",
     "output_type": "stream",
     "text": [
      "[0 1 2 3 4]\n",
      "[1 1 1 1 1]\n"
     ]
    }
   ],
   "source": [
    "import numpy as np\n",
    "\n",
    "a = np.arange(5, dtype=int)\n",
    "a_full_like = np.full_like(a, 1)\n",
    "print(a)\n",
    "print(a_full_like)"
   ]
  },
  {
   "cell_type": "code",
   "execution_count": 38,
   "id": "efbbc42d",
   "metadata": {},
   "outputs": [
    {
     "data": {
      "text/plain": [
       "array([ 0,  1,  2,  3,  4,  5,  6,  7,  8,  9, 10, 11, 12, 13, 14])"
      ]
     },
     "execution_count": 38,
     "metadata": {},
     "output_type": "execute_result"
    }
   ],
   "source": [
    "# arange 함수 : Python의 range함수의 배열 버전\n",
    "arr1 = np.arange(15)\n",
    "arr1"
   ]
  },
  {
   "cell_type": "code",
   "execution_count": 39,
   "id": "11f8809b",
   "metadata": {},
   "outputs": [
    {
     "data": {
      "text/plain": [
       "range(0, 15)"
      ]
     },
     "execution_count": 39,
     "metadata": {},
     "output_type": "execute_result"
    }
   ],
   "source": [
    "arr2 = range(15)\n",
    "arr2"
   ]
  },
  {
   "cell_type": "code",
   "execution_count": 44,
   "id": "5d66fece",
   "metadata": {},
   "outputs": [
    {
     "name": "stdout",
     "output_type": "stream",
     "text": [
      "[[ 0  1  2  3  4]\n",
      " [ 5  6  7  8  9]\n",
      " [10 11 12 13 14]] (3, 5) \n",
      "\n",
      "[[[ 0  1  2  3  4]\n",
      "  [ 5  6  7  8  9]\n",
      "  [10 11 12 13 14]]] (1, 3, 5)\n"
     ]
    }
   ],
   "source": [
    "arr2 = arr1.reshape(3,5)\n",
    "print(arr2,arr2.shape,'\\n')\n",
    "arr3 = arr1.reshape(1,3,5)\n",
    "print(arr3,arr3.shape)"
   ]
  },
  {
   "cell_type": "code",
   "execution_count": null,
   "id": "14ab38e8",
   "metadata": {},
   "outputs": [],
   "source": [
    "# array1에 reshape함수를 이용, (5,2) 배열을 생성하고 크기를 같이 출력하세요"
   ]
  },
  {
   "cell_type": "code",
   "execution_count": 49,
   "id": "07134fc8",
   "metadata": {},
   "outputs": [
    {
     "data": {
      "text/plain": [
       "array([[0, 1],\n",
       "       [2, 3],\n",
       "       [4, 5],\n",
       "       [6, 7],\n",
       "       [8, 9]])"
      ]
     },
     "execution_count": 49,
     "metadata": {},
     "output_type": "execute_result"
    }
   ],
   "source": [
    "array1= np.arange(10)\n",
    "array2 = array1.reshape(5,2)\n",
    "array2"
   ]
  },
  {
   "cell_type": "code",
   "execution_count": null,
   "id": "32378bbc",
   "metadata": {},
   "outputs": [],
   "source": [
    "#0~29 일차원 배열을 생성한 후 일차원 배열을 다시  2,3차원 배열을  생성하세요"
   ]
  },
  {
   "cell_type": "code",
   "execution_count": 52,
   "id": "2df396b5",
   "metadata": {},
   "outputs": [
    {
     "data": {
      "text/plain": [
       "array([ 0,  1,  2,  3,  4,  5,  6,  7,  8,  9, 10, 11, 12, 13, 14, 15, 16,\n",
       "       17, 18, 19, 20, 21, 22, 23, 24, 25, 26, 27, 28, 29])"
      ]
     },
     "execution_count": 52,
     "metadata": {},
     "output_type": "execute_result"
    }
   ],
   "source": [
    "array1= np.arange(30)\n",
    "array1"
   ]
  },
  {
   "cell_type": "code",
   "execution_count": 54,
   "id": "7f2809dc",
   "metadata": {},
   "outputs": [
    {
     "name": "stdout",
     "output_type": "stream",
     "text": [
      "[[ 0  1  2  3  4  5]\n",
      " [ 6  7  8  9 10 11]\n",
      " [12 13 14 15 16 17]\n",
      " [18 19 20 21 22 23]\n",
      " [24 25 26 27 28 29]] (5, 6) \n",
      "\n",
      "[[[ 0  1  2  3  4  5]\n",
      "  [ 6  7  8  9 10 11]\n",
      "  [12 13 14 15 16 17]\n",
      "  [18 19 20 21 22 23]\n",
      "  [24 25 26 27 28 29]]] (1, 5, 6)\n"
     ]
    }
   ],
   "source": [
    "array1 = np.arange(30)\n",
    "array2 = array1.reshape(5,6)\n",
    "print(array2,array2.shape,'\\n')\n",
    "array3 = array2.reshape(1,5,6)\n",
    "print(array3,array3.shape)\n"
   ]
  },
  {
   "cell_type": "code",
   "execution_count": 60,
   "id": "03702f0f",
   "metadata": {},
   "outputs": [
    {
     "name": "stdout",
     "output_type": "stream",
     "text": [
      "[[ 0  1  2  3  4  5  6  7  8  9]\n",
      " [10 11 12 13 14 15 16 17 18 19]\n",
      " [20 21 22 23 24 25 26 27 28 29]] (3, 10) \n",
      "\n",
      "[[[ 0  1  2  3  4]\n",
      "  [ 5  6  7  8  9]]\n",
      "\n",
      " [[10 11 12 13 14]\n",
      "  [15 16 17 18 19]]\n",
      "\n",
      " [[20 21 22 23 24]\n",
      "  [25 26 27 28 29]]] (3, 2, 5) \n",
      "\n"
     ]
    }
   ],
   "source": [
    "# reshape(-1,-1)이용,차원 변경\n",
    "array1 = np.arange(30)\n",
    "ar12 = array1.reshape(3,-1)\n",
    "print(ar12,ar12.shape,'\\n')\n",
    "ar13 = array1.reshape(-1,2,5)\n",
    "print(ar13,ar13.shape,'\\n')"
   ]
  },
  {
   "cell_type": "code",
   "execution_count": 63,
   "id": "c0cc61c8",
   "metadata": {},
   "outputs": [
    {
     "ename": "NameError",
     "evalue": "name 'array12' is not defined",
     "output_type": "error",
     "traceback": [
      "\u001b[1;31m---------------------------------------------------------------------------\u001b[0m",
      "\u001b[1;31mNameError\u001b[0m                                 Traceback (most recent call last)",
      "\u001b[1;32m~\\AppData\\Local\\Temp/ipykernel_8464/2091673989.py\u001b[0m in \u001b[0;36m<module>\u001b[1;34m\u001b[0m\n\u001b[0;32m      2\u001b[0m \u001b[0mar12\u001b[0m\u001b[1;33m\u001b[0m\u001b[1;33m\u001b[0m\u001b[0m\n\u001b[0;32m      3\u001b[0m \u001b[1;33m\u001b[0m\u001b[0m\n\u001b[1;32m----> 4\u001b[1;33m \u001b[0mar14\u001b[0m \u001b[1;33m=\u001b[0m \u001b[0marray12\u001b[0m\u001b[1;33m.\u001b[0m\u001b[0mreshape\u001b[0m\u001b[1;33m(\u001b[0m\u001b[1;33m-\u001b[0m\u001b[1;36m1\u001b[0m\u001b[1;33m,\u001b[0m\u001b[1;36m3\u001b[0m\u001b[1;33m,\u001b[0m\u001b[1;36m6\u001b[0m\u001b[1;33m)\u001b[0m\u001b[1;33m\u001b[0m\u001b[1;33m\u001b[0m\u001b[0m\n\u001b[0m\u001b[0;32m      5\u001b[0m \u001b[0mprint\u001b[0m\u001b[1;33m(\u001b[0m\u001b[0mar14\u001b[0m\u001b[1;33m,\u001b[0m\u001b[0mar14\u001b[0m\u001b[1;33m.\u001b[0m\u001b[0mshape\u001b[0m\u001b[1;33m,\u001b[0m\u001b[1;34m'\\n'\u001b[0m\u001b[1;33m)\u001b[0m\u001b[1;33m\u001b[0m\u001b[1;33m\u001b[0m\u001b[0m\n",
      "\u001b[1;31mNameError\u001b[0m: name 'array12' is not defined"
     ]
    }
   ],
   "source": [
    "# 2 -> 1, 3차원으로 변환\n",
    "ar12\n",
    "\n"
   ]
  },
  {
   "cell_type": "code",
   "execution_count": 66,
   "id": "7cf0c26a",
   "metadata": {},
   "outputs": [
    {
     "name": "stdout",
     "output_type": "stream",
     "text": [
      "[ 0  1  2  3  4  5  6  7  8  9 10 11 12 13 14 15 16 17 18 19 20 21 22 23\n",
      " 24 25 26 27 28 29] (30,) \n",
      "\n",
      "[[[ 0  1  2  3  4]\n",
      "  [ 5  6  7  8  9]]\n",
      "\n",
      " [[10 11 12 13 14]\n",
      "  [15 16 17 18 19]]\n",
      "\n",
      " [[20 21 22 23 24]\n",
      "  [25 26 27 28 29]]] (3, 2, 5) \n",
      "\n"
     ]
    }
   ],
   "source": [
    "ar1=ar12.reshape(-1,)\n",
    "ar3=ar12.reshape(-1,2,5)\n",
    "print(ar1,ar1.shape,'\\n')\n",
    "print(ar3,ar3.shape,'\\n')\n"
   ]
  },
  {
   "cell_type": "code",
   "execution_count": 67,
   "id": "a5b32544",
   "metadata": {},
   "outputs": [
    {
     "data": {
      "text/plain": [
       "array([[[ 0,  1,  2,  3,  4],\n",
       "        [ 5,  6,  7,  8,  9]],\n",
       "\n",
       "       [[10, 11, 12, 13, 14],\n",
       "        [15, 16, 17, 18, 19]],\n",
       "\n",
       "       [[20, 21, 22, 23, 24],\n",
       "        [25, 26, 27, 28, 29]]])"
      ]
     },
     "execution_count": 67,
     "metadata": {},
     "output_type": "execute_result"
    }
   ],
   "source": [
    "# 3 -> 1,2차원으로  변환하여 출력\n",
    "ar3"
   ]
  },
  {
   "cell_type": "code",
   "execution_count": 70,
   "id": "a4de0f9a",
   "metadata": {},
   "outputs": [
    {
     "name": "stdout",
     "output_type": "stream",
     "text": [
      "[ 0  1  2  3  4  5  6  7  8  9 10 11 12 13 14 15 16 17 18 19 20 21 22 23\n",
      " 24 25 26 27 28 29] (30,) \n",
      "\n",
      "[[ 0  1  2  3  4]\n",
      " [ 5  6  7  8  9]\n",
      " [10 11 12 13 14]\n",
      " [15 16 17 18 19]\n",
      " [20 21 22 23 24]\n",
      " [25 26 27 28 29]] (6, 5) \n",
      "\n"
     ]
    }
   ],
   "source": [
    "ar1=ar3.reshape(-1,)\n",
    "ar2=ar3.reshape(-1,5)\n",
    "print(ar1,ar1.shape,'\\n')\n",
    "print(ar2,ar2.shape,'\\n')"
   ]
  },
  {
   "cell_type": "code",
   "execution_count": 69,
   "id": "98aca41f",
   "metadata": {},
   "outputs": [
    {
     "name": "stdout",
     "output_type": "stream",
     "text": [
      "[ 0  1  2  3  4  5  6  7  8  9 10 11 12 13 14 15 16 17 18 19 20 21 22 23\n",
      " 24 25 26 27 28 29] (30,) \n",
      "\n",
      "[[ 0  1  2]\n",
      " [ 3  4  5]\n",
      " [ 6  7  8]\n",
      " [ 9 10 11]\n",
      " [12 13 14]\n",
      " [15 16 17]\n",
      " [18 19 20]\n",
      " [21 22 23]\n",
      " [24 25 26]\n",
      " [27 28 29]] (10, 3) \n",
      "\n"
     ]
    }
   ],
   "source": [
    "ar1=ar3.reshape(-1,)\n",
    "ar2=ar3.reshape(-1,3)\n",
    "print(ar1,ar1.shape,'\\n')\n",
    "print(ar2,ar2.shape,'\\n')\n"
   ]
  },
  {
   "cell_type": "markdown",
   "id": "3e8f0586",
   "metadata": {},
   "source": [
    "행렬의 종류\n",
    "- 정방행렬은 행과 열의 수가 같은 행렬\n",
    "- 대각행렬은 주대각선 원소를 제외한 모든 원소들이 0인 정방행렬\n",
    "- 항등행렬은 행렬 곱셈 연산에 항등원으로 작용하는 행렬\n",
    "- 영행렬은 모든 원소가 0인 행렬로 곱셈 연산에서 영원으로 작용하는 행렬\n",
    "- 전치행렬은 주대각선 원소를 기준으로 행과 열을 바꿔주는 행렬\n",
    "- 직교행렬은 행렬 A의 역행렬이 A의 전치행렬이고 A의 전치행렬과 A 행렬을 곱하였을때 항등행렬이 나오는 행렬"
   ]
  },
  {
   "cell_type": "code",
   "execution_count": 71,
   "id": "d21efead",
   "metadata": {},
   "outputs": [
    {
     "data": {
      "text/plain": [
       "array([[7, 7, 7],\n",
       "       [7, 7, 7],\n",
       "       [7, 7, 7]])"
      ]
     },
     "execution_count": 71,
     "metadata": {},
     "output_type": "execute_result"
    }
   ],
   "source": [
    "# 정방행렬\n",
    "ar1 = np.full((3,3),7)\n",
    "ar1"
   ]
  },
  {
   "cell_type": "code",
   "execution_count": 72,
   "id": "7a3cc6e3",
   "metadata": {},
   "outputs": [
    {
     "data": {
      "text/plain": [
       "array([[1., 0., 0., 0., 0.],\n",
       "       [0., 1., 0., 0., 0.],\n",
       "       [0., 0., 1., 0., 0.],\n",
       "       [0., 0., 0., 1., 0.],\n",
       "       [0., 0., 0., 0., 1.]])"
      ]
     },
     "execution_count": 72,
     "metadata": {},
     "output_type": "execute_result"
    }
   ],
   "source": [
    "# 항등행렬,단위행렬\n",
    "a = np.eye(5)\n",
    "a"
   ]
  },
  {
   "cell_type": "code",
   "execution_count": 78,
   "id": "e3530157",
   "metadata": {},
   "outputs": [
    {
     "data": {
      "text/plain": [
       "array([[0., 0., 0., 0., 0.],\n",
       "       [0., 0., 0., 0., 0.],\n",
       "       [0., 0., 0., 0., 0.],\n",
       "       [0., 0., 0., 0., 0.],\n",
       "       [0., 0., 0., 0., 0.]])"
      ]
     },
     "execution_count": 78,
     "metadata": {},
     "output_type": "execute_result"
    }
   ],
   "source": [
    "# 영행렬\n",
    "a = np.zeros(25)\n",
    "a.reshape(5,5)"
   ]
  },
  {
   "cell_type": "markdown",
   "id": "10e1e7c0",
   "metadata": {},
   "source": [
    "ndarry 데이터 형태 지정 및 변경\n",
    "<img src = '데이터형태.jpg' STYLE='width:300px;'>"
   ]
  },
  {
   "cell_type": "code",
   "execution_count": 81,
   "id": "8335d8c1",
   "metadata": {},
   "outputs": [
    {
     "name": "stdout",
     "output_type": "stream",
     "text": [
      "[1. 2. 3.] float64 \n",
      "\n",
      "int32\n"
     ]
    }
   ],
   "source": [
    "arr1 = np.array([1,2,3],dtype=np.float64)\n",
    "arr2 = np.array([1,2,3],dtype=np.int32)\n",
    "print(arr1,arr1.dtype,'\\n')\n",
    "print(arr2.dtype)"
   ]
  },
  {
   "cell_type": "code",
   "execution_count": 85,
   "id": "7ac00190",
   "metadata": {},
   "outputs": [
    {
     "name": "stdout",
     "output_type": "stream",
     "text": [
      "int32\n",
      "float64\n"
     ]
    }
   ],
   "source": [
    "# 타입 변경\n",
    "arr = np.array([1,2,3,4,5,])\n",
    "print(arr.dtype)\n",
    "\n",
    "float_arr = arr.astype(np.float64)\n",
    "print(float_arr.dtype)"
   ]
  },
  {
   "cell_type": "code",
   "execution_count": 87,
   "id": "58a8bf4c",
   "metadata": {},
   "outputs": [
    {
     "data": {
      "text/plain": [
       "array([1., 1., 1., 1., 1., 1., 1., 1., 1., 1.])"
      ]
     },
     "execution_count": 87,
     "metadata": {},
     "output_type": "execute_result"
    }
   ],
   "source": [
    "np.ones(10)"
   ]
  },
  {
   "cell_type": "code",
   "execution_count": 89,
   "id": "bc7fc88c",
   "metadata": {},
   "outputs": [
    {
     "name": "stdout",
     "output_type": "stream",
     "text": [
      "[1 1 1 1 1 1 1 1 1 1]\n",
      "[0 0 0 0 0 0 0 0 0 0]\n"
     ]
    }
   ],
   "source": [
    "# empty 함수 : shape 와 dtype을 입력 받아 초기화되지 않는 배열을 만들어준다. cf.zeros 함수\n",
    "# empty 함수를 실행할 때마다 값이 다른것을 확인할수 있다.이는 해당 메모리 영역에 어떤 데이터가 남아있었던지 상관없이\n",
    "# 그대로 영역의 주소만 알려줄 뿐 초기화는 사용자에게 맡기기 때문임.\n",
    "print(np.empty(shape=(10,),dtype=np.int8))\n",
    "print(np.zeros(shape=(10,),dtype=np.int8))"
   ]
  },
  {
   "cell_type": "code",
   "execution_count": 94,
   "id": "1daa52bd",
   "metadata": {},
   "outputs": [
    {
     "name": "stdout",
     "output_type": "stream",
     "text": [
      "[b'1' b'2' b'3' b'4'] |S1\n"
     ]
    }
   ],
   "source": [
    "# 문자열 타입으로 배열 만들기\n",
    "# arr = np.array([1,2,3,4], dtype='S')\n",
    "arr = np.array([1,2,3,4], dtype=np.string_)\n",
    "print(arr,arr.dtype)"
   ]
  },
  {
   "cell_type": "code",
   "execution_count": 95,
   "id": "ecff4885",
   "metadata": {},
   "outputs": [
    {
     "name": "stdout",
     "output_type": "stream",
     "text": [
      "[1. 2. 3. 4.] float64\n"
     ]
    }
   ],
   "source": [
    "arr1 = arr.astype('float')\n",
    "print(arr1,arr1.dtype)"
   ]
  },
  {
   "cell_type": "code",
   "execution_count": null,
   "id": "fbdc73d1",
   "metadata": {},
   "outputs": [],
   "source": [
    "# 정수와 실수로 구성된 list_e = [1.2,2.3,3]을 numpy를 이용해서 실수형과 정수형으로 각각출력하세요."
   ]
  },
  {
   "cell_type": "code",
   "execution_count": 99,
   "id": "6f2d86fd",
   "metadata": {},
   "outputs": [
    {
     "name": "stdout",
     "output_type": "stream",
     "text": [
      "[1.2 2.3 3. ] float64 \n",
      "\n",
      "[1 2 3] int32\n"
     ]
    }
   ],
   "source": [
    "list_e = [1.2,2.3,3]\n",
    "array_e1 = np.array(list_e)\n",
    "print(array_e1,array_e1.dtype,'\\n')\n",
    "array_e2 = array_e1.astype(int)\n",
    "print(array_e2,array_e2.dtype)"
   ]
  },
  {
   "cell_type": "code",
   "execution_count": 100,
   "id": "0bb51996",
   "metadata": {},
   "outputs": [
    {
     "name": "stdout",
     "output_type": "stream",
     "text": [
      "[[1 2 3]\n",
      " [4 5 6]] int32\n"
     ]
    }
   ],
   "source": [
    "# 배열의 산술 연산\n",
    "arr = np.array([[1,2,3],[4,5,6]])\n",
    "arr = np.arange(1,7).reshape(2,3)\n",
    "print(arr,arr.dtype)"
   ]
  },
  {
   "cell_type": "code",
   "execution_count": 101,
   "id": "8fd6510d",
   "metadata": {},
   "outputs": [
    {
     "data": {
      "text/plain": [
       "array([[ 1,  4,  9],\n",
       "       [16, 25, 36]])"
      ]
     },
     "execution_count": 101,
     "metadata": {},
     "output_type": "execute_result"
    }
   ],
   "source": [
    "arr * arr"
   ]
  },
  {
   "cell_type": "code",
   "execution_count": 102,
   "id": "f686032b",
   "metadata": {},
   "outputs": [
    {
     "data": {
      "text/plain": [
       "array([[0, 0, 0],\n",
       "       [0, 0, 0]])"
      ]
     },
     "execution_count": 102,
     "metadata": {},
     "output_type": "execute_result"
    }
   ],
   "source": [
    "arr - arr"
   ]
  },
  {
   "cell_type": "code",
   "execution_count": 103,
   "id": "d56e9ffc",
   "metadata": {},
   "outputs": [
    {
     "data": {
      "text/plain": [
       "array([[ 0.,  4.,  1.],\n",
       "       [ 7.,  2., 12.]])"
      ]
     },
     "execution_count": 103,
     "metadata": {},
     "output_type": "execute_result"
    }
   ],
   "source": [
    "arr2 = np.array([[0.,4.,1.],[7.,2.,12.]])\n",
    "arr2"
   ]
  },
  {
   "cell_type": "code",
   "execution_count": 104,
   "id": "09e6041a",
   "metadata": {},
   "outputs": [
    {
     "data": {
      "text/plain": [
       "array([[False,  True, False],\n",
       "       [ True, False,  True]])"
      ]
     },
     "execution_count": 104,
     "metadata": {},
     "output_type": "execute_result"
    }
   ],
   "source": [
    "arr2>arr"
   ]
  },
  {
   "cell_type": "code",
   "execution_count": 115,
   "id": "51dad8b1",
   "metadata": {},
   "outputs": [
    {
     "name": "stdout",
     "output_type": "stream",
     "text": [
      "[[12 14 16]\n",
      " [18 20 22]\n",
      " [24 26 28]]\n",
      "[[12 14 16]\n",
      " [18 20 22]\n",
      " [24 26 28]] \n",
      "\n",
      "[[-10 -10 -10]\n",
      " [-10 -10 -10]\n",
      " [-10 -10 -10]]\n",
      "[11 12 13 14 15 16 17 18 19] \n",
      "\n",
      "[[ 11  24  39]\n",
      " [ 56  75  96]\n",
      " [119 144 171]]\n",
      "[[ 11  24  39]\n",
      " [ 56  75  96]\n",
      " [119 144 171]] \n",
      "\n",
      "[[0.09090909 0.16666667 0.23076923]\n",
      " [0.28571429 0.33333333 0.375     ]\n",
      " [0.41176471 0.44444444 0.47368421]]\n",
      "[[1. 1. 1.]\n",
      " [1. 1. 1.]\n",
      " [1. 1. 1.]]\n"
     ]
    }
   ],
   "source": [
    "# 기본 사칙연산\n",
    "value1 = np.arange(1,10).reshape(3,3)\n",
    "value2 = np.arange(11,20).reshape(3,3)\n",
    "\n",
    "print(value1 + value2)\n",
    "print(np.add(value1,value2),'\\n')\n",
    "print(value1 - value2)\n",
    "print(np.extract(value1,value2),'\\n')\n",
    "print(value1 * value2)\n",
    "print(np.multiply(value1,value2),'\\n')\n",
    "print(value1 / value2)\n",
    "print(np.divide(value2,value2))"
   ]
  },
  {
   "cell_type": "code",
   "execution_count": 130,
   "id": "76ce6eb2",
   "metadata": {},
   "outputs": [
    {
     "data": {
      "text/plain": [
       "array([[-0.36065543,  0.79085122],\n",
       "       [-0.51081547, -1.15454308]])"
      ]
     },
     "execution_count": 130,
     "metadata": {},
     "output_type": "execute_result"
    }
   ],
   "source": [
    "arr= np.random.randn(2,2)\n",
    "arr"
   ]
  },
  {
   "cell_type": "code",
   "execution_count": 135,
   "id": "173c54b3",
   "metadata": {},
   "outputs": [
    {
     "data": {
      "text/plain": [
       "-0.3088"
      ]
     },
     "execution_count": 135,
     "metadata": {},
     "output_type": "execute_result"
    }
   ],
   "source": [
    "arr.mean().round(4)      #round(소수점 반올림)"
   ]
  },
  {
   "cell_type": "code",
   "execution_count": 134,
   "id": "82a7a89c",
   "metadata": {},
   "outputs": [
    {
     "data": {
      "text/plain": [
       "array([ 0.21509789, -0.83267927])"
      ]
     },
     "execution_count": 134,
     "metadata": {},
     "output_type": "execute_result"
    }
   ],
   "source": [
    "arr.mean(axis=1)            #axis = 축   ?"
   ]
  },
  {
   "cell_type": "code",
   "execution_count": 133,
   "id": "84a08ec9",
   "metadata": {},
   "outputs": [
    {
     "data": {
      "text/plain": [
       "array([-0.43573545, -0.18184593])"
      ]
     },
     "execution_count": 133,
     "metadata": {},
     "output_type": "execute_result"
    }
   ],
   "source": [
    "arr.mean(axis=0)"
   ]
  },
  {
   "cell_type": "code",
   "execution_count": 132,
   "id": "4961b340",
   "metadata": {},
   "outputs": [
    {
     "data": {
      "text/plain": [
       "-1.2352"
      ]
     },
     "execution_count": 132,
     "metadata": {},
     "output_type": "execute_result"
    }
   ],
   "source": [
    "arr.sum().round(4)"
   ]
  },
  {
   "cell_type": "code",
   "execution_count": 131,
   "id": "b965b928",
   "metadata": {},
   "outputs": [
    {
     "data": {
      "text/plain": [
       "array([-0.36065543, -0.28522478,  0.14569723, -0.16821373])"
      ]
     },
     "execution_count": 131,
     "metadata": {},
     "output_type": "execute_result"
    }
   ],
   "source": [
    "arr.cumprod()    # 누적 곱"
   ]
  },
  {
   "cell_type": "code",
   "execution_count": 136,
   "id": "c25ab62c",
   "metadata": {},
   "outputs": [
    {
     "data": {
      "text/plain": [
       "array([[1, 2, 3],\n",
       "       [4, 5, 6],\n",
       "       [7, 8, 9]])"
      ]
     },
     "execution_count": 136,
     "metadata": {},
     "output_type": "execute_result"
    }
   ],
   "source": [
    "# 인덱싱, 슬리이싱\n",
    "arr2d = np.arange(1,10).reshape(3,3)\n",
    "arr2d"
   ]
  },
  {
   "cell_type": "code",
   "execution_count": 137,
   "id": "d39bd10d",
   "metadata": {},
   "outputs": [
    {
     "data": {
      "text/plain": [
       "array([7, 8, 9])"
      ]
     },
     "execution_count": 137,
     "metadata": {},
     "output_type": "execute_result"
    }
   ],
   "source": [
    "arr2d[2]"
   ]
  },
  {
   "cell_type": "code",
   "execution_count": 138,
   "id": "0c063539",
   "metadata": {},
   "outputs": [
    {
     "data": {
      "text/plain": [
       "9"
      ]
     },
     "execution_count": 138,
     "metadata": {},
     "output_type": "execute_result"
    }
   ],
   "source": [
    "arr2d[2][2]"
   ]
  },
  {
   "cell_type": "code",
   "execution_count": 139,
   "id": "f2b5bc6d",
   "metadata": {},
   "outputs": [
    {
     "data": {
      "text/plain": [
       "array([1, 4, 7])"
      ]
     },
     "execution_count": 139,
     "metadata": {},
     "output_type": "execute_result"
    }
   ],
   "source": [
    "arr2d[:,0]                        "
   ]
  },
  {
   "cell_type": "code",
   "execution_count": 140,
   "id": "acbfb84c",
   "metadata": {},
   "outputs": [
    {
     "data": {
      "text/plain": [
       "array([[1, 2, 3],\n",
       "       [4, 5, 6]])"
      ]
     },
     "execution_count": 140,
     "metadata": {},
     "output_type": "execute_result"
    }
   ],
   "source": [
    "arr2d[:2,:]"
   ]
  },
  {
   "cell_type": "code",
   "execution_count": null,
   "id": "ccebd1fc",
   "metadata": {},
   "outputs": [],
   "source": [
    "#arr2d에서 [3,6],[1,2],[4,5]을 출력하세요"
   ]
  },
  {
   "cell_type": "code",
   "execution_count": 144,
   "id": "4477551e",
   "metadata": {},
   "outputs": [
    {
     "data": {
      "text/plain": [
       "array([[3],\n",
       "       [6],\n",
       "       [9]])"
      ]
     },
     "execution_count": 144,
     "metadata": {},
     "output_type": "execute_result"
    }
   ],
   "source": [
    "arr2d[:,]"
   ]
  },
  {
   "cell_type": "code",
   "execution_count": 241,
   "id": "24b89faa",
   "metadata": {},
   "outputs": [
    {
     "name": "stdout",
     "output_type": "stream",
     "text": [
      "[3 6]\n",
      "[[1 2]\n",
      " [4 5]]\n"
     ]
    }
   ],
   "source": [
    "ar2d = np.arange(1,10).reshape(3,-1)\n",
    "print(ar2d[:2,2])\n",
    "print(ar2d[:2,:2])\n"
   ]
  },
  {
   "cell_type": "code",
   "execution_count": null,
   "id": "99111eea",
   "metadata": {},
   "outputs": [],
   "source": [
    "# arr2d를 다른 방식으로 출력"
   ]
  },
  {
   "cell_type": "code",
   "execution_count": 149,
   "id": "629c3319",
   "metadata": {},
   "outputs": [
    {
     "name": "stdout",
     "output_type": "stream",
     "text": [
      "[[1 2 3]\n",
      " [4 5 6]]\n"
     ]
    }
   ],
   "source": [
    "print(arr2d[:2:])"
   ]
  },
  {
   "cell_type": "code",
   "execution_count": 152,
   "id": "ecc4177e",
   "metadata": {},
   "outputs": [
    {
     "data": {
      "text/plain": [
       "array([[1, 2, 3],\n",
       "       [4, 5, 6]])"
      ]
     },
     "execution_count": 152,
     "metadata": {},
     "output_type": "execute_result"
    }
   ],
   "source": [
    "arr2d[[0,1],:]   # 이방식 좋다."
   ]
  },
  {
   "cell_type": "code",
   "execution_count": 153,
   "id": "55c198bb",
   "metadata": {},
   "outputs": [
    {
     "data": {
      "text/plain": [
       "array([[ 0,  1,  2,  3,  4,  5],\n",
       "       [ 6,  7,  8,  9, 10, 11],\n",
       "       [12, 13, 14, 15, 16, 17],\n",
       "       [18, 19, 20, 21, 22, 23],\n",
       "       [24, 25, 26, 27, 28, 29]])"
      ]
     },
     "execution_count": 153,
     "metadata": {},
     "output_type": "execute_result"
    }
   ],
   "source": [
    "arr = np.arange(30).reshape(5,6)\n",
    "arr "
   ]
  },
  {
   "cell_type": "code",
   "execution_count": null,
   "id": "06e01d29",
   "metadata": {},
   "outputs": [],
   "source": [
    "[14,15,16]\n",
    "[3,9]\n",
    "[1,7,13]"
   ]
  },
  {
   "cell_type": "code",
   "execution_count": 156,
   "id": "e634bd64",
   "metadata": {},
   "outputs": [
    {
     "data": {
      "text/plain": [
       "array([14, 15, 16])"
      ]
     },
     "execution_count": 156,
     "metadata": {},
     "output_type": "execute_result"
    }
   ],
   "source": [
    "arr[2][2:5]"
   ]
  },
  {
   "cell_type": "code",
   "execution_count": 158,
   "id": "cabd81e2",
   "metadata": {},
   "outputs": [
    {
     "data": {
      "text/plain": [
       "array([3, 9])"
      ]
     },
     "execution_count": 158,
     "metadata": {},
     "output_type": "execute_result"
    }
   ],
   "source": [
    "arr[[0,1],3]"
   ]
  },
  {
   "cell_type": "code",
   "execution_count": 163,
   "id": "4807273d",
   "metadata": {},
   "outputs": [
    {
     "data": {
      "text/plain": [
       "array([ 1,  7, 13])"
      ]
     },
     "execution_count": 163,
     "metadata": {},
     "output_type": "execute_result"
    }
   ],
   "source": [
    "arr[[0,1,2],1]"
   ]
  },
  {
   "cell_type": "code",
   "execution_count": 169,
   "id": "c5ff7db3",
   "metadata": {},
   "outputs": [
    {
     "name": "stdout",
     "output_type": "stream",
     "text": [
      "[[0, 1, 2, 3, 4, 5], [6, 7, 8, 9, 10, 11], [12, 13, 14, 15, 16, 17], [18, 19, 20, 21, 22, 23], [24, 25, 26, 27, 28, 29]] <class 'list'>\n"
     ]
    }
   ],
   "source": [
    "# 배열을 리스트로 변환\n",
    "li = arr.tolist()\n",
    "print(li, type(li))"
   ]
  },
  {
   "cell_type": "code",
   "execution_count": 173,
   "id": "b225ed00",
   "metadata": {},
   "outputs": [
    {
     "name": "stdout",
     "output_type": "stream",
     "text": [
      "[1 2 3 4 5 6 7 8 9]\n",
      "[6 7 8 9]\n",
      "[False False False False False  True  True  True  True]\n"
     ]
    }
   ],
   "source": [
    "# Boolean indexing        *********매우 중요함************\n",
    "arr1d = np.arange(1,10)\n",
    "print(arr1d)\n",
    "arr3 = arr1d[arr1d > 5]\n",
    "print(arr3)\n",
    "print(arr1d > 5)"
   ]
  },
  {
   "cell_type": "code",
   "execution_count": null,
   "id": "b3b6f940",
   "metadata": {},
   "outputs": [],
   "source": [
    "# arr1d에서 일반 인덱스를 이용해서 6,7,8,9출력"
   ]
  },
  {
   "cell_type": "code",
   "execution_count": 176,
   "id": "2c6155b1",
   "metadata": {},
   "outputs": [
    {
     "name": "stdout",
     "output_type": "stream",
     "text": [
      "[6 7 8 9]\n"
     ]
    }
   ],
   "source": [
    "print(arr1d[5:])\n"
   ]
  },
  {
   "cell_type": "code",
   "execution_count": null,
   "id": "064d7e9e",
   "metadata": {},
   "outputs": [],
   "source": [
    "# 1~14까지 ndarry를 만들어 array_e로 저장하고 (array_e/2)> 5를 만족하는 값을 불린 인덱싱을 출력하세요"
   ]
  },
  {
   "cell_type": "code",
   "execution_count": 182,
   "id": "e5a9644e",
   "metadata": {},
   "outputs": [
    {
     "name": "stdout",
     "output_type": "stream",
     "text": [
      "[ 1  2  3  4  5  6  7  8  9 10 11 12 13 14]\n",
      "[11 12 13 14]\n"
     ]
    }
   ],
   "source": [
    "array_e = np.arange(1,15)\n",
    "print(array_e)\n",
    "\n",
    "arr2d = array_e[(array_e/2)>5]\n",
    "print(arr2d)"
   ]
  },
  {
   "cell_type": "code",
   "execution_count": 187,
   "id": "b68f7b97",
   "metadata": {},
   "outputs": [
    {
     "name": "stdout",
     "output_type": "stream",
     "text": [
      "['Bob' 'Joe' 'Will' 'Bob' 'Will' 'Joe' 'Joe'] \n",
      "\n",
      "[[-1.98521245 -1.66751706 -0.04126002  1.00893821]\n",
      " [-0.44399939  1.83932588  1.39663277  1.04254448]\n",
      " [-0.10336989  0.60190407  0.88202715  0.11016675]\n",
      " [-0.60071727 -0.13559932 -2.18916594  0.56018087]\n",
      " [ 0.3128814   0.05875148 -0.23267386 -0.64352974]\n",
      " [ 1.3364014   0.1099006   1.60452581  0.12440914]\n",
      " [ 1.52724505  0.48919152 -1.20159475  0.21244782]]\n"
     ]
    }
   ],
   "source": [
    "names = np.array(['Bob', 'Joe','Will','Bob','Will','Joe','Joe'])\n",
    "data = np.random.randn(7,4)\n",
    "print(names, '\\n')\n",
    "print(data)"
   ]
  },
  {
   "cell_type": "code",
   "execution_count": 188,
   "id": "e846ab64",
   "metadata": {},
   "outputs": [
    {
     "data": {
      "text/plain": [
       "array([ True, False, False,  True, False, False, False])"
      ]
     },
     "execution_count": 188,
     "metadata": {},
     "output_type": "execute_result"
    }
   ],
   "source": [
    "names =='Bob'"
   ]
  },
  {
   "cell_type": "code",
   "execution_count": 189,
   "id": "3f595f7e",
   "metadata": {},
   "outputs": [
    {
     "data": {
      "text/plain": [
       "array([[-1.98521245, -1.66751706, -0.04126002,  1.00893821],\n",
       "       [-0.60071727, -0.13559932, -2.18916594,  0.56018087]])"
      ]
     },
     "execution_count": 189,
     "metadata": {},
     "output_type": "execute_result"
    }
   ],
   "source": [
    "data[names =='Bob']"
   ]
  },
  {
   "cell_type": "code",
   "execution_count": 190,
   "id": "a559f1e1",
   "metadata": {},
   "outputs": [
    {
     "data": {
      "text/plain": [
       "array([[-0.04126002,  1.00893821],\n",
       "       [-2.18916594,  0.56018087]])"
      ]
     },
     "execution_count": 190,
     "metadata": {},
     "output_type": "execute_result"
    }
   ],
   "source": [
    "data[names == 'Bob',2:]"
   ]
  },
  {
   "cell_type": "code",
   "execution_count": 192,
   "id": "7428e85a",
   "metadata": {},
   "outputs": [
    {
     "data": {
      "text/plain": [
       "array([[-1.98521245, -1.66751706, -0.04126002,  1.00893821],\n",
       "       [-0.44399939,  1.83932588,  1.39663277,  1.04254448],\n",
       "       [-0.10336989,  0.60190407,  0.88202715,  0.11016675],\n",
       "       [-0.60071727, -0.13559932, -2.18916594,  0.56018087],\n",
       "       [ 0.3128814 ,  0.05875148, -0.23267386, -0.64352974],\n",
       "       [ 1.3364014 ,  0.1099006 ,  1.60452581,  0.12440914],\n",
       "       [ 1.52724505,  0.48919152, -1.20159475,  0.21244782]])"
      ]
     },
     "execution_count": 192,
     "metadata": {},
     "output_type": "execute_result"
    }
   ],
   "source": [
    "# != 부정\n",
    "data[names != 'BOb']"
   ]
  },
  {
   "cell_type": "code",
   "execution_count": null,
   "id": "63df2b3c",
   "metadata": {},
   "outputs": [],
   "source": [
    "# Bob 이거나 Will인것 출력,(mask 또는 | 이용)\n",
    "\n"
   ]
  },
  {
   "cell_type": "code",
   "execution_count": 205,
   "id": "ff5da494",
   "metadata": {},
   "outputs": [
    {
     "data": {
      "text/plain": [
       "array([[-1.98521245, -1.66751706, -0.04126002,  1.00893821],\n",
       "       [-0.10336989,  0.60190407,  0.88202715,  0.11016675],\n",
       "       [-0.60071727, -0.13559932, -2.18916594,  0.56018087],\n",
       "       [ 0.3128814 ,  0.05875148, -0.23267386, -0.64352974]])"
      ]
     },
     "execution_count": 205,
     "metadata": {},
     "output_type": "execute_result"
    }
   ],
   "source": [
    "mask = (names == 'Bob') | (names =='Will')\n",
    "data[(names == 'Bob') | (names =='Will')]   \n",
    "data[mask]"
   ]
  },
  {
   "cell_type": "code",
   "execution_count": 206,
   "id": "ce6f18db",
   "metadata": {},
   "outputs": [],
   "source": [
    "# 음수를 모두 0으로 처리 방법"
   ]
  },
  {
   "cell_type": "code",
   "execution_count": 207,
   "id": "c558e778",
   "metadata": {},
   "outputs": [
    {
     "name": "stdout",
     "output_type": "stream",
     "text": [
      "[[0.         0.         0.         1.00893821]\n",
      " [0.         1.83932588 1.39663277 1.04254448]\n",
      " [0.         0.60190407 0.88202715 0.11016675]\n",
      " [0.         0.         0.         0.56018087]\n",
      " [0.3128814  0.05875148 0.         0.        ]\n",
      " [1.3364014  0.1099006  1.60452581 0.12440914]\n",
      " [1.52724505 0.48919152 0.         0.21244782]]\n"
     ]
    }
   ],
   "source": [
    "data[data<0] = 0\n",
    "print(data)"
   ]
  },
  {
   "cell_type": "code",
   "execution_count": null,
   "id": "204669a1",
   "metadata": {},
   "outputs": [],
   "source": [
    "#[과제] 1~100까지 정수에서 3의 배수인 것만을 출력(for, 배열)\n"
   ]
  },
  {
   "cell_type": "code",
   "execution_count": 219,
   "id": "671d4657",
   "metadata": {},
   "outputs": [
    {
     "data": {
      "text/plain": [
       "array([ 3,  6,  9, 12, 15, 18, 21, 24, 27, 30, 33, 36, 39, 42, 45, 48, 51,\n",
       "       54, 57, 60, 63, 66, 69, 72, 75, 78, 81, 84, 87, 90, 93, 96, 99])"
      ]
     },
     "execution_count": 219,
     "metadata": {},
     "output_type": "execute_result"
    }
   ],
   "source": [
    "arr = np.arange(3,101,3)\n",
    "\n",
    "arr"
   ]
  },
  {
   "cell_type": "code",
   "execution_count": 217,
   "id": "6f3372b8",
   "metadata": {},
   "outputs": [
    {
     "name": "stdout",
     "output_type": "stream",
     "text": [
      "3\n",
      "6\n",
      "9\n",
      "12\n",
      "15\n",
      "18\n",
      "21\n",
      "24\n",
      "27\n",
      "30\n",
      "33\n",
      "36\n",
      "39\n",
      "42\n",
      "45\n",
      "48\n",
      "51\n",
      "54\n",
      "57\n",
      "60\n",
      "63\n",
      "66\n",
      "69\n",
      "72\n",
      "75\n",
      "78\n",
      "81\n",
      "84\n",
      "87\n",
      "90\n",
      "93\n",
      "96\n",
      "99\n"
     ]
    }
   ],
   "source": [
    "a = list(range(1, 101))\n",
    "\n",
    "for n in a: \n",
    "          if n % 3 ==0:\n",
    "             print(n)"
   ]
  },
  {
   "cell_type": "code",
   "execution_count": 211,
   "id": "23b4c96f",
   "metadata": {},
   "outputs": [],
   "source": [
    "#[과제] 1~100까지 정수에서 5의 배수이면서 2의 배수만을 출력 (for , 배열)"
   ]
  },
  {
   "cell_type": "code",
   "execution_count": 220,
   "id": "4ee60076",
   "metadata": {},
   "outputs": [
    {
     "data": {
      "text/plain": [
       "array([ 10,  20,  30,  40,  50,  60,  70,  80,  90, 100])"
      ]
     },
     "execution_count": 220,
     "metadata": {},
     "output_type": "execute_result"
    }
   ],
   "source": [
    "arr = np.arange(10,101,10)\n",
    "\n",
    "arr"
   ]
  },
  {
   "cell_type": "code",
   "execution_count": 218,
   "id": "3b643f4a",
   "metadata": {},
   "outputs": [
    {
     "name": "stdout",
     "output_type": "stream",
     "text": [
      "10\n",
      "20\n",
      "30\n",
      "40\n",
      "50\n",
      "60\n",
      "70\n",
      "80\n",
      "90\n",
      "100\n"
     ]
    }
   ],
   "source": [
    "a = list(range(1, 101))\n",
    "\n",
    "for n in a: \n",
    "          if n % 10==0:\n",
    "             print(n)"
   ]
  },
  {
   "cell_type": "code",
   "execution_count": 4,
   "id": "bee35a0a",
   "metadata": {},
   "outputs": [
    {
     "data": {
      "text/plain": [
       "[10, 20, 30, 40, 50, 60, 70, 80, 90, 100]"
      ]
     },
     "execution_count": 4,
     "metadata": {},
     "output_type": "execute_result"
    }
   ],
   "source": [
    "[i for i in range(1,101) if i%10==0 ]\n"
   ]
  },
  {
   "cell_type": "code",
   "execution_count": 237,
   "id": "1046e6e6",
   "metadata": {},
   "outputs": [
    {
     "name": "stdout",
     "output_type": "stream",
     "text": [
      "[[-1.77167497 -0.64995007 -3.15223992  0.60387827  0.48250117]\n",
      " [ 0.70563589  0.98601778  0.07723702 -0.44655464 -0.89815846]\n",
      " [-0.42480961  2.84523686  0.72854891  0.07156253  0.6653728 ]\n",
      " [-0.59584887  0.13855511  0.93318692 -1.34723075  1.22512796]\n",
      " [-1.46581622 -1.40609659  0.06042754  0.20742406 -0.47277905]]\n"
     ]
    },
    {
     "data": {
      "text/plain": [
       "-0.11602"
      ]
     },
     "execution_count": 237,
     "metadata": {},
     "output_type": "execute_result"
    }
   ],
   "source": [
    "#[과제] 표준정규분포로 구성된 5행5열 다차원 배열을 생성하고 함수를 이용하여 평균과 표준편차 구하라\n",
    "data = np.random.randn(5,5)\n",
    "print(data)\n",
    "\n",
    "np.mean(data).round(5)\n"
   ]
  },
  {
   "cell_type": "code",
   "execution_count": 238,
   "id": "cae84b7a",
   "metadata": {},
   "outputs": [
    {
     "data": {
      "text/plain": [
       "1.173925006581458"
      ]
     },
     "execution_count": 238,
     "metadata": {},
     "output_type": "execute_result"
    }
   ],
   "source": [
    "np.std(data)"
   ]
  },
  {
   "cell_type": "code",
   "execution_count": null,
   "id": "8eedd87d",
   "metadata": {},
   "outputs": [],
   "source": [
    "arr1 = np.random.randn(5,5)\n",
    "print(arr1.mean())\n",
    "print(arr1.std())\n"
   ]
  },
  {
   "cell_type": "code",
   "execution_count": 5,
   "id": "19e09785",
   "metadata": {},
   "outputs": [
    {
     "name": "stdout",
     "output_type": "stream",
     "text": [
      "0.00013116004579821424\n",
      "1.0000770329971542\n"
     ]
    }
   ],
   "source": [
    "arr1 = np.random.randn(10000,10000)\n",
    "print(arr1.mean())\n",
    "print(arr1.std())\n"
   ]
  },
  {
   "cell_type": "code",
   "execution_count": null,
   "id": "7551c684",
   "metadata": {},
   "outputs": [],
   "source": [
    "#[과제] 현재 사용하고 있는 numpy 버전을 출력"
   ]
  },
  {
   "cell_type": "code",
   "execution_count": 6,
   "id": "e1581301",
   "metadata": {},
   "outputs": [
    {
     "name": "stdout",
     "output_type": "stream",
     "text": [
      "1.21.2\n"
     ]
    }
   ],
   "source": [
    "print(np.__version__)\n"
   ]
  },
  {
   "cell_type": "code",
   "execution_count": 224,
   "id": "efd85715",
   "metadata": {},
   "outputs": [
    {
     "name": "stdout",
     "output_type": "stream",
     "text": [
      "Requirement already satisfied: numpy in c:\\users\\admin\\anaconda3\\envs\\cakd5\\lib\\site-packages (1.21.2)\n"
     ]
    }
   ],
   "source": [
    "!pip install numpy"
   ]
  },
  {
   "cell_type": "code",
   "execution_count": null,
   "id": "29fd3415",
   "metadata": {},
   "outputs": [],
   "source": [
    "#[과제] numpy을  함수의 도움말 기능볼수있는 방법을 수행하여 add 함수의 가이드를 출력"
   ]
  },
  {
   "cell_type": "code",
   "execution_count": 8,
   "id": "db472260",
   "metadata": {},
   "outputs": [
    {
     "name": "stdout",
     "output_type": "stream",
     "text": [
      "add(x1, x2, /, out=None, *, where=True, casting='same_kind', order='K', dtype=None, subok=True[, signature, extobj])\n",
      "\n",
      "Add arguments element-wise.\n",
      "\n",
      "Parameters\n",
      "----------\n",
      "x1, x2 : array_like\n",
      "    The arrays to be added.\n",
      "    If ``x1.shape != x2.shape``, they must be broadcastable to a common\n",
      "    shape (which becomes the shape of the output).\n",
      "out : ndarray, None, or tuple of ndarray and None, optional\n",
      "    A location into which the result is stored. If provided, it must have\n",
      "    a shape that the inputs broadcast to. If not provided or None,\n",
      "    a freshly-allocated array is returned. A tuple (possible only as a\n",
      "    keyword argument) must have length equal to the number of outputs.\n",
      "where : array_like, optional\n",
      "    This condition is broadcast over the input. At locations where the\n",
      "    condition is True, the `out` array will be set to the ufunc result.\n",
      "    Elsewhere, the `out` array will retain its original value.\n",
      "    Note that if an uninitialized `out` array is created via the default\n",
      "    ``out=None``, locations within it where the condition is False will\n",
      "    remain uninitialized.\n",
      "**kwargs\n",
      "    For other keyword-only arguments, see the\n",
      "    :ref:`ufunc docs <ufuncs.kwargs>`.\n",
      "\n",
      "Returns\n",
      "-------\n",
      "add : ndarray or scalar\n",
      "    The sum of `x1` and `x2`, element-wise.\n",
      "    This is a scalar if both `x1` and `x2` are scalars.\n",
      "\n",
      "Notes\n",
      "-----\n",
      "Equivalent to `x1` + `x2` in terms of array broadcasting.\n",
      "\n",
      "Examples\n",
      "--------\n",
      ">>> np.add(1.0, 4.0)\n",
      "5.0\n",
      ">>> x1 = np.arange(9.0).reshape((3, 3))\n",
      ">>> x2 = np.arange(3.0)\n",
      ">>> np.add(x1, x2)\n",
      "array([[  0.,   2.,   4.],\n",
      "       [  3.,   5.,   7.],\n",
      "       [  6.,   8.,  10.]])\n",
      "\n",
      "The ``+`` operator can be used as a shorthand for ``np.add`` on ndarrays.\n",
      "\n",
      ">>> x1 = np.arange(9.0).reshape((3, 3))\n",
      ">>> x2 = np.arange(3.0)\n",
      ">>> x1 + x2\n",
      "array([[ 0.,  2.,  4.],\n",
      "       [ 3.,  5.,  7.],\n",
      "       [ 6.,  8., 10.]])\n"
     ]
    }
   ],
   "source": [
    "np.info(np.add)\n",
    "\n"
   ]
  },
  {
   "cell_type": "code",
   "execution_count": null,
   "id": "ca629902",
   "metadata": {},
   "outputs": [],
   "source": [
    "# [과제] zeros 함수를 이용해서 아래와 같이 출력\n",
    "array([0.,0.,0.,1.,0.,0.,0.,0.,0.,])"
   ]
  },
  {
   "cell_type": "code",
   "execution_count": 9,
   "id": "f3109365",
   "metadata": {},
   "outputs": [
    {
     "data": {
      "text/plain": [
       "array([0., 0., 0., 0., 1., 0., 0., 0., 0., 0.])"
      ]
     },
     "execution_count": 9,
     "metadata": {},
     "output_type": "execute_result"
    }
   ],
   "source": [
    "a = np.arange(10,dtype = float)\n",
    "b = np.zeros_like(a)\n",
    "b[4]=1\n",
    "b\n"
   ]
  },
  {
   "cell_type": "code",
   "execution_count": 10,
   "id": "811b4290",
   "metadata": {},
   "outputs": [
    {
     "data": {
      "text/plain": [
       "array([0., 0., 0., 0., 1., 0., 0., 0., 0., 0.])"
      ]
     },
     "execution_count": 10,
     "metadata": {},
     "output_type": "execute_result"
    }
   ],
   "source": [
    "# 선생\n",
    "n = np.zeros(10)\n",
    "n[4] = 1\n",
    "n"
   ]
  },
  {
   "cell_type": "code",
   "execution_count": null,
   "id": "c2a71971",
   "metadata": {},
   "outputs": [],
   "source": [
    "#[과제]인덱싱을 이용하여 아래 배열을 내림차순으로 정렬하세요\n",
    "[0,1,2,3,4,5,6,7,8,9]"
   ]
  },
  {
   "cell_type": "code",
   "execution_count": 244,
   "id": "38029287",
   "metadata": {},
   "outputs": [
    {
     "name": "stdout",
     "output_type": "stream",
     "text": [
      "[9, 8, 7, 6, 5, 4, 3, 2, 1, 0]\n"
     ]
    }
   ],
   "source": [
    "arr1d = [0,1,2,3,4,5,6,7,8,9]\n",
    "arr1d.reverse()\n",
    "print(arr1d)"
   ]
  },
  {
   "cell_type": "code",
   "execution_count": 11,
   "id": "4e73d499",
   "metadata": {},
   "outputs": [
    {
     "name": "stdout",
     "output_type": "stream",
     "text": [
      "[9 8 7 6 5 4 3 2 1 0]\n"
     ]
    }
   ],
   "source": [
    "arr = np.arange(10)\n",
    "print(arr[::-1])"
   ]
  },
  {
   "cell_type": "code",
   "execution_count": null,
   "id": "195c9cf1",
   "metadata": {},
   "outputs": [],
   "source": [
    "#[과제][1.2.0,0,4,0]dpti zero가 아닌 인덱스를 배열 형태로 출력  "
   ]
  },
  {
   "cell_type": "code",
   "execution_count": 1,
   "id": "6a230f98",
   "metadata": {},
   "outputs": [
    {
     "name": "stdout",
     "output_type": "stream",
     "text": [
      "[1, 2, 4]\n"
     ]
    }
   ],
   "source": [
    "print([i for i in [1, 2, 0, 0, 4, 0] if i != 0])"
   ]
  },
  {
   "cell_type": "code",
   "execution_count": 2,
   "id": "655f6809",
   "metadata": {},
   "outputs": [
    {
     "name": "stdout",
     "output_type": "stream",
     "text": [
      "[2, 0, 0, 4, 0]\n"
     ]
    }
   ],
   "source": [
    "print([1, 2, 0, 0, 4, 0][1:])"
   ]
  },
  {
   "cell_type": "code",
   "execution_count": 17,
   "id": "68f135c3",
   "metadata": {},
   "outputs": [
    {
     "data": {
      "text/plain": [
       "(array([0, 1, 4], dtype=int64),)"
      ]
     },
     "execution_count": 17,
     "metadata": {},
     "output_type": "execute_result"
    }
   ],
   "source": [
    "# 0이 아닌 인덱스 반환\n",
    "a = np.array([1,2,0,0,4,0])\n",
    "np.nonzero(a)\n"
   ]
  },
  {
   "cell_type": "code",
   "execution_count": 19,
   "id": "7a117fb0",
   "metadata": {},
   "outputs": [
    {
     "data": {
      "text/plain": [
       "array([[0., 0., 0., 0.],\n",
       "       [1., 1., 1., 1.],\n",
       "       [2., 2., 2., 2.],\n",
       "       [3., 3., 3., 3.],\n",
       "       [4., 4., 4., 4.],\n",
       "       [5., 5., 5., 5.],\n",
       "       [6., 6., 6., 6.],\n",
       "       [7., 7., 7., 7.]])"
      ]
     },
     "execution_count": 19,
     "metadata": {},
     "output_type": "execute_result"
    }
   ],
   "source": [
    "# Fancy Indexing\n",
    "arr = np.empty((8,4))\n",
    "arr\n",
    "for i in range(8):\n",
    "    arr[i] = i\n",
    "arr"
   ]
  },
  {
   "cell_type": "code",
   "execution_count": 20,
   "id": "722c6bb8",
   "metadata": {},
   "outputs": [
    {
     "data": {
      "text/plain": [
       "array([[4., 4., 4., 4.],\n",
       "       [3., 3., 3., 3.],\n",
       "       [0., 0., 0., 0.],\n",
       "       [6., 6., 6., 6.]])"
      ]
     },
     "execution_count": 20,
     "metadata": {},
     "output_type": "execute_result"
    }
   ],
   "source": [
    "arr[[4,3,0,6]]"
   ]
  },
  {
   "cell_type": "code",
   "execution_count": 21,
   "id": "0d6ba7bd",
   "metadata": {},
   "outputs": [
    {
     "data": {
      "text/plain": [
       "array([[5., 5., 5., 5.],\n",
       "       [3., 3., 3., 3.],\n",
       "       [1., 1., 1., 1.]])"
      ]
     },
     "execution_count": 21,
     "metadata": {},
     "output_type": "execute_result"
    }
   ],
   "source": [
    "arr[[-3,-5,-7]]"
   ]
  },
  {
   "cell_type": "code",
   "execution_count": 23,
   "id": "b5d2149a",
   "metadata": {},
   "outputs": [
    {
     "name": "stdout",
     "output_type": "stream",
     "text": [
      "[[ 0  1  2  3]\n",
      " [ 4  5  6  7]\n",
      " [ 8  9 10 11]\n",
      " [12 13 14 15]\n",
      " [16 17 18 19]\n",
      " [20 21 22 23]\n",
      " [24 25 26 27]\n",
      " [28 29 30 31]] \n",
      "\n"
     ]
    },
    {
     "data": {
      "text/plain": [
       "array([ 4, 23, 29, 10])"
      ]
     },
     "execution_count": 23,
     "metadata": {},
     "output_type": "execute_result"
    }
   ],
   "source": [
    "arr = np.arange(32).reshape((8,4))\n",
    "print(arr,'\\n')\n",
    "\n",
    "arr[[1,5,7,2],[0,3,1,2]]"
   ]
  },
  {
   "cell_type": "code",
   "execution_count": 25,
   "id": "99f92f54",
   "metadata": {},
   "outputs": [
    {
     "name": "stdout",
     "output_type": "stream",
     "text": [
      "[[ 4  5  6  7]\n",
      " [20 21 22 23]\n",
      " [28 29 30 31]\n",
      " [ 8  9 10 11]] \n",
      "\n",
      "[[ 4  7  5  6]\n",
      " [20 23 21 22]\n",
      " [28 31 29 30]\n",
      " [ 8 11  9 10]]\n"
     ]
    }
   ],
   "source": [
    "print(arr[[1,5,7,2]],'\\n')\n",
    "print(arr[[1,5,7,2]][:,[0,3,1,2]])"
   ]
  },
  {
   "cell_type": "code",
   "execution_count": 27,
   "id": "1471b76f",
   "metadata": {},
   "outputs": [
    {
     "name": "stdout",
     "output_type": "stream",
     "text": [
      "[[ 0  1  2  3  4]\n",
      " [ 5  6  7  8  9]\n",
      " [10 11 12 13 14]] \n",
      "\n",
      "[[ 0  5 10]\n",
      " [ 1  6 11]\n",
      " [ 2  7 12]\n",
      " [ 3  8 13]\n",
      " [ 4  9 14]]\n"
     ]
    }
   ],
   "source": [
    "#배열 전치와 축 바꾸기\n",
    "arr = np.arange(15).reshape(3,5)\n",
    "print(arr,'\\n')\n",
    "print(arr.T)"
   ]
  },
  {
   "cell_type": "code",
   "execution_count": null,
   "id": "bb9895c9",
   "metadata": {},
   "outputs": [],
   "source": []
  },
  {
   "cell_type": "code",
   "execution_count": null,
   "id": "2e500423",
   "metadata": {},
   "outputs": [],
   "source": []
  },
  {
   "cell_type": "code",
   "execution_count": null,
   "id": "7db62ba0",
   "metadata": {},
   "outputs": [],
   "source": []
  },
  {
   "cell_type": "code",
   "execution_count": null,
   "id": "610498da",
   "metadata": {},
   "outputs": [],
   "source": []
  },
  {
   "cell_type": "code",
   "execution_count": null,
   "id": "bd3cd7df",
   "metadata": {},
   "outputs": [],
   "source": []
  },
  {
   "cell_type": "code",
   "execution_count": null,
   "id": "45013221",
   "metadata": {},
   "outputs": [],
   "source": []
  },
  {
   "cell_type": "code",
   "execution_count": null,
   "id": "5832b079",
   "metadata": {},
   "outputs": [],
   "source": []
  },
  {
   "cell_type": "code",
   "execution_count": null,
   "id": "a25e261e",
   "metadata": {},
   "outputs": [],
   "source": []
  },
  {
   "cell_type": "code",
   "execution_count": null,
   "id": "6c1cbeda",
   "metadata": {},
   "outputs": [],
   "source": []
  }
 ],
 "metadata": {
  "kernelspec": {
   "display_name": "Python 3 (ipykernel)",
   "language": "python",
   "name": "python3"
  },
  "language_info": {
   "codemirror_mode": {
    "name": "ipython",
    "version": 3
   },
   "file_extension": ".py",
   "mimetype": "text/x-python",
   "name": "python",
   "nbconvert_exporter": "python",
   "pygments_lexer": "ipython3",
   "version": "3.8.12"
  }
 },
 "nbformat": 4,
 "nbformat_minor": 5
}

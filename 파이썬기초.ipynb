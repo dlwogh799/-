{
 "cells": [
  {
   "cell_type": "code",
   "execution_count": null,
   "id": "aa04970f",
   "metadata": {},
   "outputs": [],
   "source": [
    "파이썬 기초"
   ]
  },
  {
   "cell_type": "markdown",
   "id": "aadc5fdd",
   "metadata": {},
   "source": [
    "파이썬 이란 \n",
    "- 1990년 암스테르담의 귀도 반 로섬이 개발한 인터프리터 언어\n",
    "- 컴퓨터 프로그래밍 교육을 위해 많이 사용하지만 ,기업의 실무를 위해서라도 많이 사용하는 언어. 구글에서 만든 소프트웨어의 50%이상이 파이썬으로 작성\n"
   ]
  },
  {
   "cell_type": "markdown",
   "id": "dc6e4263",
   "metadata": {},
   "source": [
    "파이썬의 특징\n",
    "- 파이썬은 인간다운 언어이다.\n",
    "- 파이썬은 문법이 쉬워 빠르게 배울 수 있다.\n",
    "- 파이썬은 무료지만 강력하다.\n",
    "- 파이썬은 간결하다.\n",
    "- 파이썬은 프로그래밍을 즐기개 해준다.\n",
    "- 파이썬은 개발 속도가 빠르다."
   ]
  },
  {
   "cell_type": "markdown",
   "id": "26dc6004",
   "metadata": {},
   "source": [
    "파이썬으로 할 수 있는 일\n",
    "- 시스템 유틸리티 제작\n",
    "- GUI 프로그래밍\n",
    "- C/C++와의 결합\n",
    "- 웹 프로그래밍\n",
    "- 수치 연산 프로그래밍\n",
    "- 데이터베이스프로그래밍\n",
    "- 데이터 분석, 사물 인터넷"
   ]
  },
  {
   "cell_type": "markdown",
   "id": "42b7a14c",
   "metadata": {},
   "source": [
    "참조\n",
    "- 표현식: 어떠한 값을 만들어 내는 간단한 코드. 273. 10 + 20+ 30. \"Python Programming\"\n",
    "- 문장: 표현식이 하나 이상 모이면 문장. print(\"Hello\")\n",
    "- 프로그램: 문장이 모여서 프로그램\n",
    "- 식별자: 프로그래밍 언어에서 이름을 붙일 때 사용하는 단어. 주로 변수 또는 함수 이름등으로 사용\n",
    "- 주석: 프로그램을 설명하기 위해 사용. #기호로 주석 처리\n",
    "- 연산자: 스스로 값이 되는 것이 아니고 값과 값 사이에 무언가 기능을 적용할떄 사용\n",
    "- 자료: 리티컬이라고 하는데 숫자이든 문자이든 어떠한 값 자체를 의미. 1, 10, \"Hello\"\n",
    "- 키워드: 파이썬이 만들어질 떄 이미 사용하곘다고 예약해 놓는 것. False, None, True,..\n",
    "- 프로그래밍 언어에서 사용자가 이름을 정할 떄 키워드는 사용할 수 없음"
   ]
  },
  {
   "cell_type": "code",
   "execution_count": 5,
   "id": "743c6364",
   "metadata": {},
   "outputs": [
    {
     "name": "stdout",
     "output_type": "stream",
     "text": [
      "Python 3.8.12\n"
     ]
    }
   ],
   "source": [
    "!python -V"
   ]
  },
  {
   "cell_type": "code",
   "execution_count": 16,
   "id": "6eb1b78b",
   "metadata": {},
   "outputs": [
    {
     "name": "stdout",
     "output_type": "stream",
     "text": [
      "273\n"
     ]
    },
    {
     "data": {
      "text/plain": [
       "60"
      ]
     },
     "execution_count": 16,
     "metadata": {},
     "output_type": "execute_result"
    }
   ],
   "source": [
    "# 표현식\n",
    "print(273)\n",
    "10+20+30"
   ]
  },
  {
   "cell_type": "code",
   "execution_count": 18,
   "id": "efe8598a",
   "metadata": {},
   "outputs": [
    {
     "name": "stdout",
     "output_type": "stream",
     "text": [
      "Hello Python\n",
      "52 Hello Python 8\n"
     ]
    }
   ],
   "source": [
    "# 표현식이 하나 이상씩 모이면 문장\n",
    "print(\"Hello Python\")\n",
    "print(52, \"Hello Python\", 5+3)"
   ]
  },
  {
   "cell_type": "code",
   "execution_count": 20,
   "id": "506133f9",
   "metadata": {},
   "outputs": [
    {
     "name": "stdout",
     "output_type": "stream",
     "text": [
      "2\n"
     ]
    }
   ],
   "source": [
    "# 문장이 모여서 프로그램\n",
    "a = 1;b = 1;c=a+b\n",
    "print(c)"
   ]
  },
  {
   "cell_type": "code",
   "execution_count": 24,
   "id": "703df6fc",
   "metadata": {},
   "outputs": [
    {
     "name": "stdout",
     "output_type": "stream",
     "text": [
      "['False', 'None', 'True', 'and', 'as', 'assert', 'async', 'await', 'break', 'class', 'continue', 'def', 'del', 'elif', 'else', 'except', 'finally', 'for', 'from', 'global', 'if', 'import', 'in', 'is', 'lambda', 'nonlocal', 'not', 'or', 'pass', 'raise', 'return', 'try', 'while', 'with', 'yield'] \n",
      "\n",
      "35\n"
     ]
    }
   ],
   "source": [
    "#python keyword\n",
    "import keyword\n",
    "print(keyword.kwlist, '\\n')\n",
    "print(len(keyword.kwlist))"
   ]
  },
  {
   "cell_type": "markdown",
   "id": "e2d6e462",
   "metadata": {},
   "source": [
    " 식별자 기본 규칙\n",
    " - 키워드를 사용하면 안된다.\n",
    " - 특수문자는 언더 바(_)만 사용한다.\n",
    " - 숫자로 시작하면 안된다.\n",
    " - 공벽을 포함할 수 없다."
   ]
  },
  {
   "cell_type": "code",
   "execution_count": 28,
   "id": "fba2601c",
   "metadata": {},
   "outputs": [
    {
     "ename": "SyntaxError",
     "evalue": "invalid syntax (Temp/ipykernel_3464/3076291402.py, line 5)",
     "output_type": "error",
     "traceback": [
      "\u001b[1;36m  File \u001b[1;32m\"C:\\Users\\admin\\AppData\\Local\\Temp/ipykernel_3464/3076291402.py\"\u001b[1;36m, line \u001b[1;32m5\u001b[0m\n\u001b[1;33m    273alpha # 숫자\u001b[0m\n\u001b[1;37m       ^\u001b[0m\n\u001b[1;31mSyntaxError\u001b[0m\u001b[1;31m:\u001b[0m invalid syntax\n"
     ]
    }
   ],
   "source": [
    "alpha\n",
    "break # 키워드\n",
    "alpha10\n",
    "_alpha\n",
    "273alpha # 숫자\n",
    "AlpHa\n",
    "ALPAH\n",
    "has space # 공백"
   ]
  },
  {
   "cell_type": "markdown",
   "id": "b3471eaa",
   "metadata": {},
   "source": [
    "https://bibi6666667.tistory.com/277\n",
    "파이썬은 snake_case와 CamelCase를 모두 사용\n",
    "\n",
    "- ltemilst ltem_list ltemList\n",
    "- loginstatus login_status LoginStatus\n",
    "- 캐멀 케이스(대문자로 시작)클래스\n",
    "- 스네이크 케이스(소문자로 시작)뒤에 ()가 있다- 함수\n",
    "- 스네이크 케이스(소문자로 시작)뒤에 ()가 없다- 변수"
   ]
  },
  {
   "cell_type": "code",
   "execution_count": 37,
   "id": "e9333414",
   "metadata": {},
   "outputs": [
    {
     "name": "stdout",
     "output_type": "stream",
     "text": [
      "2가 없습니다.\n"
     ]
    }
   ],
   "source": [
    "# 사람이 생각하는 방식을 그대로 표현할 수 있는 언어\n",
    "\n",
    "if not 2 in[1,3,4]: print('2가 없습니다.')"
   ]
  },
  {
   "cell_type": "code",
   "execution_count": 48,
   "id": "948401b9",
   "metadata": {},
   "outputs": [
    {
     "name": "stdout",
     "output_type": "stream",
     "text": [
      "123\n",
      "-123\n",
      "0\n",
      "1.23\n",
      "127\n",
      "2748\n",
      "42\n"
     ]
    }
   ],
   "source": [
    "# 파이썬 자료형 -숫자형(정수, 실수, 8진수, 16진수)\n",
    "a = 123\n",
    "b = -123\n",
    "c = 0\n",
    "d = 1.23\n",
    "e = 0o177 # 8진수 00 또는 00으로 시작\n",
    "f = 0xABC # 16진수 Ox로 시작\n",
    "g = 0b101010 # 2진수 0b로 시작\n",
    "print(a)\n",
    "print(b)\n",
    "print(c)\n",
    "print(d)\n",
    "print(e)\n",
    "print(f)\n",
    "print(g)"
   ]
  },
  {
   "cell_type": "code",
   "execution_count": 49,
   "id": "b9a7e951",
   "metadata": {},
   "outputs": [
    {
     "name": "stdout",
     "output_type": "stream",
     "text": [
      "10\n",
      "2\n",
      "12\n",
      "20\n",
      "5.0\n",
      "0\n",
      "5\n",
      "8\n"
     ]
    }
   ],
   "source": [
    "# 사칙연산\n",
    "a = 10\n",
    "b = 2\n",
    "c = a + b\n",
    "d = a * b\n",
    "e = a / b\n",
    "f = a % b  #나머지\n",
    "g = a // b  # 몫\n",
    "h = 2 ** 3  # 제곱\n",
    "print(a)\n",
    "print(b)\n",
    "print(c)\n",
    "print(d)\n",
    "print(e)\n",
    "print(f)\n",
    "print(g)\n",
    "print(h)"
   ]
  },
  {
   "cell_type": "code",
   "execution_count": 50,
   "id": "7f58f09c",
   "metadata": {},
   "outputs": [
    {
     "ename": "TypeError",
     "evalue": "can only concatenate str (not \"int\") to str",
     "output_type": "error",
     "traceback": [
      "\u001b[1;31m---------------------------------------------------------------------------\u001b[0m",
      "\u001b[1;31mTypeError\u001b[0m                                 Traceback (most recent call last)",
      "\u001b[1;32m~\\AppData\\Local\\Temp/ipykernel_3464/4124885594.py\u001b[0m in \u001b[0;36m<module>\u001b[1;34m\u001b[0m\n\u001b[0;32m      2\u001b[0m \u001b[0mstring\u001b[0m \u001b[1;33m=\u001b[0m \u001b[1;34m'문자열'\u001b[0m\u001b[1;33m\u001b[0m\u001b[1;33m\u001b[0m\u001b[0m\n\u001b[0;32m      3\u001b[0m \u001b[0mnumber\u001b[0m \u001b[1;33m=\u001b[0m \u001b[1;36m273\u001b[0m\u001b[1;33m\u001b[0m\u001b[1;33m\u001b[0m\u001b[0m\n\u001b[1;32m----> 4\u001b[1;33m \u001b[0mstring\u001b[0m \u001b[1;33m+\u001b[0m \u001b[0mnumber\u001b[0m\u001b[1;33m\u001b[0m\u001b[1;33m\u001b[0m\u001b[0m\n\u001b[0m",
      "\u001b[1;31mTypeError\u001b[0m: can only concatenate str (not \"int\") to str"
     ]
    }
   ],
   "source": [
    "# 다른 타입간 연산은 안됨\n",
    "string = '문자열'\n",
    "number = 273\n",
    "string + number"
   ]
  },
  {
   "cell_type": "code",
   "execution_count": 53,
   "id": "999a6a0f",
   "metadata": {},
   "outputs": [
    {
     "data": {
      "text/plain": [
       "float"
      ]
     },
     "execution_count": 53,
     "metadata": {},
     "output_type": "execute_result"
    }
   ],
   "source": [
    "a = 10\n",
    "a = '문자'\n",
    "a = 100.5\n",
    "type(a)"
   ]
  },
  {
   "cell_type": "code",
   "execution_count": 54,
   "id": "41540b8f",
   "metadata": {},
   "outputs": [
    {
     "data": {
      "text/plain": [
       "200"
      ]
     },
     "execution_count": 54,
     "metadata": {},
     "output_type": "execute_result"
    }
   ],
   "source": [
    "# 복합 대입 연산자\n",
    "num = 10\n",
    "num += 10\n",
    "num *= 10\n",
    "num"
   ]
  },
  {
   "cell_type": "code",
   "execution_count": 57,
   "id": "df9039e1",
   "metadata": {},
   "outputs": [
    {
     "data": {
      "text/plain": [
       "10.0"
      ]
     },
     "execution_count": 57,
     "metadata": {},
     "output_type": "execute_result"
    }
   ],
   "source": [
    "num = 100\n",
    "num /= 20\n",
    "num += 5\n",
    "num"
   ]
  },
  {
   "cell_type": "code",
   "execution_count": 55,
   "id": "ad745ff4",
   "metadata": {},
   "outputs": [
    {
     "name": "stdout",
     "output_type": "stream",
     "text": [
      "인사말을 입력하세요: 안녕하십니까\n"
     ]
    },
    {
     "data": {
      "text/plain": [
       "'안녕하십니까'"
      ]
     },
     "execution_count": 55,
     "metadata": {},
     "output_type": "execute_result"
    }
   ],
   "source": [
    "# 사용자 입력\n",
    "input('인사말을 입력하세요: ')"
   ]
  },
  {
   "cell_type": "code",
   "execution_count": 58,
   "id": "b69a06f2",
   "metadata": {},
   "outputs": [
    {
     "name": "stdout",
     "output_type": "stream",
     "text": [
      "숫자를 입력하세요: 20\n",
      "20\n"
     ]
    },
    {
     "data": {
      "text/plain": [
       "str"
      ]
     },
     "execution_count": 58,
     "metadata": {},
     "output_type": "execute_result"
    }
   ],
   "source": [
    "num = input('숫자를 입력하세요: ')\n",
    "print(num)\n",
    "type(num)"
   ]
  },
  {
   "cell_type": "code",
   "execution_count": 59,
   "id": "181985c9",
   "metadata": {},
   "outputs": [
    {
     "name": "stdout",
     "output_type": "stream",
     "text": [
      "숫자를 입력하세요4\n",
      "숫자를 입력하세요4\n",
      "44\n"
     ]
    }
   ],
   "source": [
    "num1 = input('숫자를 입력하세요')\n",
    "num2 = input('숫자를 입력하세요')\n",
    "print(num1 + num2)"
   ]
  },
  {
   "cell_type": "code",
   "execution_count": 60,
   "id": "50637d31",
   "metadata": {},
   "outputs": [
    {
     "name": "stdout",
     "output_type": "stream",
     "text": [
      "숫자를 입력하세요4\n",
      "숫자를 입력하세요4\n",
      "8\n"
     ]
    }
   ],
   "source": [
    "num1 = input('숫자를 입력하세요')\n",
    "num1_n = int(num1)\n",
    "num2 = input('숫자를 입력하세요')\n",
    "num2_n = int(num2)\n",
    "print(num1_n + num2_n)"
   ]
  },
  {
   "cell_type": "code",
   "execution_count": 64,
   "id": "2a23e59b",
   "metadata": {},
   "outputs": [
    {
     "name": "stdout",
     "output_type": "stream",
     "text": [
      "숫자를 입력하세요3\n",
      "숫자를 입력하세요3.3\n",
      "6.3\n"
     ]
    }
   ],
   "source": [
    "num1 = input('숫자를 입력하세요')\n",
    "num1_n = int(num1)\n",
    "num2 = input('숫자를 입력하세요')\n",
    "num2_n = float(num2)\n",
    "print(num1_n + num2_n)"
   ]
  },
  {
   "cell_type": "code",
   "execution_count": 66,
   "id": "0815c08f",
   "metadata": {},
   "outputs": [
    {
     "data": {
      "text/plain": [
       "'5252.273'"
      ]
     },
     "execution_count": 66,
     "metadata": {},
     "output_type": "execute_result"
    }
   ],
   "source": [
    "a = 52\n",
    "b = 52.273\n",
    "str(a) + str(b)"
   ]
  },
  {
   "cell_type": "code",
   "execution_count": 68,
   "id": "e28f75d9",
   "metadata": {},
   "outputs": [
    {
     "name": "stdout",
     "output_type": "stream",
     "text": [
      "python's value is great\n"
     ]
    }
   ],
   "source": [
    "# 문자열 : \"\", '', '\" \"', ''' '''\n",
    "p1 = \"python's value is great\"\n",
    "# p2 = 'python's value is great'\n",
    "print(p1)"
   ]
  },
  {
   "cell_type": "code",
   "execution_count": 69,
   "id": "a61d9a40",
   "metadata": {},
   "outputs": [
    {
     "data": {
      "text/plain": [
       "'\"python is valuable\" he says'"
      ]
     },
     "execution_count": 69,
     "metadata": {},
     "output_type": "execute_result"
    }
   ],
   "source": [
    "s1 = '\"python is valuable\" he says'\n",
    "s1"
   ]
  },
  {
   "cell_type": "code",
   "execution_count": 70,
   "id": "e131581d",
   "metadata": {},
   "outputs": [
    {
     "data": {
      "text/plain": [
       "\"python's vlaue is great\""
      ]
     },
     "execution_count": 70,
     "metadata": {},
     "output_type": "execute_result"
    }
   ],
   "source": [
    "s2 = 'python\\'s vlaue is great'\n",
    "s2"
   ]
  },
  {
   "cell_type": "code",
   "execution_count": 72,
   "id": "5e6249bf",
   "metadata": {},
   "outputs": [
    {
     "name": "stdout",
     "output_type": "stream",
     "text": [
      "Once you study data anaiysis\n",
      "You need Python\n",
      "Once you study data anaiysis You need Python\n",
      "Once you study data anaiysis You need Python\n"
     ]
    }
   ],
   "source": [
    "y1 = \"Once you study data anaiysis\\nYou need Python\"\n",
    "print(y1)\n",
    "y2 = '''Once you study data anaiysis You need Python'''\n",
    "print(y2)\n",
    "y3 = \"\"\"Once you study data anaiysis You need Python\"\"\"\n",
    "print(y3)"
   ]
  },
  {
   "cell_type": "code",
   "execution_count": 76,
   "id": "fea7222b",
   "metadata": {},
   "outputs": [
    {
     "name": "stdout",
     "output_type": "stream",
     "text": [
      "What a beautiful days\n",
      "What a beautiful days\n",
      "What a beautiful days\n"
     ]
    }
   ],
   "source": [
    "z1 = \"\"\"What a beautiful days\"\"\"\n",
    "print(z1)\n",
    "z2 = '''What a beautiful days'''\n",
    "print(z2)\n",
    "z3 = 'What a beautiful days'\n",
    "print(z3)"
   ]
  },
  {
   "cell_type": "code",
   "execution_count": 78,
   "id": "ea1de682",
   "metadata": {},
   "outputs": [
    {
     "name": "stdout",
     "output_type": "stream",
     "text": [
      "Pythonis easy to learn\n",
      "PythonPythonPython\n",
      "====================\n"
     ]
    }
   ],
   "source": [
    "# 문자열 연산\n",
    "a1 = 'Python'\n",
    "a2 = 'is easy to learn'\n",
    "print(a1 + a2)\n",
    "print(a1 * 3)\n",
    "print(\"=\" * 20)"
   ]
  },
  {
   "cell_type": "code",
   "execution_count": 79,
   "id": "54e438da",
   "metadata": {},
   "outputs": [
    {
     "name": "stdout",
     "output_type": "stream",
     "text": [
      "[1, 'a', 'abc', [1, 2, 3, 4, 5], ['a', 'b', 'c']]\n"
     ]
    }
   ],
   "source": [
    "# 자료형 - List\n",
    "# 리스트는 []로 표시하며 []안의 요소를 콤마로 구분하여 순서있게 나열\n",
    "list1 = [1,2,3,4,5]\n",
    "list2 = ['a', 'b','c']\n",
    "list3 = [1, 'a', 'abc', [1,2,3,4,5], ['a','b','c']]\n",
    "print(list3)"
   ]
  },
  {
   "cell_type": "code",
   "execution_count": 80,
   "id": "5ab1b6cc",
   "metadata": {},
   "outputs": [
    {
     "data": {
      "text/plain": [
       "'b'"
      ]
     },
     "execution_count": 80,
     "metadata": {},
     "output_type": "execute_result"
    }
   ],
   "source": [
    "#인덱싱\n",
    "list1 = [1,2,3,4,5]\n",
    "list1[:]\n",
    "list3[2]\n",
    "list3[3][4]\n",
    "list3[4][1]"
   ]
  },
  {
   "cell_type": "code",
   "execution_count": 84,
   "id": "0a393dcb",
   "metadata": {},
   "outputs": [
    {
     "name": "stdout",
     "output_type": "stream",
     "text": [
      "[1, 1, 2, 3, 4, 5, 6, 7, 8, 9]\n",
      "['a', 'a', 'c']\n",
      "['a', 'c']\n"
     ]
    }
   ],
   "source": [
    "# 리스트 수정, 삭제\n",
    "a = [0,1,2,3,4,5,6,7,8,9]\n",
    "b = ['a','b','c']\n",
    "a[0] = 1\n",
    "b[1] = 'a'\n",
    "\n",
    "print(a)\n",
    "print(b)\n",
    "del b[1]\n",
    "print(b)\n"
   ]
  },
  {
   "cell_type": "code",
   "execution_count": 86,
   "id": "594aef60",
   "metadata": {},
   "outputs": [
    {
     "name": "stdout",
     "output_type": "stream",
     "text": [
      "[0, 1, 2, 3, 4, 5, 6, 7, 8, 9, 'a', 'b', 'c']\n"
     ]
    },
    {
     "data": {
      "text/plain": [
       "[0, 1, 2, 3, 4, 5, 6, 7, 8, 9, 'a', 'b', 1]"
      ]
     },
     "execution_count": 86,
     "metadata": {},
     "output_type": "execute_result"
    }
   ],
   "source": [
    "a = [0,1,2,3,4,5,6,7,8,9]\n",
    "b = ['a','b','c']\n",
    "c = a + b\n",
    "print(c)\n",
    "c[-1] = 1\n",
    "c"
   ]
  },
  {
   "cell_type": "code",
   "execution_count": 87,
   "id": "92ff153f",
   "metadata": {},
   "outputs": [
    {
     "data": {
      "text/plain": [
       "[0, 1, 2, 3, 4, 5, 6, 7, 8, 9, 'a', 2, 1]"
      ]
     },
     "execution_count": 87,
     "metadata": {},
     "output_type": "execute_result"
    }
   ],
   "source": [
    "c[-2] =2\n",
    "c"
   ]
  },
  {
   "cell_type": "code",
   "execution_count": 93,
   "id": "d28ccf86",
   "metadata": {},
   "outputs": [
    {
     "name": "stdout",
     "output_type": "stream",
     "text": [
      "[1, 2, 3, 4]\n",
      "[4, 3, 2, 1]\n",
      "[4, 3, 2, 1]\n"
     ]
    }
   ],
   "source": [
    "# 정렬\n",
    "b = [2,4,3,1]\n",
    "b .sort()\n",
    "print(b)\n",
    "#내림차순\n",
    "b_d = sorted(b, reverse=True)\n",
    "print(b_d)\n",
    "b.reverse()\n",
    "print(b)"
   ]
  },
  {
   "cell_type": "code",
   "execution_count": 95,
   "id": "b3b730b4",
   "metadata": {},
   "outputs": [
    {
     "name": "stdout",
     "output_type": "stream",
     "text": [
      "[1, 1, 2, 2, 3, 4, 5, 6, 7, 8, 9]\n",
      "[9, 8, 7, 6, 5, 4, 3, 2, 2, 1, 1]\n"
     ]
    }
   ],
   "source": [
    "s = [1,1,2,3,4,5,6,7,8,9,2]\n",
    "s .sort()\n",
    "print(s)\n",
    "s.reverse()\n",
    "print(s)"
   ]
  },
  {
   "cell_type": "code",
   "execution_count": 96,
   "id": "09d46bc7",
   "metadata": {},
   "outputs": [
    {
     "name": "stdout",
     "output_type": "stream",
     "text": [
      "2\n"
     ]
    }
   ],
   "source": [
    "# 인덱스 위치 변환\n",
    "c =[1,2,3,1,5]\n",
    "print(c.index(3))"
   ]
  },
  {
   "cell_type": "code",
   "execution_count": 99,
   "id": "ab06f595",
   "metadata": {},
   "outputs": [
    {
     "name": "stdout",
     "output_type": "stream",
     "text": [
      "[64, 17, 33, 47, 50, 81, 94, 25, 68, 65, 9, 15, 46, 57, 91, 61, 18, 65, 84, 0, 80, 65, 57, 35, 22, 81, 28, 36, 1, 92, 13, 88, 93, 14, 36, 95, 70, 24, 65, 68, 62, 85, 21, 48, 58, 37, 64, 5, 24, 50, 0, 70, 85, 89, 37, 57, 91, 27, 64, 93, 40, 82, 54, 28, 70, 14, 61, 0, 54, 4, 53, 38, 49, 59, 6, 89, 29, 94, 86, 27, 0, 19, 3, 16, 41, 75, 20, 25, 27, 71, 35, 68, 48, 86, 12, 69, 86, 83, 85, 83]\n"
     ]
    },
    {
     "data": {
      "text/plain": [
       "9"
      ]
     },
     "execution_count": 99,
     "metadata": {},
     "output_type": "execute_result"
    }
   ],
   "source": [
    "import numpy as np\n",
    "c = np.random.randint(100, size=100).tolist()\n",
    "print(c)\n",
    "c.index(65)"
   ]
  },
  {
   "cell_type": "code",
   "execution_count": 100,
   "id": "f192e503",
   "metadata": {},
   "outputs": [
    {
     "name": "stdout",
     "output_type": "stream",
     "text": [
      "2\n"
     ]
    }
   ],
   "source": [
    "# 개수 반환\n",
    "c = [1,1,3,3,3,5,5]\n",
    "print(c.count(5))"
   ]
  },
  {
   "cell_type": "code",
   "execution_count": 102,
   "id": "989e3aed",
   "metadata": {},
   "outputs": [
    {
     "name": "stdout",
     "output_type": "stream",
     "text": [
      "[1, 2, 3, 4, 5]\n",
      "[1, 2, 3, 4, 5, 6]\n",
      "[5, 1, 2, 3, 4, 5, 6]\n",
      "[5, 1, 2, 3, 4, 5, 6, 7]\n"
     ]
    }
   ],
   "source": [
    "#리스트 확장\n",
    "h = [1,2,3]\n",
    "h.extend([4,5])\n",
    "print(h)\n",
    "#추가\n",
    "h.append(6)\n",
    "print(h)\n",
    "h.insert(0,5)\n",
    "print(h)\n",
    "h.append(7)\n",
    "print(h)"
   ]
  },
  {
   "cell_type": "code",
   "execution_count": 103,
   "id": "3ff1ec7d",
   "metadata": {},
   "outputs": [
    {
     "data": {
      "text/plain": [
       "'b'"
      ]
     },
     "execution_count": 103,
     "metadata": {},
     "output_type": "execute_result"
    }
   ],
   "source": [
    "#튜플\n",
    "tuple1 = (1,2,3,4,5)\n",
    "tuple2 = ('a','b','c')\n",
    "tuple3 =(1,'a','abc',[1,2,3,4,5], ['a','b','c'])\n",
    "\n",
    "tuple1[:]\n",
    "tuple3[2]\n",
    "tuple3[3][4]\n",
    "tuple3[4][1]"
   ]
  },
  {
   "cell_type": "code",
   "execution_count": 105,
   "id": "bc9cd048",
   "metadata": {},
   "outputs": [
    {
     "name": "stdout",
     "output_type": "stream",
     "text": [
      "[1, 2, 3, 4, 5]\n",
      "[6, 2, 3, 4, 5]\n"
     ]
    }
   ],
   "source": [
    "print(list1)\n",
    "list1[0] = 6\n",
    "print(list1)"
   ]
  },
  {
   "cell_type": "markdown",
   "id": "c42e212e",
   "metadata": {},
   "source": [
    "#자료형 - Tuple\n",
    "- #튜플의 요소 값은 변경할 수 없음- 프로그램에서 그 값이 항상 변하지 않아야되는 경우 사용"
   ]
  },
  {
   "cell_type": "code",
   "execution_count": 107,
   "id": "4a4cf982",
   "metadata": {},
   "outputs": [
    {
     "data": {
      "text/plain": [
       "3"
      ]
     },
     "execution_count": 107,
     "metadata": {},
     "output_type": "execute_result"
    }
   ],
   "source": [
    "tuple1 = (1,3,5,7,9)\n",
    "tuple2 = ('a','b','c')\n",
    "tuple3 =(1,'a','abc',[1,3,5,7,9], ['a','b','c'])\n",
    "\n",
    "tuple1[:]\n",
    "tuple3[2]\n",
    "tuple3[3][3]\n",
    "tuple3[3][1]"
   ]
  },
  {
   "cell_type": "code",
   "execution_count": 109,
   "id": "0c39f517",
   "metadata": {},
   "outputs": [
    {
     "name": "stdout",
     "output_type": "stream",
     "text": [
      "(1,)\n",
      "(1, 2, 3)\n",
      "(1, 2, 3, 1, 2, 3, 1, 2, 3)\n",
      "(1, 1, 2, 3)\n",
      "1\n"
     ]
    },
    {
     "data": {
      "text/plain": [
       "int"
      ]
     },
     "execution_count": 109,
     "metadata": {},
     "output_type": "execute_result"
    }
   ],
   "source": [
    "t1 = (1,) #1개의 요소만 가질 떄는 요소뒤에 콤마를 붙여야함\n",
    "print(t1)\n",
    "t2 = 1,2,3\n",
    "print(t2)\n",
    "print(t2 * 3)\n",
    "t3 = t1 + t2\n",
    "print(t3)\n",
    "t4 = (1)\n",
    "print(t4)\n",
    "type(t4)"
   ]
  },
  {
   "cell_type": "code",
   "execution_count": 110,
   "id": "801fdaab",
   "metadata": {},
   "outputs": [
    {
     "name": "stdout",
     "output_type": "stream",
     "text": [
      "1\n",
      "{'a': 1, 'b': 5, 'c': 3}\n"
     ]
    }
   ],
   "source": [
    "# 자료형 - 사전(키와 값을 하나의 요소로 하는  순서가 없는 집합)\n",
    "d1 = {'a':1,'b':2,'c':3}\n",
    "print(d1['a'])\n",
    "d1['b'] = 5\n",
    "print(d1)"
   ]
  },
  {
   "cell_type": "code",
   "execution_count": 114,
   "id": "840c064b",
   "metadata": {},
   "outputs": [
    {
     "name": "stdout",
     "output_type": "stream",
     "text": [
      "dict_keys(['a', 'b', 'c'])\n",
      "dict_values([1, 5, 3])\n",
      "dict_items([('a', 1), ('b', 5), ('c', 3)])\n"
     ]
    }
   ],
   "source": [
    "print(d1.keys())\n",
    "print(d1.values())\n",
    "print(d1.items())"
   ]
  },
  {
   "cell_type": "code",
   "execution_count": 126,
   "id": "0494e02d",
   "metadata": {},
   "outputs": [
    {
     "name": "stdout",
     "output_type": "stream",
     "text": [
      "3\n",
      "dict_values([3, 1, 1])\n",
      "dict_items([('z', 3), ('d', 1), ('n', 1)])\n"
     ]
    }
   ],
   "source": [
    "d1 = {'z':3,'d':5,'n':1}\n",
    "print(d1['z'])\n",
    "d1['d'] = 1\n",
    "print(d1.values())\n",
    "print(d1.items())"
   ]
  },
  {
   "cell_type": "code",
   "execution_count": 130,
   "id": "6490f88c",
   "metadata": {},
   "outputs": [
    {
     "name": "stdout",
     "output_type": "stream",
     "text": [
      "{1, 2, 3, 4, 5}\n",
      "{'l', 'H', 'o', 'e'}\n"
     ]
    }
   ],
   "source": [
    "# 자료형 = 집합, set(중복을 허용하지 않으며 순서가 없다.)\n",
    "s1 = set([1,2,5,4,3])\n",
    "s2 = set('Hello')\n",
    "print(s1)\n",
    "print(s2)"
   ]
  },
  {
   "cell_type": "code",
   "execution_count": 131,
   "id": "8cd8b753",
   "metadata": {},
   "outputs": [
    {
     "name": "stdout",
     "output_type": "stream",
     "text": [
      "2\n",
      "H\n"
     ]
    }
   ],
   "source": [
    "# 집합은 인덱싱으로 값을 얻을 수 없으며 필요시 리스트나 튜플로 변환 후 인덱싱\n",
    "l1 = list(s1)\n",
    "print(l1[1])\n",
    "l2 = list(s2)\n",
    "print(l2[1])"
   ]
  },
  {
   "cell_type": "code",
   "execution_count": 137,
   "id": "970c712a",
   "metadata": {},
   "outputs": [
    {
     "name": "stdout",
     "output_type": "stream",
     "text": [
      "{1, 2, 3, 4, 5, 6, 7, 8, 9} {4, 5, 6}\n"
     ]
    }
   ],
   "source": [
    "s1 = set([1,2,3,4,5,6])\n",
    "s2 = set([4,5,6,7,8,9])\n",
    "list1= (s1 | s2)\n",
    "list2= (s1 & s2)\n",
    "print(list1,list2)"
   ]
  },
  {
   "cell_type": "code",
   "execution_count": 139,
   "id": "8fda7ec3",
   "metadata": {},
   "outputs": [
    {
     "name": "stdout",
     "output_type": "stream",
     "text": [
      "a가 li에 있습니다.\n"
     ]
    }
   ],
   "source": [
    "# 들여쓰기\n",
    "li = ['a','b','c']\n",
    "if 'a' in li:\n",
    "    print('a가 li에 있습니다.')\n",
    "else:\n",
    "    print('a가 li에 없습니다.')"
   ]
  },
  {
   "cell_type": "code",
   "execution_count": 148,
   "id": "de4a1f61",
   "metadata": {},
   "outputs": [
    {
     "data": {
      "text/plain": [
       "'나의 이름은 이재호입니다. 나이는 26입니다.'"
      ]
     },
     "execution_count": 148,
     "metadata": {},
     "output_type": "execute_result"
    }
   ],
   "source": [
    "name = '이재호'\n",
    "age = 26\n",
    "f'나의 이름은 {name}입니다. 나이는 {age}입니다.'"
   ]
  },
  {
   "cell_type": "code",
   "execution_count": 145,
   "id": "7f5ba273",
   "metadata": {},
   "outputs": [
    {
     "data": {
      "text/plain": [
       "'나의 이름은이재호입니다.나이는30입니다.'"
      ]
     },
     "execution_count": 145,
     "metadata": {},
     "output_type": "execute_result"
    }
   ],
   "source": [
    "d = {'name':'이재호', 'age':30}\n",
    "f'나의 이름은{d[\"name\"]}입니다.나이는{d[\"age\"]}입니다.'"
   ]
  },
  {
   "cell_type": "code",
   "execution_count": 149,
   "id": "a143d8a8",
   "metadata": {},
   "outputs": [
    {
     "data": {
      "text/plain": [
       "'3.4213'"
      ]
     },
     "execution_count": 149,
     "metadata": {},
     "output_type": "execute_result"
    }
   ],
   "source": [
    "y = 3.42134234\n",
    "f'{y:0.4f}'"
   ]
  },
  {
   "cell_type": "code",
   "execution_count": 151,
   "id": "b02e32bf",
   "metadata": {},
   "outputs": [
    {
     "data": {
      "text/plain": [
       "'    3.4213'"
      ]
     },
     "execution_count": 151,
     "metadata": {},
     "output_type": "execute_result"
    }
   ],
   "source": [
    "f'{y:10.4f}'"
   ]
  },
  {
   "cell_type": "code",
   "execution_count": 156,
   "id": "9869c301",
   "metadata": {},
   "outputs": [
    {
     "name": "stdout",
     "output_type": "stream",
     "text": [
      "이재호선수가 1등입니다.\n",
      "이재호 선수가 1등입니다.\n"
     ]
    }
   ],
   "source": [
    "#포맷함수\n",
    "f1 = \"{}선수가 {}등입니다.\".format('이재호',1)\n",
    "# f1 = \"{1}선수가 {0}등입니다.\".format(1,'이재호')\n",
    "print(f1)\n",
    "print(\"%s 선수가 %d등입니다.\" %(\"이재호\",1))"
   ]
  },
  {
   "cell_type": "code",
   "execution_count": 157,
   "id": "e25f9f98",
   "metadata": {
    "scrolled": true
   },
   "outputs": [
    {
     "name": "stdout",
     "output_type": "stream",
     "text": [
      "파이썬가 자바보다 2배 쉽습니다.\n",
      "파이썬는 자바보다 2배 쉽습니다.\n"
     ]
    }
   ],
   "source": [
    "f1 = \"{}가 {}보다 {}배 쉽습니다.\".format('파이썬','자바',2)\n",
    "print(f1)\n",
    "print(\"%s는 %s보다 %d배 쉽습니다.\" %(\"파이썬\", \"자바\",2))"
   ]
  },
  {
   "cell_type": "code",
   "execution_count": 32,
   "id": "bed03cee",
   "metadata": {},
   "outputs": [
    {
     "name": "stdout",
     "output_type": "stream",
     "text": [
      "12345\n",
      "     12345\n",
      "12.3456789\n",
      "          12.346\n"
     ]
    }
   ],
   "source": [
    "x = 12345\n",
    "print(x)\n",
    "print(f'{x:10}')\n",
    "x = 12.3456789\n",
    "print(x)\n",
    "print(f'{x:16.5}')"
   ]
  },
  {
   "cell_type": "code",
   "execution_count": 205,
   "id": "6b8f4f61",
   "metadata": {},
   "outputs": [
    {
     "name": "stdout",
     "output_type": "stream",
     "text": [
      "현상 유지\n"
     ]
    }
   ],
   "source": [
    "# 제어문 - if~elif~else\n",
    "# \"수입과 지출금액을 비교해서 수입이 많으면 저축 증가, 반대이면 빚이 증가,\n",
    "# 같으면 현상 유지\"\n",
    "i = 5,000,000\n",
    "e = 5,000,000\n",
    "\n",
    "if i > e:\n",
    "   print('저축 증가')\n",
    "elif i < e:\n",
    "   print('빚이 증가')\n",
    "else:\n",
    "    print('현상 유지')"
   ]
  },
  {
   "cell_type": "code",
   "execution_count": 203,
   "id": "ef76c82b",
   "metadata": {},
   "outputs": [
    {
     "name": "stdout",
     "output_type": "stream",
     "text": [
      "5 15 6 20 7 25 "
     ]
    }
   ],
   "source": [
    "# for 반복문\n",
    "numbers = [5,15,6,20,7,25]\n",
    "for number in numbers:\n",
    "    print(number,end=' ')"
   ]
  },
  {
   "cell_type": "code",
   "execution_count": 245,
   "id": "4c887bc1",
   "metadata": {},
   "outputs": [
    {
     "name": "stdout",
     "output_type": "stream",
     "text": [
      "1 2 3 4 5 "
     ]
    }
   ],
   "source": [
    "# for ~ continue ~ break\n",
    "# 1~10 범위의 정수에서 1부터 5까지만 출력하세요\n",
    "for i in range(1,11):\n",
    "    print(i,end=' ')\n",
    "    if i < 5:\n",
    "        continue\n",
    "    else:\n",
    "        break"
   ]
  },
  {
   "cell_type": "code",
   "execution_count": null,
   "id": "8cc17641",
   "metadata": {},
   "outputs": [],
   "source": [
    "#numbers 리스트에서 15,20,25를 출력하세요(for문과 if 조건 사용 필수)\n",
    "numbers = [5,15,6,20,7,25]"
   ]
  },
  {
   "cell_type": "code",
   "execution_count": 253,
   "id": "4ae2a462",
   "metadata": {},
   "outputs": [
    {
     "name": "stdout",
     "output_type": "stream",
     "text": [
      "15 20 25 "
     ]
    }
   ],
   "source": [
    "numbers = [ 5, 15, 6, 20, 7, 25 ]\n",
    "for number in numbers:\n",
    "    if(number%5==0 and number>5):\n",
    "        print(number, end=' ')\n",
    "    else:\n",
    "        continue\n"
   ]
  },
  {
   "cell_type": "code",
   "execution_count": 254,
   "id": "018104f8",
   "metadata": {},
   "outputs": [
    {
     "name": "stdout",
     "output_type": "stream",
     "text": [
      "45\n",
      "1035\n"
     ]
    }
   ],
   "source": [
    "# while\n",
    "# 정수 1부터 n까지 더할 때 그 합이 1000보다 커지게 되는 n과 합을 구하세요\n",
    "\n",
    "x = 1\n",
    "sum = 0\n",
    "while 1:\n",
    "    sum = sum + x\n",
    "    if sum > 1000:\n",
    "        print(x)\n",
    "        print(sum)\n",
    "        break\n",
    "    x = x + 1"
   ]
  },
  {
   "cell_type": "code",
   "execution_count": 262,
   "id": "c8b3e58b",
   "metadata": {},
   "outputs": [
    {
     "name": "stdout",
     "output_type": "stream",
     "text": [
      "166833\n"
     ]
    }
   ],
   "source": [
    "# while를 사용해서 1부터 1000까지의 정수 중 3의 배수의 합을 구해 보세요\n",
    "i=0\n",
    "sum=0\n",
    "\n",
    "while i<1000:\n",
    "    i+=1\n",
    "    if i%3==0:\n",
    "        sum =sum+i\n",
    "\n",
    "print(sum)\n",
    "\n"
   ]
  },
  {
   "cell_type": "code",
   "execution_count": null,
   "id": "910aba92",
   "metadata": {},
   "outputs": [],
   "source": [
    "# [과제] 1부터 100까지의 정수중 5에서 95까지의 합을 구하세요"
   ]
  },
  {
   "cell_type": "code",
   "execution_count": 35,
   "id": "adf6135b",
   "metadata": {},
   "outputs": [
    {
     "name": "stdout",
     "output_type": "stream",
     "text": [
      "4550\n"
     ]
    }
   ],
   "source": [
    "i = 0\n",
    "sum = 0\n",
    "\n",
    "while i<100:\n",
    "    i+=1\n",
    "    if i>=5 and i<=95:\n",
    "        sum += i\n",
    "print(sum)"
   ]
  },
  {
   "cell_type": "code",
   "execution_count": 208,
   "id": "cfd69d7b",
   "metadata": {},
   "outputs": [
    {
     "name": "stdout",
     "output_type": "stream",
     "text": [
      "1\n",
      "2\n"
     ]
    }
   ],
   "source": [
    "a = 5 % 2\n",
    "b = 5 // 2\n",
    "print(a)\n",
    "print(b)"
   ]
  },
  {
   "cell_type": "code",
   "execution_count": 213,
   "id": "079fd7c5",
   "metadata": {},
   "outputs": [
    {
     "name": "stdout",
     "output_type": "stream",
     "text": [
      "1030301\n"
     ]
    }
   ],
   "source": [
    "print(101 ** 3)"
   ]
  },
  {
   "cell_type": "code",
   "execution_count": 217,
   "id": "6a0c53c6",
   "metadata": {},
   "outputs": [
    {
     "name": "stdout",
     "output_type": "stream",
     "text": [
      "Python3.8.4\n"
     ]
    }
   ],
   "source": [
    " a = \"Python\"\n",
    " b = \"3.8.4\"\n",
    "print(a + b )"
   ]
  },
  {
   "cell_type": "code",
   "execution_count": 227,
   "id": "4196436d",
   "metadata": {},
   "outputs": [
    {
     "data": {
      "text/plain": [
       "int"
      ]
     },
     "execution_count": 227,
     "metadata": {},
     "output_type": "execute_result"
    }
   ],
   "source": [
    "a=5; a='10';a=15\n",
    "type(a)"
   ]
  },
  {
   "cell_type": "code",
   "execution_count": 225,
   "id": "58e13e52",
   "metadata": {},
   "outputs": [
    {
     "name": "stdout",
     "output_type": "stream",
     "text": [
      "2\n"
     ]
    }
   ],
   "source": [
    "print((5**3)%3)"
   ]
  },
  {
   "cell_type": "code",
   "execution_count": 237,
   "id": "a3ccdc6a",
   "metadata": {},
   "outputs": [
    {
     "name": "stdout",
     "output_type": "stream",
     "text": [
      "이름이 무엇인가? 이재호\n",
      " 제 이름은 이재호 입니다.\n"
     ]
    }
   ],
   "source": [
    "name = input('이름이 무엇인가? ')\n",
    "print(' 제 이름은 '+name+' 입니다.')"
   ]
  },
  {
   "cell_type": "code",
   "execution_count": 241,
   "id": "68bcdb12",
   "metadata": {},
   "outputs": [
    {
     "name": "stdout",
     "output_type": "stream",
     "text": [
      "num1 : 3\n",
      "num2 : 5\n",
      "num3 : 7\n",
      "34.714285714285715\n"
     ]
    }
   ],
   "source": [
    "a = int(input(\"num1 : \"))\n",
    "b = int(input(\"num2 : \"))\n",
    "c = int(input(\"num3 : \"))\n",
    "print(a**b/c)\n"
   ]
  },
  {
   "cell_type": "code",
   "execution_count": 240,
   "id": "3c69ec63",
   "metadata": {},
   "outputs": [
    {
     "name": "stdout",
     "output_type": "stream",
     "text": [
      "숫자를 입력하세요1\n",
      "숫자를 입력하세요2\n",
      "숫자를 입력하세요3\n",
      "숫자를 입력하세요4\n",
      "숫자를 입력하세요5\n",
      "12345\n"
     ]
    }
   ],
   "source": [
    "num1 = input('숫자를 입력하세요')\n",
    "num2 = input('숫자를 입력하세요')\n",
    "num3 = input('숫자를 입력하세요')\n",
    "num4 = input('숫자를 입력하세요')\n",
    "num5 = input('숫자를 입력하세요')\n",
    "print(num1 + num2 + num3 + num4 + num5)"
   ]
  },
  {
   "cell_type": "code",
   "execution_count": null,
   "id": "48024b18",
   "metadata": {},
   "outputs": [],
   "source": [
    "# [과제] while문을 사용해서 1부터 1000까지의 정수중 3과 5의 공배수의 합을 구해보세요"
   ]
  },
  {
   "cell_type": "code",
   "execution_count": 19,
   "id": "e3b2a57f",
   "metadata": {},
   "outputs": [
    {
     "name": "stdout",
     "output_type": "stream",
     "text": [
      "33165\n"
     ]
    }
   ],
   "source": [
    "i=0\n",
    "sum=0\n",
    "while i<1000:\n",
    "    i+=1\n",
    "    if i%15==0:\n",
    "        sum+=i\n",
    "print(sum)\n"
   ]
  },
  {
   "cell_type": "code",
   "execution_count": null,
   "id": "a9acf6e9",
   "metadata": {},
   "outputs": [],
   "source": [
    "#[과제] 1부터  5까지 입력해서 12345를 출력하세요"
   ]
  },
  {
   "cell_type": "code",
   "execution_count": 279,
   "id": "af746345",
   "metadata": {},
   "outputs": [
    {
     "name": "stdout",
     "output_type": "stream",
     "text": [
      "숫자를 입력하세요1\n",
      "숫자를 입력하세요2\n",
      "숫자를 입력하세요3\n",
      "숫자를 입력하세요4\n",
      "숫자를 입력하세요5\n",
      "12345\n"
     ]
    }
   ],
   "source": [
    "num1 = input('숫자를 입력하세요')\n",
    "num2 = input('숫자를 입력하세요')\n",
    "num3 = input('숫자를 입력하세요')\n",
    "num4 = input('숫자를 입력하세요')\n",
    "num5 = input('숫자를 입력하세요')\n",
    "print(num1 + num2 + num3 + num4 + num5)"
   ]
  },
  {
   "cell_type": "code",
   "execution_count": null,
   "id": "a930c3c5",
   "metadata": {},
   "outputs": [],
   "source": [
    "#{0,1,2,3,4,5,6,7,8,9,'a','b','c'}에서 9와 'a'를 삭제 후 리스트로 출력하세요"
   ]
  },
  {
   "cell_type": "code",
   "execution_count": 275,
   "id": "c51f68d4",
   "metadata": {
    "scrolled": true
   },
   "outputs": [
    {
     "name": "stdout",
     "output_type": "stream",
     "text": [
      "[0, 1, 2, 3, 4, 5, 6, 7, 8, 'b', 'c']\n"
     ]
    }
   ],
   "source": [
    "a = [0,1,2,3,4,5,6,7,8,9,'a','b','c']\n",
    "del a[9]\n",
    "del a[9]\n",
    "print (a)"
   ]
  },
  {
   "cell_type": "code",
   "execution_count": null,
   "id": "eb75aab0",
   "metadata": {},
   "outputs": [],
   "source": [
    "#{0,1,2,3,4,5,6,7,8,'b','c'}에서'c'를 삭제 후 리스트로 출력하세요"
   ]
  },
  {
   "cell_type": "code",
   "execution_count": 276,
   "id": "bff6d52a",
   "metadata": {},
   "outputs": [
    {
     "name": "stdout",
     "output_type": "stream",
     "text": [
      "[0, 1, 2, 3, 4, 5, 6, 7, 8, 'b']\n"
     ]
    }
   ],
   "source": [
    "a = [0,1,2,3,4,5,6,7,8,'b','c']\n",
    "del a[10]\n",
    "print(a)"
   ]
  },
  {
   "cell_type": "code",
   "execution_count": null,
   "id": "7f6f3dc3",
   "metadata": {},
   "outputs": [],
   "source": [
    "#{4,8,5,4,8,4,3,9,1,9}를 내림차순으로 정렬하세요"
   ]
  },
  {
   "cell_type": "code",
   "execution_count": 278,
   "id": "59ac51b4",
   "metadata": {},
   "outputs": [
    {
     "name": "stdout",
     "output_type": "stream",
     "text": [
      "[9, 9, 8, 8, 5, 4, 4, 4, 3, 1]\n"
     ]
    }
   ],
   "source": [
    "a = [4,8,5,4,8,4,3,9,1,9]\n",
    "a_d = sorted(a, reverse=True)\n",
    "print(a_d)"
   ]
  },
  {
   "cell_type": "code",
   "execution_count": null,
   "id": "cac15299",
   "metadata": {},
   "outputs": [],
   "source": [
    "#format 함수를 이용해서 다음과 같은 형식으로 현재 날짜/시간을 출력하세요\n",
    "2021년 12월 29일 15시 47분 30초\n"
   ]
  },
  {
   "cell_type": "code",
   "execution_count": 37,
   "id": "53cb6caa",
   "metadata": {},
   "outputs": [
    {
     "name": "stdout",
     "output_type": "stream",
     "text": [
      "2021년 12월 30일 9시 43분 16초\n"
     ]
    }
   ],
   "source": [
    "import datetime\n",
    "t = datetime.datetime.now()\n",
    "f1 = \"{}년 {}월 {}일 {}시 {}분 {}초\". format(t.year, t.month, t.day, t.hour, t.minute, t.second)\n",
    "print(f1)"
   ]
  },
  {
   "cell_type": "code",
   "execution_count": 305,
   "id": "9aed3e2d",
   "metadata": {},
   "outputs": [
    {
     "data": {
      "text/plain": [
       "1640763455.9835522"
      ]
     },
     "execution_count": 305,
     "metadata": {},
     "output_type": "execute_result"
    }
   ],
   "source": [
    "#현재 시각을 오전과 오후로 구분하는 프로그램을 작성하세요\n",
    "import time\n",
    "time.time()"
   ]
  },
  {
   "cell_type": "code",
   "execution_count": 43,
   "id": "0945df4c",
   "metadata": {},
   "outputs": [
    {
     "name": "stdout",
     "output_type": "stream",
     "text": [
      "현재 시간은 9시로 오전입니다\n"
     ]
    }
   ],
   "source": [
    "import datetime\n",
    "\n",
    "now = datetime.datetime.now()\n",
    "\n",
    "\n",
    "if now.hour < 12:\n",
    "    print(\"현재 시간은 {}시로 오전입니다\".format(now.hour))\n",
    "\n",
    "\n",
    "if now.hour >= 12:\n",
    "    print(\"현재 시간은 {}시로 오후입니다\".format(now.hour))"
   ]
  },
  {
   "cell_type": "code",
   "execution_count": null,
   "id": "3451a13f",
   "metadata": {},
   "outputs": [],
   "source": [
    "#태어난 연도를 입력받아 띠를 출력하는 프로그램을 작성하세요\n",
    "#원숭이, 닭,개,돼지,쥐,소,범,토끼,용,뱀,말,양띠"
   ]
  },
  {
   "cell_type": "code",
   "execution_count": 44,
   "id": "447b059d",
   "metadata": {},
   "outputs": [
    {
     "name": "stdout",
     "output_type": "stream",
     "text": [
      "태어난 해를 입력하세요1996\n",
      "나는 쥐 띠입니다.\n"
     ]
    }
   ],
   "source": [
    "srt_input = input(\"태어난 해를 입력하세요\")\n",
    "birth_year = int(srt_input) % 12\n",
    "if birth_year == 0:\n",
    "    print(\"나는 원숭이 띠입니다.\")\n",
    "elif birth_year == 1:\n",
    "    print(\"나는 닭 띠입니다.\")\n",
    "elif birth_year == 2:\n",
    "    print(\"나는 개 띠입니다.\")\n",
    "elif birth_year == 3:\n",
    "    print(\"나는 돼지 띠입니다.\")\n",
    "elif birth_year == 4:\n",
    "    print(\"나는 쥐 띠입니다.\")\n",
    "elif birth_year == 5:\n",
    "    print(\"나는 소 띠입니다.\")\n",
    "elif birth_year == 6:\n",
    "    print(\"나는 범 띠입니다.\")\n",
    "elif birth_year == 7:\n",
    "    print(\"나는 토끼 띠입니다.\")\n",
    "elif birth_year == 8:\n",
    "    print(\"나는 용 띠입니다.\")\n",
    "elif birth_year == 9:\n",
    "    print(\"나는 뱀 띠입니다.\")\n",
    "elif birth_year == 10:\n",
    "    print(\"나는 말 띠입니다.\")\n",
    "elif birth_year == 11:\n",
    "    print(\"나는 양 띠입니다.\")"
   ]
  },
  {
   "cell_type": "code",
   "execution_count": null,
   "id": "2fe98296",
   "metadata": {},
   "outputs": [],
   "source": [
    "#정수를 입력하면 홀수 짝수를 판별하는 프로그램 작성"
   ]
  },
  {
   "cell_type": "code",
   "execution_count": 321,
   "id": "33082366",
   "metadata": {},
   "outputs": [
    {
     "name": "stdout",
     "output_type": "stream",
     "text": [
      "정수를 입력하세요: 5\n",
      "5 홀수 입니다.\n"
     ]
    }
   ],
   "source": [
    "number = int(input(\"정수를 입력하세요: \"))\n",
    "\n",
    "if number%2 == 1:\n",
    "    print(number, \"홀수 입니다.\")\n",
    "else:\n",
    "    print(number, \"짝수 입니다.\")"
   ]
  },
  {
   "cell_type": "code",
   "execution_count": null,
   "id": "4bc1d3da",
   "metadata": {},
   "outputs": [],
   "source": [
    "# 계절 구분 프로그램\n",
    "# 각 계절별 출력 멘트는 계절에 맞게 참작\n",
    "# if조건문으로 datetime모듈을 import해서 datetime.now 함수를 이용해서 작성"
   ]
  },
  {
   "cell_type": "code",
   "execution_count": 6,
   "id": "576ae376",
   "metadata": {},
   "outputs": [
    {
     "name": "stdout",
     "output_type": "stream",
     "text": [
      "지금은 겨울이네요.\n"
     ]
    }
   ],
   "source": [
    "import datetime\n",
    "\n",
    "now=datetime.datetime.now()\n",
    "\n",
    "if 3<=now.month<=5:\n",
    "    season=\"봄\"\n",
    "\n",
    "elif 6<=now.month<=8:\n",
    "    season=\"여름\"\n",
    "\n",
    "elif 9<=now.month<=11:\n",
    "    season=\"가을\"\n",
    "\n",
    "else:\n",
    "    season=\"겨울\"\n",
    "\n",
    "\n",
    "\n",
    "print(\"지금은 {}이네요.\".format(season))"
   ]
  },
  {
   "cell_type": "code",
   "execution_count": null,
   "id": "0f738289",
   "metadata": {},
   "outputs": [],
   "source": [
    "# 람다 함수를 이용해서 a의 b제곱을 구하는 식을 만들고 \n",
    "# a,b가 아래와 같이 주어졌을떄 각각의 값을 구하세요\n",
    "# a = 2, b =5\n",
    "# a = 5 b =2"
   ]
  },
  {
   "cell_type": "code",
   "execution_count": 45,
   "id": "d4ebbc45",
   "metadata": {},
   "outputs": [
    {
     "data": {
      "text/plain": [
       "32"
      ]
     },
     "execution_count": 45,
     "metadata": {},
     "output_type": "execute_result"
    }
   ],
   "source": [
    "z= lambda x:2 ** 5\n",
    "z(2)\n",
    "\n",
    "\n",
    "\n"
   ]
  },
  {
   "cell_type": "code",
   "execution_count": 46,
   "id": "6c3ae65b",
   "metadata": {},
   "outputs": [
    {
     "data": {
      "text/plain": [
       "25"
      ]
     },
     "execution_count": 46,
     "metadata": {},
     "output_type": "execute_result"
    }
   ],
   "source": [
    "d= lambda x:5 ** 2\n",
    "d(5)"
   ]
  },
  {
   "cell_type": "code",
   "execution_count": 47,
   "id": "040ab1bb",
   "metadata": {},
   "outputs": [
    {
     "name": "stdout",
     "output_type": "stream",
     "text": [
      "32\n",
      "25\n"
     ]
    }
   ],
   "source": [
    "x = lambda a,b: a**b\n",
    "print(x(2,5))\n",
    "print(x(5,2))"
   ]
  },
  {
   "cell_type": "code",
   "execution_count": 12,
   "id": "fe4c457b",
   "metadata": {},
   "outputs": [],
   "source": [
    "#커피 자판기 프로그램\n",
    "#시나리오: 자판기 커피 재고 5잔, 커피 1잔 가격 300원, 재고 범위 내에서 300원이상 돈을 넣으면 거스름돈과커피를 주고 그렇지 않으면 반환하며 재고가 소진되면 안내멘트 출력\n",
    "  #  각 case별 멘트 출력은 상황에 맞게 창작\n",
    " #   while.if~elif~else제어문을 사용하여 작성"
   ]
  },
  {
   "cell_type": "code",
   "execution_count": 49,
   "id": "cc1ecdf3",
   "metadata": {},
   "outputs": [
    {
     "name": "stdout",
     "output_type": "stream",
     "text": [
      "돈을 넣어주세요. : 300\n",
      "따뜻한 커피를 줍니다.\n",
      "돈을 넣어주세요. : 400\n",
      "거스름돈 100를 주고 따뜻한  커피를 줍니다. \n",
      "돈을 넣어주세요. : 500\n",
      "거스름돈 200를 주고 따뜻한  커피를 줍니다. \n",
      "돈을 넣어주세요. : 200\n",
      "돈을 다시 돌려주고 따뜻한 커피를 주지 않습니다.\n",
      "남은 커피의 양은 2개 입니다.\n",
      "돈을 넣어주세요. : 500\n",
      "거스름돈 200를 주고 따뜻한  커피를 줍니다. \n",
      "돈을 넣어주세요. : 400\n",
      "거스름돈 100를 주고 따뜻한  커피를 줍니다. \n",
      "커피가 다 떨어졌습니다. 다음에 사용 부탁드립니다\n"
     ]
    }
   ],
   "source": [
    "coffee = 5\n",
    "while 1:\n",
    "    money = int(input(\"돈을 넣어주세요. : \"))\n",
    "    if money == 300:\n",
    "        print(\"따뜻한 커피를 줍니다.\")\n",
    "        coffee = coffee - 1\n",
    "    elif money > 300:\n",
    "        print(\"거스름돈 %d를 주고 따뜻한  커피를 줍니다. \" %(money - 300))\n",
    "        coffee = coffee - 1\n",
    "    else:\n",
    "        print(\"돈을 다시 돌려주고 따뜻한 커피를 주지 않습니다.\")\n",
    "        print(\"남은 커피의 양은 %d개 입니다.\" %coffee)\n",
    "    if coffee == 0:\n",
    "        print(\"커피가 다 떨어졌습니다. 다음에 사용 부탁드립니다\")\n",
    "        break"
   ]
  },
  {
   "cell_type": "code",
   "execution_count": 52,
   "id": "8559506b",
   "metadata": {},
   "outputs": [
    {
     "name": "stdout",
     "output_type": "stream",
     "text": [
      "맛있는 커피를 300원에 드립니다. 현금을 넣어주세요!!300\n",
      "커피를 맛있게 드세요\n",
      "맛있는 커피를 300원에 드립니다. 현금을 넣어주세요!!300\n",
      "커피를 맛있게 드세요\n",
      "맛있는 커피를 300원에 드립니다. 현금을 넣어주세요!!300\n",
      "커피를 맛있게 드세요\n",
      "맛있는 커피를 300원에 드립니다. 현금을 넣어주세요!!300\n",
      "커피를 맛있게 드세요\n",
      "맛있는 커피를 300원에 드립니다. 현금을 넣어주세요!!300\n",
      "커피를 맛있게 드세요\n",
      "커피가 다 떨어졌습니다. 다음에 사용 해주세요.\n"
     ]
    }
   ],
   "source": [
    "coffee = 5\n",
    "price = 300\n",
    "\n",
    "while 1:\n",
    "    money = int(input(\"맛있는 커피를 300원에 드립니다. 현금을 넣어주세요!!\"))\n",
    "    if money == 300:\n",
    "        print('커피를 맛있게 드세요')\n",
    "        coffee -= 1\n",
    "    elif money > 300:\n",
    "        c = money - 300\n",
    "        print(f'따뜻한 커피 드시고 잔돈 {c}원을 챙기세요' )\n",
    "        coffee -= 1\n",
    "    else:\n",
    "        print(f'커피는 {price}원입니다. 현금을 다시 넣어 주세요.')\n",
    "    if coffee == 0:\n",
    "        print('커피가 다 떨어졌습니다. 다음에 사용 해주세요.')\n",
    "        break"
   ]
  },
  {
   "cell_type": "code",
   "execution_count": null,
   "id": "e16f67d5",
   "metadata": {},
   "outputs": [],
   "source": [
    "#외장함수에서는 install를 쓰지 않는다. "
   ]
  },
  {
   "cell_type": "markdown",
   "id": "f78c7c09",
   "metadata": {},
   "source": [
    "내장함수 , 외장함수\n",
    "https://codedrive.tistory.com/91"
   ]
  },
  {
   "cell_type": "code",
   "execution_count": 54,
   "id": "4a547a58",
   "metadata": {},
   "outputs": [
    {
     "data": {
      "text/plain": [
       "1"
      ]
     },
     "execution_count": 54,
     "metadata": {},
     "output_type": "execute_result"
    }
   ],
   "source": [
    "# 2와 5를 더한 후 3으로 나눈 나머지 값을 사용자 함수를 이용하여 구하세요\n",
    "def cal_abc(a,b,c):\n",
    "    return(a+b)%c\n",
    "cal_abc(2,5,3)"
   ]
  },
  {
   "cell_type": "code",
   "execution_count": null,
   "id": "f746a7cb",
   "metadata": {},
   "outputs": [],
   "source": [
    "# 문자열 앞의 공백을 제거하고 아래와 같이 출력하세요"
   ]
  },
  {
   "cell_type": "code",
   "execution_count": 56,
   "id": "20ea6684",
   "metadata": {},
   "outputs": [
    {
     "name": "stdout",
     "output_type": "stream",
     "text": [
      "It is true\n",
      "'Python is fit for data analysis'\n"
     ]
    }
   ],
   "source": [
    "input_a = \"\"\"\n",
    "                       It is true\n",
    "'Python is fit for data analysis'\n",
    "\"\"\"\n",
    "print(input_a.strip())"
   ]
  },
  {
   "cell_type": "code",
   "execution_count": 60,
   "id": "bfc4d410",
   "metadata": {},
   "outputs": [
    {
     "name": "stdout",
     "output_type": "stream",
     "text": [
      "['10', '20', '30', '40', '50']\n"
     ]
    },
    {
     "data": {
      "text/plain": [
       "['10', '20', '30', '40', '50']"
      ]
     },
     "execution_count": 60,
     "metadata": {},
     "output_type": "execute_result"
    }
   ],
   "source": [
    "# \"0/20/30/40/50\"을 '/'을 기준으로 자르세요\n",
    "a = \"10/20/30/40/50\"\n",
    "b = \"10,20,30,40,50\"\n",
    "print(a.split(\"/\"))\n",
    "b.split(\",\")"
   ]
  },
  {
   "cell_type": "code",
   "execution_count": 72,
   "id": "d7e16116",
   "metadata": {},
   "outputs": [
    {
     "name": "stdout",
     "output_type": "stream",
     "text": [
      "첫번째 숫자를 입력하세요 : 1\n",
      "두번째 숫자를 입력하세요 : 3\n",
      "4\n"
     ]
    }
   ],
   "source": [
    "# 짝수와 짝수를 입력하면 곱한 값을 출력하고 홀수와 홀수를 입력하면 덧셈 값을 출력하고 그외에는 다시 입력하라는 메시지를 출력하세요\n",
    "def cal_1(x,z):\n",
    "    return x*z\n",
    "def cal_2(x,z):\n",
    "    return x+z\n",
    "x = int(input(\"첫번째 숫자를 입력하세요 : \"))\n",
    "z = int(input(\"두번째 숫자를 입력하세요 : \"))\n",
    "if x%2==0 and x%2==0:\n",
    "    print(cal_1(x,z))\n",
    "elif z%2==1 and z%2==1:\n",
    "    print(cal_2(x,z))\n",
    "else:\n",
    "    print(\"다시 입력하세요\")\n"
   ]
  },
  {
   "cell_type": "code",
   "execution_count": 89,
   "id": "00381471",
   "metadata": {},
   "outputs": [
    {
     "name": "stdout",
     "output_type": "stream",
     "text": [
      "1\n",
      "3\n",
      "4\n"
     ]
    }
   ],
   "source": [
    "x = int(input())\n",
    "y = int(input())\n",
    "\n",
    "if (x % 2 ==0) & (y % 2 ==0):\n",
    "    print(x * y)\n",
    "elif (x % 2 ==1) & (y % 2 ==1):\n",
    "     print(x + y)\n",
    "else:\n",
    "    print('다시 입력해 주세요')\n",
    "    "
   ]
  },
  {
   "cell_type": "code",
   "execution_count": null,
   "id": "4a6c3d68",
   "metadata": {},
   "outputs": [],
   "source": [
    "# 과제 1부터 100까지의 아래와 같이 2개의 수를 곱해서 가장 큰 수를 구하세요\n",
    "1*99,2*98,.....,99*1"
   ]
  },
  {
   "cell_type": "code",
   "execution_count": 3,
   "id": "efe1475b",
   "metadata": {},
   "outputs": [
    {
     "name": "stdout",
     "output_type": "stream",
     "text": [
      "2500\n"
     ]
    }
   ],
   "source": [
    "n = 1\n",
    "result = 0\n",
    "while n<=100:\n",
    "    a = n*(100-n)\n",
    "    if a>result:\n",
    "        result = a\n",
    "        n+=1\n",
    "    else:\n",
    "        n+=1\n",
    "        continue\n",
    "print(result)\n"
   ]
  },
  {
   "cell_type": "code",
   "execution_count": null,
   "id": "3dea711c",
   "metadata": {},
   "outputs": [],
   "source": [
    "# 과제 (       )을 채워서 아래의 출력과 같이 출력하세요\n",
    "# 출력:\n",
    "#[[1,4,7],[2,5,8],[3,6,9]"
   ]
  },
  {
   "cell_type": "code",
   "execution_count": 322,
   "id": "9ffb63b8",
   "metadata": {},
   "outputs": [
    {
     "name": "stdout",
     "output_type": "stream",
     "text": [
      "[[1, 4, 7], [2, 5, 8], [3, 6, 9]]\n"
     ]
    }
   ],
   "source": [
    "numbers = [1, 2, 3, 4, 5 ,6, 7, 8, 9]\n",
    "output = [[], [], []]\n",
    "\n",
    "for number in numbers:\n",
    "    output[(number+2)%3].append(number)\n",
    "print(output)"
   ]
  },
  {
   "cell_type": "code",
   "execution_count": 4,
   "id": "36b3c331",
   "metadata": {},
   "outputs": [
    {
     "name": "stdout",
     "output_type": "stream",
     "text": [
      "[[1, 4, 7], [2, 5, 8], [3, 6, 9]]\n"
     ]
    }
   ],
   "source": [
    "numbers = [1,2,3,4,5,6,7,8,9]\n",
    "output = [[],[],[]]\n",
    "\n",
    "for number in numbers:\n",
    "    output[(number-1)%3].append(number)\n",
    "print(output)\n"
   ]
  },
  {
   "cell_type": "markdown",
   "id": "4bd71dd5",
   "metadata": {},
   "source": [
    "# Python random 모듈\n",
    "https://nittaku.tistory.com/443"
   ]
  },
  {
   "cell_type": "code",
   "execution_count": 82,
   "id": "28f3c6ea",
   "metadata": {},
   "outputs": [
    {
     "data": {
      "text/plain": [
       "array([12, 15, 21,  0,  3, 27,  3,  7,  9, 19, 21, 18,  4, 23,  6, 24, 24,\n",
       "       12, 26,  1])"
      ]
     },
     "execution_count": 82,
     "metadata": {},
     "output_type": "execute_result"
    }
   ],
   "source": [
    "import numpy as np\n",
    "np.random.seed(0)\n",
    "num = np.random.randint(30,size = 20)\n",
    "num"
   ]
  },
  {
   "cell_type": "code",
   "execution_count": null,
   "id": "4b6f1276",
   "metadata": {},
   "outputs": [],
   "source": [
    "# [과제] 사용자가 입력한 게임 횟수만큼 로또 번호를 출력하는 프로그램을 작성하세요."
   ]
  },
  {
   "cell_type": "code",
   "execution_count": 10,
   "id": "ca497a0f",
   "metadata": {},
   "outputs": [
    {
     "name": "stdout",
     "output_type": "stream",
     "text": [
      "입력횟수 : 10\n",
      " 로또번호 [29, 10, 9, 15, 6, 42, 41, 20, 36, 13]\n"
     ]
    }
   ],
   "source": [
    "import random \n",
    "n = int(input(\"입력횟수 : \"))\n",
    "lotto = []\n",
    "while len(lotto) < n :\n",
    "    num = random.randint(1,45)\n",
    "    if num not in lotto :\n",
    "        lotto.append(num)\n",
    "print(' 로또번호', lotto)"
   ]
  },
  {
   "cell_type": "code",
   "execution_count": 6,
   "id": "1198e624",
   "metadata": {},
   "outputs": [
    {
     "name": "stdout",
     "output_type": "stream",
     "text": [
      "게임 수 : 4\n",
      "[11, 12, 14, 18, 29, 38]\n",
      "[4, 13, 17, 25, 31, 39]\n",
      "[2, 4, 8, 11, 31, 36]\n",
      "[3, 8, 11, 23, 32, 35]\n"
     ]
    }
   ],
   "source": [
    "import random\n",
    "\n",
    "num = input(\"게임 수 : \")\n",
    "\n",
    "for i in range(0, int(num)):\n",
    "    lotto = random.sample(range(1, 46), 6)\n",
    "    lotto.sort()\n",
    "    print(lotto)\n"
   ]
  },
  {
   "cell_type": "code",
   "execution_count": 13,
   "id": "a2e57753",
   "metadata": {},
   "outputs": [
    {
     "name": "stdout",
     "output_type": "stream",
     "text": [
      "로또 횟수를 입력하세요> 5\n",
      "로또번호 1: [15, 17, 25, 38, 39, 42]\n",
      "로또번호 2: [4, 9, 12, 15, 18, 32]\n",
      "로또번호 3: [6, 15, 16, 17, 28, 35]\n",
      "로또번호 4: [8, 14, 17, 29, 31, 38]\n",
      "로또번호 5: [3, 9, 14, 24, 37, 42]\n"
     ]
    }
   ],
   "source": [
    "from random import shuffle\n",
    "from time import sleep\n",
    "\n",
    "gnum = int(input('로또 횟수를 입력하세요> '))\n",
    "for i in range(gnum):\n",
    "    lt = [x+1 for x in range(45)]\n",
    "    ret = []\n",
    "    for j in range(6):\n",
    "        shuffle(lt)\n",
    "        num = lt.pop()\n",
    "        ret.append(num)\n",
    "        ret.sort()\n",
    "    print('로또번호 %d: ' %(i+1), end='')\n",
    "    print(ret)\n",
    "    sleep(1)\n",
    "    "
   ]
  },
  {
   "cell_type": "code",
   "execution_count": 18,
   "id": "157b4769",
   "metadata": {},
   "outputs": [
    {
     "name": "stdout",
     "output_type": "stream",
     "text": [
      "입력> 5\n",
      "['정현우', '장종호', '임재곤', '김민성', '어정호']\n"
     ]
    }
   ],
   "source": [
    "# 발표할 인원을 입력하면 랜덤으로 발표자를 리스트로 출력하는프로그램을 만드세요(중복 허용안함)\n",
    "\n",
    "import random\n",
    "\n",
    "li = []\n",
    "num = int(input('입력> '))\n",
    "\n",
    "for i in range(num):\n",
    "    p = random.randint(0,29)\n",
    "    while p in li:\n",
    "        p = random.randint(0,29)\n",
    "    li.append(p)\n",
    "    \n",
    "alist = []\n",
    "name = ['권혁종', '김기연', '김기현', '김민성', '김영수', '김재경', '김정수', '김태형', '마경수', '문성윤',\n",
    "       '박광민','박종석','손창효','어정호','예지우','오주완','용지영','이동연','이용준','이재우',\n",
    "       '이재호','이현정','임재곤','장종호','정현우','조경윤','조남현','최종원','최지원']\n",
    "\n",
    "for i in li:\n",
    "    a = name[i]\n",
    "    alist.append(a)\n",
    "print(alist)\n"
   ]
  },
  {
   "cell_type": "code",
   "execution_count": 3,
   "id": "e309fd92",
   "metadata": {},
   "outputs": [
    {
     "name": "stdout",
     "output_type": "stream",
     "text": [
      "발표한 인원 : 3\n",
      "['문성윤', '최지원', '김영수']\n"
     ]
    }
   ],
   "source": [
    "import random\n",
    "li = ['권혁종', '김기연', '김기현', '김민성', '김영수', '김재경', '김정수', '김태형', '마경수', '문성윤',\n",
    "       '박광민','박종석','손창효','어정호','예지우','오주완','용지영','이동연','이용준','이재우',\n",
    "       '이재호','이현정','임재곤','장종호','정현우','조경윤','조남현','최종원','최지원']\n",
    "li2=[]\n",
    "n = int(input('발표한 인원 : '))\n",
    "num = random.sample(range(len(li)),n)\n",
    "for i in num:\n",
    "    li2.append(li[i])\n",
    "print(li2)\n"
   ]
  },
  {
   "cell_type": "code",
   "execution_count": 8,
   "id": "8cad996e",
   "metadata": {},
   "outputs": [
    {
     "name": "stdout",
     "output_type": "stream",
     "text": [
      "발표할 인원을 입력하세요 : 29\n",
      "['김기현', '임재곤', '이현정', '오주완', '김기연', '김영수', '정현우', '박종석', '박광민', '이동연', '문성윤', '용지영', '조남현', '손창효', '조경윤', '장종호', '이용준', '김재경', '어정호', '마경수', '김민성', '최지원', '김정수', '권혁종', '김태형', '이재호', '예지우', '이재우', '최종원']\n"
     ]
    }
   ],
   "source": [
    "from random import shuffle\n",
    "name = ['권혁종', '김기연', '김기현', '김민성', '김영수', '김재경', '김정수', '김태형', '마경수', '문성윤',\n",
    "       '박광민','박종석','손창효','어정호','예지우','오주완','용지영','이동연','이용준','이재우',\n",
    "       '이재호','이현정','임재곤','장종호','정현우','조경윤','조남현','최종원','최지원']\n",
    "member=[]\n",
    "shuffle(name)\n",
    "num=int(input('발표할 인원을 입력하세요 : '))\n",
    "for i in range(num):\n",
    "    member.append(name[i])\n",
    "    \n",
    "print(member)\n"
   ]
  },
  {
   "cell_type": "code",
   "execution_count": null,
   "id": "70ffc393",
   "metadata": {},
   "outputs": [],
   "source": [
    "from random import shuffle\n",
    "name = ['권혁종', '김기연', '김기현', '김민성', '김영수', '김재경', '김정수', '김태형', '마경수', '문성윤',\n",
    "       '박광민','박종석','손창효','어정호','예지우','오주완','용지영','이동연','이용준','이재우',\n",
    "       '이재호','이현정','임재곤','장종호','정현우','조경윤','조남현','최종원','최지원']\n",
    "member=[]\n",
    "shuffle(name)\n",
    "num=int(input('발표할 인원 :'))\n",
    "for i in range(num):\n",
    "    member.append(name[i])\n",
    "    \n",
    "print(member)"
   ]
  },
  {
   "cell_type": "code",
   "execution_count": 2,
   "id": "3fdfdb10",
   "metadata": {},
   "outputs": [
    {
     "name": "stdout",
     "output_type": "stream",
     "text": [
      "입력> 5\n"
     ]
    }
   ],
   "source": [
    "import random\n",
    "\n",
    "li = []\n",
    "num = int(input('입력> '))\n",
    "\n",
    "for i in range(num):\n",
    "    p = random.randint(0,29)\n",
    "    \n",
    "name = ['권혁종', '김기연', '김기현', '김민성', '김영수', '김재경', '김정수', '김태형', '마경수', '문성윤',\n",
    "       '박광민','박종석','손창효','어정호','예지우','오주완','용지영','이동연','이용준','이재우',\n",
    "       '이재호','이현정','임재곤','장종호','정현우','조경윤','조남현','최종원','최지원']\n"
   ]
  },
  {
   "cell_type": "code",
   "execution_count": 277,
   "id": "d28add6b",
   "metadata": {},
   "outputs": [
    {
     "data": {
      "text/plain": [
       "['w5', 'w2', 'w3', 'w1', 'w4']"
      ]
     },
     "execution_count": 277,
     "metadata": {},
     "output_type": "execute_result"
    }
   ],
   "source": [
    "# [과제] 남녀 파트너 정해주기 프로그램을 작성하세요.(5개 커플)\n",
    " "
   ]
  },
  {
   "cell_type": "code",
   "execution_count": 286,
   "id": "824e0514",
   "metadata": {
    "scrolled": true
   },
   "outputs": [
    {
     "name": "stdout",
     "output_type": "stream",
     "text": [
      "커플1 m3 - w1\n",
      "커플2 m2 - w5\n",
      "커플3 m1 - w3\n",
      "커플4 m5 - w2\n",
      "커플5 m4 - w4\n"
     ]
    }
   ],
   "source": [
    "from random import shuffle\n",
    "\n",
    " \n",
    "\n",
    "male=['m1','m2','m3','m4','m5']\n",
    "\n",
    "female=['w1','w2','w3','w4','w5']\n",
    "\n",
    "shuffle(male)\n",
    "\n",
    "shuffle(female)\n",
    "\n",
    "couples=zip(male,female)\n",
    "\n",
    " \n",
    "\n",
    "for i,couple in enumerate(couples):\n",
    "\n",
    "    print('커플%d %s - %s'%(i+1,couple[0],couple[1]))"
   ]
  },
  {
   "cell_type": "code",
   "execution_count": 14,
   "id": "71d073c3",
   "metadata": {},
   "outputs": [
    {
     "name": "stdout",
     "output_type": "stream",
     "text": [
      "[['남자2호', '여자2호'], ['남자1호', '여자4호'], ['남자5호', '여자3호'], ['남자3호', '여자1호'], ['남자4호', '여자5호']]\n"
     ]
    }
   ],
   "source": [
    "import random\n",
    "male=['남자1호','남자2호','남자3호','남자4호','남자5호']\n",
    "female=['여자1호','여자2호','여자3호','여자4호','여자5호']\n",
    "couple=[]\n",
    "for i in range(5):\n",
    "    random.shuffle(male)\n",
    "    random.shuffle(female)\n",
    "    c=[male[0],female[0]]\n",
    "    couple.append(c)\n",
    "    del male[0]\n",
    "    del female[0]\n",
    "print((couple))\n"
   ]
  },
  {
   "cell_type": "code",
   "execution_count": 20,
   "id": "bc7b645b",
   "metadata": {},
   "outputs": [
    {
     "name": "stdout",
     "output_type": "stream",
     "text": [
      "Couple1: 4-d\n",
      "Couple2: 1-e\n",
      "Couple3: 5-c\n",
      "Couple4: 3-b\n",
      "Couple5: 2-a\n"
     ]
    }
   ],
   "source": [
    "import random\n",
    "m = list('12345')\n",
    "f = list('abcde')\n",
    "random.shuffle(m)\n",
    "random.shuffle(f)\n",
    "couples = zip(m,f)\n",
    "for i, couple in enumerate(couples):\n",
    "    print('Couple%d: %s-%s' %(i+1, couple[0], couple[1]))\n"
   ]
  },
  {
   "cell_type": "code",
   "execution_count": 152,
   "id": "4373a5ad",
   "metadata": {},
   "outputs": [
    {
     "name": "stdout",
     "output_type": "stream",
     "text": [
      "입력 : abdc\n",
      "bdca\n"
     ]
    }
   ],
   "source": [
    "#입력받은 문자열의 각 문자를 그 다음 문자로 변경하여 출력하세요.\n",
    "#abcde -> bcdea\n",
    "\n",
    "a=list(input(\"입력 : \"))\n",
    "\n",
    "for i in range(len(a)-1):\n",
    "    print(a[i+1],end='')\n",
    "print(a[0])\n"
   ]
  },
  {
   "cell_type": "code",
   "execution_count": 154,
   "id": "5f6dcbc7",
   "metadata": {},
   "outputs": [
    {
     "name": "stdout",
     "output_type": "stream",
     "text": [
      "dlwogh\n",
      "lwogd\n"
     ]
    }
   ],
   "source": [
    "sen = input()\n",
    "print(sen[1:5] + sen[0])\n"
   ]
  },
  {
   "cell_type": "code",
   "execution_count": 159,
   "id": "68f65f60",
   "metadata": {},
   "outputs": [
    {
     "name": "stdout",
     "output_type": "stream",
     "text": [
      "문장을 입력하세요> 이재호\n",
      "재호이\n"
     ]
    }
   ],
   "source": [
    "text = input('문장을 입력하세요> ')\n",
    "ret = ''\n",
    "for i in range(len(text)):\n",
    "    if i !=len(text)-1:\n",
    "        ret += text[i+1]\n",
    "    else:\n",
    "      ret += text[0]\n",
    "print(ret)"
   ]
  },
  {
   "cell_type": "code",
   "execution_count": null,
   "id": "c9a1ed68",
   "metadata": {},
   "outputs": [],
   "source": [
    "# [과제]  음식점의 주문 가격 산출 프로그램을 자유롭게 작성하세요. "
   ]
  },
  {
   "cell_type": "code",
   "execution_count": 91,
   "id": "f887dd26",
   "metadata": {},
   "outputs": [
    {
     "ename": "IndentationError",
     "evalue": "unindent does not match any outer indentation level (<tokenize>, line 6)",
     "output_type": "error",
     "traceback": [
      "\u001b[1;36m  File \u001b[1;32m\"<tokenize>\"\u001b[1;36m, line \u001b[1;32m6\u001b[0m\n\u001b[1;33m    1. 불고기 비빔밥 : 12,000원\u001b[0m\n\u001b[1;37m    ^\u001b[0m\n\u001b[1;31mIndentationError\u001b[0m\u001b[1;31m:\u001b[0m unindent does not match any outer indentation level\n"
     ]
    }
   ],
   "source": [
    "중앙 식당에 오신 것을 환영합니다\n",
    "\n",
    "========================================\n",
    "\n",
    "          - 메  뉴 -\n",
    "    1. 불고기 비빔밥 : 12,000원\n",
    "    2. 야채 비빔밥 : 8,000원\n",
    "    3. 전주 비빔밥 : 10,000원\n",
    "\n",
    "    세트 주문시 : 3000원 추가\n",
    "    (세트는 밥과 반찬이 추가됩니다.)\n",
    "\n",
    "========================================\n",
    "\n",
    "비빔밥 메뉴를 선택해 주세요. 1, 2, 3 >>> 2\n",
    "세트 주문을 하시겠습니까? 3,000원 추가. y, n >>> y\n",
    "총 금액은 11000원 입니다.\n"
   ]
  },
  {
   "cell_type": "code",
   "execution_count": 167,
   "id": "fcae263b",
   "metadata": {},
   "outputs": [
    {
     "name": "stdout",
     "output_type": "stream",
     "text": [
      "중앙중국집에 오신 것을 환영합니다\n",
      "=============================\n",
      "\n",
      "         - 메  뉴 -\n",
      "   1. 짜장면 : 6,000원\n",
      "   2. 짬뽕   : 7,000원\n",
      "   3. 만두   : 3,000원\n",
      "  4.탕수육    : 14,000\n",
      "\n",
      "세트 주문시 : 3,000원 추가\n",
      "  (음료수 추가와 곱빼기)\n",
      "\n",
      "==============================\n",
      "메뉴를 선택해 주세요.1,2,3,4: 3\n",
      "세트 주문을 하시겠습니까? 3,000원 추가. y,n: y\n",
      "총 금액은 6,000원입니다.\n"
     ]
    }
   ],
   "source": [
    "print('중앙중국집에 오신 것을 환영합니다\\n=============================\\n\\n         - 메  뉴 -\\n   1. 짜장면 : 6,000원\\n   2. 짬뽕   : 7,000원\\n   3. 만두   : 3,000원\\n  4.탕수육    : 14,000\\n\\n세트 주문시 : 3,000원 추가\\n  (음료수 추가와 곱빼기)\\n\\n==============================')\n",
    "\n",
    "\n",
    "m=int(input('메뉴를 선택해 주세요.1,2,3,4: '))\n",
    "s=input('세트 주문을 하시겠습니까? 3,000원 추가. y,n: ')\n",
    "if (m==1):\n",
    "    if (s==\"y\"):\n",
    "        print('총 금액은 9,000원입니다.')\n",
    "    else:\n",
    "        print('총 금액은 6,000원입니다.')\n",
    "elif (m==2):\n",
    "    if (s==\"y\"):\n",
    "        print('총 금액은 10,000원입니다.')\n",
    "    else:\n",
    "        print('총 금액은 7,000원입니다.')\n",
    "elif (m==3):\n",
    "    if (s==\"y\"):\n",
    "        print('총 금액은 6,000원입니다.')\n",
    "    else:\n",
    "        print('총 금액은 3,000원입니다.')\n",
    "else:\n",
    "    if (s==\"y\"):\n",
    "        print('총 금액은 17,000원입니다.')\n",
    "    else:\n",
    "        print('총 금액은 14,000원입니다.')\n"
   ]
  },
  {
   "cell_type": "code",
   "execution_count": 23,
   "id": "9a6700f0",
   "metadata": {},
   "outputs": [
    {
     "ename": "IndentationError",
     "evalue": "expected an indented block (Temp/ipykernel_2452/3056593636.py, line 22)",
     "output_type": "error",
     "traceback": [
      "\u001b[1;36m  File \u001b[1;32m\"C:\\Users\\admin\\AppData\\Local\\Temp/ipykernel_2452/3056593636.py\"\u001b[1;36m, line \u001b[1;32m22\u001b[0m\n\u001b[1;33m    order = input('메뉴를 선택해 주세요. 1,2,3 >>>')\u001b[0m\n\u001b[1;37m    ^\u001b[0m\n\u001b[1;31mIndentationError\u001b[0m\u001b[1;31m:\u001b[0m expected an indented block\n"
     ]
    }
   ],
   "source": [
    "# [과제] 수정 보완하세요.\n",
    "meau = \"\"\"\n",
    "          - 메      뉴-\n",
    "          \n",
    "    1. 떡볶이   : 6,000원\n",
    "    2. 순대     : 7,000원\n",
    "    3. 김밥     : 3,000원\n",
    "    \n",
    "    세트 주문시 : 3000원 추가\n",
    "    \n",
    "\"\"\"\n",
    "\n",
    "print('중앙 식당에 오신 것을 환영합니다.'+'\\n')\n",
    "print(\"=\"*40)\n",
    "print(meau)\n",
    "print(\"=\"*40)\n",
    "print()\n",
    "\n",
    "while 1:\n",
    "    \n",
    "\n",
    "order = input('메뉴를 선택해 주세요. 1,2,3 >>>')\n",
    "combo = input('세트 메뉴를 주문하시겠습니까? 3,000원 추가.y,n >>>')\n",
    "\n",
    "price = 0\n",
    "if order == '1':\n",
    "    price = 6000\n",
    "if order == '2':\n",
    "    price = 7000 \n",
    "else:\n",
    "    price = 3000\n",
    "    \n",
    "if combo == 'y':\n",
    "    price += 3000\n",
    "elif combo == 'n':\n",
    "    price = price\n",
    "else:\n",
    "    print('잘못 입력했습니다. y or n을 입력해 주세요')\n",
    "print(f'총 금액은 (price)원 입니다. ')"
   ]
  },
  {
   "cell_type": "code",
   "execution_count": null,
   "id": "2c6cb3e5",
   "metadata": {},
   "outputs": [],
   "source": []
  },
  {
   "cell_type": "code",
   "execution_count": 21,
   "id": "00f15f4f",
   "metadata": {},
   "outputs": [
    {
     "name": "stdout",
     "output_type": "stream",
     "text": [
      "♣♣♣중앙 식당에 오신 것을 환영합니다♣♣♣\n",
      "\n",
      "========================================\n",
      "\n",
      "          - 메  뉴 -\n",
      "          \n",
      "    1. 불고기 비빔밥 : 12,000원\n",
      "    2. 야채 비빔밥 : 8,000원\n",
      "    3. 전주 비빔밥 : 10,000원\n",
      "\n",
      "    세트 주문시 : 3000원 추가\n",
      "    (세트는 밥과 반찬이 추가됩니다.)\n",
      "\n",
      "========================================\n",
      "\n",
      "■장바구니\n",
      " 불고기 비빔밥 0개: 0원\n",
      " 불고기 비빔밥 세트 0개: 0원\n",
      " 야채 비빔밥 0개: 0원\n",
      " 야채 비빔밥 세트 0개: 0원\n",
      " 전주 비빔밥 0개: 0원\n",
      " 전주 비빔밥 세트 0개: 0원\n",
      " 총 금액 0원\n",
      "\n",
      "●주문할 메뉴를 골라주세요. (불고기 비빔밥:1, 야채 비빔밥:2, 전주 비빔밥:3, 전체 취소:0, 주문확정:주문)\n",
      "3\n",
      "\n",
      "●3000원을 추가해 세트(밥, 반찬 추가)로 주문하시겠습니까? (일반주문시:n, 세트주문시:y, 이외는 취소)\n",
      "y\n",
      "\n",
      "●전주 비빔밥 세트 몇개 주문 하시겠습니까?\n",
      "2\n",
      "\n",
      "전주 비빔밥 세트 2개가 장바구니에 담겼습니다.\n",
      "\n",
      "♣♣♣중앙 식당에 오신 것을 환영합니다♣♣♣\n",
      "\n",
      "========================================\n",
      "\n",
      "          - 메  뉴 -\n",
      "          \n",
      "    1. 불고기 비빔밥 : 12,000원\n",
      "    2. 야채 비빔밥 : 8,000원\n",
      "    3. 전주 비빔밥 : 10,000원\n",
      "\n",
      "    세트 주문시 : 3000원 추가\n",
      "    (세트는 밥과 반찬이 추가됩니다.)\n",
      "\n",
      "========================================\n",
      "\n",
      "■장바구니\n",
      " 불고기 비빔밥 0개: 0원\n",
      " 불고기 비빔밥 세트 0개: 0원\n",
      " 야채 비빔밥 0개: 0원\n",
      " 야채 비빔밥 세트 0개: 0원\n",
      " 전주 비빔밥 0개: 0원\n",
      " 전주 비빔밥 세트 2개: 26000원\n",
      " 총 금액 26000원\n",
      "\n",
      "●주문할 메뉴를 골라주세요. (불고기 비빔밥:1, 야채 비빔밥:2, 전주 비빔밥:3, 전체 취소:0, 주문확정:주문)\n",
      "주문\n",
      "\n",
      "●주문하려면 결제해주세요. 결제금액은 26000원 입니다.\n",
      "26000\n",
      "\u001b[31m\n",
      "☆★☆★☆★☆★결제가 완료되었습니다. 조금만 기다려주세요!★☆★☆★☆★☆\u001b[0m\n"
     ]
    }
   ],
   "source": [
    "import string\n",
    "\n",
    "current_bul = 0\n",
    "current_bulset = 0\n",
    "current_veg = 0\n",
    "current_vegset = 0\n",
    "current_jeon = 0\n",
    "current_jeonset = 0\n",
    "price_bul = 12000\n",
    "price_veg = 8000\n",
    "price_jeon = 10000\n",
    "price_set = 3000\n",
    "price_total = 0\n",
    "\n",
    "while 1:\n",
    "    menu = input(f\"\"\"♣♣♣중앙 식당에 오신 것을 환영합니다♣♣♣\n",
    "\n",
    "========================================\n",
    "\n",
    "          - 메  뉴 -\n",
    "          \n",
    "    1. 불고기 비빔밥 : 12,000원\n",
    "    2. 야채 비빔밥 : 8,000원\n",
    "    3. 전주 비빔밥 : 10,000원\n",
    "\n",
    "    세트 주문시 : 3000원 추가\n",
    "    (세트는 밥과 반찬이 추가됩니다.)\n",
    "\n",
    "========================================\n",
    "\n",
    "■장바구니\n",
    " 불고기 비빔밥 {current_bul}개: {current_bul*price_bul}원\n",
    " 불고기 비빔밥 세트 {current_bulset}개: {current_bulset*(price_bul+3000)}원\n",
    " 야채 비빔밥 {current_veg}개: {current_veg*price_veg}원\n",
    " 야채 비빔밥 세트 {current_vegset}개: {current_vegset*(price_veg+3000)}원\n",
    " 전주 비빔밥 {current_jeon}개: {current_jeon*price_jeon}원\n",
    " 전주 비빔밥 세트 {current_jeonset}개: {current_jeonset*(price_jeon+3000)}원\n",
    " 총 금액 {price_total}원\n",
    "\n",
    "●주문할 메뉴를 골라주세요. (불고기 비빔밥:1, 야채 비빔밥:2, 전주 비빔밥:3, 전체 취소:0, 주문확정:주문)\\n\"\"\")\n",
    "    if(menu.isdigit() == True):\n",
    "        if int(menu) == 1:\n",
    "            while 1:\n",
    "                bul_choice = input('\\n●3000원을 추가해 세트(밥, 반찬 추가)로 주문하시겠습니까? (일반주문시:n, 세트주문시:y, 이외는 취소)\\n')\n",
    "                if bul_choice == 'y':\n",
    "                    bulset_num = input('\\n●불고기 비빔밥 세트 몇개 주문 하시겠습니까?\\n')\n",
    "                    if(bulset_num.isdigit() == True):\n",
    "                        if int(bulset_num) > 0:\n",
    "                            print(f'\\n불고기 버거 세트 {bulset_num}개가 장바구니에 담겼습니다.\\n')\n",
    "                            current_bulset += int(bulset_num)\n",
    "                            price_total += int(bulset_num) * (price_bul + price_set)\n",
    "                            break\n",
    "                        else:\n",
    "                            print('\\033[31m' + '\\n★양수만 입력하세요. 세트 선택으로 돌아갑니다★' + '\\033[0m')\n",
    "                            \n",
    "                            continue\n",
    "    \n",
    "                    else:\n",
    "                        print('\\033[31m' + '\\n★숫자만 입력하세요!! 세트 선택으로 돌아갑니다.★' + '\\033[0m')\n",
    "                        continue\n",
    "                                \n",
    "                elif bul_choice == 'n':\n",
    "                    bul_num = input('\\n●불고기 비빔밥 몇개 주문 하시겠습니까?\\n')\n",
    "                    if(bul_num.isdigit() == True):\n",
    "                        if int(bul_num) > 0:\n",
    "                            print(f'\\n불고기 버거 세트 {bul_num}개가 장바구니에 담겼습니다.\\n')\n",
    "                            current_bul += int(bul_num)\n",
    "                            price_total += int(bul_num) * price_bul\n",
    "                            break\n",
    "                        else:\n",
    "                            print('\\033[31m' + '\\n★양수만 입력하세요. 세트 선택으로 돌아갑니다★' + '\\033[0m')\n",
    "                            continue\n",
    "    \n",
    "                    else:\n",
    "                        print('\\033[31m' + '\\n★숫자만 입력하세요!! 세트 선택으로 돌아갑니다.★' + '\\033[0m')\n",
    "                        continue\n",
    "\n",
    "                else:\n",
    "                    print('\\033[31m' + '\\n★취소 되었습니다. 초기 화면으로 돌아갑니다★\\n' + '\\033[0m')\n",
    "                    break\n",
    "                \n",
    "        if int(menu) == 2:\n",
    "            while 1:\n",
    "                veg_choice = input('\\n●3000원을 추가해 세트(밥, 반찬 추가)로 주문하시겠습니까? (일반주문시:n, 세트주문시:y, 이외는 취소)\\n')\n",
    "                if veg_choice == 'y':\n",
    "                    vegset_num = input('\\n●야채 비빔밥 세트 몇개 주문 하시겠습니까?\\n')\n",
    "                    if(vegset_num.isdigit() == True):\n",
    "                        if int(vegset_num) > 0:\n",
    "                            print(f'\\n야채 비빔밥 세트 {vegset_num}개가 장바구니에 담겼습니다.\\n')\n",
    "                            current_vegset += int(vegset_num)\n",
    "                            price_total += int(vegset_num) * (price_veg + price_set)\n",
    "                            break\n",
    "                        else:\n",
    "                            print('\\033[31m' + '\\n★양수만 입력하세요. 세트 선택으로 돌아갑니다★' + '\\033[0m')\n",
    "                            continue\n",
    "\n",
    "                    else:\n",
    "                        print('\\033[31m' + '\\n★숫자만 입력하세요!! 세트 선택으로 돌아갑니다.★' + '\\033[0m')\n",
    "                        continue\n",
    "                                \n",
    "                elif veg_choice == 'n':\n",
    "                    veg_num = input('\\n●야채 비빔밥 몇개 주문 하시겠습니까?\\n')\n",
    "                    if(veg_num.isdigit() == True):\n",
    "                        if int(veg_num) > 0:\n",
    "                            print(f'\\n야채 버거 세트 {veg_num}개가 장바구니에 담겼습니다.\\n')\n",
    "                            current_veg += int(veg_num)\n",
    "                            price_total += int(veg_num) * price_veg\n",
    "                            break\n",
    "                        else:\n",
    "                            print('\\033[31m' + '\\n★양수만 입력하세요. 세트 선택으로 돌아갑니다★' + '\\033[0m')\n",
    "                            continue\n",
    "\n",
    "                    else:\n",
    "                        print('\\033[31m' + '\\n★숫자만 입력하세요!! 세트 선택으로 돌아갑니다.★' + '\\033[0m')\n",
    "                        continue\n",
    "\n",
    "                else:\n",
    "                    print('\\033[31m' + '\\n★취소 되었습니다. 초기 화면으로 돌아갑니다★\\n' + '\\033[0m')\n",
    "                    break\n",
    "                \n",
    "        if int(menu) == 3:\n",
    "            while 1:\n",
    "                jeon_choice = input('\\n●3000원을 추가해 세트(밥, 반찬 추가)로 주문하시겠습니까? (일반주문시:n, 세트주문시:y, 이외는 취소)\\n')\n",
    "                if jeon_choice == 'y':\n",
    "                    jeonset_num = input('\\n●전주 비빔밥 세트 몇개 주문 하시겠습니까?\\n')\n",
    "                    if(jeonset_num.isdigit() == True):\n",
    "                        if int(jeonset_num) > 0:\n",
    "                            print(f'\\n전주 비빔밥 세트 {jeonset_num}개가 장바구니에 담겼습니다.\\n')\n",
    "                            current_jeonset += int(jeonset_num)\n",
    "                            price_total += int(jeonset_num) * (price_jeon + price_set)\n",
    "                            break\n",
    "                        else:\n",
    "                            print('\\033[31m' + '\\n★양수만 입력하세요. 세트 선택으로 돌아갑니다★' + '\\033[0m')\n",
    "                            continue\n",
    "\n",
    "                    else:\n",
    "                        print('\\033[31m' + '\\n★숫자만 입력하세요!! 세트 선택으로 돌아갑니다.★' + '\\033[0m')\n",
    "                        continue\n",
    "                            \n",
    "                elif jeon_choice == 'n':\n",
    "                    jeon_num = input('\\n●전주 비빔밥 몇개 주문 하시겠습니까?\\n')\n",
    "                    if(jeon_num.isdigit() == True):\n",
    "                        if int(jeon_num) > 0:\n",
    "                            print(f'\\n전주 비빔밥 세트 {jeon_num}개가 장바구니에 담겼습니다.\\n')\n",
    "                            current_jeon += int(jeon_num)\n",
    "                            price_total += int(jeon_num) * price_jeon\n",
    "                            break\n",
    "                        else:\n",
    "                            print('\\033[31m' + '\\n★양수만 입력하세요. 세트 선택으로 돌아갑니다★' + '\\033[0m')\n",
    "                            continue\n",
    "\n",
    "                    else:\n",
    "                        print('\\033[31m' + '\\n★숫자만 입력하세요!! 세트 선택으로 돌아갑니다.★' + '\\033[0m')\n",
    "                        continue\n",
    "    \n",
    "                else:\n",
    "                    print('\\033[31m' + '\\n★취소 되었습니다. 초기 화면으로 돌아갑니다★\\n' + '\\033[0m')\n",
    "                    break\n",
    "        elif int(menu) == 0:\n",
    "            print('\\033[31m' + '\\n★전체 주문을 취소합니다★\\n' + '\\033[0m')\n",
    "            current_bul = 0\n",
    "            current_bulset = 0\n",
    "            current_veg = 0\n",
    "            current_vegset = 0\n",
    "            current_jeon = 0\n",
    "            current_jeonset = 0\n",
    "            price_total = 0\n",
    "            continue\n",
    "    elif(menu.isdigit() == False):\n",
    "        if menu != '주문':\n",
    "            print('\\033[31m' + '\\n\\n★메뉴의 지정된 숫자로 입력하세요★\\n\\n' + '\\033[0m')\n",
    "            continue\n",
    "        else:\n",
    "            if price_total == 0:\n",
    "                print('\\033[31m' + '\\n★메뉴를 고르고 주문해주세요!★\\n' + '\\033[0m')\n",
    "                continue\n",
    "            else:\n",
    "                while 1:\n",
    "                    pay = input(f'\\n●주문하려면 결제해주세요. 결제금액은 {price_total}원 입니다.\\n')\n",
    "                    if(pay.isdigit() == True):\n",
    "                        if int(pay) == price_total:\n",
    "                            print('\\033[31m' + '\\n☆★☆★☆★☆★결제가 완료되었습니다. 조금만 기다려주세요!★☆★☆★☆★☆' + '\\033[0m')\n",
    "                            break\n",
    "                        \n",
    "                        else:\n",
    "                            print('\\033[31m' + '\\n★결제금액이 다릅니다. 다시 결제해 주세요★\\n' + '\\033[0m')\n",
    "                            continue\n",
    "                    else:\n",
    "                        print('\\033[31m' + '\\n★결제가 잘못되었습니다. 다시 진행해주세요★\\n' + '\\033[0m')\n",
    "                break"
   ]
  },
  {
   "cell_type": "code",
   "execution_count": 100,
   "id": "8e2e3bc9",
   "metadata": {},
   "outputs": [
    {
     "name": "stdout",
     "output_type": "stream",
     "text": [
      "빠\n"
     ]
    }
   ],
   "source": [
    "#[과제] # Player가 3승할 떄까지 계속 진행되는 가위바위보 게임 프로그램을 작성하세요.\n",
    "# 게임은 Player과 컴퓨터가 진행\n",
    "\n"
   ]
  },
  {
   "cell_type": "code",
   "execution_count": 2,
   "id": "ef107fe9",
   "metadata": {},
   "outputs": [
    {
     "name": "stdout",
     "output_type": "stream",
     "text": [
      "가위 바위 보 게임\n",
      "가위 바위 보를 하는 게임입니다.\n",
      "가위 바위 보 중 하나를 입력하세요: 가위\n",
      "컴퓨터는 보를 냈습니다.\n",
      "플레이어는 가위를 냈습니다.\n",
      "플레이어 승리\n",
      "가위 바위 보 중 하나를 입력하세요: 가위\n",
      "컴퓨터는 보를 냈습니다.\n",
      "플레이어는 가위를 냈습니다.\n",
      "플레이어 승리\n",
      "가위 바위 보 중 하나를 입력하세요: 보\n",
      "컴퓨터는 바위를 냈습니다.\n",
      "플레이어는 보를 냈습니다.\n",
      "플레이어 승리\n"
     ]
    }
   ],
   "source": [
    "import random\n",
    "\n",
    "playerWin = 0\n",
    "\n",
    "print('가위 바위 보 게임')\n",
    "print('가위 바위 보를 하는 게임입니다.')\n",
    "\n",
    "while playerWin < 3:\n",
    "    computer = random.choice(['가위', '바위', '보'])\n",
    "    player = input('가위 바위 보 중 하나를 입력하세요: ')\n",
    "\n",
    "    win = 0\n",
    "    if computer == '가위':\n",
    "        if player == '바위':\n",
    "            win = 1\n",
    "        elif player == '보':\n",
    "            win = -1\n",
    "    elif computer == '바위':\n",
    "        if player == '가위':\n",
    "            win = -1\n",
    "        elif player == '보':\n",
    "            win = 1\n",
    "    elif computer == '보':\n",
    "        if player == '가위':\n",
    "            win = 1\n",
    "        elif player == '바위':\n",
    "            win = -1\n",
    "    print('컴퓨터는 {}를 냈습니다.'.format(computer))\n",
    "    print('플레이어는 {}를 냈습니다.'.format(player))\n",
    "    if win == 1:\n",
    "        print('플레이어 승리')\n",
    "        playerWin += 1\n",
    "    elif win == -1:\n",
    "        print('컴퓨터 승리')\n",
    "    else:\n",
    "        print('무승부')"
   ]
  },
  {
   "cell_type": "code",
   "execution_count": 25,
   "id": "e671b4b1",
   "metadata": {},
   "outputs": [
    {
     "name": "stdout",
     "output_type": "stream",
     "text": [
      "가위 바위 보 게임입니다. 3승할 때까지 계속 진행됩니다!\n",
      "그 전에 게임을 종료하고 싶다면 E를 입력해주세요.\n",
      "\n",
      "무엇을 낼까요? (가위/바위/보) > 가위\n",
      "컴퓨터 > 보\n",
      "게임에서 이겼습니다. 축하합니다!\n",
      "\n",
      "무엇을 낼까요? (가위/바위/보) > 가위\n",
      "컴퓨터 > 바위\n",
      "졌습니다. 다시 한 번 게임을 시작합니다!\n",
      "\n",
      "무엇을 낼까요? (가위/바위/보) > 보\n",
      "컴퓨터 > 가위\n",
      "졌습니다. 다시 한 번 게임을 시작합니다!\n",
      "\n",
      "무엇을 낼까요? (가위/바위/보) > 보\n",
      "컴퓨터 > 가위\n",
      "졌습니다. 다시 한 번 게임을 시작합니다!\n",
      "\n",
      "무엇을 낼까요? (가위/바위/보) > 바위\n",
      "컴퓨터 > 가위\n",
      "게임에서 이겼습니다. 축하합니다!\n",
      "\n",
      "무엇을 낼까요? (가위/바위/보) > 바위\n",
      "컴퓨터 > 가위\n",
      "게임에서 이겼습니다. 축하합니다!\n",
      "게임을 종료합니다. 수고하셨습니다.\n"
     ]
    }
   ],
   "source": [
    "import numpy as np\n",
    "\n",
    "cnt = 0\n",
    "rsp = ['가위', '바위', '보']\n",
    "\n",
    "print(\"가위 바위 보 게임입니다. 3승할 때까지 계속 진행됩니다!\")\n",
    "print(\"그 전에 게임을 종료하고 싶다면 E를 입력해주세요.\")\n",
    "\n",
    "while cnt < 3:\n",
    "    print()\n",
    "    pl = input(\"무엇을 낼까요? (가위/바위/보) > \")\n",
    "    if(pl=='E'): break\n",
    "    elif(pl not in rsp):\n",
    "        print(\"[가위] [바위] [보] 중 하나를 내주세요!\")\n",
    "        continue\n",
    "    pc = rsp[np.random.randint(3)]\n",
    "    print(f'컴퓨터 > {pc}')\n",
    "    \n",
    "    if(pl=='가위'):\n",
    "        if(pc=='바위'):\n",
    "            print(\"졌습니다. 다시 한 번 게임을 시작합니다!\")\n",
    "            continue\n",
    "        elif(pc=='보'):\n",
    "            print(\"게임에서 이겼습니다. 축하합니다!\")\n",
    "            cnt+=1\n",
    "            continue\n",
    "            \n",
    "    elif(pl=='바위'):\n",
    "        if(pc=='보'):\n",
    "            print(\"졌습니다. 다시 한 번 게임을 시작합니다!\")\n",
    "            continue\n",
    "        elif(pc=='가위'):\n",
    "            print(\"게임에서 이겼습니다. 축하합니다!\")\n",
    "            cnt+=1\n",
    "            continue\n",
    "            \n",
    "    elif(pl=='보'):\n",
    "        if(pc=='가위'):\n",
    "            print(\"졌습니다. 다시 한 번 게임을 시작합니다!\")\n",
    "            continue\n",
    "        elif(pc=='바위'):\n",
    "            print(\"게임에서 이겼습니다. 축하합니다!\")\n",
    "            cnt+=1\n",
    "            continue\n",
    "            \n",
    "    print(\"비겼습니다. 다시 한 번 게임을 시작합니다!\")\n",
    "    \n",
    "print(\"게임을 종료합니다. 수고하셨습니다.\")"
   ]
  },
  {
   "cell_type": "code",
   "execution_count": 135,
   "id": "01b85d68",
   "metadata": {},
   "outputs": [
    {
     "data": {
      "text/plain": [
       "array([12])"
      ]
     },
     "execution_count": 135,
     "metadata": {},
     "output_type": "execute_result"
    }
   ],
   "source": [
    "#컴퓨터가 랜덤하게 생성하는 숫자 맞추기 게임 프로그램을 작성하세요.\n"
   ]
  },
  {
   "cell_type": "code",
   "execution_count": null,
   "id": "01fc4de1",
   "metadata": {},
   "outputs": [],
   "source": [
    "import numpy as np\n",
    "while(1):\n",
    "    s_e=input(\"게임을 하시겠습니까?[y/n]: \")\n",
    "\n",
    "    if(s_e==\"y\"):\n",
    "        anser= np.random.randint(0,10)\n",
    "        while(a != anser):\n",
    "            a=int(input(\"숫자를 입력하세요(0~10): \"))\n",
    "            if(a>anser):\n",
    "                print(\"down\")\n",
    "            elif(a<anser):\n",
    "                print(\"up\")\n",
    "            else:\n",
    "                print(\"범위 안의 숫자를 입력해주세요.\")\n",
    "        print(\"정답입니다.\")\n",
    "    else:\n",
    "        print(\"게임을 종료합니다.\")\n",
    "        break\n"
   ]
  }
 ],
 "metadata": {
  "kernelspec": {
   "display_name": "Python 3 (ipykernel)",
   "language": "python",
   "name": "python3"
  },
  "language_info": {
   "codemirror_mode": {
    "name": "ipython",
    "version": 3
   },
   "file_extension": ".py",
   "mimetype": "text/x-python",
   "name": "python",
   "nbconvert_exporter": "python",
   "pygments_lexer": "ipython3",
   "version": "3.8.12"
  }
 },
 "nbformat": 4,
 "nbformat_minor": 5
}

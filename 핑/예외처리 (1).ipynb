{
 "cells": [
  {
   "cell_type": "code",
   "execution_count": 12,
   "id": "f3f6a784",
   "metadata": {},
   "outputs": [
    {
     "name": "stdout",
     "output_type": "stream",
     "text": [
      "except변환안됨\n",
      "마지막구문\n"
     ]
    }
   ],
   "source": [
    "lst=['1','a','3']\n",
    "while 1:\n",
    "    try:\n",
    "        int('a')\n",
    "        print(\"try시작\")\n",
    "        break\n",
    "    except:\n",
    "        print(\"except변환안됨\")\n",
    "        break\n",
    "    finally:\n",
    "        print(\"마지막구문\")"
   ]
  },
  {
   "cell_type": "code",
   "execution_count": 10,
   "id": "2670df69",
   "metadata": {},
   "outputs": [
    {
     "name": "stdout",
     "output_type": "stream",
     "text": [
      "프로그램이 시작되었습니다.\n",
      "except 구문이 실행되었습니다.\n",
      "finally 구문이 실행되었습니다.\n",
      "while 반복문의 마지막 줄입니다.\n",
      "프로그램이 종료되었습니다.\n"
     ]
    }
   ],
   "source": [
    "print('프로그램이 시작되었습니다.')\n",
    "while 1:\n",
    "    try :\n",
    "        int('a')\n",
    "        print('try 구문이 실행되었습니다.')\n",
    "        break\n",
    "    except:\n",
    "        print('except 구문이 실행되었습니다.')\n",
    "        break\n",
    "    finally:\n",
    "        print('finally 구문이 실행되었습니다.')\n",
    "        print('while 반복문의 마지막 줄입니다.')\n",
    "print('프로그램이 종료되었습니다.')"
   ]
  },
  {
   "cell_type": "code",
   "execution_count": null,
   "id": "3ebdde5a",
   "metadata": {},
   "outputs": [],
   "source": [
    "# 구문 오류 : 프로그램 실행전에 발생하는 오류\n",
    "# 예외 또는 런타임 오류 : 프로그램 실행중에 발생하는 오류\n",
    "\n",
    "print('구문오류!)"
   ]
  },
  {
   "cell_type": "code",
   "execution_count": null,
   "id": "d3858935",
   "metadata": {},
   "outputs": [],
   "source": [
    "# 정수를 입력하지 않은 경우 예외 발생\n",
    "num_input = int(input('정수 입력> '))\n",
    "print('원의 반지름:', num_input)"
   ]
  },
  {
   "cell_type": "code",
   "execution_count": null,
   "id": "f4c973c2",
   "metadata": {},
   "outputs": [],
   "source": [
    "# 조건문으로 예외 처리\n",
    "num_input = input('정수입력')\n",
    "if num_input.isdigit() == True:\n",
    "    print(\"정수 : {0}\".format(num_input))\n",
    "else:\n",
    "    print(\"오류\")\n"
   ]
  },
  {
   "cell_type": "code",
   "execution_count": null,
   "id": "10a6af1a",
   "metadata": {},
   "outputs": [],
   "source": [
    "param = 1\n",
    "print('안녕하세요')\n",
    "print(param)"
   ]
  },
  {
   "cell_type": "code",
   "execution_count": null,
   "id": "aa488b85",
   "metadata": {},
   "outputs": [],
   "source": [
    "try:\n",
    "    print('안녕하세요')\n",
    "    print(param1)\n",
    "except:\n",
    "    print('예외가 발생했습니다.')\n",
    "finally:\n",
    "    print('무조건 실행하는 코드')"
   ]
  },
  {
   "cell_type": "code",
   "execution_count": null,
   "id": "a4c96103",
   "metadata": {},
   "outputs": [],
   "source": [
    "# 코드에서 예외 발생 내용을 확인하고자 하는 경우 처리 방법\n",
    "\n",
    "try:\n",
    "    print(param2)\n",
    "except Exception as e:\n",
    "    print(e)"
   ]
  },
  {
   "cell_type": "code",
   "execution_count": null,
   "id": "e325f1ca",
   "metadata": {},
   "outputs": [],
   "source": [
    "import time\n",
    "count = 1\n",
    "try:\n",
    "    5\n",
    "    while True:\n",
    "        print(count)\n",
    "        count += 1\n",
    "        time.sleep(0.5)\n",
    "except KeyboardInterrupt:\n",
    "    print('사용자에 의해 프로그램이 중단되었습니다.')"
   ]
  },
  {
   "cell_type": "code",
   "execution_count": null,
   "id": "c7b3b6be",
   "metadata": {},
   "outputs": [],
   "source": [
    "# 리스트['52','273','32','문자','103']에서 숫자 부분만 출력하세여\n",
    "li = ['52','273','32','문자','103']\n",
    "\n",
    "for i in range(len(li)):\n",
    "    if str.isdigit(li[i])==1:\n",
    "        print(li[i])\n"
   ]
  },
  {
   "cell_type": "code",
   "execution_count": null,
   "id": "19da93d4",
   "metadata": {},
   "outputs": [],
   "source": [
    "list = ['52','273','32','문자','103']\n",
    "for i in list:\n",
    "    try :\n",
    "        if i.isdigit():\n",
    "            print(i,end=' ')\n",
    "    except:\n",
    "        print('{0}는 숫자가 아닙니다'.format(i))"
   ]
  },
  {
   "cell_type": "code",
   "execution_count": null,
   "id": "b2d61f06",
   "metadata": {},
   "outputs": [],
   "source": [
    "li = ['52', '273','32','문자','103']\n",
    "for i in li:    \n",
    "    try:\n",
    "        print(f'리스트에 포함된 숫자: {int(i)}')\n",
    "    except:\n",
    "        pass\n"
   ]
  },
  {
   "cell_type": "code",
   "execution_count": null,
   "id": "b13b0181",
   "metadata": {},
   "outputs": [],
   "source": [
    "# 선생\n",
    "list_input = ['52','273','32','문자','103']\n",
    "list_num = []\n",
    "for i in list_input:\n",
    "    try:\n",
    "        int(i)\n",
    "        list_num.append(i)\n",
    "        \n",
    "    except:\n",
    "        pass\n",
    "print(list_num)"
   ]
  },
  {
   "cell_type": "code",
   "execution_count": null,
   "id": "0c118117",
   "metadata": {},
   "outputs": [],
   "source": [
    "# 정수를 입력하면 '정수', 정수가 아니면 '정수 아님'을 출력하세요\n",
    "num = input('정수를 입력해 주세요. >> ')\n",
    "\n",
    "try:\n",
    "    int(num)\n",
    "    print('정수입니다.')\n",
    "except:\n",
    "    print('정수가 아닙니다.')\n"
   ]
  },
  {
   "cell_type": "code",
   "execution_count": null,
   "id": "8792d779",
   "metadata": {},
   "outputs": [],
   "source": [
    "# 선생풀이\n",
    "try:\n",
    "    num = int(input(\"입력: \"))\n",
    "    print(\"정수\")\n",
    "except:\n",
    "    print(\"정수아님\")"
   ]
  },
  {
   "cell_type": "code",
   "execution_count": null,
   "id": "9bd4a9d6",
   "metadata": {},
   "outputs": [],
   "source": [
    "#정수를 입력하면 '입력 정수'>'예외 발생하지 않음'>'프로그램 종료'\n",
    "#정수가 아니면 '입력 값'>'정수 아님'>'프로그램 종료' 순서대로 출력하세요.\n",
    "\n",
    "num = input('정수를 입력해 주세요. >> ')\n",
    "\n",
    "try:\n",
    "    print(f'{int(num)}로/으로 예외 발생하지 않음')\n",
    "except:\n",
    "    print(f'입력값 {num}은/는 정수가 아닙니다.')\n",
    "finally: print('프로그램 종료')\n"
   ]
  },
  {
   "cell_type": "code",
   "execution_count": null,
   "id": "22938cec",
   "metadata": {},
   "outputs": [],
   "source": [
    "print('프로그램이 시작되었습니다.')\n",
    "while True:\n",
    "    try:\n",
    "        print('try 구문이 시작되었습니다.')\n",
    "        break\n",
    "    except:\n",
    "        print('except 구문이 실행되었습니다.')\n",
    "        \n",
    "    print('finally 구문이 실행되었습니다.')\n",
    "    print('while 반복문의 마지막 줄입니다.')\n",
    "print('프로그램이 종료되었습니다.')"
   ]
  },
  {
   "cell_type": "code",
   "execution_count": 17,
   "id": "70cfa91b",
   "metadata": {},
   "outputs": [
    {
     "name": "stdout",
     "output_type": "stream",
     "text": [
      "프로그램이 시작되었습니다.\n",
      "try 구문이 시작되었습니다.\n",
      "프로그램이 종료되었습니다.\n"
     ]
    }
   ],
   "source": [
    "print('프로그램이 시작되었습니다.')\n",
    "while True:\n",
    "    try:\n",
    "        print('try 구문이 시작되었습니다.')\n",
    "        break\n",
    "    except:\n",
    "        print('except 구문이 실행되었습니다.')\n",
    "        \n",
    "    print('finally 구문이 실행되었습니다.')\n",
    "    print('while 반복문의 마지막 줄입니다.')\n",
    "print('프로그램이 종료되었습니다.')"
   ]
  },
  {
   "cell_type": "code",
   "execution_count": null,
   "id": "bb37bcf3",
   "metadata": {},
   "outputs": [],
   "source": [
    "# 위 코드에서 try~except~finally를 사용하여 아래와 같이 출력하세요\n",
    "\n",
    "프로그램이 시작되었습니다.\n",
    "try 구문이 시작되었습니다.\n",
    "except 구문이 실행되었습니다.\n",
    "finally 구문이 실행되었습니다\n",
    "프로그램이 종료되었습니다."
   ]
  },
  {
   "cell_type": "code",
   "execution_count": 13,
   "id": "70c037bc",
   "metadata": {},
   "outputs": [
    {
     "name": "stdout",
     "output_type": "stream",
     "text": [
      "프로그램이 시작되었습니다.\n",
      "try 구문이 시작되었습니다.\n",
      "프로그램이 종료되었습니다.\n"
     ]
    }
   ],
   "source": [
    "print('프로그램이 시작되었습니다.')\n",
    "while True:\n",
    "    try:\n",
    "        print('try 구문이 시작되었습니다.')\n",
    "        break\n",
    "    except:\n",
    "        print('except 구문이 실행되었습니다.')\n",
    "        \n",
    "    print('finally 구문이 실행되었습니다.')\n",
    "    print('while 반복문의 마지막 줄입니다.')\n",
    "print('프로그램이 종료되었습니다.')"
   ]
  },
  {
   "cell_type": "code",
   "execution_count": 14,
   "id": "60a2a919",
   "metadata": {},
   "outputs": [
    {
     "name": "stdout",
     "output_type": "stream",
     "text": [
      "프로그램이 시작되었습니다.\n",
      "try 구문이 시작되었습니다.\n",
      "finally 구문이 실행되었습니다.\n",
      "while 반복문의 마지막 줄입니다.\n",
      "프로그램이 종료되었습니다.\n"
     ]
    }
   ],
   "source": [
    "print('프로그램이 시작되었습니다.')\n",
    "while True:\n",
    "    try:\n",
    "        print('try 구문이 시작되었습니다.')\n",
    "        int(a)\n",
    "        break\n",
    "    except:\n",
    "        print('except 구문이 실행되었습니다.')\n",
    "        break\n",
    "    finally:\n",
    "        print('finally 구문이 실행되었습니다.')\n",
    "        print('while 반복문의 마지막 줄입니다.')\n",
    "print('프로그램이 종료되었습니다.')"
   ]
  },
  {
   "cell_type": "code",
   "execution_count": 19,
   "id": "23515a58",
   "metadata": {
    "scrolled": true
   },
   "outputs": [
    {
     "name": "stdout",
     "output_type": "stream",
     "text": [
      "프로그램이 시작되었습니다.\n",
      "try 구문이 시작되었습니다.\n",
      "except 구문이 실행되었습니다.\n",
      "finally 구문이 실행되었습니다.\n",
      "while 반복문의 마지막 줄입니다.\n",
      "프로그램이 종료되었습니다.\n"
     ]
    }
   ],
   "source": [
    "print('프로그램이 시작되었습니다.')\n",
    "while 1:\n",
    "    try:\n",
    "        print('try 구문이 시작되었습니다.')\n",
    "        a = b+c\n",
    "        print(a)\n",
    "        break\n",
    "    except:\n",
    "        print('except 구문이 실행되었습니다.')\n",
    "        break\n",
    "    finally:\n",
    "        print('finally 구문이 실행되었습니다.')\n",
    "        print('while 반복문의 마지막 줄입니다.')\n",
    "print('프로그램이 종료되었습니다.')\n"
   ]
  },
  {
   "cell_type": "code",
   "execution_count": 16,
   "id": "44e173fa",
   "metadata": {},
   "outputs": [
    {
     "name": "stdout",
     "output_type": "stream",
     "text": [
      "프로그램이 시작되었습니다.\n",
      "except 구문이 실행되었습니다.\n",
      "finally 구문이 실행되었습니다.\n",
      "while 반복문의 마지막 줄입니다.\n",
      "프로그램이 종료되었습니다.\n"
     ]
    }
   ],
   "source": [
    "print('프로그램이 시작되었습니다.')\n",
    "while 1:\n",
    "    try :\n",
    "        int('a')\n",
    "        print('try 구문이 실행되었습니다.')\n",
    "        break\n",
    "    except:\n",
    "        print('except 구문이 실행되었습니다.')\n",
    "        break\n",
    "    finally:\n",
    "        print('finally 구문이 실행되었습니다.')\n",
    "        print('while 반복문의 마지막 줄입니다.')\n",
    "print('프로그램이 종료되었습니다.')\n"
   ]
  },
  {
   "cell_type": "code",
   "execution_count": null,
   "id": "37a10d47",
   "metadata": {},
   "outputs": [],
   "source": [
    "\n",
    " \n",
    "\n",
    "\n"
   ]
  },
  {
   "cell_type": "code",
   "execution_count": null,
   "id": "f1ed044c",
   "metadata": {},
   "outputs": [],
   "source": [
    "# [과제] 숫자 대신 문자를 입력 시 에외가 발생되는데 아래 코드를 수정해서 예외 객체의자료형과 예외 객체 자체를 출력하세요\n",
    "\n",
    "num_input = int(input('정수 입력>'))\n",
    "print('원의 반지름:', num_input)\n",
    "print('원의 둘레:', 2*3.14*num_input)\n",
    "print('원의 넓이:', 3.14*num_input*num_input)"
   ]
  },
  {
   "cell_type": "code",
   "execution_count": 2,
   "id": "2caae92b",
   "metadata": {},
   "outputs": [
    {
     "name": "stdout",
     "output_type": "stream",
     "text": [
      "정수 입력>가\n",
      "문자만\n",
      "예외처리 완료\n",
      "원의 반지름: 5\n",
      "원의 둘레: 31.400000000000002\n",
      "원의 넓이: 78.5\n"
     ]
    }
   ],
   "source": [
    "try:\n",
    "    num_input = int(input('정수 입력>'))\n",
    "except ValueError:\n",
    "    print('문자만')\n",
    "finally:\n",
    "    print('예외처리 완료')\n",
    "print('원의 반지름:', num_input)\n",
    "print('원의 둘레:', 2*3.14*num_input)\n",
    "print('원의 넓이:', 3.14*num_input*num_input)"
   ]
  },
  {
   "cell_type": "code",
   "execution_count": 8,
   "id": "4404c926",
   "metadata": {},
   "outputs": [
    {
     "name": "stdout",
     "output_type": "stream",
     "text": [
      "정수 입력> 가\n",
      "정수를 입력하세요.\n"
     ]
    }
   ],
   "source": [
    "try:\n",
    "    num_input = int(input('정수 입력> '))\n",
    "except:\n",
    "    print('정수를 입력하세요.')\n",
    "else :\n",
    "    print('원의 반지름:', num_input)\n",
    "    print('원의 둘레:', 2*3.14*num_input)\n",
    "    print('원의 넓이:', 3.14*num_input*num_input)\n"
   ]
  },
  {
   "cell_type": "code",
   "execution_count": 13,
   "id": "e8adf9cf",
   "metadata": {},
   "outputs": [
    {
     "name": "stdout",
     "output_type": "stream",
     "text": [
      "정수 > 가\n",
      "입력 값 >  가\n",
      "가의 타입은 <class 'str'>형입니다.\n"
     ]
    }
   ],
   "source": [
    "while 1:\n",
    "    try:\n",
    "        num_input = input('정수 > ')\n",
    "        num_input = int(num_input)\n",
    "        print('원의 반지름:',num_input)\n",
    "        print('원 둘레:',round(2*3.14*num_input,2))\n",
    "        print('원 넓이:',round(3.14*num_input*num_input,2))\n",
    "        break\n",
    "    except:\n",
    "        print('입력 값 > ', num_input)\n",
    "        print('{}의 타입은 {}형입니다.'.format(num_input,type(num_input)))\n",
    "        break\n"
   ]
  },
  {
   "cell_type": "code",
   "execution_count": 17,
   "id": "dfb2545d",
   "metadata": {},
   "outputs": [
    {
     "name": "stdout",
     "output_type": "stream",
     "text": [
      "정수 > 가\n",
      "<class 'ValueError'>\n",
      "invalid literal for int() with base 10: '가'\n"
     ]
    }
   ],
   "source": [
    "try:\n",
    "    num_input = int(input('정수 > '))\n",
    "    print('원의 반지름:',num_input)\n",
    "    print('원 둘레:',round(2*3.14*num_input,2))\n",
    "    print('원 넓이:',round(3.14*num_input*num_input,2))\n",
    "except Exception as e:\n",
    "    print(type(e))\n",
    "    print(e)"
   ]
  },
  {
   "cell_type": "code",
   "execution_count": null,
   "id": "498f24fb",
   "metadata": {},
   "outputs": [],
   "source": [
    "#[과제] 아래 코드를 보완하여 발생 가능한 모든 예외(정수,인덱스, 미리 파악하지 못한 예외)를 처리한후 마지막에\"모든예외처리 완료\"를 출력\n",
    "\n",
    "list_num = [52,273,32,72,100]\n",
    "\n",
    "num_input = int(input('정수 입력>'))\n",
    "print('{}번쨰 요소: {}'.format(num_input,list_num[num_input-1]))"
   ]
  },
  {
   "cell_type": "code",
   "execution_count": 18,
   "id": "503ccee6",
   "metadata": {},
   "outputs": [
    {
     "name": "stdout",
     "output_type": "stream",
     "text": [
      "정수 입력 > 가\n",
      "정수 값을 입력하세요\n",
      "모든 예외처리 완료\n"
     ]
    }
   ],
   "source": [
    "list_num = [52, 273, 32, 72, 100]\n",
    "\n",
    "try: \n",
    "    num_input = int(input('정수 입력 > '))\n",
    "    print('{}번째 요소: {}'.format(num_input, list_num[num_input -1]))\n",
    "except IndexError:\n",
    "    print(\"인덱스 오류, 범위 안의 값을 입력하세요\")\n",
    "except ValueError:\n",
    "    print(\"정수 값을 입력하세요\")\n",
    "except Excetion:\n",
    "    print(\"정수 값을 입력하세요\")\n",
    "finally:\n",
    "    print(\"모든 예외처리 완료\")\n"
   ]
  },
  {
   "cell_type": "code",
   "execution_count": null,
   "id": "30717016",
   "metadata": {},
   "outputs": [],
   "source": [
    "# while 사용 시\n",
    "list_num = [52, 273, 32, 72, 100]\n",
    "while 1:\n",
    "    try: \n",
    "        num_input = int(input('정수 입력 > '))\n",
    "        print('{}번째 요소: {}'.format(num_input, list_num[num_input -1]))\n",
    "        break\n",
    "    except IndexError:\n",
    "        print(\"인덱스 오류, 범위 안의 값을 입력하세요\")\n",
    "    except ValueError:\n",
    "        print(\"정수 값을 입력하세요\")\n",
    "    except Excetion:\n",
    "        print(\"정수 값을 입력하세요\")\n",
    "    finally:\n",
    "        print(\"모든 예외처리 완료\")"
   ]
  },
  {
   "cell_type": "code",
   "execution_count": 5,
   "id": "b9e06676",
   "metadata": {},
   "outputs": [
    {
     "name": "stdout",
     "output_type": "stream",
     "text": [
      "정수 입력>5\n",
      "5번쨰 요소: 100\n",
      "예외처리 완료\n"
     ]
    }
   ],
   "source": [
    "list_num = [52,273,32,72,100]\n",
    "\n",
    "try:\n",
    "    num_input = int(input('정수 입력>'))\n",
    "    print('{}번쨰 요소: {}'.format(num_input, list_num[num_input - 1]))\n",
    "except ValueError:\n",
    "    print('정수만')\n",
    "except IndexError:\n",
    "    print('인덱스 에러')\n",
    "except Exception:\n",
    "    print('미리 파악하지 못한 예외')\n",
    "finally:\n",
    "    print('예외처리 완료')"
   ]
  },
  {
   "cell_type": "code",
   "execution_count": null,
   "id": "ed03096e",
   "metadata": {},
   "outputs": [],
   "source": []
  },
  {
   "cell_type": "code",
   "execution_count": null,
   "id": "386e2625",
   "metadata": {},
   "outputs": [],
   "source": [
    "#[과제] 자유 주제로 프로그램밍을 수행하세요.단 예외처리 3건이상\n",
    "# 별도의 주피터 파일로 제출(programming 기획폴더 업로드)"
   ]
  },
  {
   "cell_type": "code",
   "execution_count": 71,
   "id": "21d9d76a",
   "metadata": {},
   "outputs": [
    {
     "name": "stdout",
     "output_type": "stream",
     "text": [
      "나이를 입력하세요: 15\n",
      "남:1 , 여:2 가\n",
      "숫자만 입력하세요\n",
      "좋은 하루 보내세요 \n"
     ]
    }
   ],
   "source": [
    "# 가게 출입\n",
    "try:\n",
    "    age=int(input('나이를 입력하세요: '))\n",
    "except ValueError:\n",
    "     print('숫자만 입력하세요')\n",
    "try:\n",
    "     min=int(input('남:1 , 여:2 '))\n",
    "except ValueError:\n",
    "    print('숫자만 입력하세요')\n",
    "else:\n",
    "    if age <= 18:\n",
    "        print(' 죄송합니다. 미성년자는 출입금지입니다.')\n",
    "    else:\n",
    "        print(' 들어오세요. 몇분이신가요?')\n",
    "finally:\n",
    "     print('좋은 하루 보내세요 ')\n",
    "    "
   ]
  },
  {
   "cell_type": "code",
   "execution_count": null,
   "id": "bc541226",
   "metadata": {},
   "outputs": [],
   "source": [
    "try:\n",
    "    n = int(input('나이를 입력하세요: '))\n",
    "    num = int(input('성별을 고르시오:'))\n",
    "    div = int(input('생년원일을 입력하세요:'))"
   ]
  },
  {
   "cell_type": "code",
   "execution_count": 3,
   "id": "fd2c60bf",
   "metadata": {},
   "outputs": [
    {
     "name": "stdout",
     "output_type": "stream",
     "text": [
      "1 : 콜라, 2 : 사이다, 3 : 파워에이드, 4 : 커피, 5 : 생수, 6 : 비타민 음료 8\n",
      "주문 수량 : 2\n",
      "정산 할 인원 : 3\n",
      "1,2,3,4,5,6중 고르세요\n",
      "예외처리 완료\n"
     ]
    }
   ],
   "source": [
    "# 자판기 음료\n",
    "machine = ['콜라','사이다','파워에이드','커피','생수','비타민 음료']\n",
    "\n",
    "try:\n",
    "    n = int(input('1 : 콜라, 2 : 사이다, 3 : 파워에이드, 4 : 커피, 5 : 생수, 6 : 비타민 음료 '))\n",
    "    num = int(input('주문 수량 : '))\n",
    "    div = int(input('정산 할 인원 : '))\n",
    "    print(machine[n])\n",
    "\n",
    "except IndexError:\n",
    "    print('1,2,3,4,5,6중 고르세요')\n",
    "except ValueError:\n",
    "    print('숫자만 입력하세요')\n",
    "except  Exception:\n",
    "    print('인원은 1명 이상이어야합니다.')\n",
    "finally:\n",
    "    print('예외처리 완료')"
   ]
  },
  {
   "cell_type": "code",
   "execution_count": 1,
   "id": "8d33bc79",
   "metadata": {},
   "outputs": [
    {
     "name": "stdout",
     "output_type": "stream",
     "text": [
      "1 : 콜라, 2 : 사이다, 3 : 파워에이드, 4 : 커피, 5 : 생수, 6 : 비타민 음료 8\n",
      "주문 수량 : 4\n",
      "정산 할 인원 : 5\n",
      "예외처리 완료\n"
     ]
    }
   ],
   "source": [
    "machine = ['콜라','사이다','파워에이드','커피','생수','비타민 음료']\n",
    "while 1:\n",
    "    try:\n",
    "        n = int(input('1 : 콜라, 2 : 사이다, 3 : 파워에이드, 4 : 커피, 5 : 생수, 6 : 비타민 음료 '))\n",
    "    except  IndexError:\n",
    "        print('1,2,3,4,5,6중 고르세요')\n",
    "        break\n",
    "    try:\n",
    "        num = int(input('주문 수량 : '))\n",
    "    except ValueError:\n",
    "        print('숫자만 입력하세요')\n",
    "        break\n",
    "    try:\n",
    "        div = int(input('정산 할 인원 : '))\n",
    "    except  Exception:\n",
    "        print('인원은 1명 이상이어야합니다.')\n",
    "        break\n",
    "    finally:\n",
    "        print('예외처리 완료')\n",
    "        break\n"
   ]
  },
  {
   "cell_type": "code",
   "execution_count": null,
   "id": "3624179f",
   "metadata": {},
   "outputs": [],
   "source": [
    "IndexError"
   ]
  },
  {
   "cell_type": "code",
   "execution_count": null,
   "id": "574e11c1",
   "metadata": {},
   "outputs": [],
   "source": [
    "ValueError:"
   ]
  },
  {
   "cell_type": "code",
   "execution_count": null,
   "id": "e0e8ed98",
   "metadata": {},
   "outputs": [],
   "source": []
  },
  {
   "cell_type": "code",
   "execution_count": null,
   "id": "bcc0117d",
   "metadata": {},
   "outputs": [],
   "source": []
  },
  {
   "cell_type": "code",
   "execution_count": null,
   "id": "0337a4a2",
   "metadata": {},
   "outputs": [],
   "source": []
  },
  {
   "cell_type": "code",
   "execution_count": null,
   "id": "72b95d04",
   "metadata": {},
   "outputs": [],
   "source": []
  },
  {
   "cell_type": "code",
   "execution_count": null,
   "id": "59c43581",
   "metadata": {},
   "outputs": [],
   "source": []
  },
  {
   "cell_type": "code",
   "execution_count": null,
   "id": "8a7c4ca6",
   "metadata": {},
   "outputs": [],
   "source": []
  },
  {
   "cell_type": "code",
   "execution_count": null,
   "id": "b84fae8f",
   "metadata": {},
   "outputs": [],
   "source": []
  },
  {
   "cell_type": "code",
   "execution_count": null,
   "id": "5c0cd95c",
   "metadata": {},
   "outputs": [],
   "source": []
  },
  {
   "cell_type": "code",
   "execution_count": null,
   "id": "5b7580b8",
   "metadata": {},
   "outputs": [],
   "source": []
  },
  {
   "cell_type": "code",
   "execution_count": null,
   "id": "71f10e43",
   "metadata": {},
   "outputs": [],
   "source": []
  },
  {
   "cell_type": "code",
   "execution_count": null,
   "id": "ad8d5f5b",
   "metadata": {},
   "outputs": [],
   "source": []
  },
  {
   "cell_type": "code",
   "execution_count": null,
   "id": "3065dc7b",
   "metadata": {},
   "outputs": [],
   "source": []
  },
  {
   "cell_type": "code",
   "execution_count": null,
   "id": "55a52b87",
   "metadata": {},
   "outputs": [],
   "source": []
  },
  {
   "cell_type": "code",
   "execution_count": null,
   "id": "a1238aad",
   "metadata": {},
   "outputs": [],
   "source": []
  },
  {
   "cell_type": "code",
   "execution_count": null,
   "id": "f5e56787",
   "metadata": {},
   "outputs": [],
   "source": []
  },
  {
   "cell_type": "code",
   "execution_count": null,
   "id": "ae6d22a6",
   "metadata": {},
   "outputs": [],
   "source": []
  },
  {
   "cell_type": "code",
   "execution_count": null,
   "id": "24ea1df5",
   "metadata": {},
   "outputs": [],
   "source": []
  },
  {
   "cell_type": "code",
   "execution_count": null,
   "id": "13b1f262",
   "metadata": {},
   "outputs": [],
   "source": []
  },
  {
   "cell_type": "code",
   "execution_count": null,
   "id": "9134c367",
   "metadata": {},
   "outputs": [],
   "source": []
  },
  {
   "cell_type": "code",
   "execution_count": null,
   "id": "e40cc606",
   "metadata": {},
   "outputs": [],
   "source": []
  },
  {
   "cell_type": "code",
   "execution_count": null,
   "id": "315e0fed",
   "metadata": {},
   "outputs": [],
   "source": []
  },
  {
   "cell_type": "code",
   "execution_count": null,
   "id": "689111d4",
   "metadata": {},
   "outputs": [],
   "source": []
  },
  {
   "cell_type": "code",
   "execution_count": null,
   "id": "63616332",
   "metadata": {},
   "outputs": [],
   "source": []
  },
  {
   "cell_type": "code",
   "execution_count": null,
   "id": "69f536ad",
   "metadata": {},
   "outputs": [],
   "source": []
  }
 ],
 "metadata": {
  "kernelspec": {
   "display_name": "Python 3 (ipykernel)",
   "language": "python",
   "name": "python3"
  },
  "language_info": {
   "codemirror_mode": {
    "name": "ipython",
    "version": 3
   },
   "file_extension": ".py",
   "mimetype": "text/x-python",
   "name": "python",
   "nbconvert_exporter": "python",
   "pygments_lexer": "ipython3",
   "version": "3.8.12"
  }
 },
 "nbformat": 4,
 "nbformat_minor": 5
}

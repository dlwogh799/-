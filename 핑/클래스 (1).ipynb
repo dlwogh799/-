{
 "cells": [
  {
   "cell_type": "markdown",
   "id": "4361e842",
   "metadata": {},
   "source": [
    "# 클래스\n",
    "- 클래스(class)란 똑같은 무엇인가를 계속해서 만들어 낼 수 있는 설계 도면이고(과자 틀), 객체(object)란 클래스로 만든 피조물(과자 틀을 사용해 만든 과자)을 뜻한다.\n",
    "과자 틀 → 클래스 (class)\n",
    "과자 틀에 의해서 만들어진 과자 → 객체 (object)\n",
    "\n",
    "\n",
    "- class : 함수 + 변수 모아놓은 것\n",
    "- 오브젝트(object) : 클래스를 써서 만든 것\n",
    "- 오브젝트(object) == 인스턴스(instance)\n",
    "- 클래스를 정의한 후, 그 클래스를 사용해서 데이터 객체(인스턴스)를 만들 수 있다.\n",
    "- 동일한 클래스에 의해 만들어진 각 객체들은 유사한 특징을 공유한다.\n",
    "- 모든 인스턴스에서 메소드(=코드)는 동일하지만, 속성(데이터)는 다르다.\n",
    "- 메소드 : 코드\n",
    "- 속성 : 데이터\n",
    "- 인스턴스 : 클래스에 의해 만들어진 데이터 객체\n",
    "- a = 클래스() 이렇게 만든 a는 객체이다. 그리고 a 객체는 클래스의 인스턴스이다. 즉 인스턴스라는 말은 특정 객체(a)가 어떤 클래스의 객체인지를 관계 위주로 설명할 때 사용\n"
   ]
  },
  {
   "cell_type": "markdown",
   "id": "d67fedaa",
   "metadata": {},
   "source": [
    "# class = 계속해서 만들어내는 틀 \n",
    "\n",
    "# 객체 =계속해서 만들어내는  틀로 만든것\n",
    "\n",
    "# 속성  =데이터\n",
    "\n",
    "# 메소드= 코드\n",
    "\n",
    "# 구성 요소:변수 메소드 생성자 객체\n",
    "\n",
    "# 생성자 = 초기값 설정 \n",
    "\n",
    "# 모든 인스턴스에서 메소드(코드)는 동일하지만 , 속성(데이터)는\n",
    "\n",
    "# 다르다.(???)=이해불가\n",
    "\n",
    "\n",
    "# 객체만들기 = 클래스() \n",
    "\n",
    "# 인스턴스 =  객체 \n",
    "\n",
    "\n",
    " "
   ]
  },
  {
   "cell_type": "code",
   "execution_count": null,
   "id": "e4ef98ad",
   "metadata": {},
   "outputs": [],
   "source": [
    "# [과제] 클래스를 설명할수있게 이해해라. "
   ]
  },
  {
   "cell_type": "code",
   "execution_count": 3,
   "id": "62250add",
   "metadata": {},
   "outputs": [
    {
     "name": "stdout",
     "output_type": "stream",
     "text": [
      "이재호은 25세이며 computer을 전공했습니다.\n",
      "이재호\n",
      "25\n",
      "computer\n"
     ]
    }
   ],
   "source": [
    "# 클래스 생성자(인자가 있는 경우)\n",
    "\n",
    "class Cakd:\n",
    "    def __init__(self,name,age,major):\n",
    "        self.name = name\n",
    "        self.age = age\n",
    "        self.major = major\n",
    "        print(f'{self.name}은 {self.age}세이며 {self.major}을 전공했습니다.')\n",
    "        \n",
    "이재호 = Cakd('이재호',25,'computer')\n",
    "print(이재호.name)\n",
    "print(이재호.age)\n",
    "print(이재호.major)\n"
   ]
  },
  {
   "cell_type": "code",
   "execution_count": 4,
   "id": "5bf3c803",
   "metadata": {},
   "outputs": [
    {
     "name": "stdout",
     "output_type": "stream",
     "text": [
      "Cakd 인스턴스 객체가 메모리에서 제거됩니다.\n"
     ]
    }
   ],
   "source": [
    "# 클래스 소멸자\n",
    "# 클래스 인스턴스 객체가 메모리에서 제거될 때 자동으로 호출되는 클래스 메소드\n",
    "\n",
    "class Cakd:\n",
    "    def __del__(self):\n",
    "        print('Cakd 인스턴스 객체가 메모리에서 제거됩니다.')\n",
    "        \n",
    "obj = Cakd()\n",
    "del obj"
   ]
  },
  {
   "cell_type": "markdown",
   "id": "723e385e",
   "metadata": {},
   "source": [
    "## 클래스 멤버, 클래스 메소드\n",
    "- 클래스를 구성하는 주요 요소는 클래스 멤버(변수)와 클래스 메소드(함수)로 클래스 공간내에서 정의\n",
    "- 클래스 멤버는 클래스 메소드내에서 정의되는 지역변수나 인스턴스 멤버와는 다름\n",
    "- 클래스 메소드는 첫번째 인자가 반드시 self로 시작한다.\n",
    "- self는 이 클래스의 인스턴스 객체를 가리키는 참조자\n",
    "- 인스턴스 객체에서 클래스 메소드를 호출 시 첫번째 인자인 Self 생략"
   ]
  },
  {
   "cell_type": "code",
   "execution_count": 5,
   "id": "0a640a84",
   "metadata": {},
   "outputs": [
    {
     "name": "stdout",
     "output_type": "stream",
     "text": [
      "안녕하세요\n",
      "안녕하세요\n"
     ]
    }
   ],
   "source": [
    "class MyClass:\n",
    "    var = '안녕하세요' #클래스 멤버\n",
    "    def sayHello(self): #클래스 메소드\n",
    "         return self.var\n",
    "        \n",
    "obj = MyClass()\n",
    "print(obj.var)\n",
    "print(obj.sayHello())\n"
   ]
  },
  {
   "cell_type": "code",
   "execution_count": 7,
   "id": "830555b8",
   "metadata": {},
   "outputs": [
    {
     "name": "stdout",
     "output_type": "stream",
     "text": [
      "안녕하세요\n",
      "안녕\n",
      "안녕하세요\n",
      "None\n"
     ]
    }
   ],
   "source": [
    "# 클래스 멤버와 인스턴스 멤버 구분\n",
    "# 클래스 멤버는 클래스 메소드 바깥에서 선언되고 인스턴스 멤버는 클래스 메소드 안에서 self와 함께 선언\n",
    "\n",
    "class MyClass:\n",
    "    var = '안녕하세요'    #클래스 멤버\n",
    "    def sayHello(self):   # 클래스 메소드\n",
    "        param1 = '안녕'    #지역 변수\n",
    "        self.param2 = '하이'   #인스턴스 멤버\n",
    "        print(param1)\n",
    "        print(self.var)\n",
    "        \n",
    "obj = MyClass()\n",
    "print(obj.var)\n",
    "print(obj.sayHello())"
   ]
  },
  {
   "cell_type": "code",
   "execution_count": 9,
   "id": "5a6457d6",
   "metadata": {},
   "outputs": [
    {
     "name": "stdout",
     "output_type": "stream",
     "text": [
      "안녕하세요\n",
      "kevin! 다음에 보자\n"
     ]
    }
   ],
   "source": [
    "# 클래스 메소드\n",
    "# 클래스내에서 정의되는 클래스 메소드는 첫번째 인자가 반드시 self여야 한다.\n",
    "\n",
    "class MyClass:\n",
    "    def sayHello(self):\n",
    "        print('안녕하세요')\n",
    "    def sayBye(self,name):\n",
    "        print(f'{name}! 다음에 보자')\n",
    "        \n",
    "obj = MyClass()\n",
    "obj.sayHello()\n",
    "obj.sayBye('kevin')"
   ]
  },
  {
   "cell_type": "markdown",
   "id": "20683bbc",
   "metadata": {},
   "source": [
    "## 객체 지향 프로그래밍(Object-Oriented Programming)\n",
    "\n",
    "- 클래스 인스턴스는 객체(Object)라고도 하며 이렇게 클래스를 정의하고 객체를 만드는 패턴을 객체 지향 프로그래밍(OOP)이라고 한다.\n",
    "- 인스턴스를 불러온다는 것은 클래스를 가져와 객체로 바꿔준다는 것인데 type() 함수를 사용하는 것은 그 반대\n",
    "- 객체의 type을 확인해 보면 해당 객체가 어떤 클래스의 인스턴스인지를 확인\n",
    "- 파이썬에서 main은 \"현재 실행중인 파일\"을 의미"
   ]
  },
  {
   "cell_type": "code",
   "execution_count": 10,
   "id": "507c5c76",
   "metadata": {},
   "outputs": [
    {
     "name": "stdout",
     "output_type": "stream",
     "text": [
      "<class '__main__.Test'>\n"
     ]
    }
   ],
   "source": [
    "# 임의의 클래스를 작성한 후 인스턴스를 생성하고 그것의 타입을 확인\n",
    "class Test:\n",
    "    pass\n",
    "test = Test()\n",
    "print(type(test))"
   ]
  },
  {
   "cell_type": "markdown",
   "id": "6cfc2d25",
   "metadata": {},
   "source": [
    "## 클래스 상속\n",
    "- 어떤 클래스가 가지고 있는 모든 멤버나 메소드에 대해서 상속받는 클래스가 모두 사용할 수 있도록 해주는 것\n",
    "- 상속을 해주는 클래스가 부모클래스(슈퍼), 상속을 받는 클래스가 자식클래스(서브)라 한다. class 자식클래스명(부모클래스명)\n",
    "- 자식 클래스는 여러 부모클래스로 부터 상속받을 수 있으며, 다중상속이라 함. class 자식 클래스명(부모클래스1,부모클래스2..)"
   ]
  },
  {
   "cell_type": "code",
   "execution_count": 11,
   "id": "a3135fd9",
   "metadata": {},
   "outputs": [
    {
     "name": "stdout",
     "output_type": "stream",
     "text": [
      "3\n",
      "6\n",
      "2\n"
     ]
    }
   ],
   "source": [
    "class Sum:\n",
    "    def sum(self,n1,n2):\n",
    "        return n1 + n2\n",
    "class Mul:\n",
    "    def mul(self,n1,n2):\n",
    "        return n1 * n2\n",
    "    \n",
    "class Cal(Sum,Mul):\n",
    "    def sub(self,n1,n2):\n",
    "        return n1 - n2\n",
    "obj = Cal()\n",
    "print(obj.sum(1,2))\n",
    "print(obj.mul(3,2))\n",
    "print(obj.sub(5,3))"
   ]
  },
  {
   "cell_type": "code",
   "execution_count": 12,
   "id": "28934167",
   "metadata": {},
   "outputs": [
    {
     "name": "stdout",
     "output_type": "stream",
     "text": [
      "안녕하세요\n",
      "dlwogh! 다음에 보자\n"
     ]
    }
   ],
   "source": [
    "#Q. 클래스 MyClasss를 작성하고 객체를 생성하여 아래와 같이 출력하세요(생성자)\n",
    "# dlwogh, 안녕하세요\n",
    "# dlwogh! 다음에 보자\n",
    "class MyClass:\n",
    "    def sayHello(self):\n",
    "        print('안녕하세요')\n",
    "    def sayBye(self,name):\n",
    "        print(f'{name}! 다음에 보자')\n",
    "        \n",
    "obj = MyClass()\n",
    "obj.sayHello()\n",
    "obj.sayBye('dlwogh')"
   ]
  },
  {
   "cell_type": "code",
   "execution_count": 1,
   "id": "abbae284",
   "metadata": {},
   "outputs": [
    {
     "name": "stdout",
     "output_type": "stream",
     "text": [
      "이재호, 안녕하세요\n",
      "이재호, 다음에 보자\n"
     ]
    }
   ],
   "source": [
    "class MyClass:\n",
    "    def __init__(self,name):\n",
    "        self.name=name\n",
    "    def sayHello(self):\n",
    "        print(f'{self.name}, 안녕하세요')\n",
    "    def sayBye(self):\n",
    "        print(f'{self.name}, 다음에 보자')\n",
    "obj=MyClass('이재호')\n",
    "obj.sayHello()\n",
    "obj.sayBye()"
   ]
  },
  {
   "cell_type": "code",
   "execution_count": 3,
   "id": "e4bdc97c",
   "metadata": {},
   "outputs": [
    {
     "name": "stdout",
     "output_type": "stream",
     "text": [
      "박광민, 안녕하세요\n",
      "박광민, 다음에 보자\n"
     ]
    }
   ],
   "source": [
    "# 생성자 사용시 \n",
    "class MyClass:\n",
    "    def __init__(self,name):\n",
    "        self.name=name\n",
    "    def sayHello(self):\n",
    "        print(f'{self.name}, 안녕하세요')\n",
    "    def sayBye(self):\n",
    "        print(f'{self.name}, 다음에 보자')\n",
    "obj=MyClass('박광민')\n",
    "obj.sayHello()\n",
    "obj.sayBye()\n"
   ]
  },
  {
   "cell_type": "code",
   "execution_count": null,
   "id": "c6de81c9",
   "metadata": {},
   "outputs": [],
   "source": [
    "#[과제] 사용자 함수를 작성하여 기본가격 1000에 입력 받은 값을 추가한 가격을 산출하세요(지역 변수,전역변수 2가지 방법)"
   ]
  },
  {
   "cell_type": "code",
   "execution_count": 76,
   "id": "008ce6fc",
   "metadata": {},
   "outputs": [
    {
     "name": "stdout",
     "output_type": "stream",
     "text": [
      "1200\n"
     ]
    }
   ],
   "source": [
    "cost = 1000  # 변수 선언\n",
    "def price(x):\n",
    "    global cost  # 글로벌 변수 선언\n",
    "    return x + cost  # 지역변수 + 전역변수를 반환\n",
    "\n",
    "\n",
    "print(price(200))  # 함수에 추가할 값을 전달한 후 출력"
   ]
  },
  {
   "cell_type": "code",
   "execution_count": 77,
   "id": "1524ea32",
   "metadata": {},
   "outputs": [
    {
     "name": "stdout",
     "output_type": "stream",
     "text": [
      "1400\n"
     ]
    }
   ],
   "source": [
    "def price(x):\n",
    "    cost = 1000     # 지역변수 선언\n",
    "    return x + cost # 전달한 값 + 지역변수를 반환\n",
    "\n",
    "print(price(400))  # 함수에 추가할 값을 전달한 후 출력"
   ]
  },
  {
   "cell_type": "code",
   "execution_count": 1,
   "id": "bc80a4e9",
   "metadata": {},
   "outputs": [
    {
     "name": "stdout",
     "output_type": "stream",
     "text": [
      "추가 가격을 입력해주세요> 100\n",
      "가격: 1100원\n"
     ]
    }
   ],
   "source": [
    "# 지역변수\n",
    "p = int(input('추가 가격을 입력해주세요> '))\n",
    "def price(p):\n",
    "    b = 1000\n",
    "    b += p\n",
    "    return b\n",
    "print(f'가격: {price(p)}원')"
   ]
  },
  {
   "cell_type": "code",
   "execution_count": 4,
   "id": "438af553",
   "metadata": {},
   "outputs": [
    {
     "name": "stdout",
     "output_type": "stream",
     "text": [
      "추가 가격을 입력해 주세요> 100\n",
      "가격: 1100원\n"
     ]
    }
   ],
   "source": [
    "# global 변수 사용\n",
    "b = 1000\n",
    "def price():\n",
    "    global b\n",
    "    p = int(input('추가 가격을 입력해 주세요> '))\n",
    "    b += p\n",
    "    return b\n",
    "print(f'가격: {price()}원')"
   ]
  },
  {
   "cell_type": "code",
   "execution_count": null,
   "id": "bc50a1e5",
   "metadata": {},
   "outputs": [],
   "source": [
    "#[과제] 4칙 연산 기능을 포함한 Cal4 클래스(생성자 이용)을 작성하고 이 클래스를 이용하여 cal 계산기 객체를 만든 후\n",
    "# 적절한 수를 적용하여 사칙연산 수행 결과를 출력하세요."
   ]
  },
  {
   "cell_type": "code",
   "execution_count": 1,
   "id": "53319503",
   "metadata": {},
   "outputs": [
    {
     "name": "stdout",
     "output_type": "stream",
     "text": [
      "4\n",
      "9\n",
      "2.0\n",
      "6\n"
     ]
    }
   ],
   "source": [
    "class FourCal:\n",
    "    def __init__(self,m1,m2):\n",
    "        self.m1 = m1\n",
    "        self.m2 = m2\n",
    "class Sum:\n",
    "    def sum(self,m1,m2):\n",
    "        return m1 + m2\n",
    "class Mul:\n",
    "    def mul(self,m1,m2):\n",
    "        return m1 * m2\n",
    "class Div:\n",
    "    def div(self,m1,m2):\n",
    "        return m1 / m2\n",
    "    \n",
    "class Cal(Sum,Mul,Div):\n",
    "    def sub(self,m1,m2):\n",
    "        return m1 - m2\n",
    "obj = Cal()\n",
    "print(obj.sum(2,2))\n",
    "print(obj.mul(3,3))\n",
    "print(obj.div(10,5))\n",
    "print(obj.sub(9,3))"
   ]
  },
  {
   "cell_type": "code",
   "execution_count": 5,
   "id": "7bb3f402",
   "metadata": {},
   "outputs": [
    {
     "name": "stdout",
     "output_type": "stream",
     "text": [
      "첫번째 정수 입력>1\n",
      "두번째 정수 입력>4\n",
      "add : 5, sub : -3, mul : 4, div : 0.25\n"
     ]
    }
   ],
   "source": [
    "class Cal4:\n",
    "    def __init__(self,num1,num2):\n",
    "        self.num1=num1\n",
    "        self.num2=num2\n",
    "    def add(self):\n",
    "        return self.num1+self.num2\n",
    "    def sub(self):\n",
    "        return self.num1-self.num2\n",
    "    def mul(self):\n",
    "        return self.num1*self.num2\n",
    "    def div(self):\n",
    "        return round(self.num1/self.num2,2)\n",
    "while 1:\n",
    "    try:\n",
    "        num1=int(input(\"첫번째 정수 입력>\"))\n",
    "        num2=int(input(\"두번째 정수 입력>\"))\n",
    "        break\n",
    "    except:\n",
    "        print(\"올바른 값을 입력하세요.\")\n",
    "cal=Cal4(num1,num2)\n",
    "print(f'add : {cal.add()}, sub : {cal.sub()}, mul : {cal.mul()}, div : {cal.div()}')\n"
   ]
  },
  {
   "cell_type": "code",
   "execution_count": 10,
   "id": "bc03df9e",
   "metadata": {},
   "outputs": [
    {
     "name": "stdout",
     "output_type": "stream",
     "text": [
      "첫 번째 숫자 입력: 10\n",
      "두 번째 숫자 입력: 100\n",
      "\n",
      "10 + 100 = 110\n",
      "10 - 100 = -90\n",
      "10 * 100 = 1000\n",
      "10 / 100 = 0.1\n"
     ]
    }
   ],
   "source": [
    "class Cal():\n",
    "    def __init__(cal, x, y):\n",
    "        cal.x=x\n",
    "        cal.y=y\n",
    "        \n",
    "    def getSum(cal):\n",
    "        print(f'{cal.x} + {cal.y} = {cal.x+cal.y}')\n",
    "    def getSub(cal):\n",
    "        print(f'{cal.x} - {cal.y} = {cal.x-cal.y}')\n",
    "    def getMul(cal):\n",
    "        print(f'{cal.x} * {cal.y} = {cal.x*cal.y}')\n",
    "    def getDiv(cal):\n",
    "        try:\n",
    "            print(f'{cal.x} / {cal.y} = {cal.x/cal.y}')\n",
    "        except:\n",
    "            print(f'{cal.x} / {cal.y} 계산 불가!')\n",
    "            \n",
    "    def getAll(cal):\n",
    "        cal.getSum()\n",
    "        cal.getSub()\n",
    "        cal.getMul()\n",
    "        cal.getDiv()   \n",
    "while 1:\n",
    "     try:         \n",
    "        x=int(input(\"첫 번째 숫자 입력: \"))\n",
    "        y=int(input(\"두 번째 숫자 입력: \"))\n",
    "     except ValueError:\n",
    "        print(\"숫자를 입력해주세요. 프로그램을 종료합니다.\")\n",
    "     else:\n",
    "        print()\n",
    "        cal=Cal(x, y)\n",
    "        cal.getAll()\n",
    "        break\n"
   ]
  },
  {
   "cell_type": "code",
   "execution_count": 12,
   "id": "cf307c6c",
   "metadata": {},
   "outputs": [
    {
     "name": "stdout",
     "output_type": "stream",
     "text": [
      "첫 번째 숫자 입력: 100\n",
      "두 번째 숫자 입력: 0\n",
      "약수로 0을 사용할 순 없습니다. 다시 입력해주세요.\n",
      "\n",
      "첫 번째 숫자 입력: 0\n",
      "두 번째 숫자 입력: 0\n",
      "약수로 0을 사용할 순 없습니다. 다시 입력해주세요.\n",
      "\n",
      "첫 번째 숫자 입력: 100\n",
      "두 번째 숫자 입력: 10\n",
      "\n",
      "100 + 10 = 110\n",
      "100 - 10 = 90\n",
      "100 * 10 = 1000\n",
      "100 / 10 = 10.0\n"
     ]
    }
   ],
   "source": [
    "class Cal():\n",
    "    def __init__(cal, x, y):\n",
    "        cal.x=x\n",
    "        cal.y=y\n",
    "        \n",
    "    def getSum(cal):\n",
    "        print(f'{cal.x} + {cal.y} = {cal.x+cal.y}')\n",
    "    def getSub(cal):\n",
    "        print(f'{cal.x} - {cal.y} = {cal.x-cal.y}')\n",
    "    def getMul(cal):\n",
    "        print(f'{cal.x} * {cal.y} = {cal.x*cal.y}')\n",
    "    def getDiv(cal):\n",
    "        print(f'{cal.x} / {cal.y} = {cal.x/cal.y}')\n",
    "            \n",
    "    def getAll(cal):\n",
    "        cal.getSum()\n",
    "        cal.getSub()\n",
    "        cal.getMul()\n",
    "        cal.getDiv()       \n",
    "\n",
    "while 1:\n",
    "    try:         \n",
    "        x=int(input(\"첫 번째 숫자 입력: \"))\n",
    "        y=int(input(\"두 번째 숫자 입력: \"))\n",
    "        if y==0:\n",
    "            print(\"약수로 0을 사용할 순 없습니다. 다시 입력해주세요.\")\n",
    "            print()\n",
    "            continue\n",
    "    except ValueError:\n",
    "        print(\"숫자를 입력해주세요.\")\n",
    "        print()\n",
    "    else:\n",
    "        print()\n",
    "        cal=Cal(x, y)\n",
    "        cal.getAll()\n",
    "        break\n"
   ]
  },
  {
   "cell_type": "code",
   "execution_count": 79,
   "id": "32d8db7c",
   "metadata": {},
   "outputs": [
    {
     "data": {
      "text/plain": [
       "8"
      ]
     },
     "execution_count": 79,
     "metadata": {},
     "output_type": "execute_result"
    }
   ],
   "source": [
    "class FourCal:\n",
    "    def __init__(self,m1,m2):\n",
    "        self.m1 = m1\n",
    "        self.m2 = m2\n",
    "    def setdata(self,m1,m2):\n",
    "        self.m1 = m1\n",
    "        self.m2 = m2\n",
    "    def add(self):\n",
    "        result = self.m1 + self.m2\n",
    "        return result\n",
    "    def mul(self):\n",
    "        result = self.m1 * self.m2\n",
    "        return result\n",
    "    def sub(self):\n",
    "        result = self.m1 - self.m2\n",
    "        return result\n",
    "    def div(self):\n",
    "        result = self.m1 / self.m2\n",
    "        return result\n",
    "a.setdata(3,5)\n",
    "b.setdata(4,2)\n",
    "a.add()\n",
    "b.add()\n",
    "a.sub()\n",
    "b.sub()\n",
    "a.mul()\n",
    "b.mul()"
   ]
  },
  {
   "cell_type": "code",
   "execution_count": 32,
   "id": "42b92d7b",
   "metadata": {},
   "outputs": [
    {
     "name": "stdout",
     "output_type": "stream",
     "text": [
      "3\n",
      "6\n",
      "2\n"
     ]
    }
   ],
   "source": [
    "class Sum:\n",
    "    def sum(self,n1,n2):\n",
    "        return n1 + n2\n",
    "class Mul:\n",
    "    def mul(self,n1,n2):\n",
    "        return n1 * n2\n",
    "    \n",
    "class Cal(Sum,Mul):\n",
    "    def sub(self,n1,n2):\n",
    "        return n1 - n2\n",
    "obj = Cal()\n",
    "print(obj.sum(1,2))\n",
    "print(obj.mul(3,2))\n",
    "print(obj.sub(5,3))"
   ]
  },
  {
   "cell_type": "code",
   "execution_count": 16,
   "id": "e75fcd56",
   "metadata": {},
   "outputs": [
    {
     "name": "stdout",
     "output_type": "stream",
     "text": [
      "첫 번째 숫자 입력:10\n",
      "두 번째 숫자 입력: 10\n",
      "10 + 10 = 20\n",
      "10 - 10 = 0\n",
      "10 * 10 = 100\n",
      "10 / 10 = 1.0\n"
     ]
    }
   ],
   "source": [
    "# 선생 풀이\n",
    "class Cal():\n",
    "    def __init__(cal, x, y):\n",
    "        cal.x=x\n",
    "        cal.y=y\n",
    "        \n",
    "    def getSum(cal):\n",
    "        print(f'{cal.x} + {cal.y} = {cal.x+cal.y}')\n",
    "    def getSub(cal):\n",
    "        print(f'{cal.x} - {cal.y} = {cal.x-cal.y}')\n",
    "    def getMul(cal):\n",
    "        print(f'{cal.x} * {cal.y} = {cal.x*cal.y}')\n",
    "    def getDiv(cal):\n",
    "        print(f'{cal.x} / {cal.y} = {cal.x/cal.y}')\n",
    "            \n",
    "    def getAll(cal):\n",
    "        cal.getSum()\n",
    "        cal.getSub()\n",
    "        cal.getMul()\n",
    "        cal.getDiv()       \n",
    "\n",
    "while 1:\n",
    "    x=int(input(\"첫 번째 숫자 입력:\"))\n",
    "    y=int(input(\"두 번째 숫자 입력: \"))\n",
    "    if x == 0 or y == 0:\n",
    "        print('0이 아닌 수를 입력하세요')\n",
    "    else:\n",
    "        cal = Cal(x,y)\n",
    "        cal.getAll()\n",
    "        break"
   ]
  },
  {
   "cell_type": "code",
   "execution_count": null,
   "id": "d2332573",
   "metadata": {},
   "outputs": [],
   "source": [
    "#[과제] 관심 주제에 대하여 100~200 라인 정도의 프로그램을 구조지향적으로 작성하신 후\n",
    "# 클래스를 이용한 객체지향 프로그래밍으로  수정하세요(필요시 상속 이용)"
   ]
  },
  {
   "cell_type": "code",
   "execution_count": 18,
   "id": "11131a46",
   "metadata": {},
   "outputs": [
    {
     "name": "stdout",
     "output_type": "stream",
     "text": [
      "2000\n",
      "3000\n",
      "4000\n"
     ]
    }
   ],
   "source": [
    "# 기본 가격 1000원인 3개의 상품에 대하여 임의의 추가 가격을 인수로 대입시 더한 가격을 산출하세요\n",
    "\n",
    "class Order:\n",
    "    def __init__(self):\n",
    "        self.p = 1000\n",
    "    def order(self,price):\n",
    "        \n",
    "        self.p += price\n",
    "        return self.p\n",
    "    \n",
    "    \n",
    "pd1 = Order()\n",
    "pd2 = Order()\n",
    "pd3 = Order()\n",
    "\n",
    "print(pd1.order(1000))\n",
    "print(pd2.order(2000))\n",
    "print(pd3.order(3000))"
   ]
  },
  {
   "cell_type": "code",
   "execution_count": null,
   "id": "b8dc52c7",
   "metadata": {},
   "outputs": [],
   "source": [
    "# 기본가격 1000인 2개의 상품에 대하여 임의의 추가 가격을 입력시 아래 두개의 방식으로 산출하세요(class이용)\n",
    "price1 : 기본가격 + 추가가격\n",
    "price2 : (기본가격 + 추가가격) *90%    "
   ]
  },
  {
   "cell_type": "code",
   "execution_count": 20,
   "id": "81f48f58",
   "metadata": {},
   "outputs": [
    {
     "name": "stdout",
     "output_type": "stream",
     "text": [
      "2000\n",
      "1800\n"
     ]
    }
   ],
   "source": [
    "class order:\n",
    "    def __init__(self):\n",
    "        self.basic=1000\n",
    "    def hund(self,alpha):\n",
    "        return self.basic+alpha\n",
    "    def nine(self,alpha):\n",
    "        return round((self.basic+alpha)*0.9)\n",
    "\n",
    "a=order()\n",
    "b=order()\n",
    "\n",
    "print(a.hund(1000))\n",
    "print(b.nine(1000))\n"
   ]
  },
  {
   "cell_type": "code",
   "execution_count": 24,
   "id": "2f520db9",
   "metadata": {},
   "outputs": [
    {
     "name": "stdout",
     "output_type": "stream",
     "text": [
      "2000\n",
      "1800\n"
     ]
    }
   ],
   "source": [
    "class order:\n",
    "    def __init__(self):\n",
    "        self.basic=1000\n",
    "    def m2(self,add):\n",
    "        return self.basic+add\n",
    "    def m3(self,add):\n",
    "        return round((self.basic+add)*0.9)\n",
    "    \n",
    "a=order()\n",
    "b=order()\n",
    "\n",
    "print(a.m2(1000))\n",
    "print(b.m3(1000))"
   ]
  },
  {
   "cell_type": "code",
   "execution_count": 29,
   "id": "01a91741",
   "metadata": {},
   "outputs": [
    {
     "name": "stdout",
     "output_type": "stream",
     "text": [
      "2000\n",
      "1800\n",
      "600\n"
     ]
    }
   ],
   "source": [
    "#기본가격 1000인 3개의 상품에 대하여\n",
    "#price1 : 기본가격 + 추가가격\n",
    "#price2 : (기본가격 + 추가가격) *90%    \n",
    "#price3: (기본가격 + 추가가격) *30%    \n",
    "\n",
    "class order:\n",
    "    def __init__(self):\n",
    "        self.basic=1000\n",
    "    def m1(self,add):\n",
    "        return self.basic+add\n",
    "    def m2(self,add):\n",
    "        return round((self.basic+add)*0.9)\n",
    "    def m3(self,add):\n",
    "        return round((self.basic+add)*0.3)\n",
    "    \n",
    "a=order()\n",
    "b=order()\n",
    "c=order()\n",
    "  \n",
    "\n",
    "\n",
    "print(a.m1(1000))\n",
    "print(b.m2(1000))\n",
    "print(c.m3(1000))"
   ]
  },
  {
   "cell_type": "code",
   "execution_count": 31,
   "id": "07c6b3ba",
   "metadata": {},
   "outputs": [
    {
     "name": "stdout",
     "output_type": "stream",
     "text": [
      "4000\n",
      "1200\n"
     ]
    }
   ],
   "source": [
    "# 기본 가격이 2000인 2개의 상품\n",
    "# price : 기본가격 +추가가격\n",
    "# price : (기본가격 + 추가가격) *40%  \n",
    "\n",
    "class order:\n",
    "    def __init__(self):\n",
    "        self.base=2000\n",
    "    def m1(self,add):\n",
    "        return self.base+add\n",
    "    def m2(self,add):\n",
    "        return round((self.base+add)*0.3)\n",
    "    \n",
    "a=order()\n",
    "b=order()\n",
    "\n",
    "print(a.m1(2000))\n",
    "print(b.m2(2000))\n"
   ]
  },
  {
   "cell_type": "code",
   "execution_count": 33,
   "id": "1cf128a5",
   "metadata": {},
   "outputs": [
    {
     "name": "stdout",
     "output_type": "stream",
     "text": [
      "1600\n",
      "3600\n",
      "1200\n"
     ]
    }
   ],
   "source": [
    "# 기본 가격이 2000인 3개의 상품\n",
    "#price1 : (기본가격 + 추가가격) *40%\n",
    "#price2 : (기본가격 + 추가가격) *90%    \n",
    "#price3: (기본가격 + 추가가격) *30%  \n",
    "\n",
    "class order:\n",
    "    def __init__(self):\n",
    "        self.base=2000\n",
    "    def m1(self,add):\n",
    "        return round((self.base+add)*0.4)\n",
    "    def m2(self,add):\n",
    "        return round((self.base+add)*0.9)\n",
    "    def m3(self,add):\n",
    "        return round((self.base+add)*0.3)\n",
    "    \n",
    "a=order()\n",
    "b=order()\n",
    "c=order()\n",
    "\n",
    "print(a.m1(2000))\n",
    "print(b.m2(2000))\n",
    "print(c.m3(2000))"
   ]
  },
  {
   "cell_type": "code",
   "execution_count": null,
   "id": "b98562e3",
   "metadata": {},
   "outputs": [],
   "source": [
    "#[과제] 업무미팅이 2시임을 알려주는 자동 이메일을 클래스 AutoEmail을 작성하여 아래와 같이 출력되게 하시오\n",
    "#안녕하세요. Kevin님, 업무 미팅은 2시입니다."
   ]
  },
  {
   "cell_type": "code",
   "execution_count": 7,
   "id": "15cbefee",
   "metadata": {},
   "outputs": [
    {
     "name": "stdout",
     "output_type": "stream",
     "text": [
      "1000\n",
      "1000원\n"
     ]
    }
   ],
   "source": [
    "#오버라이딩\n",
    "# Order 클래스를 상속받아 extraOrder 클래스에서 메소드 오버라이딩하여 출력 가격에 원이추가되도록 하세요\n",
    "class Order:\n",
    "    def __init__(self, name):\n",
    "        self.customer = 0\n",
    "        self.name = name\n",
    "    def order(self,price):\n",
    "        self.customer += price\n",
    "        return self.customer\n",
    "\n",
    "class ExtraOrder(Order):\n",
    "    def order(self,price):\n",
    "        self.customer += price\n",
    "        return str(self.customer)+'원'\n",
    "    \n",
    "order = Order('kevin')\n",
    "print(order.order(1000))\n",
    "\n",
    "extraCustomer = ExtraOrder('kevin')\n",
    "print(extraCustomer.order(1000))"
   ]
  },
  {
   "cell_type": "code",
   "execution_count": 25,
   "id": "17a305f9",
   "metadata": {},
   "outputs": [
    {
     "data": {
      "text/plain": [
       "2"
      ]
     },
     "execution_count": 25,
     "metadata": {},
     "output_type": "execute_result"
    }
   ],
   "source": [
    "# 인터프리터에서 마지막 실행결과 값을 가지는 변수로 사용\n",
    "1+1\n",
    "\n",
    "_"
   ]
  },
  {
   "cell_type": "code",
   "execution_count": 26,
   "id": "6f518a40",
   "metadata": {},
   "outputs": [
    {
     "name": "stdout",
     "output_type": "stream",
     "text": [
      "hello world!\n",
      "hello world!\n",
      "hello world!\n",
      "hello world!\n",
      "hello world!\n",
      "\n",
      "0\n",
      "1\n",
      "2\n",
      "1 2\n"
     ]
    }
   ],
   "source": [
    "# 변수 값을 굳이 사용할 필요가 없는 경우\n",
    "\n",
    "for _ in range(5):\n",
    "    print('hello world!')\n",
    "print()\n",
    "for _ in range(3):\n",
    "    print(_)\n",
    "def values():\n",
    "    return(1,2,3,4)  #튜플을 반환\n",
    "\n",
    "a, b, _,_ = values()   # 반환된 튜플 값중 2개만 필요\n",
    "print(a,b)"
   ]
  },
  {
   "cell_type": "code",
   "execution_count": 34,
   "id": "91012c4d",
   "metadata": {},
   "outputs": [
    {
     "name": "stdout",
     "output_type": "stream",
     "text": [
      "<class '__main__.Order'>\n"
     ]
    }
   ],
   "source": [
    "# 예약어를 변수명으로 사용할 수 없는 경우\n",
    "class Order:\n",
    "    def __init__(self):\n",
    "        self.coffee = 'Americano'\n",
    "        self.price = 3000\n",
    "        \n",
    "def printClassName(class_):\n",
    "        print(class_)\n",
    "        \n",
    "order = Order()\n",
    "printClassName(order.__class__)"
   ]
  },
  {
   "cell_type": "markdown",
   "id": "87bac360",
   "metadata": {},
   "source": [
    " # https://ebbnflow.tistory.com/255\n"
   ]
  },
  {
   "cell_type": "code",
   "execution_count": 39,
   "id": "b860d993",
   "metadata": {},
   "outputs": [
    {
     "name": "stdout",
     "output_type": "stream",
     "text": [
      "abc\n"
     ]
    }
   ],
   "source": [
    "# 클래스 변수 : 인스턴스 변수와 달리 모든 인스턴스 사이에 공유된 값을 가진 변수\n",
    "\n",
    "class MyClass:\n",
    "    value = 'abc' # 클래스 변수를 선언\n",
    "    \n",
    "if __name__ ==\"__main__\":\n",
    "    print(MyClass.value)"
   ]
  },
  {
   "cell_type": "code",
   "execution_count": 48,
   "id": "899a79c2",
   "metadata": {},
   "outputs": [
    {
     "name": "stdout",
     "output_type": "stream",
     "text": [
      "1\n",
      "2\n",
      "3\n"
     ]
    }
   ],
   "source": [
    "# 인스턴스를 생성할 때마다 클래스 변수를 value를 +1\n",
    "class MyClass:\n",
    "    value = 0\n",
    "    def __init__(self):\n",
    "        MyClass.value += 1\n",
    "        \n",
    "if __name__ ==\"__main__\":\n",
    "    a = MyClass()  #인스턴스 a 생성\n",
    "    print(MyClass.value)\n",
    "    b = MyClass()  # 인스턴스 b 생성\n",
    "    print(MyClass.value)\n",
    "    c = MyClass()   # 인스턴스 C 생성\n",
    "    print(MyClass.value)"
   ]
  },
  {
   "cell_type": "code",
   "execution_count": 79,
   "id": "7ddeb4d2",
   "metadata": {},
   "outputs": [
    {
     "name": "stdout",
     "output_type": "stream",
     "text": [
      "1 honux\n",
      "2 crong\n"
     ]
    }
   ],
   "source": [
    "# 인스턴스 변수\n",
    "class User:\n",
    "    num_users = 0   #클래스 변수\n",
    "    def __init__(self,name):\n",
    "        self.name = name    #인스턴스 변수\n",
    "        User.num_users += 1\n",
    "        \n",
    "u = User('honux')\n",
    "print(User.num_users,u.name)\n",
    "\n",
    "u2 = User('crong')\n",
    "print(User.num_users,u2.name)"
   ]
  },
  {
   "cell_type": "code",
   "execution_count": 76,
   "id": "dcc2a2b2",
   "metadata": {},
   "outputs": [
    {
     "name": "stdout",
     "output_type": "stream",
     "text": [
      "I am a Rockstar!\n"
     ]
    }
   ],
   "source": [
    "# 메소드 : 메소드는 클래스 안에서 정의된 함수, 첫번째 인수를 항상 self로 지정\n",
    "\n",
    "class Musician:\n",
    "    title = 'Rockstar'\n",
    "    def explanation(self):\n",
    "        print(f'I am a {self.title}!')\n",
    "        \n",
    "drummer = Musician()\n",
    "drummer.explanation()\n"
   ]
  },
  {
   "cell_type": "code",
   "execution_count": 77,
   "id": "67290d3b",
   "metadata": {},
   "outputs": [
    {
     "name": "stdout",
     "output_type": "stream",
     "text": [
      "1017.36\n",
      "113.04\n"
     ]
    }
   ],
   "source": [
    "# 다른 인수가 있는 메소드\n",
    "class Circle():\n",
    "    pi = 3.14\n",
    "    def area(self,radius):\n",
    "        return self.pi * radius ** 2\n",
    "    \n",
    "circle = Circle()\n",
    "pizza_area = circle.area(6)\n",
    "table_area = circle.area(18)\n",
    "print(table_area)\n",
    "print(pizza_area)"
   ]
  },
  {
   "cell_type": "code",
   "execution_count": 81,
   "id": "d603822e",
   "metadata": {},
   "outputs": [
    {
     "name": "stdout",
     "output_type": "stream",
     "text": [
      "Hello?!\n"
     ]
    }
   ],
   "source": [
    "# 생성자(Constructor)\n",
    "# 클래스를 호출할 때 자동으로 어떤 함수를 실행하거나 값을 호출하고 싶은 경우.__init__을 사용\n",
    "# Shouter라는 클래스를 객체로 불러올 때마다 \"Hello\"라는 문자열을 출력\n",
    "\n",
    "class Shouter:\n",
    "    def __init__(self):\n",
    "        print('Hello?!')\n",
    "shout = Shouter()"
   ]
  },
  {
   "cell_type": "code",
   "execution_count": null,
   "id": "2df5037f",
   "metadata": {},
   "outputs": [],
   "source": []
  },
  {
   "cell_type": "code",
   "execution_count": null,
   "id": "abc1c203",
   "metadata": {},
   "outputs": [],
   "source": []
  },
  {
   "cell_type": "code",
   "execution_count": null,
   "id": "2b966c92",
   "metadata": {},
   "outputs": [],
   "source": []
  },
  {
   "cell_type": "code",
   "execution_count": null,
   "id": "f9be716b",
   "metadata": {},
   "outputs": [],
   "source": []
  },
  {
   "cell_type": "code",
   "execution_count": null,
   "id": "ad701c46",
   "metadata": {},
   "outputs": [],
   "source": []
  },
  {
   "cell_type": "code",
   "execution_count": null,
   "id": "056acec7",
   "metadata": {},
   "outputs": [],
   "source": []
  },
  {
   "cell_type": "code",
   "execution_count": null,
   "id": "d7da0985",
   "metadata": {},
   "outputs": [],
   "source": []
  },
  {
   "cell_type": "code",
   "execution_count": null,
   "id": "a725d3b5",
   "metadata": {},
   "outputs": [],
   "source": []
  },
  {
   "cell_type": "code",
   "execution_count": null,
   "id": "2abb957e",
   "metadata": {},
   "outputs": [],
   "source": []
  },
  {
   "cell_type": "code",
   "execution_count": null,
   "id": "ef91738d",
   "metadata": {},
   "outputs": [],
   "source": []
  },
  {
   "cell_type": "code",
   "execution_count": null,
   "id": "b4a05a98",
   "metadata": {},
   "outputs": [],
   "source": []
  }
 ],
 "metadata": {
  "kernelspec": {
   "display_name": "Python 3 (ipykernel)",
   "language": "python",
   "name": "python3"
  },
  "language_info": {
   "codemirror_mode": {
    "name": "ipython",
    "version": 3
   },
   "file_extension": ".py",
   "mimetype": "text/x-python",
   "name": "python",
   "nbconvert_exporter": "python",
   "pygments_lexer": "ipython3",
   "version": "3.8.12"
  }
 },
 "nbformat": 4,
 "nbformat_minor": 5
}

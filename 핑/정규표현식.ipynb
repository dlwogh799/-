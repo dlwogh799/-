{
 "cells": [
  {
   "cell_type": "markdown",
   "id": "5a4a21db",
   "metadata": {},
   "source": [
    "## 정규표현식의 기초, 메타 문자\n",
    "\n",
    "- . ^ % * + ? {} [] \\ | ()\n",
    "- [] 문자 클래스\n",
    " - \\d 숫자와 매치,[0-9]와 동일한 표현식\n",
    " - \\D 숫자가 아닌것과 매치, [^0-9]와 동일한 표현식\n",
    " - \\s whitespace 문자와 매치, [ \\t\\n\\r\\f\\v] 와 동일한 표현식\n",
    " - \\S whitespace 문자가 아닌것과 매치, [^ \\t\\n\\r\\f\\v] 와 동일한 표현식\n",
    " - \\w 문자 + 숫자와 매치, [a-zA-Z0-9]와 동일한 표현식\n",
    " - \\w 문자 + 숫자가 아닌 문자와 매치, [^ a-zA-Z0-9]와 동일한 표현식\n",
    "\n",
    "- whitespace\n",
    "  - 스페이스 바(아스키코드 32)\n",
    "  - \\b 뒤로 한 칸 이동(Backspace) (아스키코드 8)\n",
    "  - \\t 수평탭 간격 띄우기\n",
    "  - \\n 줄 바꿈\n",
    "  - \\v 수직 탭 간격 띄우기\n",
    "  - \\f 프린트 출력 용지를 한 페이지 넘김\n",
    "  - \\r 동일한 줄의 맨 앞에서 커서 이동\n",
    "\n",
    "- Dot(.) 메타 문자는 줄바꿈 문자인 \\n을 제외한 모든 문자와 매치됨을 의미\n",
    " - 반복(\\*) ca*t 0부터 무한대로 반복 caaaaa*t, c*t\n",
    " - 반복(\\+) ca+t 최소 1번 이상 반복\n",
    " - ca{m,n} a 반복횟수가 m부터 n까지인 것을 매치\n",
    " - ca{2}t는 c+a(2번 반복)+t의 의미\n",
    " - 반복 횟수가 {1,}은 1 이상, {0,}은 0 이상인 경우로 +, *와 동일하며 {,1}은 반복 횟수가 1 이하를 의미\n",
    " - ab?c b가 0~1번 사용되면 매치되는 것으로 ?은 앞에 b가 있어도 되고 없어도 된다.\n",
    "\n",
    "re 모듈 : 파이썬은 정규표현식을 지원하기 위해 기본으로 제공\n",
    "\n",
    " - re.compile의 결과로 리턴되는 객체를 이용하여  그 이후 작업 수행\n",
    "\n",
    "정규직을 이용한 문자열 검색\n",
    "- match(): 문자열의 처음부터 정규식과 매치되는지를 조사\n",
    "- search() : 문자열의 전체를 검색하여 정규식과 매치되는지를 조사\n",
    "- findall(): 정규식과 매치되는 모든 문자열을 리스트로 리턴\n",
    "- finditer(): 정규식과 매치되는 모든 문자열을 반복가능한 객체로 리턴"
   ]
  },
  {
   "cell_type": "code",
   "execution_count": 4,
   "id": "8bdc4ee5",
   "metadata": {},
   "outputs": [
    {
     "name": "stdout",
     "output_type": "stream",
     "text": [
      "<re.Match object; span=(0, 7), match='python '>\n"
     ]
    }
   ],
   "source": [
    "import re\n",
    "p = re.compile('[a-z]+\\s')\n",
    "m = p.match('python python')\n",
    "print(m)"
   ]
  },
  {
   "cell_type": "code",
   "execution_count": 5,
   "id": "f0d973ad",
   "metadata": {},
   "outputs": [
    {
     "data": {
      "text/plain": [
       "<re.Match object; span=(0, 7), match='python '>"
      ]
     },
     "execution_count": 5,
     "metadata": {},
     "output_type": "execute_result"
    }
   ],
   "source": [
    "re.match('[a-z]+\\s',\"python python\")"
   ]
  },
  {
   "cell_type": "code",
   "execution_count": 7,
   "id": "091c0792",
   "metadata": {},
   "outputs": [
    {
     "data": {
      "text/plain": [
       "['python ']"
      ]
     },
     "execution_count": 7,
     "metadata": {},
     "output_type": "execute_result"
    }
   ],
   "source": [
    "p.findall('python python')"
   ]
  },
  {
   "cell_type": "code",
   "execution_count": 11,
   "id": "8449dad2",
   "metadata": {},
   "outputs": [
    {
     "name": "stdout",
     "output_type": "stream",
     "text": [
      "None\n"
     ]
    }
   ],
   "source": [
    "m = p.match('3python ')\n",
    "print(m)"
   ]
  },
  {
   "cell_type": "code",
   "execution_count": 10,
   "id": "9914cb4d",
   "metadata": {},
   "outputs": [
    {
     "name": "stdout",
     "output_type": "stream",
     "text": [
      "<re.Match object; span=(1, 8), match='python '>\n"
     ]
    }
   ],
   "source": [
    "m = p.search('3python ')\n",
    "print(m)"
   ]
  },
  {
   "cell_type": "code",
   "execution_count": 12,
   "id": "05aadbe8",
   "metadata": {},
   "outputs": [
    {
     "name": "stdout",
     "output_type": "stream",
     "text": [
      "<re.Match object; span=(1, 6), match='anker'>\n",
      "<re.Match object; span=(0, 6), match='backer'>\n"
     ]
    }
   ],
   "source": [
    "# 문자 클래스 : []\n",
    "pattern = re.compile('[a-z]+')\n",
    "p1 = pattern.search('Banker')\n",
    "p2 = pattern.search('backer')\n",
    "print(p1)\n",
    "print(p2)"
   ]
  },
  {
   "cell_type": "code",
   "execution_count": 15,
   "id": "34f96682",
   "metadata": {},
   "outputs": [
    {
     "name": "stdout",
     "output_type": "stream",
     "text": [
      "<re.Match object; span=(0, 1), match='a'>\n"
     ]
    }
   ],
   "source": [
    "# '12345abc'에서 'a'만 출력하세요\n",
    "import re\n",
    "p = re.compile('[a]')\n",
    "s = p.search('a')\n",
    "print(s)\n"
   ]
  },
  {
   "cell_type": "code",
   "execution_count": 16,
   "id": "316243d9",
   "metadata": {},
   "outputs": [
    {
     "name": "stdout",
     "output_type": "stream",
     "text": [
      "<re.Match object; span=(5, 6), match='a'>\n"
     ]
    }
   ],
   "source": [
    "import re\n",
    "\n",
    "pattern = re.compile('[a]')\n",
    "text = '12345abc'\n",
    "m = pattern.search(text)\n",
    "print(m)\n"
   ]
  },
  {
   "cell_type": "code",
   "execution_count": 30,
   "id": "2e42a73d",
   "metadata": {},
   "outputs": [
    {
     "name": "stdout",
     "output_type": "stream",
     "text": [
      "<re.Match object; span=(5, 6), match='A'>\n"
     ]
    }
   ],
   "source": [
    "#'12345Abc'에서 'A'만 출력하세요\n",
    "import re\n",
    "p = re.compile('[A]')\n",
    "s = p.search('12345Abc')\n",
    "print(s)\n"
   ]
  },
  {
   "cell_type": "code",
   "execution_count": null,
   "id": "98c66085",
   "metadata": {},
   "outputs": [],
   "source": [
    "#[과제] 'KOREA 대한민국'에서 '대'만 출력하세요"
   ]
  },
  {
   "cell_type": "code",
   "execution_count": 20,
   "id": "7b5a44a7",
   "metadata": {},
   "outputs": [
    {
     "name": "stdout",
     "output_type": "stream",
     "text": [
      "<re.Match object; span=(6, 7), match='대'>\n"
     ]
    }
   ],
   "source": [
    "import re\n",
    "\n",
    "pattern = re.compile('[대]')\n",
    "text = 'KOREA 대한민국'\n",
    "m = pattern.search(text)\n",
    "print(m)\n"
   ]
  },
  {
   "cell_type": "code",
   "execution_count": 34,
   "id": "65b36ec9",
   "metadata": {},
   "outputs": [
    {
     "data": {
      "text/plain": [
       "'122333c'"
      ]
     },
     "execution_count": 34,
     "metadata": {},
     "output_type": "execute_result"
    }
   ],
   "source": [
    "#'122333c'를 모두 출력\n",
    "import re \n",
    "p = re.compile('12{2}3{3}c')\n",
    "text = '122333c'\n",
    "m = p.search(text)\n",
    "m.group()"
   ]
  },
  {
   "cell_type": "code",
   "execution_count": null,
   "id": "353ff817",
   "metadata": {},
   "outputs": [],
   "source": []
  },
  {
   "cell_type": "code",
   "execution_count": null,
   "id": "71b40d80",
   "metadata": {},
   "outputs": [],
   "source": []
  },
  {
   "cell_type": "code",
   "execution_count": 21,
   "id": "e213121f",
   "metadata": {},
   "outputs": [],
   "source": [
    "#[과제]'aaaaBBBBcccDDDeee'를 모두 출력하세요"
   ]
  },
  {
   "cell_type": "code",
   "execution_count": 35,
   "id": "4de360fb",
   "metadata": {},
   "outputs": [
    {
     "data": {
      "text/plain": [
       "'aaaaBBBBcccDDDeee'"
      ]
     },
     "execution_count": 35,
     "metadata": {},
     "output_type": "execute_result"
    }
   ],
   "source": [
    "import re \n",
    "p = re.compile('a{4}B{4}c{3}D{3}e{3}')\n",
    "text = 'aaaaBBBBcccDDDeee'\n",
    "m = p.search(text)\n",
    "m.group()"
   ]
  },
  {
   "cell_type": "code",
   "execution_count": null,
   "id": "646fc2d0",
   "metadata": {},
   "outputs": [],
   "source": [
    "#[과제] BC, CC,ABC 모두 c가 출력되는 정규표현식을 ()에 작성하시요\n",
    "pattern = re.compile()\n",
    "text1 = 'BC'\n",
    "text2 = 'CC'\n",
    "text3 = 'ABC'\n",
    "p1 = pattern.search(text1)\n",
    "p2 = pattern.search(text2)\n",
    "p3 = pattern.serach(text3)\n",
    "print(p1)\n",
    "print(p2)\n",
    "print(p3)\n"
   ]
  },
  {
   "cell_type": "code",
   "execution_count": 38,
   "id": "4c2fda27",
   "metadata": {
    "scrolled": true
   },
   "outputs": [
    {
     "name": "stdout",
     "output_type": "stream",
     "text": [
      "['life', 'is', 'too', 'short']\n",
      "life\n",
      "life\n"
     ]
    }
   ],
   "source": [
    "p = re.compile('[a-z]+')\n",
    "result1 = p.findall('life is too short')\n",
    "result2 = p.match('life is too short')\n",
    "result3 = p.search('life is too short')\n",
    "print(result1)\n",
    "print(result2.group())\n",
    "print(result3.group())"
   ]
  },
  {
   "cell_type": "code",
   "execution_count": 47,
   "id": "a792b453",
   "metadata": {},
   "outputs": [
    {
     "name": "stdout",
     "output_type": "stream",
     "text": [
      "life\n",
      "is\n",
      "too\n",
      "short\n"
     ]
    }
   ],
   "source": [
    "# finditer는 findall과 동일하지만 그 결과로 반복 가능한 객체를 돌려준다.\n",
    "result = p.finditer('life is too short')\n",
    "#list(result)\n",
    "for r in result:print(r.group())"
   ]
  },
  {
   "cell_type": "code",
   "execution_count": null,
   "id": "1baf04e7",
   "metadata": {},
   "outputs": [],
   "source": [
    "#[과제] 정규표현식을 사용하여 text에서 전화번호만 출력하세요\n",
    "# text = \"문의사항이 있으면 032-232-3245로 연락주시기 바랍니다.\""
   ]
  },
  {
   "cell_type": "code",
   "execution_count": 46,
   "id": "f551e06b",
   "metadata": {},
   "outputs": [
    {
     "name": "stdout",
     "output_type": "stream",
     "text": [
      "None\n"
     ]
    }
   ],
   "source": [
    "import re\n",
    "pattern = re.compile('032-232-3245')\n",
    "text = \"문의사항이 있으면 032-232-3245로 연락주시기 바랍니다.\"\n",
    "m = p.search(text)\n",
    "print(m)\n",
    "\n"
   ]
  },
  {
   "cell_type": "code",
   "execution_count": null,
   "id": "2d5ae435",
   "metadata": {},
   "outputs": [],
   "source": []
  },
  {
   "cell_type": "code",
   "execution_count": null,
   "id": "030895f0",
   "metadata": {},
   "outputs": [],
   "source": [
    "# '1234a1234'에서 '1','2','3','4'를 모두 출력하세요"
   ]
  },
  {
   "cell_type": "code",
   "execution_count": 57,
   "id": "d8954e79",
   "metadata": {},
   "outputs": [
    {
     "name": "stdout",
     "output_type": "stream",
     "text": [
      "['1', '2', '3', '4', '1', '2', '3', '4']\n"
     ]
    }
   ],
   "source": [
    "p = re.compile('[0-9]')\n",
    "result1 = p.findall('1234a1234')\n",
    "print(result1)\n"
   ]
  },
  {
   "cell_type": "code",
   "execution_count": null,
   "id": "556f90b8",
   "metadata": {},
   "outputs": [],
   "source": [
    "import re\n",
    "text = '1234a1234'\n",
    "t = re.compile('[1234]')\n",
    "tx = t.findall(text)\n",
    "print(tx)"
   ]
  },
  {
   "cell_type": "code",
   "execution_count": 65,
   "id": "e8c27094",
   "metadata": {},
   "outputs": [
    {
     "name": "stdout",
     "output_type": "stream",
     "text": [
      "['Python', 'is', 'very', 'good', 'programmig', 'language']\n"
     ]
    }
   ],
   "source": [
    "# 'Python3 is very good programmig language!'에서 ['Python','is','very','good','programming','language']모두 출력\n",
    "\n",
    "p = re.compile('[A-Z-a-z]+')\n",
    "result1 = p.findall('Python3 is very good programmig language!')\n",
    "print(result1)\n"
   ]
  },
  {
   "cell_type": "code",
   "execution_count": 67,
   "id": "331e3c63",
   "metadata": {},
   "outputs": [
    {
     "name": "stdout",
     "output_type": "stream",
     "text": [
      "python\n",
      "0\n",
      "6\n",
      "(0, 6)\n"
     ]
    }
   ],
   "source": [
    "# match 객체의 메소드\n",
    "import re\n",
    "p = re.compile('[a-z]+')\n",
    "m = p.match('python')\n",
    "print(m.group())\n",
    "print(m.start())\n",
    "print(m.end())\n",
    "print(m.span())"
   ]
  },
  {
   "cell_type": "code",
   "execution_count": null,
   "id": "695adcd3",
   "metadata": {},
   "outputs": [],
   "source": [
    "m = p.search('3 python')\n",
    "print(m.group())\n",
    "print(m.start())\n",
    "print(m.end())\n",
    "print(m.span())"
   ]
  },
  {
   "cell_type": "code",
   "execution_count": null,
   "id": "7920a25b",
   "metadata": {},
   "outputs": [],
   "source": [
    "p = re.compile('[a-z]+')\n",
    "m = p.match('python')\n"
   ]
  },
  {
   "cell_type": "code",
   "execution_count": 68,
   "id": "49ec2716",
   "metadata": {},
   "outputs": [
    {
     "name": "stdout",
     "output_type": "stream",
     "text": [
      "python\n"
     ]
    }
   ],
   "source": [
    "#모듈 단위로 수행하기\n",
    "m = re.match('[a-z]+', \"python\")\n",
    "print(m.group())"
   ]
  },
  {
   "cell_type": "code",
   "execution_count": 73,
   "id": "525e5e49",
   "metadata": {},
   "outputs": [
    {
     "name": "stdout",
     "output_type": "stream",
     "text": [
      "None\n",
      "acb\n",
      "a12?Ab\n"
     ]
    }
   ],
   "source": [
    "# Dot(.)메타 문자\n",
    "import re\n",
    "p = re.compile('a.+b')\n",
    "m1 = p.match('a\\nb')\n",
    "m2 = p.match('acb')\n",
    "m3 = p.match('a12?Ab')\n",
    "\n",
    "print(m1)\n",
    "print(m2.group())\n",
    "print(m3.group())"
   ]
  },
  {
   "cell_type": "code",
   "execution_count": 76,
   "id": "d5795763",
   "metadata": {},
   "outputs": [
    {
     "data": {
      "text/plain": [
       "'a\\nb'"
      ]
     },
     "execution_count": 76,
     "metadata": {},
     "output_type": "execute_result"
    }
   ],
   "source": [
    "p = re.compile('a.b', re.DOTALL)\n",
    "m = p.match('a\\nb')\n",
    "m.group()"
   ]
  },
  {
   "cell_type": "code",
   "execution_count": 78,
   "id": "294f0492",
   "metadata": {},
   "outputs": [
    {
     "name": "stdout",
     "output_type": "stream",
     "text": [
      "<re.Match object; span=(0, 6), match='python'>\n",
      "<re.Match object; span=(0, 6), match='Python'>\n",
      "<re.Match object; span=(0, 6), match='PYTHON'>\n"
     ]
    }
   ],
   "source": [
    "# re.IGNORANCE 또는 re.I 옵션은 대소문자 구분없이 매치를 수행시 이용\n",
    "p= re.compile('[a-z]+', re.I)\n",
    "print(p.match('python'))\n",
    "print(p.match('Python'))\n",
    "print(p.match('PYTHON'))"
   ]
  },
  {
   "cell_type": "code",
   "execution_count": 79,
   "id": "b23a93b6",
   "metadata": {},
   "outputs": [
    {
     "name": "stdout",
     "output_type": "stream",
     "text": [
      "<re.Match object; span=(2, 8), match='python'>\n",
      "<re.Match object; span=(2, 8), match='Python'>\n",
      "<re.Match object; span=(2, 8), match='PYTHON'>\n"
     ]
    }
   ],
   "source": [
    "print(p.search('3 python'))\n",
    "print(p.search('3 Python'))\n",
    "print(p.search('3 PYTHON'))"
   ]
  },
  {
   "cell_type": "code",
   "execution_count": 80,
   "id": "c5385bf6",
   "metadata": {},
   "outputs": [
    {
     "name": "stdout",
     "output_type": "stream",
     "text": [
      "['python one']\n"
     ]
    }
   ],
   "source": [
    "#^(문자열의 맨처음)\n",
    "p = re.compile('^python\\s\\w+') # 여기서 ^는 반대의 의미가 아니다.처음이라는 의미로 쓰인다.\n",
    "\n",
    "data = \"\"\"python one\n",
    "life is too short\n",
    "python two\n",
    "you need python\n",
    "python three\"\"\"\n",
    "\n",
    "print(p.findall(data))"
   ]
  },
  {
   "cell_type": "code",
   "execution_count": 83,
   "id": "8549ddc9",
   "metadata": {},
   "outputs": [
    {
     "name": "stdout",
     "output_type": "stream",
     "text": [
      "['python three']\n"
     ]
    }
   ],
   "source": [
    "#$ (문자열의 끝과 매치)\n",
    "p = re.compile('python\\s\\w+$')\n",
    "\n",
    "data = \"\"\"python one\n",
    "life is too short\n",
    "python two\n",
    "you need python\n",
    "python three\"\"\"\n",
    "\n",
    "print(p.findall(data))"
   ]
  },
  {
   "cell_type": "code",
   "execution_count": 85,
   "id": "5961295e",
   "metadata": {},
   "outputs": [
    {
     "name": "stdout",
     "output_type": "stream",
     "text": [
      "<re.Match object; span=(0, 8), match='\\\\section'>\n"
     ]
    },
    {
     "data": {
      "text/plain": [
       "['\\\\section', '\\\\section']"
      ]
     },
     "execution_count": 85,
     "metadata": {},
     "output_type": "execute_result"
    }
   ],
   "source": [
    "# Raw String 규칙\n",
    "#\n",
    "p = re.compile(r'\\\\section')\n",
    "\n",
    "print(p.match('\\section'))\n",
    "p.findall('\\section\\section')"
   ]
  },
  {
   "cell_type": "code",
   "execution_count": 86,
   "id": "bbd4cc2d",
   "metadata": {},
   "outputs": [
    {
     "name": "stdout",
     "output_type": "stream",
     "text": [
      "<re.Match object; span=(0, 4), match='Crow'>\n"
     ]
    }
   ],
   "source": [
    "# | or와 동일한 의미\n",
    "\n",
    "p = re.compile('Crow|Servo')\n",
    "m = p.match('CrowHello')\n",
    "print(m)"
   ]
  },
  {
   "cell_type": "code",
   "execution_count": null,
   "id": "8afcca65",
   "metadata": {},
   "outputs": [],
   "source": [
    "# 'we are going home'에서 home만 출력하세요"
   ]
  },
  {
   "cell_type": "code",
   "execution_count": 95,
   "id": "b6315b46",
   "metadata": {},
   "outputs": [
    {
     "data": {
      "text/plain": [
       "'home'"
      ]
     },
     "execution_count": 95,
     "metadata": {},
     "output_type": "execute_result"
    }
   ],
   "source": [
    "import re\n",
    "p = re.compile(r'home')\n",
    "mo1 = p.search('we are going home')\n",
    "mo1.group()"
   ]
  },
  {
   "cell_type": "code",
   "execution_count": null,
   "id": "b38e71c6",
   "metadata": {},
   "outputs": [],
   "source": [
    "#[과제]'home sweet'에서 home만 출력하세요"
   ]
  },
  {
   "cell_type": "code",
   "execution_count": 97,
   "id": "5af64e59",
   "metadata": {},
   "outputs": [
    {
     "data": {
      "text/plain": [
       "'home'"
      ]
     },
     "execution_count": 97,
     "metadata": {},
     "output_type": "execute_result"
    }
   ],
   "source": [
    "import re\n",
    "p = re.compile('^home')\n",
    "mo1 = p.search('home sweet')\n",
    "mo1.group()"
   ]
  },
  {
   "cell_type": "code",
   "execution_count": null,
   "id": "c75dfd11",
   "metadata": {},
   "outputs": [],
   "source": [
    "#[과제] ' 199305, 1923A, a93247'에서 '199305'만 출력하세요"
   ]
  },
  {
   "cell_type": "code",
   "execution_count": 119,
   "id": "0f987872",
   "metadata": {},
   "outputs": [
    {
     "name": "stdout",
     "output_type": "stream",
     "text": [
      "<re.Match object; span=(3, 9), match='ABCDEF'>\n",
      "ABCDEF\n",
      "ABCDEF\n",
      "CD\n"
     ]
    }
   ],
   "source": [
    "# 그룹핑 : 매치된 문자열 중에서 특정 부분의 문자열만 뽑아내는 경우 () 만들어준다\n",
    "# group(0) 매치된 전체 문자열, 1 첫번째 그룹, 2 두번째 그룹,n n번쨰 그룹\n",
    "p = re.compile('(AB(CD)EF)+')\n",
    "# p = re.compile('(AB(CD)EF)+')\n",
    "m = p.search('DEFABCDEFEF OK?')\n",
    "\n",
    "\n",
    "print(m)\n",
    "print(m.group(0))\n",
    "print(m.group(1))\n",
    "print(m.group(2))\n"
   ]
  },
  {
   "cell_type": "code",
   "execution_count": 123,
   "id": "7aeb59f8",
   "metadata": {},
   "outputs": [
    {
     "name": "stdout",
     "output_type": "stream",
     "text": [
      "<re.Match object; span=(0, 10), match='abcdefghij'>\n",
      "abcdefghij\n",
      "abcdefghij\n",
      "ab\n",
      "cdef\n",
      "e\n",
      "ghij\n"
     ]
    }
   ],
   "source": [
    "# [과제] 'abcdefghij'에 대하여 중첩을 적용한 서브그룹5개로 컴파일하여 group()함수를 이용하여  abcdefghi'와 'e'를 출력하세요\n",
    "\n",
    "p = re.compile('((ab)(cd(e)f)(ghij))+')\n",
    "m = p.search('abcdefghij OK?')\n",
    "\n",
    "print(m)\n",
    "print(m.group(0))\n",
    "print(m.group(1))\n",
    "print(m.group(2))\n",
    "print(m.group(3))\n",
    "print(m.group(4))\n",
    "print(m.group(5))"
   ]
  },
  {
   "cell_type": "code",
   "execution_count": null,
   "id": "28f6e206",
   "metadata": {},
   "outputs": [],
   "source": []
  },
  {
   "cell_type": "code",
   "execution_count": null,
   "id": "60d4f5a7",
   "metadata": {},
   "outputs": [],
   "source": []
  },
  {
   "cell_type": "code",
   "execution_count": null,
   "id": "84ff712a",
   "metadata": {},
   "outputs": [],
   "source": []
  },
  {
   "cell_type": "code",
   "execution_count": null,
   "id": "7f6d1602",
   "metadata": {},
   "outputs": [],
   "source": []
  },
  {
   "cell_type": "code",
   "execution_count": null,
   "id": "d1388314",
   "metadata": {},
   "outputs": [],
   "source": []
  },
  {
   "cell_type": "code",
   "execution_count": null,
   "id": "88884af9",
   "metadata": {},
   "outputs": [],
   "source": []
  },
  {
   "cell_type": "code",
   "execution_count": null,
   "id": "a6f063e1",
   "metadata": {},
   "outputs": [],
   "source": []
  },
  {
   "cell_type": "code",
   "execution_count": null,
   "id": "e42bf525",
   "metadata": {},
   "outputs": [],
   "source": []
  },
  {
   "cell_type": "code",
   "execution_count": null,
   "id": "633a05ac",
   "metadata": {},
   "outputs": [],
   "source": []
  },
  {
   "cell_type": "code",
   "execution_count": null,
   "id": "afaaf3ea",
   "metadata": {},
   "outputs": [],
   "source": []
  }
 ],
 "metadata": {
  "kernelspec": {
   "display_name": "Python 3 (ipykernel)",
   "language": "python",
   "name": "python3"
  },
  "language_info": {
   "codemirror_mode": {
    "name": "ipython",
    "version": 3
   },
   "file_extension": ".py",
   "mimetype": "text/x-python",
   "name": "python",
   "nbconvert_exporter": "python",
   "pygments_lexer": "ipython3",
   "version": "3.8.12"
  }
 },
 "nbformat": 4,
 "nbformat_minor": 5
}

{
 "cells": [
  {
   "cell_type": "markdown",
   "metadata": {
    "id": "TjvJ4xN7JFdD"
   },
   "source": [
    "## 프로젝트 기반 빅데이터 서비스 솔루션 개발 전문과정\n",
    "\n",
    "### 교과목명 : 통계\n",
    "- 평가일 : 22.2.4\n",
    "- 성명 :\n",
    "- 점수 :"
   ]
  },
  {
   "cell_type": "code",
   "execution_count": 50,
   "metadata": {},
   "outputs": [],
   "source": [
    "import numpy as np\n",
    "import seaborn as sns\n",
    "import pandas as pd\n",
    "import matplotlib.pyplot as plt\n",
    "from scipy import stats\n",
    "%precision 3\n",
    "%matplotlib inline"
   ]
  },
  {
   "cell_type": "markdown",
   "metadata": {
    "id": "Z9hxBTlhJFdF"
   },
   "source": [
    "Q1. df에서 mathematics 점수의 평균값, 중앙값, 최빈값, 분산, 표준편차, 범위, IQR을 구하세요."
   ]
  },
  {
   "cell_type": "code",
   "execution_count": 1,
   "metadata": {
    "id": "1zwxU8sLJFdG",
    "outputId": "f5f75f1c-76e5-44d0-d155-bc4c7cf78438"
   },
   "outputs": [
    {
     "data": {
      "text/html": [
       "<div>\n",
       "<style scoped>\n",
       "    .dataframe tbody tr th:only-of-type {\n",
       "        vertical-align: middle;\n",
       "    }\n",
       "\n",
       "    .dataframe tbody tr th {\n",
       "        vertical-align: top;\n",
       "    }\n",
       "\n",
       "    .dataframe thead th {\n",
       "        text-align: right;\n",
       "    }\n",
       "</style>\n",
       "<table border=\"1\" class=\"dataframe\">\n",
       "  <thead>\n",
       "    <tr style=\"text-align: right;\">\n",
       "      <th></th>\n",
       "      <th>english</th>\n",
       "      <th>mathematics</th>\n",
       "    </tr>\n",
       "    <tr>\n",
       "      <th>student number</th>\n",
       "      <th></th>\n",
       "      <th></th>\n",
       "    </tr>\n",
       "  </thead>\n",
       "  <tbody>\n",
       "    <tr>\n",
       "      <th>1</th>\n",
       "      <td>42</td>\n",
       "      <td>65</td>\n",
       "    </tr>\n",
       "    <tr>\n",
       "      <th>2</th>\n",
       "      <td>69</td>\n",
       "      <td>80</td>\n",
       "    </tr>\n",
       "    <tr>\n",
       "      <th>3</th>\n",
       "      <td>56</td>\n",
       "      <td>63</td>\n",
       "    </tr>\n",
       "    <tr>\n",
       "      <th>4</th>\n",
       "      <td>41</td>\n",
       "      <td>63</td>\n",
       "    </tr>\n",
       "    <tr>\n",
       "      <th>5</th>\n",
       "      <td>57</td>\n",
       "      <td>76</td>\n",
       "    </tr>\n",
       "  </tbody>\n",
       "</table>\n",
       "</div>"
      ],
      "text/plain": [
       "                english  mathematics\n",
       "student number                      \n",
       "1                    42           65\n",
       "2                    69           80\n",
       "3                    56           63\n",
       "4                    41           63\n",
       "5                    57           76"
      ]
     },
     "execution_count": 1,
     "metadata": {},
     "output_type": "execute_result"
    }
   ],
   "source": [
    "import numpy as np\n",
    "import pandas as pd\n",
    "df = pd.read_csv('./data/ch2_scores_em.csv',\n",
    "                 index_col='student number')\n",
    "df.head()"
   ]
  },
  {
   "cell_type": "code",
   "execution_count": 3,
   "metadata": {
    "scrolled": true
   },
   "outputs": [
    {
     "name": "stdout",
     "output_type": "stream",
     "text": [
      "count    50.000000\n",
      "mean     78.880000\n",
      "std       8.414371\n",
      "min      57.000000\n",
      "25%      76.000000\n",
      "50%      80.000000\n",
      "75%      84.000000\n",
      "max      94.000000\n",
      "Name: mathematics, dtype: float64 \n",
      " 범위: 37.0 \n",
      " 최빈값: [77 82 84] \n",
      " 분산: 70.80163265306125 \n",
      " IQR: 8.0\n"
     ]
    }
   ],
   "source": [
    "data = df.mathematics.describe()\n",
    "iqr = data['75%'] - data['25%']\n",
    "r = data['max'] - data['min']\n",
    "v = data['std']**2\n",
    "f = df.mathematics.mode()\n",
    "print(data,'\\n','범위:',r,'\\n','최빈값:',f.values,'\\n', '분산:', v,'\\n','IQR:', iqr)"
   ]
  },
  {
   "cell_type": "markdown",
   "metadata": {
    "id": "TsAjXbkpJFdH"
   },
   "source": [
    "Q2. df.english를 표준화한 후 배열로 변환하여 처음 5개 원소를 출력하세요."
   ]
  },
  {
   "cell_type": "code",
   "execution_count": 4,
   "metadata": {
    "id": "SZIPx6SBJFdH",
    "outputId": "caef6301-ced0-40ec-f3a6-ae1fbb8f39e1"
   },
   "outputs": [
    {
     "data": {
      "text/plain": [
       "pandas.core.series.Series"
      ]
     },
     "execution_count": 4,
     "metadata": {},
     "output_type": "execute_result"
    }
   ],
   "source": [
    "score = df.english\n",
    "type(score)"
   ]
  },
  {
   "cell_type": "code",
   "execution_count": 6,
   "metadata": {},
   "outputs": [
    {
     "data": {
      "text/plain": [
       "array([-1.688,  1.095, -0.245, -1.792, -0.142])"
      ]
     },
     "execution_count": 6,
     "metadata": {},
     "output_type": "execute_result"
    }
   ],
   "source": [
    "z = (score - np.mean(score)) / np.std(score)\n",
    "z.values[:5]"
   ]
  },
  {
   "cell_type": "markdown",
   "metadata": {
    "id": "A78I5rVoJFdI"
   },
   "source": [
    "Q3. score에 대하여 다음사항을 수행하세요.\n",
    "- 상자그림으로 시각화하여 이상치 여부를 탐색\n",
    "- 이상치 값 및 인덱스 출력\n",
    "- 이상치 삭제\n",
    "- 상자그림으로 시각화하여 이상치 제거 여부 재확인."
   ]
  },
  {
   "cell_type": "markdown",
   "metadata": {
    "id": "e85HmU8iJFdI"
   },
   "source": [
    "Q4. 아래 scores_df에 대해서 아래사항을 수행하세요\n",
    "- scores_df.english와 scores_df.mathematics에 대한 공분산을 소수점 2째자리까지 출력\n",
    "- scores_df.english와 scores_df.mathematics에 대한 상관계수를 소수점 2째자리까지 출력\n",
    "- 두개 변수의 상관관계와 회귀직선을 시각화(회귀직선 포함 및 미포함 비교하여 1행 2열로 출력) \n",
    "- 두개 변수의 상관관계를 히트맵으로 시각화(칼러바 포함)"
   ]
  },
  {
   "cell_type": "code",
   "execution_count": 7,
   "metadata": {
    "id": "TP7ab9F3JFdJ",
    "outputId": "d8e5c8cb-d962-41cf-f61a-07f7b3b909d2"
   },
   "outputs": [
    {
     "data": {
      "text/html": [
       "<div>\n",
       "<style scoped>\n",
       "    .dataframe tbody tr th:only-of-type {\n",
       "        vertical-align: middle;\n",
       "    }\n",
       "\n",
       "    .dataframe tbody tr th {\n",
       "        vertical-align: top;\n",
       "    }\n",
       "\n",
       "    .dataframe thead th {\n",
       "        text-align: right;\n",
       "    }\n",
       "</style>\n",
       "<table border=\"1\" class=\"dataframe\">\n",
       "  <thead>\n",
       "    <tr style=\"text-align: right;\">\n",
       "      <th></th>\n",
       "      <th>english</th>\n",
       "      <th>mathematics</th>\n",
       "    </tr>\n",
       "    <tr>\n",
       "      <th>student</th>\n",
       "      <th></th>\n",
       "      <th></th>\n",
       "    </tr>\n",
       "  </thead>\n",
       "  <tbody>\n",
       "    <tr>\n",
       "      <th>A</th>\n",
       "      <td>42</td>\n",
       "      <td>65</td>\n",
       "    </tr>\n",
       "    <tr>\n",
       "      <th>B</th>\n",
       "      <td>69</td>\n",
       "      <td>80</td>\n",
       "    </tr>\n",
       "    <tr>\n",
       "      <th>C</th>\n",
       "      <td>56</td>\n",
       "      <td>63</td>\n",
       "    </tr>\n",
       "    <tr>\n",
       "      <th>D</th>\n",
       "      <td>41</td>\n",
       "      <td>63</td>\n",
       "    </tr>\n",
       "    <tr>\n",
       "      <th>E</th>\n",
       "      <td>57</td>\n",
       "      <td>76</td>\n",
       "    </tr>\n",
       "  </tbody>\n",
       "</table>\n",
       "</div>"
      ],
      "text/plain": [
       "         english  mathematics\n",
       "student                      \n",
       "A             42           65\n",
       "B             69           80\n",
       "C             56           63\n",
       "D             41           63\n",
       "E             57           76"
      ]
     },
     "execution_count": 7,
     "metadata": {},
     "output_type": "execute_result"
    }
   ],
   "source": [
    "import numpy as np\n",
    "import pandas as pd\n",
    "df = pd.read_csv('./data/ch2_scores_em.csv',\n",
    "                 index_col='student number')\n",
    "en_scores = np.array(df['english'])[:10]\n",
    "ma_scores = np.array(df['mathematics'])[:10]\n",
    "\n",
    "scores_df = pd.DataFrame({'english':en_scores,\n",
    "                          'mathematics':ma_scores},\n",
    "                         index=pd.Index(['A', 'B', 'C', 'D', 'E',\n",
    "                                         'F', 'G', 'H', 'I', 'J'],\n",
    "                                        name='student'))\n",
    "scores_df.head()"
   ]
  },
  {
   "cell_type": "code",
   "execution_count": 8,
   "metadata": {},
   "outputs": [
    {
     "data": {
      "text/plain": [
       "69.78"
      ]
     },
     "execution_count": 8,
     "metadata": {},
     "output_type": "execute_result"
    }
   ],
   "source": [
    "en_scores = scores_df.english\n",
    "ma_scores = scores_df.mathematics\n",
    "np.cov(en_scores, ma_scores)[0,1].round(2)"
   ]
  },
  {
   "cell_type": "code",
   "execution_count": 9,
   "metadata": {},
   "outputs": [
    {
     "data": {
      "text/plain": [
       "0.82"
      ]
     },
     "execution_count": 9,
     "metadata": {},
     "output_type": "execute_result"
    }
   ],
   "source": [
    "np.corrcoef(en_scores, ma_scores)[0,1].round(2)"
   ]
  },
  {
   "cell_type": "code",
   "execution_count": 11,
   "metadata": {},
   "outputs": [
    {
     "data": {
      "image/png": "[encoded data removed]",
      "text/plain": [
       "<Figure size 1080x432 with 2 Axes>"
      ]
     },
     "metadata": {
      "needs_background": "light"
     },
     "output_type": "display_data"
    }
   ],
   "source": [
    "fig, axes = plt.subplots(1,2, figsize=(15,6), sharex=True)\n",
    "sns.regplot(ax=axes[0], x=scores_df.english, y=scores_df.mathematics)\n",
    "sns.regplot(ax=axes[1], x=scores_df.english, y=scores_df.mathematics,fit_reg=False)\n",
    "plt.show()"
   ]
  },
  {
   "cell_type": "code",
   "execution_count": 12,
   "metadata": {},
   "outputs": [
    {
     "data": {
      "text/plain": [
       "<AxesSubplot:>"
      ]
     },
     "execution_count": 12,
     "metadata": {},
     "output_type": "execute_result"
    },
    {
     "data": {
      "image/png": "[encoded data removed]",
      "text/plain": [
       "<Figure size 432x288 with 2 Axes>"
      ]
     },
     "metadata": {
      "needs_background": "light"
     },
     "output_type": "display_data"
    }
   ],
   "source": [
    "sns.heatmap(scores_df[['english', 'mathematics']].corr(), annot=True)"
   ]
  },
  {
   "cell_type": "markdown",
   "metadata": {
    "id": "5CP2ZBuaJFdJ"
   },
   "source": [
    "Q5. 아래 scores는 전교생의 시험점수이다. 무작위추출로 표본 크기가 20인 표본을 추출하여 표본평균을 계산하는 작업을 10000번 수행해서 그 결과를 히스토그램으로 그려 표본평균이 어떻게 분포되는지 시각화를 수행하세요."
   ]
  },
  {
   "cell_type": "code",
   "execution_count": 13,
   "metadata": {
    "id": "ICOkjPmtJFdK",
    "outputId": "66974e28-94c4-475e-ec19-f6c0f0d4ebde"
   },
   "outputs": [
    {
     "data": {
      "text/plain": [
       "array([76, 55, 80, 80, 74, 61, 81, 76, 23, 80], dtype=int64)"
      ]
     },
     "execution_count": 13,
     "metadata": {},
     "output_type": "execute_result"
    }
   ],
   "source": [
    "df = pd.read_csv('./data/ch4_scores400.csv')\n",
    "scores = np.array(df['score'])\n",
    "scores[:10]"
   ]
  },
  {
   "cell_type": "code",
   "execution_count": 15,
   "metadata": {},
   "outputs": [
    {
     "data": {
      "text/plain": [
       "Text(0, 0.5, 'relative frequency')"
      ]
     },
     "execution_count": 15,
     "metadata": {},
     "output_type": "execute_result"
    },
    {
     "data": {
      "image/png": "[encoded data removed]",
      "text/plain": [
       "<Figure size 720x432 with 1 Axes>"
      ]
     },
     "metadata": {
      "needs_background": "light"
     },
     "output_type": "display_data"
    }
   ],
   "source": [
    "sample_means = [np.random.choice(scores, 20).mean()\n",
    "               for _ in range(10000)]\n",
    "\n",
    "plt.figure(figsize=(10,6))\n",
    "\n",
    "plt.hist(sample_means, bins=100, range=(0,100), density=True)\n",
    "\n",
    "plt.vlines(np.mean(scores), 0, 1, 'yellow')\n",
    "plt.axis([50, 90, 0, 0.13])\n",
    "plt.xlabel('score')\n",
    "plt.ylabel('relative frequency')"
   ]
  },
  {
   "cell_type": "markdown",
   "metadata": {
    "id": "tElfRPWPJFdK"
   },
   "source": [
    "Q6. Bern(0.5)을 따르는 확률변수 X에 대하여 기댓값과 분산을 계산하세요. "
   ]
  },
  {
   "cell_type": "code",
   "execution_count": 52,
   "metadata": {},
   "outputs": [],
   "source": [
    "def E(X, g=lambda x: x):\n",
    "    x_set, f = X\n",
    "    return np.sum([g(x_k) * f(x_k) for x_k in x_set])\n",
    "\n",
    "def V(X, g=lambda x: x):\n",
    "    x_set, f = X\n",
    "    mean = E(X, g)\n",
    "    return np.sum([(g(x_k)-mean)**2 * f(x_k) for x_k in x_set])\n",
    "\n",
    "def check_prob(X): \n",
    "    x_set, f = X\n",
    "    prob= np.array([f(x_k) for x_k in x_set])\n",
    "    assert np.all(prob >= 0), 'minus probability'\n",
    "    prob_sum = np.round(np.sum(prob), 6)\n",
    "    assert prob_sum ==1, f'sum of probability{prob_sum}'   \n",
    "    print(f'expected value {E(X):.4}')\n",
    "    print(f'variance{(V(X)):.4}')"
   ]
  },
  {
   "cell_type": "code",
   "execution_count": 58,
   "metadata": {},
   "outputs": [],
   "source": [
    "def Bern(p):\n",
    "    x_set = np.array([0,1])\n",
    "    def f(x):\n",
    "        if x in x_set:\n",
    "            return p ** x * (1-p) ** (1-x)\n",
    "        else:\n",
    "            return 0\n",
    "    return x_set, f"
   ]
  },
  {
   "cell_type": "code",
   "execution_count": 59,
   "metadata": {},
   "outputs": [],
   "source": [
    "p = 0.5\n",
    "X = Bern(p)"
   ]
  },
  {
   "cell_type": "code",
   "execution_count": 60,
   "metadata": {},
   "outputs": [
    {
     "name": "stdout",
     "output_type": "stream",
     "text": [
      "expected value 0.5\n",
      "variance0.25\n"
     ]
    }
   ],
   "source": [
    "check_prob(X)"
   ]
  },
  {
   "cell_type": "markdown",
   "metadata": {
    "id": "WA7rxTuAJFdK"
   },
   "source": [
    "Q7. Bin(10,0.5)을 따르는 확률변수 X에 대하여 기댓값과 분산을 계산하세요."
   ]
  },
  {
   "cell_type": "code",
   "execution_count": 63,
   "metadata": {},
   "outputs": [],
   "source": [
    "from scipy.special import comb\n",
    "\n",
    "def Bin(n,p):\n",
    "    x_set = np.arange(n+1)\n",
    "    def f(x):\n",
    "        if x in x_set:\n",
    "            return comb(n,x) * p**x * (1-p)**(n-x)\n",
    "        else:\n",
    "            return 0\n",
    "    return x_set, f"
   ]
  },
  {
   "cell_type": "code",
   "execution_count": 64,
   "metadata": {},
   "outputs": [
    {
     "name": "stdout",
     "output_type": "stream",
     "text": [
      "expected value 5.0\n",
      "variance2.5\n"
     ]
    }
   ],
   "source": [
    "n = 10\n",
    "p = 0.5\n",
    "X = Bin(10,0.5)\n",
    "\n",
    "check_prob(X)"
   ]
  },
  {
   "cell_type": "code",
   "execution_count": null,
   "metadata": {},
   "outputs": [],
   "source": []
  },
  {
   "cell_type": "markdown",
   "metadata": {
    "id": "43SW_B58JFdL"
   },
   "source": [
    "Q8. Poi(2)을 따른 확률변수 X에 대하여 기댓값과 분산을 계산하세요."
   ]
  },
  {
   "cell_type": "code",
   "execution_count": 66,
   "metadata": {},
   "outputs": [],
   "source": [
    "from scipy.special import factorial\n",
    "\n",
    "def Poi(lam):\n",
    "    x_set = np.arange(20)\n",
    "    def f(x):\n",
    "        if x in x_set:\n",
    "            return np.power(lam, x) / factorial(x) * np.exp(-lam)\n",
    "        else: \n",
    "            return 0\n",
    "    return x_set, f"
   ]
  },
  {
   "cell_type": "code",
   "execution_count": 67,
   "metadata": {},
   "outputs": [
    {
     "name": "stdout",
     "output_type": "stream",
     "text": [
      "expected value 2.0\n",
      "variance2.0\n"
     ]
    }
   ],
   "source": [
    "lam = 2\n",
    "X = Poi(2)\n",
    "\n",
    "check_prob(X)"
   ]
  },
  {
   "cell_type": "code",
   "execution_count": null,
   "metadata": {},
   "outputs": [],
   "source": []
  },
  {
   "cell_type": "markdown",
   "metadata": {
    "id": "Xxwh3gJvJFdL"
   },
   "source": [
    "Q9. 평균이 10, 표준편차가 3인 정규분포의 확률밀도함수를 그래프로 표현하세요. "
   ]
  },
  {
   "cell_type": "code",
   "execution_count": 68,
   "metadata": {},
   "outputs": [
    {
     "data": {
      "text/plain": [
       "[<matplotlib.lines.Line2D at 0x231c35f3760>]"
      ]
     },
     "execution_count": 68,
     "metadata": {},
     "output_type": "execute_result"
    },
    {
     "data": {
      "image/png": "[encoded data removed]",
      "text/plain": [
       "<Figure size 432x288 with 1 Axes>"
      ]
     },
     "metadata": {
      "needs_background": "light"
     },
     "output_type": "display_data"
    }
   ],
   "source": [
    "from scipy import stats, integrate\n",
    "x_plot = np.arange(0,20,0.1)\n",
    "plt.plot(x_plot, stats.norm.pdf(x=x_plot, loc=10, scale=3), color='black')"
   ]
  },
  {
   "cell_type": "markdown",
   "metadata": {
    "id": "pK-Yn5b2JFdL"
   },
   "source": [
    "Q10. 평균이 1, 표준편차가 2인 정규분포의 누적분포함수를 그래프로 표현하세요. "
   ]
  },
  {
   "cell_type": "code",
   "execution_count": 69,
   "metadata": {},
   "outputs": [
    {
     "data": {
      "text/plain": [
       "[<matplotlib.lines.Line2D at 0x231c365bb20>]"
      ]
     },
     "execution_count": 69,
     "metadata": {},
     "output_type": "execute_result"
    },
    {
     "data": {
      "image/png": "[encoded data removed]",
      "text/plain": [
       "<Figure size 432x288 with 1 Axes>"
      ]
     },
     "metadata": {
      "needs_background": "light"
     },
     "output_type": "display_data"
    }
   ],
   "source": [
    "x_plot = np.arange(-3,8,0.1)\n",
    "plt.plot(x_plot, stats.norm.cdf(x=x_plot, loc=1, scale=2), color='black')"
   ]
  },
  {
   "cell_type": "markdown",
   "metadata": {
    "id": "fd0WnFinJFdL"
   },
   "source": [
    "Q11. \"dataset/5_2_fm.csv\"을 df1으로 불러와서 다음사항을 수행하세요.\n",
    "- df1을 df2 이름으로 복사한 후 df2의 species의 A, B를 C,D로 변경하세요.\n",
    "- df의 length를 species가 C인 것은 2배로 d인 것은 3배로 변경하여 df1과 df2를 행방향으로 결합, df 생성 \n",
    "- df를 species 칼럼을 기준으로 그룹별 평균과 표준편차를 산출"
   ]
  },
  {
   "cell_type": "code",
   "execution_count": null,
   "metadata": {
    "id": "D5jX46glJFdM",
    "outputId": "71dc708d-d8f5-48d5-b406-cbcee5312513"
   },
   "outputs": [
    {
     "data": {
      "text/html": [
       "<div>\n",
       "<style scoped>\n",
       "    .dataframe tbody tr th:only-of-type {\n",
       "        vertical-align: middle;\n",
       "    }\n",
       "\n",
       "    .dataframe tbody tr th {\n",
       "        vertical-align: top;\n",
       "    }\n",
       "\n",
       "    .dataframe thead th {\n",
       "        text-align: right;\n",
       "    }\n",
       "</style>\n",
       "<table border=\"1\" class=\"dataframe\">\n",
       "  <thead>\n",
       "    <tr style=\"text-align: right;\">\n",
       "      <th></th>\n",
       "      <th>species</th>\n",
       "      <th>length</th>\n",
       "    </tr>\n",
       "  </thead>\n",
       "  <tbody>\n",
       "    <tr>\n",
       "      <th>0</th>\n",
       "      <td>A</td>\n",
       "      <td>2</td>\n",
       "    </tr>\n",
       "    <tr>\n",
       "      <th>1</th>\n",
       "      <td>A</td>\n",
       "      <td>3</td>\n",
       "    </tr>\n",
       "    <tr>\n",
       "      <th>2</th>\n",
       "      <td>A</td>\n",
       "      <td>4</td>\n",
       "    </tr>\n",
       "    <tr>\n",
       "      <th>3</th>\n",
       "      <td>B</td>\n",
       "      <td>6</td>\n",
       "    </tr>\n",
       "    <tr>\n",
       "      <th>4</th>\n",
       "      <td>B</td>\n",
       "      <td>8</td>\n",
       "    </tr>\n",
       "    <tr>\n",
       "      <th>5</th>\n",
       "      <td>B</td>\n",
       "      <td>10</td>\n",
       "    </tr>\n",
       "  </tbody>\n",
       "</table>\n",
       "</div>"
      ],
      "text/plain": [
       "  species  length\n",
       "0       A       2\n",
       "1       A       3\n",
       "2       A       4\n",
       "3       B       6\n",
       "4       B       8\n",
       "5       B      10"
      ]
     },
     "execution_count": 91,
     "metadata": {},
     "output_type": "execute_result"
    }
   ],
   "source": [
    "import pandas as pd\n",
    "import numpy as np\n",
    "\n",
    "df1 = pd.read_csv(\"./dataset/5_2_fm.csv\")\n",
    "df1"
   ]
  },
  {
   "cell_type": "markdown",
   "metadata": {
    "id": "iYce22eZJFdM"
   },
   "source": [
    "Q12. \"./dataset/5_2_shoes.csv\" 을 데이터프레임으로 불러와서 아래작업을 수행하세요.\n",
    "- 4행 3열을 복사 후 추가하여 8행 3열로 작성\n",
    "- 피봇을 이용해서 교차분석표 작성(values='sales',aggfunc='sum', index= 'store', columns = 'color')\n",
    "- 독립성 검정을 수행(보너스 문제)"
   ]
  },
  {
   "cell_type": "code",
   "execution_count": null,
   "metadata": {
    "id": "TNa7US_tJFdM",
    "outputId": "d8faf92d-5f49-40bc-d5d7-409cb8905487"
   },
   "outputs": [
    {
     "data": {
      "text/html": [
       "<div>\n",
       "<style scoped>\n",
       "    .dataframe tbody tr th:only-of-type {\n",
       "        vertical-align: middle;\n",
       "    }\n",
       "\n",
       "    .dataframe tbody tr th {\n",
       "        vertical-align: top;\n",
       "    }\n",
       "\n",
       "    .dataframe thead th {\n",
       "        text-align: right;\n",
       "    }\n",
       "</style>\n",
       "<table border=\"1\" class=\"dataframe\">\n",
       "  <thead>\n",
       "    <tr style=\"text-align: right;\">\n",
       "      <th></th>\n",
       "      <th>store</th>\n",
       "      <th>color</th>\n",
       "      <th>sales</th>\n",
       "    </tr>\n",
       "  </thead>\n",
       "  <tbody>\n",
       "    <tr>\n",
       "      <th>0</th>\n",
       "      <td>tokyo</td>\n",
       "      <td>blue</td>\n",
       "      <td>10</td>\n",
       "    </tr>\n",
       "    <tr>\n",
       "      <th>1</th>\n",
       "      <td>tokyo</td>\n",
       "      <td>red</td>\n",
       "      <td>15</td>\n",
       "    </tr>\n",
       "    <tr>\n",
       "      <th>2</th>\n",
       "      <td>osaka</td>\n",
       "      <td>blue</td>\n",
       "      <td>13</td>\n",
       "    </tr>\n",
       "    <tr>\n",
       "      <th>3</th>\n",
       "      <td>osaka</td>\n",
       "      <td>red</td>\n",
       "      <td>9</td>\n",
       "    </tr>\n",
       "  </tbody>\n",
       "</table>\n",
       "</div>"
      ],
      "text/plain": [
       "   store color  sales\n",
       "0  tokyo  blue     10\n",
       "1  tokyo   red     15\n",
       "2  osaka  blue     13\n",
       "3  osaka   red      9"
      ]
     },
     "execution_count": 96,
     "metadata": {},
     "output_type": "execute_result"
    }
   ],
   "source": [
    "import pandas as pd\n",
    "shoes = pd.read_csv(\"./dataset/5_2_shoes.csv\")\n",
    "shoes1=shoes.copy()\n",
    "shoes1"
   ]
  },
  {
   "cell_type": "markdown",
   "metadata": {
    "id": "a7HYJypCJFdN"
   },
   "source": [
    "Q13. 'dataset/titanic3.csv'을 불러와서 pclass 와 sex 칼럼을 각각 인덱스, 칼럼으로 하고 values는 survived, 함수는 mean을 적용하여 pivot_table을 만든 후 히트맵으로 시각화 및 인사이트를 기술하세요"
   ]
  },
  {
   "cell_type": "code",
   "execution_count": null,
   "metadata": {
    "id": "isVLsGVPJFdN",
    "outputId": "f643b76c-c1d4-4d8b-d81e-9a28fe5696c7"
   },
   "outputs": [
    {
     "data": {
      "text/html": [
       "<div>\n",
       "<style scoped>\n",
       "    .dataframe tbody tr th:only-of-type {\n",
       "        vertical-align: middle;\n",
       "    }\n",
       "\n",
       "    .dataframe tbody tr th {\n",
       "        vertical-align: top;\n",
       "    }\n",
       "\n",
       "    .dataframe thead th {\n",
       "        text-align: right;\n",
       "    }\n",
       "</style>\n",
       "<table border=\"1\" class=\"dataframe\">\n",
       "  <thead>\n",
       "    <tr style=\"text-align: right;\">\n",
       "      <th></th>\n",
       "      <th>pclass</th>\n",
       "      <th>survived</th>\n",
       "      <th>name</th>\n",
       "      <th>sex</th>\n",
       "      <th>age</th>\n",
       "      <th>sibsp</th>\n",
       "      <th>parch</th>\n",
       "      <th>ticket</th>\n",
       "      <th>fare</th>\n",
       "      <th>cabin</th>\n",
       "      <th>embarked</th>\n",
       "      <th>boat</th>\n",
       "      <th>body</th>\n",
       "      <th>home.dest</th>\n",
       "    </tr>\n",
       "  </thead>\n",
       "  <tbody>\n",
       "    <tr>\n",
       "      <th>0</th>\n",
       "      <td>1</td>\n",
       "      <td>1</td>\n",
       "      <td>Allen, Miss. Elisabeth Walton</td>\n",
       "      <td>female</td>\n",
       "      <td>29.00</td>\n",
       "      <td>0</td>\n",
       "      <td>0</td>\n",
       "      <td>24160</td>\n",
       "      <td>211.3375</td>\n",
       "      <td>B5</td>\n",
       "      <td>S</td>\n",
       "      <td>2</td>\n",
       "      <td>NaN</td>\n",
       "      <td>St Louis, MO</td>\n",
       "    </tr>\n",
       "    <tr>\n",
       "      <th>1</th>\n",
       "      <td>1</td>\n",
       "      <td>1</td>\n",
       "      <td>Allison, Master. Hudson Trevor</td>\n",
       "      <td>male</td>\n",
       "      <td>0.92</td>\n",
       "      <td>1</td>\n",
       "      <td>2</td>\n",
       "      <td>113781</td>\n",
       "      <td>151.5500</td>\n",
       "      <td>C22 C26</td>\n",
       "      <td>S</td>\n",
       "      <td>11</td>\n",
       "      <td>NaN</td>\n",
       "      <td>Montreal, PQ / Chesterville, ON</td>\n",
       "    </tr>\n",
       "  </tbody>\n",
       "</table>\n",
       "</div>"
      ],
      "text/plain": [
       "   pclass  survived                            name     sex    age  sibsp  \\\n",
       "0       1         1   Allen, Miss. Elisabeth Walton  female  29.00      0   \n",
       "1       1         1  Allison, Master. Hudson Trevor    male   0.92      1   \n",
       "\n",
       "   parch  ticket      fare    cabin embarked boat  body  \\\n",
       "0      0   24160  211.3375       B5        S    2   NaN   \n",
       "1      2  113781  151.5500  C22 C26        S   11   NaN   \n",
       "\n",
       "                         home.dest  \n",
       "0                     St Louis, MO  \n",
       "1  Montreal, PQ / Chesterville, ON  "
      ]
     },
     "execution_count": 100,
     "metadata": {},
     "output_type": "execute_result"
    }
   ],
   "source": [
    "titanic = pd.read_csv('dataset/titanic3.csv')\n",
    "titanic.head(2)"
   ]
  },
  {
   "cell_type": "markdown",
   "metadata": {
    "id": "tIwDSqS8JFdN"
   },
   "source": [
    "Q14. 평균 4, 표준편차 0.8인 정규분포에서 샘플사이즈 10인 표본 10000개의 표본평균을 배열로 저장하고 10개를 출력하세요.(넘파이 zeros 함수 이용)"
   ]
  },
  {
   "cell_type": "code",
   "execution_count": 72,
   "metadata": {},
   "outputs": [
    {
     "data": {
      "text/plain": [
       "array([3.98, 4.16, 4.15, 3.9 , 3.68, 3.85, 4.37, 4.08, 3.95, 4.04])"
      ]
     },
     "execution_count": 72,
     "metadata": {},
     "output_type": "execute_result"
    }
   ],
   "source": [
    "population = stats.norm(loc=4, scale=0.8)\n",
    "population.rvs(size=10)\n",
    "\n",
    "sample_mean_array = np.zeros(10000)\n",
    "\n",
    "for i in range(10000):\n",
    "    sample_mean_array[i] = population.rvs(size=10).mean().round(2)\n",
    "sample_mean_array[:10]"
   ]
  },
  {
   "cell_type": "markdown",
   "metadata": {
    "id": "YNQ-ArqUJFdN"
   },
   "source": [
    "Q15. Q14에서 구한 배열의 히스토그램을 시각화하세요.(확률밀도 포함)"
   ]
  },
  {
   "cell_type": "code",
   "execution_count": 73,
   "metadata": {},
   "outputs": [
    {
     "data": {
      "text/plain": [
       "<AxesSubplot:ylabel='Count'>"
      ]
     },
     "execution_count": 73,
     "metadata": {},
     "output_type": "execute_result"
    },
    {
     "data": {
      "image/png": "[encoded data removed]",
      "text/plain": [
       "<Figure size 432x288 with 1 Axes>"
      ]
     },
     "metadata": {
      "needs_background": "light"
     },
     "output_type": "display_data"
    }
   ],
   "source": [
    "sns.histplot(sample_mean_array, color='black', kde=True)"
   ]
  },
  {
   "cell_type": "markdown",
   "metadata": {
    "id": "jKBcthZYJFdO"
   },
   "source": [
    "Q16. 서로 독립인 X\\~N(1,2), Y\\~N(2,3)이 있을 때 확률변수 X + Y의 분포는 N(3,5)를 따른다는 것을 시각화하여 출력하세요."
   ]
  },
  {
   "cell_type": "code",
   "execution_count": 74,
   "metadata": {},
   "outputs": [
    {
     "name": "stdout",
     "output_type": "stream",
     "text": [
      "[ 2.716 -0.008  1.284 ... -0.521  1.177 -1.037] \n",
      "\n",
      "[0.721 0.448 4.405 ... 4.97  0.429 1.521] \n",
      "\n",
      "평균: 1.000861380598272 2.000721578291772 \n",
      "\n",
      "분산: 2.0032330191984586 3.005100916200421 \n",
      "\n",
      "합의 평균, 분산: 3.001582958890045 5.003718215397745\n"
     ]
    },
    {
     "data": {
      "image/png": "[encoded data removed]",
      "text/plain": [
       "<Figure size 720x432 with 1 Axes>"
      ]
     },
     "metadata": {
      "needs_background": "light"
     },
     "output_type": "display_data"
    }
   ],
   "source": [
    "rv1 = stats.norm(1, np.sqrt(2))\n",
    "rv2 = stats.norm(2, np.sqrt(3))\n",
    "\n",
    "sample_size = int(1e6)\n",
    "X_sample = rv1.rvs(sample_size)\n",
    "Y_sample = rv2.rvs(sample_size)\n",
    "print(X_sample,'\\n')\n",
    "print(Y_sample,'\\n')\n",
    "sum_sample = X_sample + Y_sample\n",
    "print('평균:', np.mean(X_sample),np.mean(Y_sample),'\\n')\n",
    "print('분산:', np.var(X_sample),np.var(Y_sample),'\\n')\n",
    "print('합의 평균, 분산:', np.mean(sum_sample), np.var(sum_sample))\n",
    "\n",
    "plt.figure(figsize=(10, 6))\n",
    "\n",
    "rv = stats.norm(3, np.sqrt(5))\n",
    "xs = np.linspace(rv.isf(0.995), rv.isf(0.005), 100)\n",
    "# print(xs)\n",
    "\n",
    "plt.hist(sum_sample, bins=100, density=True,\n",
    "        alpha=0.5, label='N(1, 2) + N(2, 3)')\n",
    "plt.plot(xs, rv.pdf(xs), label='N(3, 5)', color='gray')\n",
    "plt.plot(xs, rv1.pdf(xs), label='N(1, 2)', ls='--', color='gray')\n",
    "plt.plot(xs, rv2.pdf(xs), label='N(2, 3)', ls=':', color='gray' )\n",
    "\n",
    "plt.legend()\n",
    "plt.xlim(rv.isf(0.995), rv.isf(0.005))\n",
    "plt.show()"
   ]
  },
  {
   "cell_type": "markdown",
   "metadata": {
    "id": "3zXealnAJFdO"
   },
   "source": [
    "Q17. 서로 독립인 X ~ Poi(3)과 Y ~ Poi(4)가 있을 때 확률변수 X + Y도 포아송 분포를 따른다는 것을 시각화하여 출력하세요."
   ]
  },
  {
   "cell_type": "code",
   "execution_count": 75,
   "metadata": {},
   "outputs": [
    {
     "name": "stdout",
     "output_type": "stream",
     "text": [
      "평균: 2.998836 3.998931 \n",
      "\n",
      "분산: 2.995202645104002 4.004815857238999 \n",
      "\n",
      "합의 평균, 분산: 6.997767 6.986528013710997\n"
     ]
    },
    {
     "data": {
      "image/png": "[encoded data removed]",
      "text/plain": [
       "<Figure size 720x432 with 1 Axes>"
      ]
     },
     "metadata": {
      "needs_background": "light"
     },
     "output_type": "display_data"
    }
   ],
   "source": [
    "import warnings\n",
    "warnings.filterwarnings('ignore')\n",
    "rv1 = stats.poisson(3)\n",
    "rv2 = stats.poisson(4)\n",
    "\n",
    "sample_size = int(1e6)\n",
    "X_sample = rv1.rvs(sample_size)\n",
    "Y_sample = rv2.rvs(sample_size)\n",
    "sum_sample = X_sample + Y_sample\n",
    "\n",
    "print('평균:', np.mean(X_sample),np.mean(Y_sample),'\\n')\n",
    "print('분산:', np.var(X_sample),np.var(Y_sample),'\\n')\n",
    "print('합의 평균, 분산:', np.mean(sum_sample), np.var(sum_sample))\n",
    "\n",
    "plt.figure(figsize=(10, 6))\n",
    "\n",
    "rv = stats.poisson(7)\n",
    "xs = np.arange(20)\n",
    "hist, _ = np.histogram(sum_sample, bins=20,\n",
    "                       range=(0, 20), normed=True)\n",
    "\n",
    "plt.bar(xs, hist, alpha=0.5, label='Poi(3) + Poi(4)')\n",
    "plt.plot(xs, rv.pmf(xs), label='Poi(7)',  color='gray')\n",
    "plt.plot(xs, rv1.pmf(xs), label='Poi(3)', ls='--', color='gray')\n",
    "plt.plot(xs, rv2.pmf(xs), label='Poi(4)', ls=':',  color='gray')\n",
    "\n",
    "plt.legend()\n",
    "plt.xlim(-0.5, 20)\n",
    "plt.xticks(np.arange(20))\n",
    "plt.show()"
   ]
  },
  {
   "cell_type": "markdown",
   "metadata": {
    "id": "RMWbA1V-JFdO"
   },
   "source": [
    "Q18. 베르누이 분포의 합은 이항분포가 되는 성질을 시각화하여 출력하세요 "
   ]
  },
  {
   "cell_type": "code",
   "execution_count": 76,
   "metadata": {},
   "outputs": [
    {
     "name": "stdout",
     "output_type": "stream",
     "text": [
      "표본 추출: (10, 1000000) \n",
      " 첫번째 열: [0 0 1 0 0 1 0 1 0 1] \n",
      "\n",
      "성공 횟수: [4 5 4 ... 5 5 1] \n",
      "\n",
      "성공 횟수의 평균, 분산: 3.001153 2.1007376705910006\n"
     ]
    },
    {
     "data": {
      "image/png": "[encoded data removed]",
      "text/plain": [
       "<Figure size 720x432 with 1 Axes>"
      ]
     },
     "metadata": {
      "needs_background": "light"
     },
     "output_type": "display_data"
    }
   ],
   "source": [
    "import sys\n",
    "np.set_printoptions(threshold=1000)\n",
    "np.random.seed(0)\n",
    "p = 0.3\n",
    "rv = stats.bernoulli(p)\n",
    "sample_size = int(1e6)\n",
    "Xs_sample = rv.rvs((10, sample_size))\n",
    "print('표본 추출:', Xs_sample.shape,'\\n', '첫번째 열:', Xs_sample[:,0],'\\n')\n",
    "sum_sample = np.sum(Xs_sample, axis=0)\n",
    "print('성공 횟수:', sum_sample,'\\n')\n",
    "print('성공 횟수의 평균, 분산:', np.mean(sum_sample), np.var(sum_sample))\n",
    "\n",
    "# 베르누이 합의 분포는 이항분포와 같다.\n",
    "fig = plt.figure(figsize=(10, 6))\n",
    "ax = fig.add_subplot(111)\n",
    "\n",
    "rv = stats.binom(10, p)\n",
    "xs = np.arange(10)\n",
    "hist, _ = np.histogram(sum_sample, bins=10,\n",
    "                       range=(0, 10), normed=True)\n",
    "ax.bar(xs, hist, alpha=0.5, label='sum of 10*Bern(0.3)')\n",
    "ax.plot(xs, rv.pmf(xs), label='Bin(10, 0.3)')\n",
    "ax.legend()\n",
    "ax.set_xlim(-0.5, 10)\n",
    "ax.set_xticks(np.arange(10))\n",
    "plt.show()"
   ]
  },
  {
   "cell_type": "markdown",
   "metadata": {
    "id": "RxUFaWyIJFdO"
   },
   "source": [
    "Q19. 포아송 분포의 표본분포는 근사적으로 정규분포를 따른다는 것을 시각화하고 그 핵심 근거인 중심극한정리에 대하여 설명하세요."
   ]
  },
  {
   "cell_type": "code",
   "execution_count": 77,
   "metadata": {},
   "outputs": [
    {
     "data": {
      "image/png": "[encoded data removed]",
      "text/plain": [
       "<Figure size 720x432 with 1 Axes>"
      ]
     },
     "metadata": {
      "needs_background": "light"
     },
     "output_type": "display_data"
    }
   ],
   "source": [
    "l = 3\n",
    "rv = stats.poisson(l)\n",
    "\n",
    "n = 10000\n",
    "sample_size = 10000\n",
    "Xs_sample = rv.rvs((n, sample_size))\n",
    "sample_mean = np.mean(Xs_sample, axis=0)\n",
    "\n",
    "rv_true = stats.norm(l, np.sqrt(l/n))\n",
    "xs = np.linspace(rv_true.isf(0.999), rv_true.isf(0.001), 100)\n",
    "\n",
    "plt.figure(figsize=(10, 6))\n",
    "\n",
    "plt.hist(sample_mean, bins=100, density=True,\n",
    "        alpha=0.5, label='sample mean of 10000*Poi(3)')\n",
    "plt.plot(xs, rv_true.pdf(xs), label='N(3, 3/10000)', color='gray')\n",
    "\n",
    "plt.legend()\n",
    "plt.xlim(rv_true.isf(0.999), rv_true.isf(0.001))\n",
    "plt.show()"
   ]
  },
  {
   "cell_type": "markdown",
   "metadata": {
    "id": "TPsUAFmHJFdO"
   },
   "source": [
    "Q20. 아래 df 데이터셋에서 \"무게의 평균이 130kg이다.\"라는 귀무가설에 대한 유의성 검정을 수행하세요.(정규분포, 분산 9) "
   ]
  },
  {
   "cell_type": "code",
   "execution_count": 78,
   "metadata": {
    "id": "LUQKSEKOJFdO",
    "outputId": "814f09ce-6d6c-4673-bc0d-b47e19dca22a"
   },
   "outputs": [
    {
     "name": "stdout",
     "output_type": "stream",
     "text": [
      "       무게\n",
      "0  122.02\n",
      "1  131.73\n",
      "2  130.60\n",
      "3  131.82\n",
      "4  132.05 14\n"
     ]
    }
   ],
   "source": [
    "df = pd.read_csv('./data/ch11_potato.csv')\n",
    "print(df.head(),len(df))"
   ]
  },
  {
   "cell_type": "code",
   "execution_count": 79,
   "metadata": {},
   "outputs": [
    {
     "data": {
      "text/plain": [
       "0.026661319523126635"
      ]
     },
     "execution_count": 79,
     "metadata": {},
     "output_type": "execute_result"
    }
   ],
   "source": [
    "sample = df.무게\n",
    "s_mean = np.mean(sample)\n",
    "z = (s_mean - 130) / np.sqrt(9/14)\n",
    "\n",
    "rv = stats.norm()\n",
    "rv.isf(0.95)\n",
    "\n",
    "rv.cdf(z)"
   ]
  }
 ],
 "metadata": {
  "colab": {
   "collapsed_sections": [],
   "name": "m3_통계_0204_문제_이름.ipynb",
   "provenance": []
  },
  "kernelspec": {
   "display_name": "Python 3 (ipykernel)",
   "language": "python",
   "name": "python3"
  },
  "language_info": {
   "codemirror_mode": {
    "name": "ipython",
    "version": 3
   },
   "file_extension": ".py",
   "mimetype": "text/x-python",
   "name": "python",
   "nbconvert_exporter": "python",
   "pygments_lexer": "ipython3",
   "version": "3.8.12"
  }
 },
 "nbformat": 4,
 "nbformat_minor": 1
}

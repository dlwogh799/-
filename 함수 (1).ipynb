{
 "cells": [
  {
   "cell_type": "code",
   "execution_count": 1,
   "id": "2ad7ef6a",
   "metadata": {},
   "outputs": [
    {
     "name": "stdout",
     "output_type": "stream",
     "text": [
      "HI\n"
     ]
    }
   ],
   "source": [
    "# 입력값이 없고 결과값만 있는 함수\n",
    "def say():\n",
    "    return 'HI'\n",
    "\n",
    "a = say()\n",
    "print(a)"
   ]
  },
  {
   "cell_type": "code",
   "execution_count": 2,
   "id": "b9aa6fdc",
   "metadata": {},
   "outputs": [
    {
     "name": "stdout",
     "output_type": "stream",
     "text": [
      "3, 4의 합은 7입니다.\n"
     ]
    }
   ],
   "source": [
    "# 입력값은 있고 결과값이 없는 함수\n",
    "# 결과값은 오직 return 명령어로만 돌려 받을수 있음.\n",
    "def add(a,b):\n",
    "    print('%d, %d의 합은 %d입니다.' %(a,b,a+b))\n",
    "add(3,4)"
   ]
  },
  {
   "cell_type": "code",
   "execution_count": 3,
   "id": "61a42c4e",
   "metadata": {},
   "outputs": [
    {
     "name": "stdout",
     "output_type": "stream",
     "text": [
      "Hi\n"
     ]
    }
   ],
   "source": [
    "#입력값도 결과값도 없는 함수\n",
    "def say():\n",
    "    print('Hi')\n",
    "say()"
   ]
  },
  {
   "cell_type": "code",
   "execution_count": 4,
   "id": "d462e5d7",
   "metadata": {},
   "outputs": [
    {
     "name": "stdout",
     "output_type": "stream",
     "text": [
      "58\n"
     ]
    }
   ],
   "source": [
    "# 입력값과 결과값이 다 있는 함수\n",
    "def add(a,b,c):\n",
    "    result = a * b + c\n",
    "    return result\n",
    "z = add(7,8,2)\n",
    "print(z)"
   ]
  },
  {
   "cell_type": "code",
   "execution_count": 5,
   "id": "9d47f3ba",
   "metadata": {},
   "outputs": [
    {
     "name": "stdout",
     "output_type": "stream",
     "text": [
      "숫자1 : 2\n",
      "숫자2 : 3\n",
      "기호 : +\n",
      "5\n"
     ]
    }
   ],
   "source": [
    "def math(x, y, z):\n",
    "    if z == '*':\n",
    "        return x*y\n",
    "    elif z== '/':\n",
    "        return x/y\n",
    "    elif z== '+':\n",
    "        return x+y\n",
    "    elif z== '%':\n",
    "        return x%y\n",
    "    elif z== '^':\n",
    "        return x**y\n",
    "    elif z== '-':\n",
    "        return x-y\n",
    "    elif z== '//':\n",
    "        return x//y\n",
    "    else:\n",
    "        return\n",
    "\n",
    "print(math(int(input(\"숫자1 : \")), int(input(\"숫자2 : \")), input(\"기호 : \")))"
   ]
  },
  {
   "cell_type": "code",
   "execution_count": 6,
   "id": "80bd6ace",
   "metadata": {},
   "outputs": [
    {
     "data": {
      "text/plain": [
       "15"
      ]
     },
     "execution_count": 6,
     "metadata": {},
     "output_type": "execute_result"
    }
   ],
   "source": [
    "# 여러 개의 입력값을 받는 함수 만들기\n",
    "# *args 처럼 입력 변수명 앞에 *를 붙이면 입력값들을 전부 모아서 튜플로 만들어줌\n",
    "def add_many(*args):\n",
    "    add = 0\n",
    "    for i in args:\n",
    "        add += i\n",
    "    return add\n",
    "\n",
    "add_many(1,2,3,4,5)"
   ]
  },
  {
   "cell_type": "code",
   "execution_count": 7,
   "id": "558a5260",
   "metadata": {},
   "outputs": [
    {
     "name": "stdout",
     "output_type": "stream",
     "text": [
      "(7, 12)\n"
     ]
    }
   ],
   "source": [
    "# 함수의 반환 값은 언제나 하나임 - 결과 값으로 튜플 값 하나를 갖게 됨\n",
    "def add_and_mul(a,b):\n",
    "    return a+b, a*b\n",
    "\n",
    "result = add_and_mul(3,4)\n",
    "print(result)"
   ]
  },
  {
   "cell_type": "code",
   "execution_count": 8,
   "id": "14f49429",
   "metadata": {},
   "outputs": [
    {
     "ename": "SyntaxError",
     "evalue": "invalid syntax (Temp/ipykernel_3704/2094527910.py, line 2)",
     "output_type": "error",
     "traceback": [
      "\u001b[1;36m  File \u001b[1;32m\"C:\\Users\\admin\\AppData\\Local\\Temp/ipykernel_3704/2094527910.py\"\u001b[1;36m, line \u001b[1;32m2\u001b[0m\n\u001b[1;33m    def add_mul(choice), *args):\u001b[0m\n\u001b[1;37m                       ^\u001b[0m\n\u001b[1;31mSyntaxError\u001b[0m\u001b[1;31m:\u001b[0m invalid syntax\n"
     ]
    }
   ],
   "source": [
    "# add_mul()함수를 정의하여 1,2,3,4,5,를 입력 값으로 적용하여 덧셈, 곱셈 연산을 수행하라\n",
    "def add_mul(choice), *args):\n",
    "    return a+b, a*b\n",
    "result = add_and_mul('+', '*')\n",
    "add_mul('add',1,2,3,4,5)"
   ]
  },
  {
   "cell_type": "code",
   "execution_count": 9,
   "id": "b9249090",
   "metadata": {},
   "outputs": [
    {
     "name": "stdout",
     "output_type": "stream",
     "text": [
      "add or mul> add\n"
     ]
    },
    {
     "data": {
      "text/plain": [
       "15"
      ]
     },
     "execution_count": 9,
     "metadata": {},
     "output_type": "execute_result"
    }
   ],
   "source": [
    "def add_mul(choice, *args):\n",
    "    add = 0\n",
    "    mul = 1\n",
    "    if choice == 'add':\n",
    "        for i in args:\n",
    "            add += i\n",
    "        return add\n",
    "    elif choice == 'mul':\n",
    "        for i in args:\n",
    "            mul *= i\n",
    "        return mul\n",
    "    \n",
    "    \n",
    "choice = input('add or mul> ')\n",
    "\n",
    "add_mul(choice,1,2,3,4,5)\n"
   ]
  },
  {
   "cell_type": "code",
   "execution_count": null,
   "id": "e9892055",
   "metadata": {},
   "outputs": [],
   "source": [
    "#[과제] 뺼셈, 나누셈 멀티 계산 함수 작성\n",
    "#('sub',2,4,6,8,10)\n",
    "#('div',2,4,6,8,10)\n"
   ]
  },
  {
   "cell_type": "code",
   "execution_count": 7,
   "id": "fba8d228",
   "metadata": {},
   "outputs": [
    {
     "name": "stdout",
     "output_type": "stream",
     "text": [
      "sub or div> sub\n"
     ]
    },
    {
     "data": {
      "text/plain": [
       "-30"
      ]
     },
     "execution_count": 7,
     "metadata": {},
     "output_type": "execute_result"
    }
   ],
   "source": [
    "def add_mul(choice, *args):\n",
    "    sub = 0\n",
    "    div = 1\n",
    "    if choice == 'sub':\n",
    "        for i in args:\n",
    "            sub -= i\n",
    "        return sub\n",
    "    elif choice == 'div':\n",
    "        for i in args:\n",
    "            div /= i\n",
    "        return div\n",
    "        \n",
    "choice = input('sub or div> ')\n",
    "\n",
    "add_mul(choice,2,4,6,8,10)\n",
    "    "
   ]
  },
  {
   "cell_type": "code",
   "execution_count": 8,
   "id": "929457cf",
   "metadata": {},
   "outputs": [
    {
     "data": {
      "text/plain": [
       "0.0010416666666666667"
      ]
     },
     "execution_count": 8,
     "metadata": {},
     "output_type": "execute_result"
    }
   ],
   "source": [
    "def sub_div(choice,*args):\n",
    "    if choice == 'sub':\n",
    "        result = args[0]\n",
    "        for i in range(1,len(args)):\n",
    "            result -= args[i]\n",
    "        return result\n",
    "            \n",
    "    elif choice == 'div':\n",
    "        if 0 in args:\n",
    "            return 'failed to calculate'\n",
    "        result = args[0]\n",
    "        for i in range(1,len(args)):\n",
    "            result /= args[i]\n",
    "        return result\n",
    "    else:\n",
    "        return 'wrong input'\n",
    "        \n",
    "sub_div('div',2,4,6,8,10)\n",
    "\n"
   ]
  },
  {
   "cell_type": "code",
   "execution_count": null,
   "id": "46e11605",
   "metadata": {},
   "outputs": [],
   "source": [
    "f = open('test.txt', 'w')\n",
    "for i in range(1,11):\n",
    "    data = '%d번째 줄입니다.\\n' % i\n",
    "    f.write(data)\n",
    "f.close()"
   ]
  },
  {
   "cell_type": "code",
   "execution_count": 10,
   "id": "ce6ef6ca",
   "metadata": {},
   "outputs": [
    {
     "name": "stdout",
     "output_type": "stream",
     "text": [
      "1번째 줄입니다.\n",
      "\n"
     ]
    }
   ],
   "source": [
    "f = open('test.txt', 'r')\n",
    "line = f.readline()\n",
    "print(line)\n",
    "f.close()"
   ]
  },
  {
   "cell_type": "code",
   "execution_count": 10,
   "id": "055bbb73",
   "metadata": {},
   "outputs": [
    {
     "name": "stdout",
     "output_type": "stream",
     "text": [
      "None\n",
      "1\n"
     ]
    }
   ],
   "source": [
    "# 함수 안에서 선언한 변수의 효력 범\n",
    "a = 1\n",
    "def vartest(a):\n",
    "    a = a + 1\n",
    "print(vartest(a))\n",
    "print(a)"
   ]
  },
  {
   "cell_type": "code",
   "execution_count": 11,
   "id": "8b77813d",
   "metadata": {},
   "outputs": [
    {
     "name": "stdout",
     "output_type": "stream",
     "text": [
      "2\n"
     ]
    }
   ],
   "source": [
    "# 함수 안에서 한수 밖의 변수를 변경하는 방법 - return 이용\n",
    "\n",
    "a = 1\n",
    "def vartest(a):\n",
    "    a = a+1\n",
    "    return a\n",
    "a = vartest(a)\n",
    "print(a)"
   ]
  },
  {
   "cell_type": "code",
   "execution_count": 14,
   "id": "a8af3d8e",
   "metadata": {},
   "outputs": [
    {
     "name": "stdout",
     "output_type": "stream",
     "text": [
      "2\n"
     ]
    }
   ],
   "source": [
    "# global 명령을 이용하는 방법\n",
    "a = 1\n",
    "def vartest():\n",
    "    global a\n",
    "    a = a + 1\n",
    "    \n",
    "vartest()\n",
    "print(a)"
   ]
  },
  {
   "cell_type": "code",
   "execution_count": 15,
   "id": "4d91acb8",
   "metadata": {},
   "outputs": [
    {
     "data": {
      "text/plain": [
       "'C:\\\\cakd5\\\\workspace\\\\m1_programming'"
      ]
     },
     "execution_count": 15,
     "metadata": {},
     "output_type": "execute_result"
    }
   ],
   "source": [
    "%pwd"
   ]
  },
  {
   "cell_type": "code",
   "execution_count": 16,
   "id": "e1674cf9",
   "metadata": {},
   "outputs": [
    {
     "data": {
      "text/plain": [
       "<function TextIOWrapper.close()>"
      ]
     },
     "execution_count": 16,
     "metadata": {},
     "output_type": "execute_result"
    }
   ],
   "source": [
    "# 파일 읽고 쓰기\n",
    "f = open('test1.txt','w')\n",
    "f.close()"
   ]
  },
  {
   "cell_type": "code",
   "execution_count": 42,
   "id": "d4a8014e",
   "metadata": {},
   "outputs": [],
   "source": [
    "f = open('test1.txt', 'w')\n",
    "for i in range(1,11):\n",
    "    data = '%d번쨰 줄입니다.\\n' %i\n",
    "    f.write(data)\n",
    "f.close()"
   ]
  },
  {
   "cell_type": "code",
   "execution_count": 43,
   "id": "2ba66b4f",
   "metadata": {},
   "outputs": [
    {
     "name": "stdout",
     "output_type": "stream",
     "text": [
      "1번쨰 줄입니다.\n",
      "\n"
     ]
    }
   ],
   "source": [
    "f = open('test1.txt','r')\n",
    "line = f.readline()\n",
    "print(line)\n",
    "f.close()"
   ]
  },
  {
   "cell_type": "code",
   "execution_count": 45,
   "id": "1489d4be",
   "metadata": {},
   "outputs": [
    {
     "name": "stdout",
     "output_type": "stream",
     "text": [
      "1번쨰 줄입니다.\n",
      "\n",
      "2번쨰 줄입니다.\n",
      "\n",
      "3번쨰 줄입니다.\n",
      "\n",
      "4번쨰 줄입니다.\n",
      "\n",
      "5번쨰 줄입니다.\n",
      "\n",
      "6번쨰 줄입니다.\n",
      "\n",
      "7번쨰 줄입니다.\n",
      "\n",
      "8번쨰 줄입니다.\n",
      "\n",
      "9번쨰 줄입니다.\n",
      "\n"
     ]
    }
   ],
   "source": [
    "f = open('test1.txt','r')\n",
    "for i in range(1,10):\n",
    "    line = f.readline()\n",
    "    print(line)\n",
    "f.close()\n"
   ]
  },
  {
   "cell_type": "code",
   "execution_count": 47,
   "id": "3f585512",
   "metadata": {},
   "outputs": [
    {
     "name": "stdout",
     "output_type": "stream",
     "text": [
      "1번쨰 줄입니다.\n",
      "\n",
      "2번쨰 줄입니다.\n",
      "\n",
      "3번쨰 줄입니다.\n",
      "\n",
      "4번쨰 줄입니다.\n",
      "\n",
      "5번쨰 줄입니다.\n",
      "\n",
      "6번쨰 줄입니다.\n",
      "\n",
      "7번쨰 줄입니다.\n",
      "\n",
      "8번쨰 줄입니다.\n",
      "\n"
     ]
    },
    {
     "data": {
      "text/plain": [
       "<function TextIOWrapper.close()>"
      ]
     },
     "execution_count": 47,
     "metadata": {},
     "output_type": "execute_result"
    }
   ],
   "source": [
    "f= open('test1.txt', 'r')\n",
    "for i in range(2,10):\n",
    "   line = f.readline()\n",
    "   print(line)\n",
    "f.close"
   ]
  },
  {
   "cell_type": "code",
   "execution_count": 48,
   "id": "0e543c77",
   "metadata": {},
   "outputs": [
    {
     "name": "stdout",
     "output_type": "stream",
     "text": [
      "1번쨰 줄입니다.\n",
      "\n",
      "2번쨰 줄입니다.\n",
      "\n",
      "3번쨰 줄입니다.\n",
      "\n",
      "4번쨰 줄입니다.\n",
      "\n",
      "5번쨰 줄입니다.\n",
      "\n",
      "6번쨰 줄입니다.\n",
      "\n",
      "7번쨰 줄입니다.\n",
      "\n",
      "8번쨰 줄입니다.\n",
      "\n",
      "9번쨰 줄입니다.\n",
      "\n",
      "10번쨰 줄입니다.\n",
      "\n"
     ]
    }
   ],
   "source": [
    "f = open('test1.txt', 'r')\n",
    "while True:\n",
    "    line = f.readline()\n",
    "    if not line: break\n",
    "    print(line)\n",
    "f.close()"
   ]
  },
  {
   "cell_type": "code",
   "execution_count": 73,
   "id": "ccd5cb41",
   "metadata": {},
   "outputs": [
    {
     "name": "stdout",
     "output_type": "stream",
     "text": [
      "(i)번째 줄입니다.\n",
      "(i)번째 줄입니다.\n",
      "(i)번째 줄입니다.\n",
      "(i)번째 줄입니다.\n",
      "(i)번째 줄입니다.\n",
      "\n"
     ]
    }
   ],
   "source": [
    "# f.read()는 파일 내용 전체를 문자열로 변환\n",
    "f = open('test1.txt', 'r')\n",
    "data = f.read()\n",
    "print(data)\n",
    "f.close()"
   ]
  },
  {
   "cell_type": "code",
   "execution_count": 99,
   "id": "dd220374",
   "metadata": {},
   "outputs": [],
   "source": [
    "f = open('test1.txt', 'a')\n",
    "for i in range(11,16):\n",
    "    data = '%d번쨰 줄입니다.\\n' %i\n",
    "    f.write(data)\n",
    "f.close()"
   ]
  },
  {
   "cell_type": "code",
   "execution_count": 93,
   "id": "7134341d",
   "metadata": {},
   "outputs": [
    {
     "name": "stdout",
     "output_type": "stream",
     "text": [
      "(i)번째 줄입니다.\n",
      "(i)번째 줄입니다.\n",
      "(i)번째 줄입니다.\n",
      "(i)번째 줄입니다.\n",
      "(i)번째 줄입니다.\n",
      "11번쨰 줄입니다.\n",
      "12번쨰 줄입니다.\n",
      "13번쨰 줄입니다.\n",
      "14번쨰 줄입니다.\n",
      "15번쨰 줄입니다.\n",
      "\n"
     ]
    }
   ],
   "source": [
    "f = open('test1.txt', 'r')\n",
    "data = f.read()\n",
    "print(data)\n",
    "f.close()"
   ]
  },
  {
   "cell_type": "code",
   "execution_count": 55,
   "id": "759d0ffc",
   "metadata": {},
   "outputs": [],
   "source": [
    "# with문과 같이 사용\n",
    "with open('foo.txt','w') as f:\n",
    "    f.write('파이썬을 배웁시다.')"
   ]
  },
  {
   "cell_type": "code",
   "execution_count": 56,
   "id": "4a245771",
   "metadata": {},
   "outputs": [
    {
     "name": "stdout",
     "output_type": "stream",
     "text": [
      "파이썬을 배웁시다.\n"
     ]
    }
   ],
   "source": [
    "with open('foo.txt','r') as f:\n",
    "    data = f.read()\n",
    "    print(data)"
   ]
  },
  {
   "cell_type": "code",
   "execution_count": 62,
   "id": "d41d3cab",
   "metadata": {},
   "outputs": [],
   "source": [
    "with open('foo.txt', 'w') as f:\n",
    "    f.write('함수를 배웁시다.')"
   ]
  },
  {
   "cell_type": "code",
   "execution_count": 64,
   "id": "96d5aa17",
   "metadata": {},
   "outputs": [
    {
     "name": "stdout",
     "output_type": "stream",
     "text": [
      "함수를 배웁시다.\n"
     ]
    }
   ],
   "source": [
    "with open('foo.txt', 'r') as f:\n",
    "    data = f.read()\n",
    "    print(data)"
   ]
  },
  {
   "cell_type": "code",
   "execution_count": 96,
   "id": "a6c0bc86",
   "metadata": {},
   "outputs": [],
   "source": [
    "with open('test1.txt', 'w') as f:\n",
    "    for i in range(1,11):\n",
    "        data = f'(i)번째 줄입니다.\\n'\n",
    "        f.write(data)"
   ]
  },
  {
   "cell_type": "code",
   "execution_count": 97,
   "id": "4ac45274",
   "metadata": {},
   "outputs": [],
   "source": [
    "with open('test1.txt', 'w') as f:\n",
    "    for i in range(11,16):\n",
    "        data = f'(i)번째 줄입니다.\\n'\n",
    "        f.write(data)"
   ]
  },
  {
   "cell_type": "code",
   "execution_count": 98,
   "id": "d4186507",
   "metadata": {},
   "outputs": [
    {
     "name": "stdout",
     "output_type": "stream",
     "text": [
      "1번째 줄입니다.\n",
      "2번째 줄입니다.\n",
      "3번째 줄입니다.\n",
      "4번째 줄입니다.\n",
      "5번째 줄입니다.\n",
      "6번째 줄입니다.\n",
      "7번째 줄입니다.\n",
      "8번째 줄입니다.\n",
      "9번째 줄입니다.\n",
      "10번째 줄입니다.\n",
      "\n"
     ]
    }
   ],
   "source": [
    "with open('test.txt', 'r') as f:\n",
    "    data = f.read()\n",
    "    print(data)"
   ]
  },
  {
   "cell_type": "code",
   "execution_count": 78,
   "id": "0fa3d4e3",
   "metadata": {},
   "outputs": [
    {
     "name": "stdout",
     "output_type": "stream",
     "text": [
      "3\n",
      "False\n",
      "True\n",
      "A\n"
     ]
    }
   ],
   "source": [
    "# 내장함수\n",
    "print(abs(-3))\n",
    "print(all([1,2,3,0])) # x가 모두 참이면 True, 거짓이 하나라도 있으면 False\n",
    "print(any([1,2,3,0])) # x가 하나라도 참이면 True, 모두 거짓이면  False\n",
    "print(chr(65))"
   ]
  },
  {
   "cell_type": "code",
   "execution_count": 79,
   "id": "577b8d9c",
   "metadata": {},
   "outputs": [
    {
     "data": {
      "text/plain": [
       "7"
      ]
     },
     "execution_count": 79,
     "metadata": {},
     "output_type": "execute_result"
    }
   ],
   "source": [
    "sum = lambda a,b: a + b\n",
    "sum(3,4)"
   ]
  },
  {
   "cell_type": "code",
   "execution_count": 80,
   "id": "82092537",
   "metadata": {},
   "outputs": [
    {
     "name": "stdout",
     "output_type": "stream",
     "text": [
      "7\n",
      "30\n"
     ]
    }
   ],
   "source": [
    "myList = [lambda a,b: a+b, lambda a,b: a*b]\n",
    "print(myList[0](3,4))\n",
    "print(myList[1](5,6))"
   ]
  },
  {
   "cell_type": "code",
   "execution_count": 90,
   "id": "f09707a0",
   "metadata": {},
   "outputs": [
    {
     "name": "stdout",
     "output_type": "stream",
     "text": [
      "6\n",
      "3\n",
      "3\n"
     ]
    }
   ],
   "source": [
    "print(len('python'))\n",
    "print(len([1,2,3]))\n",
    "print(len([1,2,'a']))"
   ]
  },
  {
   "cell_type": "code",
   "execution_count": 89,
   "id": "da020224",
   "metadata": {},
   "outputs": [
    {
     "data": {
      "text/plain": [
       "[0, -1, -2, -3, -4, -5, -6, -7, -8, -9]"
      ]
     },
     "execution_count": 89,
     "metadata": {},
     "output_type": "execute_result"
    }
   ],
   "source": [
    "list(range(5))\n",
    "list(range(1,6))\n",
    "list(range(1,10,2))\n",
    "list(range(0,-10, -1))"
   ]
  },
  {
   "cell_type": "code",
   "execution_count": 100,
   "id": "383f3f1c",
   "metadata": {},
   "outputs": [
    {
     "name": "stdout",
     "output_type": "stream",
     "text": [
      "(2, 1)\n"
     ]
    }
   ],
   "source": [
    "print(divmod(7,3))"
   ]
  },
  {
   "cell_type": "code",
   "execution_count": 105,
   "id": "5f640558",
   "metadata": {},
   "outputs": [
    {
     "name": "stdout",
     "output_type": "stream",
     "text": [
      "0 james\n",
      "1 tom\n",
      "2 susan\n"
     ]
    }
   ],
   "source": [
    "# 순서가 있는 자료형을 입력으로 받아 인덱스 값을 포함한 eunmerate 객체를 리턴\n",
    "for i, name in enumerate(['james', 'tom','susan']):\n",
    "    print(i,name)"
   ]
  },
  {
   "cell_type": "code",
   "execution_count": 107,
   "id": "0560c991",
   "metadata": {},
   "outputs": [
    {
     "name": "stdout",
     "output_type": "stream",
     "text": [
      "3\n"
     ]
    }
   ],
   "source": [
    "# 실행 가능한 문자열 입력으로 받아 문자열을 실행한 결과값을 리턴\n",
    "print(eval('1+2'))"
   ]
  },
  {
   "cell_type": "code",
   "execution_count": 111,
   "id": "33fb5bea",
   "metadata": {},
   "outputs": [
    {
     "data": {
      "text/plain": [
       "[5, 4, 3, 2, 1, 0]"
      ]
     },
     "execution_count": 111,
     "metadata": {},
     "output_type": "execute_result"
    }
   ],
   "source": [
    "li = [0,1,2,3,5,4]\n",
    "li.sort(reverse=True)\n",
    "li"
   ]
  },
  {
   "cell_type": "code",
   "execution_count": 113,
   "id": "bb5de667",
   "metadata": {},
   "outputs": [
    {
     "name": "stdout",
     "output_type": "stream",
     "text": [
      "[0, 1, 2, 4, 5]\n"
     ]
    },
    {
     "data": {
      "text/plain": [
       "[0, 2, 1, 5, 4]"
      ]
     },
     "execution_count": 113,
     "metadata": {},
     "output_type": "execute_result"
    }
   ],
   "source": [
    "# 정렬된 결과를 변환하는 함수는 본체는 변형되지 않는다.\n",
    "li = [0,2,1,5,4]\n",
    "s = sorted(li)\n",
    "print(s)\n",
    "li"
   ]
  },
  {
   "cell_type": "code",
   "execution_count": 117,
   "id": "28b28677",
   "metadata": {},
   "outputs": [],
   "source": [
    "# 외장함수 : 전 세계 파이썬 사용자들이 만든 유용한 프로그램을 모아 놓은 파이썬 라이브러리, 파이썬을 설치할때 자동으로 설치\n",
    "# pickle은 객체의 형태를 유지하면서 파일에 저장하고 불러올 수 있게 하는 모듈\n",
    "\n",
    "import pickle\n",
    "f = open('test.txt','wb')\n",
    "data = {1: 'python',2:'you need'}\n",
    "pickle.dump(data,f)\n",
    "f.close()\n",
    "\n"
   ]
  },
  {
   "cell_type": "code",
   "execution_count": 118,
   "id": "f738aee8",
   "metadata": {},
   "outputs": [
    {
     "name": "stdout",
     "output_type": "stream",
     "text": [
      "{1: 'python', 2: 'you need'}\n"
     ]
    }
   ],
   "source": [
    "import pickle\n",
    "f = open('test.txt', 'rb')\n",
    "data = pickle.load(f)\n",
    "print(data)\n",
    "f.close()"
   ]
  },
  {
   "cell_type": "code",
   "execution_count": 119,
   "id": "e1e85f01",
   "metadata": {},
   "outputs": [
    {
     "data": {
      "text/plain": [
       "'C:\\\\Users\\\\admin\\\\anaconda3\\\\envs\\\\cakd5;C:\\\\Users\\\\admin\\\\anaconda3\\\\envs\\\\cakd5\\\\Library\\\\mingw-w64\\\\bin;C:\\\\Users\\\\admin\\\\anaconda3\\\\envs\\\\cakd5\\\\Library\\\\usr\\\\bin;C:\\\\Users\\\\admin\\\\anaconda3\\\\envs\\\\cakd5\\\\Library\\\\bin;C:\\\\Users\\\\admin\\\\anaconda3\\\\envs\\\\cakd5\\\\Scripts;C:\\\\WINDOWS\\\\system32;C:\\\\WINDOWS;C:\\\\WINDOWS\\\\System32\\\\Wbem;C:\\\\WINDOWS\\\\System32\\\\WindowsPowerShell\\\\v1.0\\\\;C:\\\\WINDOWS\\\\System32\\\\OpenSSH\\\\;C:\\\\Users\\\\admin\\\\anaconda3\\\\bin;C:\\\\Users\\\\admin\\\\anaconda3\\\\Library\\\\mingw-w64\\\\bin;C:\\\\Users\\\\admin\\\\anaconda3\\\\Library\\\\bin;C:\\\\Users\\\\admin\\\\anaconda3\\\\Scripts;C:\\\\Users\\\\admin\\\\AppData\\\\Local\\\\Microsoft\\\\WindowsApps;'"
      ]
     },
     "execution_count": 119,
     "metadata": {},
     "output_type": "execute_result"
    }
   ],
   "source": [
    "import os\n",
    "os.environ['PATH']"
   ]
  },
  {
   "cell_type": "code",
   "execution_count": 120,
   "id": "05649644",
   "metadata": {},
   "outputs": [
    {
     "data": {
      "text/plain": [
       "'C:\\\\cakd5\\\\workspace\\\\m1_programming'"
      ]
     },
     "execution_count": 120,
     "metadata": {},
     "output_type": "execute_result"
    }
   ],
   "source": [
    "%pwd"
   ]
  },
  {
   "cell_type": "code",
   "execution_count": null,
   "id": "e074b1d1",
   "metadata": {},
   "outputs": [],
   "source": [
    "# 폴더변경\n",
    "os.chdir(\"C:\\cakd5\\workspace\")"
   ]
  },
  {
   "cell_type": "code",
   "execution_count": null,
   "id": "e1dcf860",
   "metadata": {},
   "outputs": [],
   "source": [
    "os.chdir(\"C:\\\\cakd5\\\\workspace\\\\m1_programming\")\n"
   ]
  },
  {
   "cell_type": "code",
   "execution_count": 121,
   "id": "4626f412",
   "metadata": {},
   "outputs": [
    {
     "data": {
      "text/plain": [
       "'C:\\\\cakd5\\\\workspace\\\\m1_programming'"
      ]
     },
     "execution_count": 121,
     "metadata": {},
     "output_type": "execute_result"
    }
   ],
   "source": [
    "os.getcwd()"
   ]
  },
  {
   "cell_type": "code",
   "execution_count": 26,
   "id": "b1984cff",
   "metadata": {},
   "outputs": [
    {
     "name": "stdout",
     "output_type": "stream",
     "text": [
      " C 드라이브의 볼륨에는 이름이 없습니다.\n",
      " 볼륨 일련 번호: 8207-007B\n",
      "\n",
      " C:\\cakd5\\workspace\\m1_programming 디렉터리\n",
      "\n",
      "2021-12-31  오후 12:30    <DIR>          .\n",
      "2021-12-31  오후 12:30    <DIR>          ..\n",
      "2021-12-30  오후 02:48    <DIR>          .ipynb_checkpoints\n",
      "2021-12-31  오전 11:32                16 foo.txt\n",
      "2021-12-28  오후 04:47             2,423 Jupyter notebook 사용법.ipynb\n",
      "2021-12-31  오후 12:18                40 test.txt\n",
      "2021-12-31  오전 11:55               185 test_new.txt\n",
      "2021-12-31  오후 12:16                40 text.txt\n",
      "2021-12-31  오전 11:15               171 text1.txt\n",
      "2021-12-31  오전 10:27            92,663 기초.ipynb\n",
      "2021-12-28  오후 04:18            94,995 매직명령어.jpg\n",
      "2021-12-31  오후 12:30            28,604 함수.ipynb\n",
      "               9개 파일             219,137 바이트\n",
      "               3개 디렉터리  937,262,903,296 바이트 남음\n"
     ]
    }
   ],
   "source": [
    "!dir"
   ]
  },
  {
   "cell_type": "code",
   "execution_count": 25,
   "id": "ee2cc5a0",
   "metadata": {},
   "outputs": [
    {
     "ename": "FileNotFoundError",
     "evalue": "[WinError 2] 지정된 파일을 찾을 수 없습니다: 'test1.txt' -> 'test_new.txt'",
     "output_type": "error",
     "traceback": [
      "\u001b[1;31m---------------------------------------------------------------------------\u001b[0m",
      "\u001b[1;31mFileNotFoundError\u001b[0m                         Traceback (most recent call last)",
      "\u001b[1;32m~\\AppData\\Local\\Temp/ipykernel_7060/826100270.py\u001b[0m in \u001b[0;36m<module>\u001b[1;34m\u001b[0m\n\u001b[0;32m      1\u001b[0m \u001b[1;32mimport\u001b[0m \u001b[0mos\u001b[0m\u001b[1;33m\u001b[0m\u001b[1;33m\u001b[0m\u001b[0m\n\u001b[1;32m----> 2\u001b[1;33m \u001b[0mos\u001b[0m\u001b[1;33m.\u001b[0m\u001b[0mrename\u001b[0m\u001b[1;33m(\u001b[0m\u001b[1;34m'test1.txt'\u001b[0m\u001b[1;33m,\u001b[0m \u001b[1;34m'test_new.txt'\u001b[0m\u001b[1;33m)\u001b[0m\u001b[1;33m\u001b[0m\u001b[1;33m\u001b[0m\u001b[0m\n\u001b[0m",
      "\u001b[1;31mFileNotFoundError\u001b[0m: [WinError 2] 지정된 파일을 찾을 수 없습니다: 'test1.txt' -> 'test_new.txt'"
     ]
    }
   ],
   "source": [
    "import os\n",
    "os.rename('test1.txt', 'test_new.txt')"
   ]
  },
  {
   "cell_type": "code",
   "execution_count": 24,
   "id": "62fd4a69",
   "metadata": {},
   "outputs": [
    {
     "data": {
      "text/plain": [
       "[]"
      ]
     },
     "execution_count": 24,
     "metadata": {},
     "output_type": "execute_result"
    }
   ],
   "source": [
    "# glob() 함수는 인자로 받은 패턴과 이름이 일치하는 모든 파일과 디렉토리의 리스트를 반환\n",
    "import glob\n",
    "glob.glob('C:\\cakd5\\workspace\\m1_programming/*.txt ')"
   ]
  },
  {
   "cell_type": "code",
   "execution_count": 18,
   "id": "3c4689d3",
   "metadata": {},
   "outputs": [
    {
     "data": {
      "text/plain": [
       "1640921426.6932483"
      ]
     },
     "execution_count": 18,
     "metadata": {},
     "output_type": "execute_result"
    }
   ],
   "source": [
    "import time\n",
    "time.time()"
   ]
  },
  {
   "cell_type": "code",
   "execution_count": 27,
   "id": "fcd5d304",
   "metadata": {},
   "outputs": [
    {
     "data": {
      "text/plain": [
       "time.struct_time(tm_year=2021, tm_mon=12, tm_mday=31, tm_hour=12, tm_min=32, tm_sec=17, tm_wday=4, tm_yday=365, tm_isdst=0)"
      ]
     },
     "execution_count": 27,
     "metadata": {},
     "output_type": "execute_result"
    }
   ],
   "source": [
    "time.localtime(time.time())"
   ]
  },
  {
   "cell_type": "code",
   "execution_count": 29,
   "id": "f3a16a5e",
   "metadata": {},
   "outputs": [
    {
     "data": {
      "text/plain": [
       "'Fri Dec 31 12:33:15 2021'"
      ]
     },
     "execution_count": 29,
     "metadata": {},
     "output_type": "execute_result"
    }
   ],
   "source": [
    "time.asctime(time.localtime(time.time()))"
   ]
  },
  {
   "cell_type": "code",
   "execution_count": 32,
   "id": "aff5a847",
   "metadata": {},
   "outputs": [
    {
     "name": "stdout",
     "output_type": "stream",
     "text": [
      "0\n",
      "1\n",
      "2\n",
      "3\n",
      "4\n"
     ]
    }
   ],
   "source": [
    "#time.sleep(): 일정한  시간 간격을 두고 루프를 실행할 수 있음\n",
    "\n",
    "import time\n",
    "for i in range(5):\n",
    "    print(i)\n",
    "    time.sleep(1)"
   ]
  },
  {
   "cell_type": "code",
   "execution_count": 33,
   "id": "5e25067b",
   "metadata": {},
   "outputs": [
    {
     "name": "stdout",
     "output_type": "stream",
     "text": [
      "   December 2021\n",
      "Mo Tu We Th Fr Sa Su\n",
      "       1  2  3  4  5\n",
      " 6  7  8  9 10 11 12\n",
      "13 14 15 16 17 18 19\n",
      "20 21 22 23 24 25 26\n",
      "27 28 29 30 31\n",
      "None\n"
     ]
    }
   ],
   "source": [
    "import calendar\n",
    "print(calendar.prmonth(2021,12))"
   ]
  },
  {
   "cell_type": "code",
   "execution_count": 38,
   "id": "8ffd4dd1",
   "metadata": {},
   "outputs": [
    {
     "name": "stdout",
     "output_type": "stream",
     "text": [
      "4\n"
     ]
    }
   ],
   "source": [
    "# 요일(0 월요일 ~6 일요일)\n",
    "print(calendar.weekday(2021,12,31))"
   ]
  },
  {
   "cell_type": "code",
   "execution_count": 39,
   "id": "a8c1b313",
   "metadata": {},
   "outputs": [
    {
     "data": {
      "text/plain": [
       "(5, 31)"
      ]
     },
     "execution_count": 39,
     "metadata": {},
     "output_type": "execute_result"
    }
   ],
   "source": [
    "# 1일의 요일, 날수\n",
    "calendar.monthrange(2022,1)"
   ]
  },
  {
   "cell_type": "code",
   "execution_count": 41,
   "id": "2e7b8565",
   "metadata": {},
   "outputs": [
    {
     "data": {
      "text/plain": [
       "True"
      ]
     },
     "execution_count": 41,
     "metadata": {},
     "output_type": "execute_result"
    }
   ],
   "source": [
    "import webbrowser\n",
    "webbrowser.open('http://google.com')"
   ]
  },
  {
   "cell_type": "code",
   "execution_count": null,
   "id": "e8089e3d",
   "metadata": {},
   "outputs": [],
   "source": [
    "# 내장 함수를 이용해서 list = [0,1,2,3,4,5,6]에서 2를 삭제 후 출력하세요"
   ]
  },
  {
   "cell_type": "code",
   "execution_count": 52,
   "id": "20dd0a89",
   "metadata": {},
   "outputs": [
    {
     "name": "stdout",
     "output_type": "stream",
     "text": [
      "[0, 1, 3, 4, 5, 6]\n"
     ]
    }
   ],
   "source": [
    "list = [0,1,2,3,4,5,6]\n",
    "del list[2]\n",
    "print(list)"
   ]
  },
  {
   "cell_type": "code",
   "execution_count": 119,
   "id": "52ba475b",
   "metadata": {},
   "outputs": [
    {
     "name": "stdout",
     "output_type": "stream",
     "text": [
      "[0, 1, 2, 3, 4, 5, 6]\n",
      "[0, 1, 3, 4, 5, 6]\n"
     ]
    }
   ],
   "source": [
    "lt = [0, 1, 2, 3, 4, 5, 6]\n",
    "print(lt)\n",
    "lt.pop(2)\n",
    "print(lt)\n"
   ]
  },
  {
   "cell_type": "code",
   "execution_count": 118,
   "id": "d6bf53a0",
   "metadata": {},
   "outputs": [
    {
     "data": {
      "text/plain": [
       "[0, 1, 3, 4, 5, 6]"
      ]
     },
     "execution_count": 118,
     "metadata": {},
     "output_type": "execute_result"
    }
   ],
   "source": [
    "lt = [0,1,2,3,4,5,6]\n",
    "lt.remove(2)\n",
    "lt"
   ]
  },
  {
   "cell_type": "code",
   "execution_count": null,
   "id": "39389c09",
   "metadata": {},
   "outputs": [],
   "source": [
    "#내장 함수를 이용해서 list = [0,1,2,3,4,5,6]에서 모든 원소를 삭제 후 출력하세요."
   ]
  },
  {
   "cell_type": "code",
   "execution_count": 58,
   "id": "c9c6a920",
   "metadata": {},
   "outputs": [
    {
     "data": {
      "text/plain": [
       "[]"
      ]
     },
     "execution_count": 58,
     "metadata": {},
     "output_type": "execute_result"
    }
   ],
   "source": [
    "list = [0,1,2,3,4,5,6]\n",
    "list.clear()\n",
    "list\n"
   ]
  },
  {
   "cell_type": "code",
   "execution_count": null,
   "id": "dbb79d42",
   "metadata": {},
   "outputs": [],
   "source": [
    "# 람다함수와 적합한 내장함수를 사용하여 아래와 같이 출력하세요\n",
    "[1,2,3,4,5] -> [1,4,9,16,25]\n",
    "[1,2,3,4,5] -> [1,2]"
   ]
  },
  {
   "cell_type": "code",
   "execution_count": 116,
   "id": "415939f8",
   "metadata": {},
   "outputs": [
    {
     "name": "stdout",
     "output_type": "stream",
     "text": [
      "16\n"
     ]
    }
   ],
   "source": [
    "print((lambda x : x**2)(4))"
   ]
  },
  {
   "cell_type": "code",
   "execution_count": 2,
   "id": "b0ecf697",
   "metadata": {},
   "outputs": [
    {
     "name": "stdout",
     "output_type": "stream",
     "text": [
      "[1, 4, 9, 16, 25]\n",
      "[1, 2]\n"
     ]
    }
   ],
   "source": [
    "square = lambda a: a*a \n",
    "lst = [square(i) for i in range(1,6)]\n",
    "print(lst)\n",
    "\n",
    "lst_2 = [1,2,3,4,5]\n",
    "filtered_list = filter(lambda a: (a < 3), lst_2)\n",
    "\n",
    "print(list(filtered_list))\n"
   ]
  },
  {
   "cell_type": "code",
   "execution_count": null,
   "id": "a2373f26",
   "metadata": {},
   "outputs": [],
   "source": [
    "#[1,-3,2,0,-5,6]에서 양수만 필터링해서 출력하세요(내장함수, 사용자 함수 각각 이용)"
   ]
  },
  {
   "cell_type": "code",
   "execution_count": 3,
   "id": "91de2811",
   "metadata": {},
   "outputs": [
    {
     "data": {
      "text/plain": [
       "[1, 2, 6]"
      ]
     },
     "execution_count": 3,
     "metadata": {},
     "output_type": "execute_result"
    }
   ],
   "source": [
    "x=[1,-3,2,0,-5,6]\n",
    "list(filter(lambda x: x > 0 , x))\n"
   ]
  },
  {
   "cell_type": "code",
   "execution_count": null,
   "id": "ee5760da",
   "metadata": {},
   "outputs": [],
   "source": [
    "# 내장함수를 이용하여 동일한 개수로 이루어진 자료형을 화살표 좌측에서 우측으로 변환하세요\n",
    "[1,2,3],[4,5,6] ->[(1,4),(2,5),(3,6)]\n",
    "[1,2,3],[4,5,6],[7,8,9] ->[(1,4,7),(2,5,8),(3,6,9)]\n",
    "('abc','def') -> [('a','b'),('b','e'),('c','f')]"
   ]
  },
  {
   "cell_type": "code",
   "execution_count": 6,
   "id": "84af435f",
   "metadata": {},
   "outputs": [
    {
     "name": "stdout",
     "output_type": "stream",
     "text": [
      "[(1, 4), (2, 5), (3, 6)]\n",
      "[(1, 4, 7), (2, 5, 8), (3, 6, 9)]\n",
      "[('a', 'd'), ('b', 'e'), ('c', 'f')]\n"
     ]
    }
   ],
   "source": [
    "a = [1, 2, 3]\n",
    "b = [4, 5, 6]\n",
    "c = [7, 8, 9]\n",
    "\n",
    "ab = list(zip([1,2,3], [4,5,6]))\n",
    "print(ab)\n",
    "                        \n",
    "abc = list(zip([1,2,3], [4,5,6], [7,8,9]))\n",
    "print(abc)\n",
    "\n",
    "alp_1 = list(zip('abc', 'def'))\n",
    "print(alp_1)\n"
   ]
  },
  {
   "cell_type": "code",
   "execution_count": 8,
   "id": "a75cdd40",
   "metadata": {},
   "outputs": [
    {
     "name": "stdout",
     "output_type": "stream",
     "text": [
      "(1, 'a')\n",
      "(2, 'b')\n",
      "(3, 'c')\n"
     ]
    }
   ],
   "source": [
    "num = [1,2,3]\n",
    "lt = ['a','b','c']\n",
    "for pair in zip(num,lt):\n",
    "    print(pair)"
   ]
  },
  {
   "cell_type": "code",
   "execution_count": null,
   "id": "865c36af",
   "metadata": {},
   "outputs": [],
   "source": [
    "n = 1260\n",
    "count = 0\n",
    "\n",
    "# 큰 단위의 화폐부터 차례대로 확인하기\n",
    "coin_types = [500, 100, 50, 10]\n",
    "\n",
    "for coin in coin_types:\n",
    "    count += n // coin # 해당 화폐로 거슬러 줄 수 있는 동전의 개수 세기\n",
    "    n %= coin\n",
    "\n",
    "strings = ['a', 'ca', 'bar', 'aaaa', 'ababa']\n"
   ]
  },
  {
   "cell_type": "code",
   "execution_count": 9,
   "id": "ee57d7dd",
   "metadata": {},
   "outputs": [
    {
     "data": {
      "text/plain": [
       "3.0"
      ]
     },
     "execution_count": 9,
     "metadata": {},
     "output_type": "execute_result"
    }
   ],
   "source": [
    "# 입력으로 들어오는 모든 수의 평균값을 계산해주는 함수를 작성한 후 1,2,3을 입력한 결과를 출력하세요\n",
    "def mid (*args):\n",
    "    sum = 0\n",
    "    for i in args:\n",
    "        sum += i\n",
    "    return sum/2\n",
    "\n",
    "mid(1,2,3)\n"
   ]
  },
  {
   "cell_type": "code",
   "execution_count": 10,
   "id": "9dbfde61",
   "metadata": {},
   "outputs": [
    {
     "data": {
      "text/plain": [
       "2.5"
      ]
     },
     "execution_count": 10,
     "metadata": {},
     "output_type": "execute_result"
    }
   ],
   "source": [
    "def avg(*args):\n",
    "    sum=0\n",
    "    for i in args:\n",
    "        sum+=i\n",
    "    return sum/len(args)\n",
    "avg(1,2,3,4)\n"
   ]
  },
  {
   "cell_type": "code",
   "execution_count": 11,
   "id": "95252c23",
   "metadata": {},
   "outputs": [
    {
     "name": "stdout",
     "output_type": "stream",
     "text": [
      "1\n",
      "2\n",
      "3\n",
      "2.0\n"
     ]
    }
   ],
   "source": [
    "def avg(*args):\n",
    "    sum = 0\n",
    "    for i in range(len(args)):\n",
    "        sum+=args[i]\n",
    "        print(args[i])\n",
    "    return sum/len(args)\n",
    "print(avg(1,2,3))\n"
   ]
  },
  {
   "cell_type": "code",
   "execution_count": null,
   "id": "c116519a",
   "metadata": {},
   "outputs": [],
   "source": [
    "점심 메뉴 추천"
   ]
  },
  {
   "cell_type": "code",
   "execution_count": 5,
   "id": "098a949b",
   "metadata": {},
   "outputs": [
    {
     "name": "stdout",
     "output_type": "stream",
     "text": [
      "메뉴:\n",
      "백반 7000\n",
      "김치 찌개 9000\n",
      "짜장면 6000\n",
      "햄버거 6500\n",
      "순댓국 8000\n",
      "돈까스 8000\n",
      "설렁탕 7000\n",
      "분식 10000\n",
      "샌드위치 7000\n",
      "비빔밥 8000\n",
      "도시락 7500\n",
      "제육볶음 8000\n",
      "보쌈정식 7500\n",
      "힘들고 지치고 피곤하신  당신에게 힘내라고  추천하는 점심 메뉴: 도시락\n",
      "추천한 점심 메뉴 가격은: 7500\n"
     ]
    }
   ],
   "source": [
    "import random\n",
    "\n",
    "menus = ['백반', '김치 찌개', '짜장면', '햄버거', '순댓국', '돈까스', '설렁탕', '분식', '샌드위치', '비빔밥', '도시락','제육볶음','보쌈정식']\n",
    "prices = [7000, 8000, 6000, 6500, 8000, 8000, 7000, 10000, 6000, 8000, 7500, 8000, 7500]\n",
    "\n",
    "print('메뉴:')\n",
    "for menu, price in zip(menus, prices):\n",
    "    print(menu, price)\n",
    "'''\n",
    "백반 7000\n",
    "김치 찌개 8000\n",
    "짜장면 6000\n",
    "햄버거 6500\n",
    "순댓국 8000\n",
    "돈까스 8000\n",
    "설렁탕 7000\n",
    "분식 10000\n",
    "샌드위치 6000\n",
    "비빔밥 8000\n",
    "도시락 7500\n",
    "제육볶음 8000\n",
    "보쌈정식 7500\n",
    "'''\n",
    "\n",
    "i = random.randint(0, len(menus) - 1)\n",
    "print('힘들고 지치고 피곤하신  당신에게 힘내라고  추천하는 점심 메뉴:', menus[i])\n",
    "print('추천한 점심 메뉴 가격은:', prices[i])"
   ]
  },
  {
   "cell_type": "code",
   "execution_count": null,
   "id": "04160b42",
   "metadata": {},
   "outputs": [],
   "source": [
    "#[과제] strings를 다양한 문자 포함된 순서로 정렬하세요\n",
    "strings = ['a','ca','bar','aaaa','ababa']"
   ]
  },
  {
   "cell_type": "code",
   "execution_count": 13,
   "id": "7aaf183c",
   "metadata": {},
   "outputs": [
    {
     "data": {
      "text/plain": [
       "['bar', 'ababa', 'ca', 'aaaa', 'a']"
      ]
     },
     "execution_count": 13,
     "metadata": {},
     "output_type": "execute_result"
    }
   ],
   "source": [
    "strings.sort(key=lambda x:len(set(x)))\n",
    "strings[::-1]"
   ]
  },
  {
   "cell_type": "code",
   "execution_count": 12,
   "id": "346fc182",
   "metadata": {},
   "outputs": [
    {
     "name": "stdout",
     "output_type": "stream",
     "text": [
      "['bar', 'ca', 'ababa', 'a', 'aaaa']\n"
     ]
    }
   ],
   "source": [
    "import operator\n",
    "diS={}\n",
    "strings=['a', 'ca', 'bar', 'aaaa', 'ababa']\n",
    "#strings를 키로하여, 문자가짓수를 벨류로 하는 딕셔너리 만들기\n",
    "for i in strings:\n",
    "    cnt=0\n",
    "    stri=''\n",
    "    for j in i:\n",
    "        if j not in stri:\n",
    "            cnt += 1\n",
    "            stri += j\n",
    "        diS[i]=cnt        \n",
    "\n",
    "#딕셔너리를 소트하여 튜플로\n",
    "sortsel = sorted(diS.items(), reverse=True, key=operator.itemgetter(1))\n",
    "#튜플로 나온 결과를 앞부분만 리스트로\n",
    "Olst=[]\n",
    "for i in sortsel:\n",
    "    Olst.append(i[0])\n",
    "    \n",
    "print(Olst)"
   ]
  },
  {
   "cell_type": "code",
   "execution_count": 9,
   "id": "56f50150",
   "metadata": {},
   "outputs": [
    {
     "data": {
      "text/plain": [
       "['bar', 'ababa', 'ca', 'aaaa', 'a']"
      ]
     },
     "execution_count": 9,
     "metadata": {},
     "output_type": "execute_result"
    }
   ],
   "source": [
    "my_data_string = ['a','ca','bar','aaaa','ababa']\n",
    "priority_dict = {'bar': 0, 'ababa': 1, 'ca': 2, 'aaaa': 3, 'a': 4}\n",
    "sorted(my_data_string, key=lambda x: priority_dict[x])\n",
    "\n"
   ]
  },
  {
   "cell_type": "code",
   "execution_count": null,
   "id": "d802582b",
   "metadata": {},
   "outputs": [],
   "source": [
    "#{과제}튜플 형태인 string를 다양한 문자가 포함된 순서로 정렬하세요.\n",
    "string = ('a','ca','bar','aaaa','ababa')"
   ]
  },
  {
   "cell_type": "code",
   "execution_count": 19,
   "id": "9a874595",
   "metadata": {},
   "outputs": [
    {
     "data": {
      "text/plain": [
       "['bar', 'ababa', 'ca', 'aaaa', 'a']"
      ]
     },
     "execution_count": 19,
     "metadata": {},
     "output_type": "execute_result"
    }
   ],
   "source": [
    "lists = list(strings)\n",
    "lists.sort(key=lambda x:len(set(x)))\n",
    "lists[::-1]\n"
   ]
  },
  {
   "cell_type": "code",
   "execution_count": null,
   "id": "d3a40640",
   "metadata": {},
   "outputs": [],
   "source": [
    "s ='abcdefg'\n",
    "s = 'gredcba'로\n"
   ]
  },
  {
   "cell_type": "code",
   "execution_count": 23,
   "id": "1f2a38e4",
   "metadata": {},
   "outputs": [
    {
     "name": "stdout",
     "output_type": "stream",
     "text": [
      "gfedcba\n"
     ]
    }
   ],
   "source": [
    "s = 'abcdefg'\n",
    "s_list = list(s)\n",
    "s_list.reverse()\n",
    "s_list\n",
    "print(''.join(s_list))"
   ]
  },
  {
   "cell_type": "code",
   "execution_count": 24,
   "id": "c64abd84",
   "metadata": {},
   "outputs": [
    {
     "name": "stdout",
     "output_type": "stream",
     "text": [
      "Original String: abcdefg\n",
      "Reversed String: gfedcba\n"
     ]
    }
   ],
   "source": [
    "string = 'abcdefg'\n",
    "reversed_str = string[::-1]\n",
    "\n",
    "print(f'Original String: {string}')\n",
    "print(f'Reversed String: {reversed_str}')"
   ]
  },
  {
   "cell_type": "code",
   "execution_count": 25,
   "id": "d92844b0",
   "metadata": {},
   "outputs": [
    {
     "name": "stdout",
     "output_type": "stream",
     "text": [
      "gfedcba\n"
     ]
    }
   ],
   "source": [
    "s = 'abcdefg'\n",
    "r = s[::-1]\n",
    "print(r)\n"
   ]
  },
  {
   "cell_type": "code",
   "execution_count": null,
   "id": "5d0f4690",
   "metadata": {},
   "outputs": [],
   "source": [
    "#dcb만 출력"
   ]
  },
  {
   "cell_type": "code",
   "execution_count": 26,
   "id": "227ef229",
   "metadata": {},
   "outputs": [
    {
     "data": {
      "text/plain": [
       "'dcb'"
      ]
     },
     "execution_count": 26,
     "metadata": {},
     "output_type": "execute_result"
    }
   ],
   "source": [
    "s='abcdefg'\n",
    "s1=list(s)\n",
    "s[3:0:-1]\n"
   ]
  },
  {
   "cell_type": "code",
   "execution_count": 34,
   "id": "2dbc7476",
   "metadata": {},
   "outputs": [
    {
     "data": {
      "text/plain": [
       "'d'"
      ]
     },
     "execution_count": 34,
     "metadata": {},
     "output_type": "execute_result"
    }
   ],
   "source": [
    "s='abcdefg'\n",
    "s1=list(s)\n",
    "s[3:0:-1]\n"
   ]
  },
  {
   "cell_type": "code",
   "execution_count": 28,
   "id": "3f02be7e",
   "metadata": {},
   "outputs": [
    {
     "name": "stdout",
     "output_type": "stream",
     "text": [
      "gfedcba\n",
      "gfedcba\n"
     ]
    }
   ],
   "source": [
    "print(s[::-1])\n",
    "print(s[6::-1])"
   ]
  },
  {
   "cell_type": "code",
   "execution_count": null,
   "id": "078bfef3",
   "metadata": {},
   "outputs": [],
   "source": []
  },
  {
   "cell_type": "code",
   "execution_count": null,
   "id": "c822b1f9",
   "metadata": {},
   "outputs": [],
   "source": []
  },
  {
   "cell_type": "code",
   "execution_count": null,
   "id": "63989561",
   "metadata": {},
   "outputs": [],
   "source": []
  },
  {
   "cell_type": "code",
   "execution_count": null,
   "id": "4e5bf9d4",
   "metadata": {},
   "outputs": [],
   "source": []
  },
  {
   "cell_type": "code",
   "execution_count": null,
   "id": "c7f5587b",
   "metadata": {},
   "outputs": [],
   "source": []
  },
  {
   "cell_type": "code",
   "execution_count": null,
   "id": "b3304f41",
   "metadata": {},
   "outputs": [],
   "source": []
  },
  {
   "cell_type": "code",
   "execution_count": null,
   "id": "46326834",
   "metadata": {},
   "outputs": [],
   "source": []
  },
  {
   "cell_type": "code",
   "execution_count": null,
   "id": "8868d18d",
   "metadata": {},
   "outputs": [],
   "source": []
  },
  {
   "cell_type": "code",
   "execution_count": null,
   "id": "9f7de55d",
   "metadata": {},
   "outputs": [],
   "source": []
  },
  {
   "cell_type": "code",
   "execution_count": null,
   "id": "515d006c",
   "metadata": {},
   "outputs": [],
   "source": []
  },
  {
   "cell_type": "code",
   "execution_count": null,
   "id": "f00378bb",
   "metadata": {},
   "outputs": [],
   "source": []
  },
  {
   "cell_type": "code",
   "execution_count": null,
   "id": "4a76824c",
   "metadata": {},
   "outputs": [],
   "source": []
  },
  {
   "cell_type": "code",
   "execution_count": null,
   "id": "f42c7d2e",
   "metadata": {},
   "outputs": [],
   "source": []
  },
  {
   "cell_type": "code",
   "execution_count": null,
   "id": "b35c2640",
   "metadata": {},
   "outputs": [],
   "source": []
  },
  {
   "cell_type": "code",
   "execution_count": null,
   "id": "190ea550",
   "metadata": {},
   "outputs": [],
   "source": []
  },
  {
   "cell_type": "code",
   "execution_count": null,
   "id": "fdafe369",
   "metadata": {},
   "outputs": [],
   "source": []
  },
  {
   "cell_type": "code",
   "execution_count": null,
   "id": "4905efa5",
   "metadata": {},
   "outputs": [],
   "source": []
  },
  {
   "cell_type": "code",
   "execution_count": null,
   "id": "01482bc1",
   "metadata": {},
   "outputs": [],
   "source": []
  }
 ],
 "metadata": {
  "kernelspec": {
   "display_name": "Python 3 (ipykernel)",
   "language": "python",
   "name": "python3"
  },
  "language_info": {
   "codemirror_mode": {
    "name": "ipython",
    "version": 3
   },
   "file_extension": ".py",
   "mimetype": "text/x-python",
   "name": "python",
   "nbconvert_exporter": "python",
   "pygments_lexer": "ipython3",
   "version": "3.8.12"
  }
 },
 "nbformat": 4,
 "nbformat_minor": 5
}

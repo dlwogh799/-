{
 "cells": [
  {
   "cell_type": "markdown",
   "id": "6caf6ea7",
   "metadata": {},
   "source": [
    "## Python Numpy 선형대수\n",
    "\n",
    "- 단위행렬 (Unit matrix): np.eye(n)\n",
    "- 대각행렬 (Diagonal matrix): np.diag(x)\n",
    "- 내적 (Dot product, Inner product): np.dot(a, b)\n",
    "- 대각합 (Trace): np.trace(x)\n",
    "- 행렬식 (Matrix Determinant): np.linalg.det(x)\n",
    "- 역행렬 (Inverse of a matrix): np.linalg.inv(x)\n",
    "- 고유값 (Eigenvalue), 고유벡터 (Eigenvector): w, v = np.linalg.eig(x)\n",
    "- 특이값 분해 (Singular Value Decomposition): u, s, vh = np.linalg.svd(A)\n",
    "- 연립방정식 해 풀기 (Solve a linear matrix equation): np.linalg.solve(a, b)\n",
    "- 최소자승 해 풀기 (Compute the Least-squares solution): m, c = np.linalg.lstsq(A, y, rcond=None)[0]\n",
    "\n",
    "https://rfriend.tistory.com/380\n"
   ]
  },
  {
   "cell_type": "code",
   "execution_count": null,
   "id": "117ef981",
   "metadata": {},
   "outputs": [],
   "source": []
  },
  {
   "cell_type": "code",
   "execution_count": null,
   "id": "c28252ff",
   "metadata": {},
   "outputs": [],
   "source": []
  },
  {
   "cell_type": "markdown",
   "id": "fbd9646d",
   "metadata": {},
   "source": [
    "벡터와 행렬의 연산\n",
    "- 벡터/행렬의 덧셈과 뺄셈 : 같은 위치에 있는 원소끼리 수행. 요소별 연산\n",
    "- 스칼라와 벡터/행렬의 곱셈\n",
    "- 브로드캐스팅 : 스칼라를 벡터로 변환한 연산을 허용\n",
    "- 벡터와 벡터의 곱셈. 내적\n",
    " - 두 벡터의 차원(길이)이 같아야 한다.\n",
    " - 앞의 벡터가 행벡터이고 위의 벡터가 열벡터여야 한다.\n",
    " - 내적의 결과는 스칼라 값이 됨. dot() 또는 @ 연산자로 계산\n"
   ]
  },
  {
   "cell_type": "code",
   "execution_count": null,
   "id": "ddd1cc8f",
   "metadata": {},
   "outputs": [],
   "source": []
  },
  {
   "cell_type": "code",
   "execution_count": null,
   "id": "ac8c73d9",
   "metadata": {},
   "outputs": [],
   "source": []
  },
  {
   "cell_type": "code",
   "execution_count": null,
   "id": "66fbd991",
   "metadata": {},
   "outputs": [],
   "source": []
  },
  {
   "cell_type": "code",
   "execution_count": null,
   "id": "f6d2e033",
   "metadata": {},
   "outputs": [],
   "source": []
  },
  {
   "cell_type": "code",
   "execution_count": null,
   "id": "d613c310",
   "metadata": {},
   "outputs": [],
   "source": []
  }
 ],
 "metadata": {
  "kernelspec": {
   "display_name": "Python 3 (ipykernel)",
   "language": "python",
   "name": "python3"
  },
  "language_info": {
   "codemirror_mode": {
    "name": "ipython",
    "version": 3
   },
   "file_extension": ".py",
   "mimetype": "text/x-python",
   "name": "python",
   "nbconvert_exporter": "python",
   "pygments_lexer": "ipython3",
   "version": "3.8.12"
  }
 },
 "nbformat": 4,
 "nbformat_minor": 5
}

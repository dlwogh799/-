{
 "cells": [
  {
   "cell_type": "code",
   "execution_count": 1,
   "id": "80b4228c",
   "metadata": {},
   "outputs": [],
   "source": [
    "import pandas as pd\n",
    "import numpy as np\n",
    "import matplotlib.pyplot as plt\n",
    "import seaborn as sns\n",
    "import warnings\n",
    "warnings.filterwarnings('ignore')\n",
    "import os\n"
   ]
  },
  {
   "cell_type": "code",
   "execution_count": 2,
   "id": "bd528cf2",
   "metadata": {},
   "outputs": [
    {
     "data": {
      "text/html": [
       "<div>\n",
       "<style scoped>\n",
       "    .dataframe tbody tr th:only-of-type {\n",
       "        vertical-align: middle;\n",
       "    }\n",
       "\n",
       "    .dataframe tbody tr th {\n",
       "        vertical-align: top;\n",
       "    }\n",
       "\n",
       "    .dataframe thead th {\n",
       "        text-align: right;\n",
       "    }\n",
       "</style>\n",
       "<table border=\"1\" class=\"dataframe\">\n",
       "  <thead>\n",
       "    <tr style=\"text-align: right;\">\n",
       "      <th></th>\n",
       "      <th>mpg</th>\n",
       "      <th>cylinders</th>\n",
       "      <th>horsepower</th>\n",
       "      <th>weight</th>\n",
       "    </tr>\n",
       "  </thead>\n",
       "  <tbody>\n",
       "    <tr>\n",
       "      <th>0</th>\n",
       "      <td>18.0</td>\n",
       "      <td>8</td>\n",
       "      <td>130</td>\n",
       "      <td>3504</td>\n",
       "    </tr>\n",
       "    <tr>\n",
       "      <th>1</th>\n",
       "      <td>15.0</td>\n",
       "      <td>8</td>\n",
       "      <td>165</td>\n",
       "      <td>3693</td>\n",
       "    </tr>\n",
       "    <tr>\n",
       "      <th>2</th>\n",
       "      <td>18.0</td>\n",
       "      <td>8</td>\n",
       "      <td>150</td>\n",
       "      <td>3436</td>\n",
       "    </tr>\n",
       "    <tr>\n",
       "      <th>3</th>\n",
       "      <td>16.0</td>\n",
       "      <td>8</td>\n",
       "      <td>150</td>\n",
       "      <td>3433</td>\n",
       "    </tr>\n",
       "    <tr>\n",
       "      <th>4</th>\n",
       "      <td>17.0</td>\n",
       "      <td>8</td>\n",
       "      <td>140</td>\n",
       "      <td>3449</td>\n",
       "    </tr>\n",
       "  </tbody>\n",
       "</table>\n",
       "</div>"
      ],
      "text/plain": [
       "    mpg  cylinders horsepower  weight\n",
       "0  18.0          8        130    3504\n",
       "1  15.0          8        165    3693\n",
       "2  18.0          8        150    3436\n",
       "3  16.0          8        150    3433\n",
       "4  17.0          8        140    3449"
      ]
     },
     "execution_count": 2,
     "metadata": {},
     "output_type": "execute_result"
    }
   ],
   "source": [
    "df = pd.read_excel(\"./dataset/auto-mpg.xlsx\")\n",
    "ndf = df[['mpg','cylinders','horsepower','weight']]\n",
    "ndf.head()"
   ]
  },
  {
   "cell_type": "code",
   "execution_count": 6,
   "id": "6c67da4d",
   "metadata": {},
   "outputs": [
    {
     "data": {
      "text/plain": [
       "array([130, 165, 150, 140, 198, 220, 215, 225, 190, 170, 160, 95, 97, 85,\n",
       "       88, 46, 87, 90, 113, 200, 210, 193, '?', 100, 105, 175, 153, 180,\n",
       "       110, 72, 86, 70, 76, 65, 69, 60, 80, 54, 208, 155, 112, 92, 145,\n",
       "       137, 158, 167, 94, 107, 230, 49, 75, 91, 122, 67, 83, 78, 52, 61,\n",
       "       93, 148, 129, 96, 71, 98, 115, 53, 81, 79, 120, 152, 102, 108, 68,\n",
       "       58, 149, 89, 63, 48, 66, 139, 103, 125, 133, 138, 135, 142, 77, 62,\n",
       "       132, 84, 64, 74, 116, 82], dtype=object)"
      ]
     },
     "execution_count": 6,
     "metadata": {},
     "output_type": "execute_result"
    }
   ],
   "source": [
    "ndf.horsepower.unique()   #(horsepower 값 나열)"
   ]
  },
  {
   "cell_type": "code",
   "execution_count": 8,
   "id": "9cc6b34d",
   "metadata": {},
   "outputs": [
    {
     "name": "stdout",
     "output_type": "stream",
     "text": [
      "<class 'pandas.core.frame.DataFrame'>\n",
      "Int64Index: 392 entries, 0 to 397\n",
      "Data columns (total 4 columns):\n",
      " #   Column      Non-Null Count  Dtype  \n",
      "---  ------      --------------  -----  \n",
      " 0   mpg         392 non-null    float64\n",
      " 1   cylinders   392 non-null    int64  \n",
      " 2   horsepower  392 non-null    float64\n",
      " 3   weight      392 non-null    int64  \n",
      "dtypes: float64(2), int64(2)\n",
      "memory usage: 15.3 KB\n"
     ]
    }
   ],
   "source": [
    "ndf.horsepower[ndf.horsepower =='?'] = np.nan\n",
    "ndf.dropna(subset=['horsepower'],axis=0, inplace=True)\n",
    "ndf.horsepower = ndf.horsepower.astype('float')\n",
    "ndf.info()"
   ]
  },
  {
   "cell_type": "code",
   "execution_count": null,
   "id": "a0077c8a",
   "metadata": {},
   "outputs": [],
   "source": [
    "#  [?]부분을 nan값으로 변경 (처리곤란하기때문)\n",
    "# inplace =True 저장한다. dropna = nan값 데이터 제거 \n",
    "# astype('float') = 'float'으로 타입 변경 \n",
    "#"
   ]
  },
  {
   "cell_type": "code",
   "execution_count": 9,
   "id": "124e2425",
   "metadata": {},
   "outputs": [],
   "source": [
    "X = ndf[['weight']]\n",
    "y = ndf['mpg']\n",
    "\n",
    "from sklearn.model_selection import train_test_split\n",
    "X_train,X_test,y_train,y_test = train_test_split(X,\n",
    "                                                y,\n",
    "                                                test_size=0.3,\n",
    "                                                random_state = 11)"
   ]
  },
  {
   "cell_type": "code",
   "execution_count": 10,
   "id": "8af9ca00",
   "metadata": {
    "scrolled": true
   },
   "outputs": [
    {
     "data": {
      "text/plain": [
       "<AxesSubplot:title={'center':'Regplot'}, xlabel='weight', ylabel='mpg'>"
      ]
     },
     "execution_count": 10,
     "metadata": {},
     "output_type": "execute_result"
    },
    {
     "data": {
      "image/png": "[encoded data removed]",
      "text/plain": [
       "<Figure size 720x432 with 1 Axes>"
      ]
     },
     "metadata": {},
     "output_type": "display_data"
    }
   ],
   "source": [
    "sns.set_style('darkgrid')\n",
    "\n",
    "fig,axes = plt.subplots(1,1,figsize=(10,6))\n",
    "plt.title('Regplot',fontsize=30)\n",
    "sns.regplot(ax=axes, x='weight', y='mpg',data=ndf, scatter_kws={'color':'green'})"
   ]
  },
  {
   "cell_type": "code",
   "execution_count": 11,
   "id": "47853d12",
   "metadata": {},
   "outputs": [],
   "source": [
    "from sklearn.linear_model import LinearRegression\n",
    "lr = LinearRegression()\n",
    "lr.fit(X_train,y_train)\n",
    "y_preds = lr.predict(X_test)"
   ]
  },
  {
   "cell_type": "code",
   "execution_count": 12,
   "id": "1c598f1d",
   "metadata": {},
   "outputs": [
    {
     "name": "stdout",
     "output_type": "stream",
     "text": [
      "기울기: [-0.00762163]\n",
      "절편 :45.97121770475769\n"
     ]
    }
   ],
   "source": [
    "print(f'기울기: { lr.coef_ }')    # lr.coef가 낮게 나온이유는 그래프의 x축과 y축의 단위가 다르기 떄문이다.\n",
    "\n",
    "print(f'절편 :{lr.intercept_}')"
   ]
  },
  {
   "cell_type": "code",
   "execution_count": 13,
   "id": "2cf65ed1",
   "metadata": {},
   "outputs": [
    {
     "name": "stdout",
     "output_type": "stream",
     "text": [
      "mse: 22.168955157340807, rmse:4.70839199274453, r_square:0.6410608728212728\n"
     ]
    }
   ],
   "source": [
    "from sklearn.metrics import mean_squared_error,r2_score\n",
    "mse = mean_squared_error(y_test,y_preds)\n",
    "rmse = np.sqrt(mse)\n",
    "r_square = r2_score(y_test,y_preds)\n",
    "print(f'mse: {mse}, rmse:{rmse}, r_square:{r_square}')"
   ]
  },
  {
   "cell_type": "code",
   "execution_count": 14,
   "id": "5c882e1f",
   "metadata": {},
   "outputs": [
    {
     "data": {
      "text/plain": [
       "<seaborn.axisgrid.FacetGrid at 0x283cfa8a970>"
      ]
     },
     "execution_count": 14,
     "metadata": {},
     "output_type": "execute_result"
    },
    {
     "data": {
      "image/png": "[encoded data removed]",
      "text/plain": [
       "<Figure size 360x360 with 1 Axes>"
      ]
     },
     "metadata": {},
     "output_type": "display_data"
    }
   ],
   "source": [
    "sns.displot(y,kde=True)"
   ]
  },
  {
   "cell_type": "code",
   "execution_count": 15,
   "id": "0f3b3972",
   "metadata": {},
   "outputs": [
    {
     "data": {
      "text/plain": [
       "<AxesSubplot:ylabel='Density'>"
      ]
     },
     "execution_count": 15,
     "metadata": {},
     "output_type": "execute_result"
    },
    {
     "data": {
      "image/png": "[encoded data removed]",
      "text/plain": [
       "<Figure size 432x288 with 1 Axes>"
      ]
     },
     "metadata": {},
     "output_type": "display_data"
    }
   ],
   "source": [
    "y_hat = lr.predict(X)\n",
    "sns.distplot(y_hat, kde=True)"
   ]
  },
  {
   "cell_type": "code",
   "execution_count": 16,
   "id": "a2c5a042",
   "metadata": {},
   "outputs": [
    {
     "data": {
      "image/png": "[encoded data removed]",
      "text/plain": [
       "<Figure size 720x360 with 1 Axes>"
      ]
     },
     "metadata": {},
     "output_type": "display_data"
    }
   ],
   "source": [
    "plt.figure(figsize=(10,5))\n",
    "ax1 = sns.distplot(y,hist=False, label='y')\n",
    "ax2 = sns.distplot(y_hat,hist=False,label='y_hat')\n",
    "plt.show()\n",
    "plt.close()"
   ]
  },
  {
   "cell_type": "code",
   "execution_count": 17,
   "id": "1756ef3a",
   "metadata": {},
   "outputs": [
    {
     "data": {
      "text/plain": [
       "(274, 1)"
      ]
     },
     "execution_count": 17,
     "metadata": {},
     "output_type": "execute_result"
    }
   ],
   "source": [
    "X_train.shape"
   ]
  },
  {
   "cell_type": "code",
   "execution_count": 18,
   "id": "cf4a2d8f",
   "metadata": {},
   "outputs": [],
   "source": [
    "from sklearn.preprocessing import PolynomialFeatures"
   ]
  },
  {
   "cell_type": "code",
   "execution_count": 19,
   "id": "b8b90afa",
   "metadata": {},
   "outputs": [
    {
     "name": "stdout",
     "output_type": "stream",
     "text": [
      "(274, 1)\n",
      "(274, 3)\n"
     ]
    }
   ],
   "source": [
    "poly = PolynomialFeatures(degree=2)\n",
    "X_train_poly = poly.fit_transform(X_train)\n",
    "\n",
    "print(X_train.shape)\n",
    "print(X_train_poly.shape)"
   ]
  },
  {
   "cell_type": "code",
   "execution_count": 20,
   "id": "7c998b1c",
   "metadata": {},
   "outputs": [
    {
     "data": {
      "text/plain": [
       "array([[1.0000000e+00, 2.1200000e+03, 4.4944000e+06],\n",
       "       [1.0000000e+00, 4.4990000e+03, 2.0241001e+07],\n",
       "       [1.0000000e+00, 1.8450000e+03, 3.4040250e+06],\n",
       "       [1.0000000e+00, 2.0450000e+03, 4.1820250e+06],\n",
       "       [1.0000000e+00, 1.9850000e+03, 3.9402250e+06]])"
      ]
     },
     "execution_count": 20,
     "metadata": {},
     "output_type": "execute_result"
    }
   ],
   "source": [
    "X_train_poly[:5]"
   ]
  },
  {
   "cell_type": "code",
   "execution_count": 21,
   "id": "43269dfb",
   "metadata": {},
   "outputs": [
    {
     "data": {
      "text/plain": [
       "['1', 'x0', 'x0^2']"
      ]
     },
     "execution_count": 21,
     "metadata": {},
     "output_type": "execute_result"
    }
   ],
   "source": [
    "poly.get_feature_names()  # 차수 확인  2차  degree=차수"
   ]
  },
  {
   "cell_type": "code",
   "execution_count": 22,
   "id": "76473b78",
   "metadata": {},
   "outputs": [
    {
     "data": {
      "text/plain": [
       "0.636847994737622"
      ]
     },
     "execution_count": 22,
     "metadata": {},
     "output_type": "execute_result"
    }
   ],
   "source": [
    "pr = LinearRegression()\n",
    "pr.fit(X_train_poly,y_train)\n",
    "\n",
    "X_test_poly = poly.fit_transform(X_test)\n",
    "r_square = pr.score(X_test_poly,y_test)\n",
    "r_square"
   ]
  },
  {
   "cell_type": "code",
   "execution_count": 23,
   "id": "505ade2d",
   "metadata": {},
   "outputs": [
    {
     "name": "stdout",
     "output_type": "stream",
     "text": [
      "[ 0.00000000e+00 -2.06207232e-02  2.03618732e-06]\n",
      "65.12274142723444\n"
     ]
    }
   ],
   "source": [
    "print(pr.coef_)        # 기울기 coef\n",
    "print(pr.intercept_)    # 절편 intercept  "
   ]
  },
  {
   "cell_type": "code",
   "execution_count": 24,
   "id": "326ccb31",
   "metadata": {},
   "outputs": [
    {
     "data": {
      "image/png": "[encoded data removed]",
      "text/plain": [
       "<Figure size 720x360 with 1 Axes>"
      ]
     },
     "metadata": {},
     "output_type": "display_data"
    }
   ],
   "source": [
    "y_hat_test = pr.predict(X_test_poly)\n",
    "fig = plt.figure(figsize=(10,5))\n",
    "ax = fig.add_subplot(1,1,1)\n",
    "ax.plot(X_train,y_train,'o',label='Train Data')    #원형으로 label는 train data\n",
    "ax.plot(X_test, y_hat_test,'r+',label = 'Predicted Value') # r+ 은그래프 모양\n",
    "ax.legend(loc='best')   # loc는 그래프 범주 =범주를 best로 \n",
    "plt.xlabel('weight')   # x축을 weight\n",
    "plt.ylabel('mpg')       # y축 mpg\n",
    "plt.show()\n",
    "plt.close()"
   ]
  },
  {
   "cell_type": "code",
   "execution_count": 25,
   "id": "e59a0c26",
   "metadata": {},
   "outputs": [
    {
     "data": {
      "text/plain": [
       "array([[2.05269690e-02],\n",
       "       [4.30790707e-01],\n",
       "       [6.42125377e-01],\n",
       "       [1.95126366e-01],\n",
       "       [2.69913716e-01],\n",
       "       [8.64251739e-01],\n",
       "       [5.12375744e-01],\n",
       "       [5.47279654e-01],\n",
       "       [3.57699368e-02],\n",
       "       [5.88281808e-01],\n",
       "       [9.44503736e-01],\n",
       "       [7.88812434e-01],\n",
       "       [1.24462804e-01],\n",
       "       [4.60826115e-01],\n",
       "       [4.43527072e-02],\n",
       "       [7.22463131e-01],\n",
       "       [2.15010530e-01],\n",
       "       [9.87349453e-01],\n",
       "       [5.09010643e-01],\n",
       "       [5.99303405e-01],\n",
       "       [6.20773627e-01],\n",
       "       [7.72572774e-01],\n",
       "       [3.32883611e-01],\n",
       "       [8.81456509e-01],\n",
       "       [4.46583281e-02],\n",
       "       [1.34317030e-02],\n",
       "       [6.47870551e-01],\n",
       "       [7.99233829e-01],\n",
       "       [5.95504616e-01],\n",
       "       [9.16312194e-01],\n",
       "       [8.35906757e-01],\n",
       "       [9.20091126e-01],\n",
       "       [6.58861046e-01],\n",
       "       [7.78484246e-01],\n",
       "       [4.91668288e-01],\n",
       "       [6.87306509e-01],\n",
       "       [8.88581955e-02],\n",
       "       [5.18847718e-01],\n",
       "       [2.34965733e-01],\n",
       "       [1.51306238e-01],\n",
       "       [6.96484020e-01],\n",
       "       [6.25325826e-01],\n",
       "       [9.97538246e-01],\n",
       "       [9.13623610e-01],\n",
       "       [5.65908960e-01],\n",
       "       [2.73658608e-01],\n",
       "       [9.33330178e-01],\n",
       "       [3.86432052e-01],\n",
       "       [6.97119755e-01],\n",
       "       [6.73518511e-01],\n",
       "       [5.75373135e-01],\n",
       "       [4.84107730e-01],\n",
       "       [8.62039593e-01],\n",
       "       [8.29397613e-01],\n",
       "       [4.63464527e-01],\n",
       "       [7.90729184e-01],\n",
       "       [9.64607817e-01],\n",
       "       [5.26913626e-02],\n",
       "       [4.37649136e-01],\n",
       "       [5.77158519e-01],\n",
       "       [3.07012750e-01],\n",
       "       [6.20444470e-01],\n",
       "       [1.47590502e-02],\n",
       "       [1.83286083e-01],\n",
       "       [7.84291953e-02],\n",
       "       [1.71504407e-01],\n",
       "       [8.28656480e-01],\n",
       "       [4.46074801e-01],\n",
       "       [9.61552450e-01],\n",
       "       [4.34732115e-01],\n",
       "       [7.54395958e-01],\n",
       "       [4.36249483e-01],\n",
       "       [6.53015802e-01],\n",
       "       [5.99564331e-01],\n",
       "       [1.00881357e-01],\n",
       "       [2.58063389e-01],\n",
       "       [4.74698260e-01],\n",
       "       [3.93346332e-01],\n",
       "       [9.68407733e-01],\n",
       "       [9.95897087e-01],\n",
       "       [9.35693448e-01],\n",
       "       [3.89509491e-04],\n",
       "       [3.80514042e-01],\n",
       "       [3.71427529e-01],\n",
       "       [4.23081795e-01],\n",
       "       [1.59529390e-01],\n",
       "       [2.94227440e-01],\n",
       "       [5.20371590e-01],\n",
       "       [4.34008912e-01],\n",
       "       [3.74884796e-01],\n",
       "       [1.51767956e-01],\n",
       "       [3.79790748e-02],\n",
       "       [2.37020111e-01],\n",
       "       [5.21611182e-01],\n",
       "       [1.68708473e-01],\n",
       "       [2.03725486e-01],\n",
       "       [6.67301319e-01],\n",
       "       [2.01784399e-01],\n",
       "       [4.31794524e-01],\n",
       "       [5.61543111e-02]])"
      ]
     },
     "execution_count": 25,
     "metadata": {},
     "output_type": "execute_result"
    }
   ],
   "source": [
    "# 0 과 1사이의균일 분포\n",
    "np.random.rand(100,1)"
   ]
  },
  {
   "cell_type": "code",
   "execution_count": 26,
   "id": "e31a1bbf",
   "metadata": {},
   "outputs": [
    {
     "data": {
      "image/png": "[encoded data removed]",
      "text/plain": [
       "<Figure size 720x432 with 1 Axes>"
      ]
     },
     "metadata": {},
     "output_type": "display_data"
    }
   ],
   "source": [
    "# [과제] X데이터를 X_poly 데이터셋으로 변환하여 2차함수로 만들어진 데이터셋을 예측하고 시각화\n",
    "from sklearn.model_selection import train_test_split\n",
    "from sklearn.preprocessing import PolynomialFeatures\n",
    "from sklearn.linear_model import LinearRegression\n",
    "\n",
    "X_train, X_test,y_train,y_test = train_test_split(X,y,test_size=0.3,random_state=11)\n",
    "## 2차 다항식으로 변환  degree=3 하면 3차다항식으로 변환 \n",
    "poly = PolynomialFeatures(degree=2)\n",
    "X_train_poly = poly.fit_transform(X_train)\n",
    "X_test_poly = poly.fit_transform(X_test)\n",
    "# fit 학습 데이터\n",
    "lr = LinearRegression()\n",
    "lr.fit(X_train_poly,y_train)\n",
    "y_preds = lr.predict(X_test_poly)\n",
    "\n",
    "\n",
    "# 그래프\n",
    "fig = plt.figure(figsize=(10,6))\n",
    "ax = fig.add_subplot(1,1,1)\n",
    "ax.plot(X_train,y_train, 'o',label='Train Data')\n",
    "ax.plot(X_test,y_preds, 'r+', label='Predicted Value')\n",
    "ax.legend(loc='best')\n",
    "plt.show()\n",
    "plt.close()"
   ]
  },
  {
   "cell_type": "code",
   "execution_count": 27,
   "id": "39b40511",
   "metadata": {},
   "outputs": [
    {
     "data": {
      "text/html": [
       "<div>\n",
       "<style scoped>\n",
       "    .dataframe tbody tr th:only-of-type {\n",
       "        vertical-align: middle;\n",
       "    }\n",
       "\n",
       "    .dataframe tbody tr th {\n",
       "        vertical-align: top;\n",
       "    }\n",
       "\n",
       "    .dataframe thead th {\n",
       "        text-align: right;\n",
       "    }\n",
       "</style>\n",
       "<table border=\"1\" class=\"dataframe\">\n",
       "  <thead>\n",
       "    <tr style=\"text-align: right;\">\n",
       "      <th></th>\n",
       "      <th>weight</th>\n",
       "    </tr>\n",
       "  </thead>\n",
       "  <tbody>\n",
       "    <tr>\n",
       "      <th>0</th>\n",
       "      <td>3504</td>\n",
       "    </tr>\n",
       "    <tr>\n",
       "      <th>1</th>\n",
       "      <td>3693</td>\n",
       "    </tr>\n",
       "    <tr>\n",
       "      <th>2</th>\n",
       "      <td>3436</td>\n",
       "    </tr>\n",
       "    <tr>\n",
       "      <th>3</th>\n",
       "      <td>3433</td>\n",
       "    </tr>\n",
       "    <tr>\n",
       "      <th>4</th>\n",
       "      <td>3449</td>\n",
       "    </tr>\n",
       "    <tr>\n",
       "      <th>...</th>\n",
       "      <td>...</td>\n",
       "    </tr>\n",
       "    <tr>\n",
       "      <th>393</th>\n",
       "      <td>2790</td>\n",
       "    </tr>\n",
       "    <tr>\n",
       "      <th>394</th>\n",
       "      <td>2130</td>\n",
       "    </tr>\n",
       "    <tr>\n",
       "      <th>395</th>\n",
       "      <td>2295</td>\n",
       "    </tr>\n",
       "    <tr>\n",
       "      <th>396</th>\n",
       "      <td>2625</td>\n",
       "    </tr>\n",
       "    <tr>\n",
       "      <th>397</th>\n",
       "      <td>2720</td>\n",
       "    </tr>\n",
       "  </tbody>\n",
       "</table>\n",
       "<p>392 rows × 1 columns</p>\n",
       "</div>"
      ],
      "text/plain": [
       "     weight\n",
       "0      3504\n",
       "1      3693\n",
       "2      3436\n",
       "3      3433\n",
       "4      3449\n",
       "..      ...\n",
       "393    2790\n",
       "394    2130\n",
       "395    2295\n",
       "396    2625\n",
       "397    2720\n",
       "\n",
       "[392 rows x 1 columns]"
      ]
     },
     "execution_count": 27,
     "metadata": {},
     "output_type": "execute_result"
    }
   ],
   "source": [
    "X"
   ]
  },
  {
   "cell_type": "code",
   "execution_count": 28,
   "id": "ae8ee2ed",
   "metadata": {},
   "outputs": [
    {
     "data": {
      "text/plain": [
       "0      18.0\n",
       "1      15.0\n",
       "2      18.0\n",
       "3      16.0\n",
       "4      17.0\n",
       "       ... \n",
       "393    27.0\n",
       "394    44.0\n",
       "395    32.0\n",
       "396    28.0\n",
       "397    31.0\n",
       "Name: mpg, Length: 392, dtype: float64"
      ]
     },
     "execution_count": 28,
     "metadata": {},
     "output_type": "execute_result"
    }
   ],
   "source": [
    "y"
   ]
  },
  {
   "cell_type": "code",
   "execution_count": 29,
   "id": "6bc76a98",
   "metadata": {},
   "outputs": [],
   "source": [
    "import numpy as np\n",
    "np.random.seed(42)\n",
    "m =100\n",
    "X = 6 * np.random.rand(m,1) - 3\n",
    "y = 0.5 * X **2 + X + 2 + np.random.randn(m,1)"
   ]
  },
  {
   "cell_type": "code",
   "execution_count": 30,
   "id": "a442def4",
   "metadata": {},
   "outputs": [
    {
     "data": {
      "image/png": "[encoded data removed]",
      "text/plain": [
       "<Figure size 720x432 with 1 Axes>"
      ]
     },
     "metadata": {},
     "output_type": "display_data"
    }
   ],
   "source": [
    "from sklearn.model_selection import train_test_split\n",
    "from sklearn.preprocessing import PolynomialFeatures\n",
    "from sklearn.linear_model import LinearRegression\n",
    "\n",
    "X_train, X_test, y_train,y_test = train_test_split(X,y,test_size=0.3,random_state=11)\n",
    "poly = PolynomialFeatures(degree=2)\n",
    "X_train_poly = poly.fit_transform(X_train)\n",
    "X_test_poly = poly.fit_transform(X_test)\n",
    "\n",
    "lr = LinearRegression()\n",
    "lr.fit(X_train_poly,y_train)\n",
    "y_preds = lr.predict(X_test_poly)\n",
    "\n",
    "fig = plt.figure(figsize=(10,6))\n",
    "ax = fig.add_subplot(1,1,1)\n",
    "ax.plot(X_train,y_train,'o',label='Train Data')\n",
    "ax.plot(X_test,y_preds, 'r+', label='Predicter Value')\n",
    "ax.legend(loc='best')\n",
    "plt.show()\n",
    "plt.close()"
   ]
  },
  {
   "cell_type": "code",
   "execution_count": 31,
   "id": "38c513be",
   "metadata": {},
   "outputs": [
    {
     "data": {
      "text/plain": [
       "['1', 'x0', 'x0^2']"
      ]
     },
     "execution_count": 31,
     "metadata": {},
     "output_type": "execute_result"
    }
   ],
   "source": [
    "poly.get_feature_names()"
   ]
  },
  {
   "cell_type": "code",
   "execution_count": 32,
   "id": "a5bb2970",
   "metadata": {},
   "outputs": [
    {
     "data": {
      "text/html": [
       "<div>\n",
       "<style scoped>\n",
       "    .dataframe tbody tr th:only-of-type {\n",
       "        vertical-align: middle;\n",
       "    }\n",
       "\n",
       "    .dataframe tbody tr th {\n",
       "        vertical-align: top;\n",
       "    }\n",
       "\n",
       "    .dataframe thead th {\n",
       "        text-align: right;\n",
       "    }\n",
       "</style>\n",
       "<table border=\"1\" class=\"dataframe\">\n",
       "  <thead>\n",
       "    <tr style=\"text-align: right;\">\n",
       "      <th></th>\n",
       "      <th>mpg</th>\n",
       "      <th>cylinders</th>\n",
       "      <th>horsepower</th>\n",
       "      <th>weight</th>\n",
       "    </tr>\n",
       "  </thead>\n",
       "  <tbody>\n",
       "    <tr>\n",
       "      <th>0</th>\n",
       "      <td>18.0</td>\n",
       "      <td>8</td>\n",
       "      <td>130.0</td>\n",
       "      <td>3504</td>\n",
       "    </tr>\n",
       "    <tr>\n",
       "      <th>1</th>\n",
       "      <td>15.0</td>\n",
       "      <td>8</td>\n",
       "      <td>165.0</td>\n",
       "      <td>3693</td>\n",
       "    </tr>\n",
       "    <tr>\n",
       "      <th>2</th>\n",
       "      <td>18.0</td>\n",
       "      <td>8</td>\n",
       "      <td>150.0</td>\n",
       "      <td>3436</td>\n",
       "    </tr>\n",
       "    <tr>\n",
       "      <th>3</th>\n",
       "      <td>16.0</td>\n",
       "      <td>8</td>\n",
       "      <td>150.0</td>\n",
       "      <td>3433</td>\n",
       "    </tr>\n",
       "    <tr>\n",
       "      <th>4</th>\n",
       "      <td>17.0</td>\n",
       "      <td>8</td>\n",
       "      <td>140.0</td>\n",
       "      <td>3449</td>\n",
       "    </tr>\n",
       "  </tbody>\n",
       "</table>\n",
       "</div>"
      ],
      "text/plain": [
       "    mpg  cylinders  horsepower  weight\n",
       "0  18.0          8       130.0    3504\n",
       "1  15.0          8       165.0    3693\n",
       "2  18.0          8       150.0    3436\n",
       "3  16.0          8       150.0    3433\n",
       "4  17.0          8       140.0    3449"
      ]
     },
     "execution_count": 32,
     "metadata": {},
     "output_type": "execute_result"
    }
   ],
   "source": [
    "df = pd.read_pickle('./dataset/auto-mpg.pkl')\n",
    "df.head()"
   ]
  },
  {
   "cell_type": "code",
   "execution_count": 33,
   "id": "173fa4d1",
   "metadata": {},
   "outputs": [
    {
     "data": {
      "text/plain": [
       "0.6939"
      ]
     },
     "execution_count": 33,
     "metadata": {},
     "output_type": "execute_result"
    }
   ],
   "source": [
    "X = df.drop('mpg', axis=1)\n",
    "y = df['mpg']\n",
    "X_train,X_test,y_train,y_test = train_test_split(X,y,test_size=0.3, random_state=10)\n",
    "lr = LinearRegression()\n",
    "lr.fit(X_train,y_train)\n",
    "y_preds = lr.predict(X_test)\n",
    "r_square = lr.score(X_test,y_test)\n",
    "round(r_square,4)"
   ]
  },
  {
   "cell_type": "code",
   "execution_count": 34,
   "id": "96a26fad",
   "metadata": {},
   "outputs": [
    {
     "name": "stdout",
     "output_type": "stream",
     "text": [
      "기울기: [-0.60691288 -0.03714088 -0.00522268]\n",
      "절편: 46.414351269634025\n"
     ]
    }
   ],
   "source": [
    "print(f'기울기: { lr.coef_}')\n",
    "print(f'절편: {lr.intercept_}')"
   ]
  },
  {
   "cell_type": "code",
   "execution_count": 35,
   "id": "fc733097",
   "metadata": {},
   "outputs": [
    {
     "name": "stdout",
     "output_type": "stream",
     "text": [
      "accuracy: 0.8492\n",
      "precision: 0.7705\n",
      "recall: 0.7705\n",
      "f1 score: 0.7705\n"
     ]
    }
   ],
   "source": [
    "# 오차 행렬 수작업 계산\n",
    "TN = 105;FP = 13; FN=14; TP=47;\n",
    "accuracy = round((TP+TN) / (TP + TN + FP + FN),4)\n",
    "precision = round((TP) / (TP+FN),4)\n",
    "recall = round((TP) / (TP+FN),4)\n",
    "print('accuracy:', accuracy)\n",
    "print('precision:', precision)\n",
    "print('recall:',recall)\n",
    "print('f1 score:', 2*(precision*recall) / (precision+recall))"
   ]
  },
  {
   "cell_type": "code",
   "execution_count": 36,
   "id": "496aafe1",
   "metadata": {},
   "outputs": [],
   "source": [
    "from sklearn.metrics import accuracy_score,precision_score, recall_score, confusion_matrix\n",
    "\n",
    "def get_clf_eval(y_test,pred):\n",
    "    confusion = confusion_matrix(y_test,pred)\n",
    "    accuracy = accuracy_score(y_test,pred)\n",
    "    precision = precision_score(y_test,pred)\n",
    "    recall = recall_score(y_test,pred)\n",
    "    print(f'오차행렬: {confusion} \\n')\n",
    "    print(f'정확도: {round(accuracy,4)}, 정밀도: {round(precision,4)}, 재현율 : {round(recall,4)}')"
   ]
  },
  {
   "cell_type": "code",
   "execution_count": 37,
   "id": "0d325baa",
   "metadata": {},
   "outputs": [],
   "source": [
    "import re\n",
    "from sklearn.preprocessing import LabelEncoder\n",
    "from sklearn.preprocessing import MinMaxScaler\n",
    "\n",
    "\n",
    "\n",
    "def fillnas(df):\n",
    "    def callname(x):\n",
    "        m = re.compile('[A-Za-z]+[.]')\n",
    "        p = re.findall(m,x)\n",
    "        return p[0]\n",
    "    \n",
    "    df['Callname']=df.Name.apply(lambda x:callname(x))\n",
    "    \n",
    "    df1 = df.loc[df.Age.isnull()]\n",
    "    age_nulllist = list(set(df1.Callname.values.tolist()))\n",
    "    \n",
    "    df2 = df.loc[df.Age.notnull()]\n",
    "    pivot = pd.pivot_table(df2, index = 'Callname', values = 'Age',aggfunc = 'mean')\n",
    "    \n",
    "    for age in age_nulllist:\n",
    "        df.loc[(df.Age.isnull())&(df.Callname == age),['Age']]=(pivot.loc[age][0])\n",
    "        \n",
    "    df['Embarked'].fillna(method = 'ffill',inplace=True)\n",
    "    \n",
    "    df3 = df.loc[df.Cabin.notnull()]\n",
    "\n",
    "    df3['Cabins'] = df3['Cabin'].str[:1]\n",
    "    df4 = df.loc[df.Cabin.isnull()]\n",
    "    \n",
    "    for i in range(1,4):\n",
    "        df33 = df3.loc[df3.Pclass == i]\n",
    "        cabin_fill_list=list(set(df33.Cabins.values.tolist()))\n",
    "        df44 = df4.loc[df4.Pclass == i]\n",
    "        fill_index = list(df44.index)\n",
    "        for index in fill_index:\n",
    "            df.loc[index,'Cabin'] = np.random.choice(cabin_fill_list)\n",
    "            \n",
    "    return df\n",
    "\n",
    "# 불필요 항목 제거\n",
    "def drop_feat(df):\n",
    "    df.drop(['PassengerId','Name','Ticket','Callname'],axis=1,inplace = True)\n",
    "    return df\n",
    "\n",
    "def format_features(df):\n",
    "    df['Cabin'] = df['Cabin'].str[:1]\n",
    "    features = ['Cabin','Sex','Embarked']\n",
    "    for feature in features:\n",
    "        le = LabelEncoder()\n",
    "        le = le.fit(df[feature])\n",
    "        df[feature] = le.transform(df[feature])\n",
    "    scaler = MinMaxScaler()\n",
    "    scaler.fit(df[['Fare']])\n",
    "    fare_scaled = scaler.transform(df[['Fare']])\n",
    "    df['Fare'] = fare_scaled\n",
    "    \n",
    "    return df\n",
    "\n",
    "def transform_features(df):\n",
    "    df = fillnas(df)\n",
    "    df = drop_feat(df)\n",
    "    df = format_features(df)\n",
    "    return df"
   ]
  },
  {
   "cell_type": "code",
   "execution_count": 38,
   "id": "cd88045d",
   "metadata": {},
   "outputs": [
    {
     "data": {
      "text/html": [
       "<div>\n",
       "<style scoped>\n",
       "    .dataframe tbody tr th:only-of-type {\n",
       "        vertical-align: middle;\n",
       "    }\n",
       "\n",
       "    .dataframe tbody tr th {\n",
       "        vertical-align: top;\n",
       "    }\n",
       "\n",
       "    .dataframe thead th {\n",
       "        text-align: right;\n",
       "    }\n",
       "</style>\n",
       "<table border=\"1\" class=\"dataframe\">\n",
       "  <thead>\n",
       "    <tr style=\"text-align: right;\">\n",
       "      <th></th>\n",
       "      <th>Pclass</th>\n",
       "      <th>Sex</th>\n",
       "      <th>Age</th>\n",
       "      <th>SibSp</th>\n",
       "      <th>Parch</th>\n",
       "      <th>Fare</th>\n",
       "      <th>Cabin</th>\n",
       "      <th>Embarked</th>\n",
       "    </tr>\n",
       "  </thead>\n",
       "  <tbody>\n",
       "    <tr>\n",
       "      <th>0</th>\n",
       "      <td>3</td>\n",
       "      <td>1</td>\n",
       "      <td>22.0</td>\n",
       "      <td>1</td>\n",
       "      <td>0</td>\n",
       "      <td>0.014151</td>\n",
       "      <td>6</td>\n",
       "      <td>2</td>\n",
       "    </tr>\n",
       "    <tr>\n",
       "      <th>1</th>\n",
       "      <td>1</td>\n",
       "      <td>0</td>\n",
       "      <td>38.0</td>\n",
       "      <td>1</td>\n",
       "      <td>0</td>\n",
       "      <td>0.139136</td>\n",
       "      <td>2</td>\n",
       "      <td>0</td>\n",
       "    </tr>\n",
       "    <tr>\n",
       "      <th>2</th>\n",
       "      <td>3</td>\n",
       "      <td>0</td>\n",
       "      <td>26.0</td>\n",
       "      <td>0</td>\n",
       "      <td>0</td>\n",
       "      <td>0.015469</td>\n",
       "      <td>4</td>\n",
       "      <td>2</td>\n",
       "    </tr>\n",
       "    <tr>\n",
       "      <th>3</th>\n",
       "      <td>1</td>\n",
       "      <td>0</td>\n",
       "      <td>35.0</td>\n",
       "      <td>1</td>\n",
       "      <td>0</td>\n",
       "      <td>0.103644</td>\n",
       "      <td>2</td>\n",
       "      <td>2</td>\n",
       "    </tr>\n",
       "    <tr>\n",
       "      <th>4</th>\n",
       "      <td>3</td>\n",
       "      <td>1</td>\n",
       "      <td>35.0</td>\n",
       "      <td>0</td>\n",
       "      <td>0</td>\n",
       "      <td>0.015713</td>\n",
       "      <td>5</td>\n",
       "      <td>2</td>\n",
       "    </tr>\n",
       "  </tbody>\n",
       "</table>\n",
       "</div>"
      ],
      "text/plain": [
       "   Pclass  Sex   Age  SibSp  Parch      Fare  Cabin  Embarked\n",
       "0       3    1  22.0      1      0  0.014151      6         2\n",
       "1       1    0  38.0      1      0  0.139136      2         0\n",
       "2       3    0  26.0      0      0  0.015469      4         2\n",
       "3       1    0  35.0      1      0  0.103644      2         2\n",
       "4       3    1  35.0      0      0  0.015713      5         2"
      ]
     },
     "execution_count": 38,
     "metadata": {},
     "output_type": "execute_result"
    }
   ],
   "source": [
    "import warnings\n",
    "import pandas as pd\n",
    "import numpy as np\n",
    "warnings.filterwarnings('ignore')\n",
    "\n",
    "t_df = pd.read_csv('./dataset/train.csv')\n",
    "y_t_df = t_df['Survived']\n",
    "X_t_df = t_df.drop('Survived',axis=1)\n",
    "X_t_df = transform_features(X_t_df)\n",
    "X_t_df.head()"
   ]
  },
  {
   "cell_type": "code",
   "execution_count": 39,
   "id": "f02aaace",
   "metadata": {},
   "outputs": [
    {
     "name": "stdout",
     "output_type": "stream",
     "text": [
      "오차행렬: [[105  13]\n",
      " [ 14  47]] \n",
      "\n",
      "정확도: 0.8492, 정밀도: 0.7833, 재현율 : 0.7705\n"
     ]
    }
   ],
   "source": [
    "from sklearn.model_selection import train_test_split\n",
    "from sklearn.linear_model import LogisticRegression\n",
    "X_train, X_test,y_train,y_test = train_test_split(X_t_df,y_t_df, test_size=0.2, random_state=11)\n",
    "\n",
    "lr_clf = LogisticRegression()\n",
    "lr_clf.fit(X_train,y_train)\n",
    "pred = lr_clf.predict(X_test)\n",
    "get_clf_eval(y_test,pred)"
   ]
  },
  {
   "cell_type": "code",
   "execution_count": 40,
   "id": "6c38b075",
   "metadata": {},
   "outputs": [
    {
     "data": {
      "text/plain": [
       "array([[0.56265145, 0.43734855, 0.        ],\n",
       "       [0.88200101, 0.11799899, 0.        ],\n",
       "       [0.87373542, 0.12626458, 0.        ]])"
      ]
     },
     "execution_count": 40,
     "metadata": {},
     "output_type": "execute_result"
    }
   ],
   "source": [
    "pred_proba = lr_clf.predict_proba(X_test)\n",
    "pred = lr_clf.predict(X_test)\n",
    "pred_proba_result = np.concatenate([pred_proba,pred.reshape(-1,1)], axis=1)\n",
    "pred_proba_result[:3]"
   ]
  },
  {
   "cell_type": "code",
   "execution_count": 41,
   "id": "d4ce6327",
   "metadata": {},
   "outputs": [
    {
     "name": "stdout",
     "output_type": "stream",
     "text": [
      "[[0. 0. 1.]\n",
      " [1. 0. 0.]\n",
      " [0. 0. 1.]]\n"
     ]
    }
   ],
   "source": [
    "from sklearn.preprocessing import Binarizer\n",
    "X = [[1,-1,2],\n",
    "    [2,0,0],\n",
    "    [0,1.1,1.2]]\n",
    "binarizer = Binarizer(threshold=1.1)\n",
    "print(binarizer.fit_transform(X))"
   ]
  },
  {
   "cell_type": "code",
   "execution_count": 42,
   "id": "2cfd0149",
   "metadata": {},
   "outputs": [
    {
     "name": "stdout",
     "output_type": "stream",
     "text": [
      "오차행렬: [[105  13]\n",
      " [ 14  47]] \n",
      "\n",
      "정확도: 0.8492, 정밀도: 0.7833, 재현율 : 0.7705\n"
     ]
    }
   ],
   "source": [
    "custom_threshold = 0.5\n",
    "pred_proba_1 = pred_proba[:,1].reshape(-1,1)\n",
    "\n",
    "binarizer = Binarizer(threshold = custom_threshold).fit(pred_proba_1)\n",
    "custom_predict = binarizer.transform(pred_proba_1)\n",
    "custom_predict\n",
    "get_clf_eval(y_test,custom_predict)"
   ]
  },
  {
   "cell_type": "code",
   "execution_count": 43,
   "id": "16e5bce4",
   "metadata": {},
   "outputs": [
    {
     "name": "stdout",
     "output_type": "stream",
     "text": [
      "오차행렬: [[99 19]\n",
      " [11 50]] \n",
      "\n",
      "정확도: 0.8324, 정밀도: 0.7246, 재현율 : 0.8197\n"
     ]
    }
   ],
   "source": [
    "custom_threshold = 0.4\n",
    "\n",
    "binarizer = Binarizer(threshold = custom_threshold).fit(pred_proba_1)\n",
    "custom_predict = binarizer.transform(pred_proba_1)\n",
    "custom_predict\n",
    "get_clf_eval(y_test,custom_predict)"
   ]
  },
  {
   "cell_type": "code",
   "execution_count": 44,
   "id": "c193d485",
   "metadata": {},
   "outputs": [
    {
     "name": "stdout",
     "output_type": "stream",
     "text": [
      "오차행렬: [[101  17]\n",
      " [ 14  47]] \n",
      "\n",
      "정확도: 0.8268, 정밀도: 0.7344, 재현율 : 0.7705\n"
     ]
    }
   ],
   "source": [
    "custom_threshold = 0.45\n",
    "\n",
    "binarizer = Binarizer(threshold=custom_threshold).fit(pred_proba_1)\n",
    "custom_predict = binarizer.transform(pred_proba_1)\n",
    "custom_predict\n",
    "get_clf_eval(y_test,custom_predict)"
   ]
  },
  {
   "cell_type": "code",
   "execution_count": 45,
   "id": "12852c63",
   "metadata": {},
   "outputs": [
    {
     "name": "stdout",
     "output_type": "stream",
     "text": [
      "임계값: 0.4\n",
      "오차행렬: [[99 19]\n",
      " [11 50]] \n",
      "\n",
      "정확도: 0.8324, 정밀도: 0.7246, 재현율 : 0.8197\n",
      "임계값: 0.45\n",
      "오차행렬: [[101  17]\n",
      " [ 14  47]] \n",
      "\n",
      "정확도: 0.8268, 정밀도: 0.7344, 재현율 : 0.7705\n",
      "임계값: 0.5\n",
      "오차행렬: [[105  13]\n",
      " [ 14  47]] \n",
      "\n",
      "정확도: 0.8492, 정밀도: 0.7833, 재현율 : 0.7705\n",
      "임계값: 0.55\n",
      "오차행렬: [[109   9]\n",
      " [ 15  46]] \n",
      "\n",
      "정확도: 0.8659, 정밀도: 0.8364, 재현율 : 0.7541\n",
      "임계값: 0.6\n",
      "오차행렬: [[114   4]\n",
      " [ 17  44]] \n",
      "\n",
      "정확도: 0.8827, 정밀도: 0.9167, 재현율 : 0.7213\n",
      "None\n"
     ]
    }
   ],
   "source": [
    "custom_threshold_list = [0.4, 0.45, 0.50, 0.55, 0.60]\n",
    "\n",
    "for i in custom_threshold_list:\n",
    "    binarizer = Binarizer(threshold=i).fit(pred_proba_1)\n",
    "    custom_predict = binarizer.transform(pred_proba_1)\n",
    "    print('임계값:',i)\n",
    "    \n",
    "    result = get_clf_eval (y_test, custom_predict)\n",
    "    \n",
    "print(result)"
   ]
  },
  {
   "cell_type": "code",
   "execution_count": 46,
   "id": "2ee5afdb",
   "metadata": {},
   "outputs": [
    {
     "name": "stdout",
     "output_type": "stream",
     "text": [
      "f1 score: 0.7769\n"
     ]
    }
   ],
   "source": [
    "from sklearn.metrics import f1_score\n",
    "f1 = f1_score(y_test,pred)\n",
    "print(f'f1 score: { round(f1,4)}')"
   ]
  },
  {
   "cell_type": "code",
   "execution_count": 47,
   "id": "2141014b",
   "metadata": {},
   "outputs": [],
   "source": [
    "from sklearn.metrics import accuracy_score,precision_score,recall_score, confusion_matrix,f1_score\n",
    "\n",
    "def get_clf_eval(y_test,pred):\n",
    "    confusion = confusion_matrix(y_test,pred)\n",
    "    accuracy = accuracy_score(y_test,pred)\n",
    "    precision = precision_score(y_test,pred)\n",
    "    recall = recall_score(y_test,pred)\n",
    "    f1 = f1_score(y_test,pred)\n",
    "    print(f'오차행렬: {confusion}\\n')\n",
    "    print(f'정확도 : {round(accuracy,4)}, 정밀도:{round(precision,4)},재현율:{round(recall,4)}, f1_score:{round(f1,4)}')"
   ]
  },
  {
   "cell_type": "code",
   "execution_count": 48,
   "id": "2001eed4",
   "metadata": {},
   "outputs": [
    {
     "name": "stdout",
     "output_type": "stream",
     "text": [
      "오차행렬: [[105  13]\n",
      " [ 14  47]]\n",
      "\n",
      "정확도 : 0.8492, 정밀도:0.7833,재현율:0.7705, f1_score:0.7769\n"
     ]
    }
   ],
   "source": [
    "get_clf_eval(y_test,pred)"
   ]
  },
  {
   "cell_type": "code",
   "execution_count": 50,
   "id": "5e2ce143",
   "metadata": {},
   "outputs": [
    {
     "data": {
      "text/plain": [
       "array([0.43734855, 0.11799899, 0.12626458, 0.1453748 , 0.16954413,\n",
       "       0.12679266, 0.10834531, 0.80476614, 0.23818936, 0.66968068,\n",
       "       0.11743308, 0.12188555, 0.1262689 , 0.10837689, 0.52698559,\n",
       "       0.12676099, 0.08152129, 0.29370129, 0.24922402, 0.83132517,\n",
       "       0.29156246, 0.35928201, 0.13091332, 0.2004664 , 0.09071342,\n",
       "       0.25896107, 0.13988714, 0.07216655, 0.33082274, 0.27793175,\n",
       "       0.92868077, 0.78928227, 0.13549548, 0.82718999, 0.37607436,\n",
       "       0.25896107, 0.07607035, 0.5960018 , 0.05430448, 0.1096729 ,\n",
       "       0.36413263, 0.07426106, 0.79365945, 0.70560145, 0.69494533,\n",
       "       0.67333567, 0.90912394, 0.3256333 , 0.9439153 , 0.10865552,\n",
       "       0.55709299, 0.0904963 , 0.14152232, 0.74094935, 0.34103372,\n",
       "       0.17453076, 0.20241993, 0.10578357, 0.16519968, 0.45472355,\n",
       "       0.30883565, 0.08870904, 0.50510663, 0.59069212, 0.4273277 ,\n",
       "       0.09083521, 0.65520539, 0.57790886, 0.94839992, 0.14660959,\n",
       "       0.11526208, 0.15314404, 0.10027702, 0.94341862, 0.20122435,\n",
       "       0.0904963 , 0.31997886, 0.18501382, 0.85054973, 0.12626534,\n",
       "       0.76220498, 0.61627639, 0.94031012, 0.15682675, 0.94405529,\n",
       "       0.94648574, 0.13936677, 0.12879471, 0.88011279, 0.09907817,\n",
       "       0.0904963 , 0.25896107, 0.25734169, 0.09907817, 0.69495579,\n",
       "       0.06546351, 0.93815835, 0.09703048, 0.49157633, 0.96300846,\n",
       "       0.51154926, 0.09163894, 0.94206549, 0.0856667 , 0.51357646,\n",
       "       0.11484201, 0.15065532, 0.14660937, 0.43255408, 0.24669927,\n",
       "       0.12625086, 0.09626146, 0.37632508, 0.64537007, 0.10863178,\n",
       "       0.06126645, 0.14654975, 0.20106023, 0.92014604, 0.0711949 ,\n",
       "       0.1083708 , 0.1174383 , 0.05834421, 0.32541645, 0.01026885,\n",
       "       0.09907254, 0.10430259, 0.37220728, 0.66981846, 0.30152046,\n",
       "       0.96300846, 0.43108516, 0.70907575, 0.4746216 , 0.57667962,\n",
       "       0.33974487, 0.78396764, 0.16703904, 0.10969318, 0.87156076,\n",
       "       0.89976775, 0.12329323, 0.12083083, 0.09987085, 0.08015444,\n",
       "       0.7127211 , 0.06543571, 0.32238786, 0.88910015, 0.19896591,\n",
       "       0.37931968, 0.57697484, 0.59902463, 0.10574912, 0.80930063,\n",
       "       0.86511415, 0.46692876, 0.14164398, 0.72982208, 0.71406926,\n",
       "       0.13512908, 0.82763697, 0.08760523, 0.63220887, 0.40247802,\n",
       "       0.61524891, 0.87180028, 0.36775102, 0.09622201, 0.87948353,\n",
       "       0.099049  , 0.83317504, 0.29705023, 0.24549587, 0.36736561,\n",
       "       0.05326842, 0.13829661, 0.50470323, 0.6153315 ])"
      ]
     },
     "execution_count": 50,
     "metadata": {},
     "output_type": "execute_result"
    }
   ],
   "source": [
    "lr_clf.predict_proba(X_test)[:,1]"
   ]
  },
  {
   "cell_type": "code",
   "execution_count": 52,
   "id": "a287294c",
   "metadata": {
    "scrolled": true
   },
   "outputs": [
    {
     "name": "stdout",
     "output_type": "stream",
     "text": [
      "137\n"
     ]
    },
    {
     "data": {
      "image/png": "[encoded data removed]",
      "text/plain": [
       "<Figure size 576x432 with 1 Axes>"
      ]
     },
     "metadata": {
      "needs_background": "light"
     },
     "output_type": "display_data"
    }
   ],
   "source": [
    "import matplotlib.pyplot as plt\n",
    "import matplotlib.ticker as ticker\n",
    "%matplotlib inline\n",
    "from sklearn.metrics import precision_recall_curve\n",
    "\n",
    "def precision_recall_curve_plot(y_test, pred_proba_c1):\n",
    "    precisions, recalls, thresholds = precision_recall_curve(y_test,pred_proba_c1)\n",
    "   \n",
    "    plt.figure(figsize=(8,6))\n",
    "    threshold_boundary = thresholds.shape[0]\n",
    "    print(threshold_boundary)\n",
    "    plt.plot(thresholds, precisions[0:threshold_boundary], linestyle='--', label='precision')\n",
    "    plt.plot(thresholds, recalls[0:threshold_boundary],label='recall')     \n",
    "    \n",
    "    start, end = plt.xlim()\n",
    "    plt.xticks(np.round(np.arange(start, end, 0.1),2))\n",
    "    \n",
    "    plt.xlabel('Threshold value'); plt.ylabel('Precision and Recall value ')\n",
    "    plt.legend(); plt.grid()\n",
    "    plt.show()\n",
    "    \n",
    "precision_recall_curve_plot(y_test,lr_clf.predict_proba(X_test)[:,1])"
   ]
  },
  {
   "cell_type": "code",
   "execution_count": 51,
   "id": "484c4035",
   "metadata": {},
   "outputs": [
    {
     "data": {
      "text/plain": [
       "431    1\n",
       "821    1\n",
       "629    0\n",
       "626    0\n",
       "665    0\n",
       "      ..\n",
       "638    0\n",
       "771    0\n",
       "521    0\n",
       "711    0\n",
       "484    1\n",
       "Name: Survived, Length: 179, dtype: int64"
      ]
     },
     "execution_count": 51,
     "metadata": {},
     "output_type": "execute_result"
    }
   ],
   "source": [
    "y_test"
   ]
  },
  {
   "cell_type": "code",
   "execution_count": null,
   "id": "11d4af61",
   "metadata": {},
   "outputs": [],
   "source": [
    "import matplotlib.pyplot as plt\n",
    "from sklearn.metrics import roc_curve\n",
    "\n",
    "pred_proba_c1 = lr_clf.predict_proba(X_test)[:1]\n",
    "\n",
    "def roc_curve_plot(y_test, pred_proba_c1):\n",
    "    fprs, tprs, thresholds = roc_curve(y_test, pred_proba_class1)\n",
    "    \n",
    "    plt.plot(fprs, tprs,label = 'ROC')\n",
    "    plt.plot([0,1],[0,1], 'k--', label='Random')\n",
    "    \n",
    "    start,end = plt.xlim()\n",
    "    plt.xticks(np.round(np.arange(start,end,0.1),2))\n",
    "    plt.xlim(0,1)\n",
    "    plt.ylim(0,1)\n",
    "    \n",
    "    "
   ]
  },
  {
   "cell_type": "code",
   "execution_count": 1,
   "id": "1faf9796",
   "metadata": {},
   "outputs": [
    {
     "ename": "FileNotFoundError",
     "evalue": "[Errno 2] No such file or directory: 'dataset/human_activity/features.txt'",
     "output_type": "error",
     "traceback": [
      "\u001b[1;31m---------------------------------------------------------------------------\u001b[0m",
      "\u001b[1;31mFileNotFoundError\u001b[0m                         Traceback (most recent call last)",
      "\u001b[1;32m~\\AppData\\Local\\Temp/ipykernel_10948/2678002793.py\u001b[0m in \u001b[0;36m<module>\u001b[1;34m\u001b[0m\n\u001b[0;32m      2\u001b[0m \u001b[1;32mfrom\u001b[0m \u001b[0msklearn\u001b[0m\u001b[1;33m.\u001b[0m\u001b[0mmodel_selection\u001b[0m \u001b[1;32mimport\u001b[0m \u001b[0mtrain_test_split\u001b[0m\u001b[1;33m\u001b[0m\u001b[1;33m\u001b[0m\u001b[0m\n\u001b[0;32m      3\u001b[0m \u001b[1;32mimport\u001b[0m \u001b[0mpandas\u001b[0m \u001b[1;32mas\u001b[0m \u001b[0mpd\u001b[0m\u001b[1;33m\u001b[0m\u001b[1;33m\u001b[0m\u001b[0m\n\u001b[1;32m----> 4\u001b[1;33m feature_name_df = pd.read_csv('dataset/human_activity/features.txt', sep='\\s+', header=None,\\\n\u001b[0m\u001b[0;32m      5\u001b[0m                                names=['column_index','column_name'])\n\u001b[0;32m      6\u001b[0m \u001b[1;33m\u001b[0m\u001b[0m\n",
      "\u001b[1;32m~\\anaconda3\\envs\\cakd5\\lib\\site-packages\\pandas\\util\\_decorators.py\u001b[0m in \u001b[0;36mwrapper\u001b[1;34m(*args, **kwargs)\u001b[0m\n\u001b[0;32m    309\u001b[0m                     \u001b[0mstacklevel\u001b[0m\u001b[1;33m=\u001b[0m\u001b[0mstacklevel\u001b[0m\u001b[1;33m,\u001b[0m\u001b[1;33m\u001b[0m\u001b[1;33m\u001b[0m\u001b[0m\n\u001b[0;32m    310\u001b[0m                 )\n\u001b[1;32m--> 311\u001b[1;33m             \u001b[1;32mreturn\u001b[0m \u001b[0mfunc\u001b[0m\u001b[1;33m(\u001b[0m\u001b[1;33m*\u001b[0m\u001b[0margs\u001b[0m\u001b[1;33m,\u001b[0m \u001b[1;33m**\u001b[0m\u001b[0mkwargs\u001b[0m\u001b[1;33m)\u001b[0m\u001b[1;33m\u001b[0m\u001b[1;33m\u001b[0m\u001b[0m\n\u001b[0m\u001b[0;32m    312\u001b[0m \u001b[1;33m\u001b[0m\u001b[0m\n\u001b[0;32m    313\u001b[0m         \u001b[1;32mreturn\u001b[0m \u001b[0mwrapper\u001b[0m\u001b[1;33m\u001b[0m\u001b[1;33m\u001b[0m\u001b[0m\n",
      "\u001b[1;32m~\\anaconda3\\envs\\cakd5\\lib\\site-packages\\pandas\\io\\parsers\\readers.py\u001b[0m in \u001b[0;36mread_csv\u001b[1;34m(filepath_or_buffer, sep, delimiter, header, names, index_col, usecols, squeeze, prefix, mangle_dupe_cols, dtype, engine, converters, true_values, false_values, skipinitialspace, skiprows, skipfooter, nrows, na_values, keep_default_na, na_filter, verbose, skip_blank_lines, parse_dates, infer_datetime_format, keep_date_col, date_parser, dayfirst, cache_dates, iterator, chunksize, compression, thousands, decimal, lineterminator, quotechar, quoting, doublequote, escapechar, comment, encoding, encoding_errors, dialect, error_bad_lines, warn_bad_lines, on_bad_lines, delim_whitespace, low_memory, memory_map, float_precision, storage_options)\u001b[0m\n\u001b[0;32m    584\u001b[0m     \u001b[0mkwds\u001b[0m\u001b[1;33m.\u001b[0m\u001b[0mupdate\u001b[0m\u001b[1;33m(\u001b[0m\u001b[0mkwds_defaults\u001b[0m\u001b[1;33m)\u001b[0m\u001b[1;33m\u001b[0m\u001b[1;33m\u001b[0m\u001b[0m\n\u001b[0;32m    585\u001b[0m \u001b[1;33m\u001b[0m\u001b[0m\n\u001b[1;32m--> 586\u001b[1;33m     \u001b[1;32mreturn\u001b[0m \u001b[0m_read\u001b[0m\u001b[1;33m(\u001b[0m\u001b[0mfilepath_or_buffer\u001b[0m\u001b[1;33m,\u001b[0m \u001b[0mkwds\u001b[0m\u001b[1;33m)\u001b[0m\u001b[1;33m\u001b[0m\u001b[1;33m\u001b[0m\u001b[0m\n\u001b[0m\u001b[0;32m    587\u001b[0m \u001b[1;33m\u001b[0m\u001b[0m\n\u001b[0;32m    588\u001b[0m \u001b[1;33m\u001b[0m\u001b[0m\n",
      "\u001b[1;32m~\\anaconda3\\envs\\cakd5\\lib\\site-packages\\pandas\\io\\parsers\\readers.py\u001b[0m in \u001b[0;36m_read\u001b[1;34m(filepath_or_buffer, kwds)\u001b[0m\n\u001b[0;32m    480\u001b[0m \u001b[1;33m\u001b[0m\u001b[0m\n\u001b[0;32m    481\u001b[0m     \u001b[1;31m# Create the parser.\u001b[0m\u001b[1;33m\u001b[0m\u001b[1;33m\u001b[0m\u001b[1;33m\u001b[0m\u001b[0m\n\u001b[1;32m--> 482\u001b[1;33m     \u001b[0mparser\u001b[0m \u001b[1;33m=\u001b[0m \u001b[0mTextFileReader\u001b[0m\u001b[1;33m(\u001b[0m\u001b[0mfilepath_or_buffer\u001b[0m\u001b[1;33m,\u001b[0m \u001b[1;33m**\u001b[0m\u001b[0mkwds\u001b[0m\u001b[1;33m)\u001b[0m\u001b[1;33m\u001b[0m\u001b[1;33m\u001b[0m\u001b[0m\n\u001b[0m\u001b[0;32m    483\u001b[0m \u001b[1;33m\u001b[0m\u001b[0m\n\u001b[0;32m    484\u001b[0m     \u001b[1;32mif\u001b[0m \u001b[0mchunksize\u001b[0m \u001b[1;32mor\u001b[0m \u001b[0miterator\u001b[0m\u001b[1;33m:\u001b[0m\u001b[1;33m\u001b[0m\u001b[1;33m\u001b[0m\u001b[0m\n",
      "\u001b[1;32m~\\anaconda3\\envs\\cakd5\\lib\\site-packages\\pandas\\io\\parsers\\readers.py\u001b[0m in \u001b[0;36m__init__\u001b[1;34m(self, f, engine, **kwds)\u001b[0m\n\u001b[0;32m    809\u001b[0m             \u001b[0mself\u001b[0m\u001b[1;33m.\u001b[0m\u001b[0moptions\u001b[0m\u001b[1;33m[\u001b[0m\u001b[1;34m\"has_index_names\"\u001b[0m\u001b[1;33m]\u001b[0m \u001b[1;33m=\u001b[0m \u001b[0mkwds\u001b[0m\u001b[1;33m[\u001b[0m\u001b[1;34m\"has_index_names\"\u001b[0m\u001b[1;33m]\u001b[0m\u001b[1;33m\u001b[0m\u001b[1;33m\u001b[0m\u001b[0m\n\u001b[0;32m    810\u001b[0m \u001b[1;33m\u001b[0m\u001b[0m\n\u001b[1;32m--> 811\u001b[1;33m         \u001b[0mself\u001b[0m\u001b[1;33m.\u001b[0m\u001b[0m_engine\u001b[0m \u001b[1;33m=\u001b[0m \u001b[0mself\u001b[0m\u001b[1;33m.\u001b[0m\u001b[0m_make_engine\u001b[0m\u001b[1;33m(\u001b[0m\u001b[0mself\u001b[0m\u001b[1;33m.\u001b[0m\u001b[0mengine\u001b[0m\u001b[1;33m)\u001b[0m\u001b[1;33m\u001b[0m\u001b[1;33m\u001b[0m\u001b[0m\n\u001b[0m\u001b[0;32m    812\u001b[0m \u001b[1;33m\u001b[0m\u001b[0m\n\u001b[0;32m    813\u001b[0m     \u001b[1;32mdef\u001b[0m \u001b[0mclose\u001b[0m\u001b[1;33m(\u001b[0m\u001b[0mself\u001b[0m\u001b[1;33m)\u001b[0m\u001b[1;33m:\u001b[0m\u001b[1;33m\u001b[0m\u001b[1;33m\u001b[0m\u001b[0m\n",
      "\u001b[1;32m~\\anaconda3\\envs\\cakd5\\lib\\site-packages\\pandas\\io\\parsers\\readers.py\u001b[0m in \u001b[0;36m_make_engine\u001b[1;34m(self, engine)\u001b[0m\n\u001b[0;32m   1038\u001b[0m             )\n\u001b[0;32m   1039\u001b[0m         \u001b[1;31m# error: Too many arguments for \"ParserBase\"\u001b[0m\u001b[1;33m\u001b[0m\u001b[1;33m\u001b[0m\u001b[1;33m\u001b[0m\u001b[0m\n\u001b[1;32m-> 1040\u001b[1;33m         \u001b[1;32mreturn\u001b[0m \u001b[0mmapping\u001b[0m\u001b[1;33m[\u001b[0m\u001b[0mengine\u001b[0m\u001b[1;33m]\u001b[0m\u001b[1;33m(\u001b[0m\u001b[0mself\u001b[0m\u001b[1;33m.\u001b[0m\u001b[0mf\u001b[0m\u001b[1;33m,\u001b[0m \u001b[1;33m**\u001b[0m\u001b[0mself\u001b[0m\u001b[1;33m.\u001b[0m\u001b[0moptions\u001b[0m\u001b[1;33m)\u001b[0m  \u001b[1;31m# type: ignore[call-arg]\u001b[0m\u001b[1;33m\u001b[0m\u001b[1;33m\u001b[0m\u001b[0m\n\u001b[0m\u001b[0;32m   1041\u001b[0m \u001b[1;33m\u001b[0m\u001b[0m\n\u001b[0;32m   1042\u001b[0m     \u001b[1;32mdef\u001b[0m \u001b[0m_failover_to_python\u001b[0m\u001b[1;33m(\u001b[0m\u001b[0mself\u001b[0m\u001b[1;33m)\u001b[0m\u001b[1;33m:\u001b[0m\u001b[1;33m\u001b[0m\u001b[1;33m\u001b[0m\u001b[0m\n",
      "\u001b[1;32m~\\anaconda3\\envs\\cakd5\\lib\\site-packages\\pandas\\io\\parsers\\c_parser_wrapper.py\u001b[0m in \u001b[0;36m__init__\u001b[1;34m(self, src, **kwds)\u001b[0m\n\u001b[0;32m     49\u001b[0m \u001b[1;33m\u001b[0m\u001b[0m\n\u001b[0;32m     50\u001b[0m         \u001b[1;31m# open handles\u001b[0m\u001b[1;33m\u001b[0m\u001b[1;33m\u001b[0m\u001b[1;33m\u001b[0m\u001b[0m\n\u001b[1;32m---> 51\u001b[1;33m         \u001b[0mself\u001b[0m\u001b[1;33m.\u001b[0m\u001b[0m_open_handles\u001b[0m\u001b[1;33m(\u001b[0m\u001b[0msrc\u001b[0m\u001b[1;33m,\u001b[0m \u001b[0mkwds\u001b[0m\u001b[1;33m)\u001b[0m\u001b[1;33m\u001b[0m\u001b[1;33m\u001b[0m\u001b[0m\n\u001b[0m\u001b[0;32m     52\u001b[0m         \u001b[1;32massert\u001b[0m \u001b[0mself\u001b[0m\u001b[1;33m.\u001b[0m\u001b[0mhandles\u001b[0m \u001b[1;32mis\u001b[0m \u001b[1;32mnot\u001b[0m \u001b[1;32mNone\u001b[0m\u001b[1;33m\u001b[0m\u001b[1;33m\u001b[0m\u001b[0m\n\u001b[0;32m     53\u001b[0m \u001b[1;33m\u001b[0m\u001b[0m\n",
      "\u001b[1;32m~\\anaconda3\\envs\\cakd5\\lib\\site-packages\\pandas\\io\\parsers\\base_parser.py\u001b[0m in \u001b[0;36m_open_handles\u001b[1;34m(self, src, kwds)\u001b[0m\n\u001b[0;32m    220\u001b[0m         \u001b[0mLet\u001b[0m \u001b[0mthe\u001b[0m \u001b[0mreaders\u001b[0m \u001b[0mopen\u001b[0m \u001b[0mIOHandles\u001b[0m \u001b[0mafter\u001b[0m \u001b[0mthey\u001b[0m \u001b[0mare\u001b[0m \u001b[0mdone\u001b[0m \u001b[1;32mwith\u001b[0m \u001b[0mtheir\u001b[0m \u001b[0mpotential\u001b[0m \u001b[0mraises\u001b[0m\u001b[1;33m.\u001b[0m\u001b[1;33m\u001b[0m\u001b[1;33m\u001b[0m\u001b[0m\n\u001b[0;32m    221\u001b[0m         \"\"\"\n\u001b[1;32m--> 222\u001b[1;33m         self.handles = get_handle(\n\u001b[0m\u001b[0;32m    223\u001b[0m             \u001b[0msrc\u001b[0m\u001b[1;33m,\u001b[0m\u001b[1;33m\u001b[0m\u001b[1;33m\u001b[0m\u001b[0m\n\u001b[0;32m    224\u001b[0m             \u001b[1;34m\"r\"\u001b[0m\u001b[1;33m,\u001b[0m\u001b[1;33m\u001b[0m\u001b[1;33m\u001b[0m\u001b[0m\n",
      "\u001b[1;32m~\\anaconda3\\envs\\cakd5\\lib\\site-packages\\pandas\\io\\common.py\u001b[0m in \u001b[0;36mget_handle\u001b[1;34m(path_or_buf, mode, encoding, compression, memory_map, is_text, errors, storage_options)\u001b[0m\n\u001b[0;32m    700\u001b[0m         \u001b[1;32mif\u001b[0m \u001b[0mioargs\u001b[0m\u001b[1;33m.\u001b[0m\u001b[0mencoding\u001b[0m \u001b[1;32mand\u001b[0m \u001b[1;34m\"b\"\u001b[0m \u001b[1;32mnot\u001b[0m \u001b[1;32min\u001b[0m \u001b[0mioargs\u001b[0m\u001b[1;33m.\u001b[0m\u001b[0mmode\u001b[0m\u001b[1;33m:\u001b[0m\u001b[1;33m\u001b[0m\u001b[1;33m\u001b[0m\u001b[0m\n\u001b[0;32m    701\u001b[0m             \u001b[1;31m# Encoding\u001b[0m\u001b[1;33m\u001b[0m\u001b[1;33m\u001b[0m\u001b[1;33m\u001b[0m\u001b[0m\n\u001b[1;32m--> 702\u001b[1;33m             handle = open(\n\u001b[0m\u001b[0;32m    703\u001b[0m                 \u001b[0mhandle\u001b[0m\u001b[1;33m,\u001b[0m\u001b[1;33m\u001b[0m\u001b[1;33m\u001b[0m\u001b[0m\n\u001b[0;32m    704\u001b[0m                 \u001b[0mioargs\u001b[0m\u001b[1;33m.\u001b[0m\u001b[0mmode\u001b[0m\u001b[1;33m,\u001b[0m\u001b[1;33m\u001b[0m\u001b[1;33m\u001b[0m\u001b[0m\n",
      "\u001b[1;31mFileNotFoundError\u001b[0m: [Errno 2] No such file or directory: 'dataset/human_activity/features.txt'"
     ]
    }
   ],
   "source": [
    "from sklearn.tree import DecisionTreeClassifier\n",
    "from sklearn.model_selection import train_test_split\n",
    "import pandas as pd\n",
    "feature_name_df = pd.read_csv('dataset/human_activity/features.txt', sep='\\s+', header=None,\\\n",
    "                               names=['column_index','column_name'])\n",
    "\n",
    "print(feature_name_df.head())\n",
    "feature_name = feature_name_df.iloc[:,1].values.tolist()\n",
    "print(feature_name[:10])"
   ]
  },
  {
   "cell_type": "code",
   "execution_count": null,
   "id": "94419264",
   "metadata": {},
   "outputs": [],
   "source": [
    "def get_human_dataset():\n",
    "    feature_name_df = pd.read_csv('dataset/human_activity/features.txt', sep='\\s+', header=None,\\\n",
    "                               names=['column_index','column_name'])\n",
    "\n",
    "\n",
    "    feature_name = feature_name_df.iloc[:,1].values.tolist()\n",
    "    \n",
    "    X_train = pd.read_csv('dataset/human_activity/train/X_train.txt', sep='\\s+', header=None)\n",
    "    X_train.columns = feature_name\n",
    "    X_test = pd.read_csv('dataset/human_activity/test/X_test.txt', sep='\\s+', header=None)\n",
    "    X_test.columns = feature_name\n",
    "    \n",
    "    y_train = pd.read_csv('dataset/human_activity/train/y_train.txt', sep='\\s+', header = None, names=['action'])\n",
    "    y_test = pd.read_csv('dataset/human_activity/test/y_test.txt', sep='\\s+', header = None, names=['action'])\n",
    "    \n",
    "    return X_train, X_test, y_train,y_test\n",
    "X_train, X_test, y_train, y_test = get_human_dataset()"
   ]
  },
  {
   "cell_type": "code",
   "execution_count": null,
   "id": "598df328",
   "metadata": {},
   "outputs": [],
   "source": [
    "from sklearn.ensemble import RandomForestClassifier\n",
    "from sklearn.metrics import accuracy_score\n",
    "import pandas as pd\n",
    "\n",
    "X_train, X_test, y_train, y_test = get_human_dataset()\n",
    "rf_clf = RandomForestClassifier(random_state=0)\n",
    "rf_clf.fit(X_train, y_train)\n",
    "pred = rf_clf.predict(X_test)\n",
    "accuracy = accuracy_score(y_test,pred)\n",
    "print(f'rf 정확도: {accuracy:.3f}')"
   ]
  },
  {
   "cell_type": "code",
   "execution_count": null,
   "id": "8202bd2f",
   "metadata": {},
   "outputs": [],
   "source": [
    "from sklearn.model_selection import GridSearchCV\n",
    "\n",
    "params = {\n",
    "    'n_estimators':[50,100],\n",
    "    'max_depth':[6,8,10,14],\n",
    "    'min_samples_leaf':[8,14,16],\n",
    "    'min_samples_split':[8,14,20]\n",
    "}\n",
    "rf_clf = RandomForestClassifier(random_state=0, n_jobs=-1)\n",
    "grid_cv = GridSearchCV(rf_clf, param_grid=params, cv=2, n_jobs=-1)\n",
    "grid_cv.fit(X_train, y_train)\n",
    "\n",
    "#print('최적 하이퍼 파라미터:\\n', grid_cv.best_params_)\n",
    "#print('최고 예측 정확도: {0:.4f}'.format(grid_cv.best_score_))\n",
    "print(f'최적 하이퍼 파라미터: \\n {grid_cv.best_params_}')\n",
    "print(f'최고 에측 정확도: \\n {grid_cv.best_score_}')\n",
    "\n",
    "# rf로 객체 생성후 GridSearchCV 수행"
   ]
  },
  {
   "cell_type": "code",
   "execution_count": null,
   "id": "73fa92b1",
   "metadata": {},
   "outputs": [],
   "source": [
    "rf_clf1 = RandomForestClassifier(n_estimators = 300, max_depth=10, min_samples_leaf=8, \\\n",
    "                                min_samples_split=8, random_state=0)\n",
    "rf_clf1.fit(X_train,y_train)\n",
    "pred = rf_clf1.predict(X_test)\n",
    "print(f'예측정확도 : \\n {accuracy_score(y_test,pred)}')\n"
   ]
  },
  {
   "cell_type": "code",
   "execution_count": null,
   "id": "172d22b8",
   "metadata": {},
   "outputs": [],
   "source": [
    "import matplotlib.pyplot as plt\n",
    "import seaborn as sns\n",
    "%matplotlib inline\n",
    "import numpy as np\n",
    "\n",
    "ftr_importances_values = rf_clf1.feature_importances_\n",
    "ftr_importances = pd.Series(ftr_importances_values, index=X_train.columns  )\n",
    "ftr_top20 = ftr_importances.sort_values(ascending=False)[:20]\n",
    "\n",
    "plt.figure(figsize=(8,6))\n",
    "plt.title('Feature importances  Top 20')\n",
    "sns.barplot(x=ftr_top20, y = ftr_top20.index)\n",
    "plt.show()\n"
   ]
  },
  {
   "cell_type": "code",
   "execution_count": null,
   "id": "132497ff",
   "metadata": {},
   "outputs": [],
   "source": []
  }
 ],
 "metadata": {
  "kernelspec": {
   "display_name": "Python 3 (ipykernel)",
   "language": "python",
   "name": "python3"
  },
  "language_info": {
   "codemirror_mode": {
    "name": "ipython",
    "version": 3
   },
   "file_extension": ".py",
   "mimetype": "text/x-python",
   "name": "python",
   "nbconvert_exporter": "python",
   "pygments_lexer": "ipython3",
   "version": "3.8.12"
  }
 },
 "nbformat": 4,
 "nbformat_minor": 5
}

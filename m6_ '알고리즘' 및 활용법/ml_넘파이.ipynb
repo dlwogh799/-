{
 "cells": [
  {
   "cell_type": "code",
   "execution_count": 10,
   "id": "1593ac98",
   "metadata": {},
   "outputs": [
    {
     "name": "stdout",
     "output_type": "stream",
     "text": [
      "[1 2 3] <class 'numpy.ndarray'> (3,)\n",
      "[[1 2 3]\n",
      " [2 3 4]] <class 'numpy.ndarray'> (2, 3)\n",
      "[[[1 2 3]]] <class 'numpy.ndarray'> (1, 1, 3)\n"
     ]
    }
   ],
   "source": [
    "import numpy as np\n",
    "array1 = np.array([1,2,3])\n",
    "array2 = np.array([[1,2,3],\n",
    "                 [2,3,4]])\n",
    "array3 = np.array([[[1,2,3]]])\n",
    "print(array1,type(array1),array1.shape)\n",
    "print(array2,type(array2),array2.shape)\n",
    "print(array3,type(array3),array3.shape)"
   ]
  },
  {
   "cell_type": "code",
   "execution_count": 11,
   "id": "f642e966",
   "metadata": {},
   "outputs": [
    {
     "name": "stdout",
     "output_type": "stream",
     "text": [
      "float64\n",
      "int32\n"
     ]
    }
   ],
   "source": [
    "array_int = np.array([1,2,3])\n",
    "array_float = array_int.astype('float64')\n",
    "print(array_float.dtype)\n",
    "array_int2 = array_float.astype('int32')\n",
    "print(array_int2.dtype)"
   ]
  },
  {
   "cell_type": "code",
   "execution_count": 12,
   "id": "61e7fb68",
   "metadata": {},
   "outputs": [
    {
     "name": "stdout",
     "output_type": "stream",
     "text": [
      "[[0. 0.]\n",
      " [0. 0.]\n",
      " [0. 0.]]\n"
     ]
    }
   ],
   "source": [
    "zero_array = np.zeros((3,2))\n",
    "print(zero_array)"
   ]
  },
  {
   "cell_type": "code",
   "execution_count": 15,
   "id": "54ba4cec",
   "metadata": {},
   "outputs": [
    {
     "name": "stdout",
     "output_type": "stream",
     "text": [
      "[[1. 1.]\n",
      " [1. 1.]\n",
      " [1. 1.]] float64\n"
     ]
    }
   ],
   "source": [
    "one_array = np.ones((3,2))\n",
    "print(one_array,one_array.dtype)"
   ]
  },
  {
   "cell_type": "code",
   "execution_count": 17,
   "id": "65db4b8d",
   "metadata": {},
   "outputs": [
    {
     "name": "stdout",
     "output_type": "stream",
     "text": [
      "[0 1 2 3 4 5 6 7 8 9] (10,)\n"
     ]
    }
   ],
   "source": [
    "# reshape\n",
    "ar1 = np.arange(10)\n",
    "print(ar1,ar1.shape)"
   ]
  },
  {
   "cell_type": "code",
   "execution_count": 19,
   "id": "82b49e1c",
   "metadata": {},
   "outputs": [
    {
     "name": "stdout",
     "output_type": "stream",
     "text": [
      "[0 1 2 3 4 5 6 7 8 9] \n",
      "\n",
      "[[0 1 2 3 4]\n",
      " [5 6 7 8 9]] \n",
      "\n",
      "[[[0 1 2 3 4]\n",
      "  [5 6 7 8 9]]]\n"
     ]
    }
   ],
   "source": [
    "print(ar1,'\\n')\n",
    "print(ar1.reshape(2,5),'\\n')\n",
    "print(ar1.reshape(1,2,5))\n"
   ]
  },
  {
   "cell_type": "code",
   "execution_count": null,
   "id": "e9b40edb",
   "metadata": {},
   "outputs": [],
   "source": [
    "# reshape -1"
   ]
  },
  {
   "cell_type": "code",
   "execution_count": 21,
   "id": "39f73ecd",
   "metadata": {},
   "outputs": [
    {
     "name": "stdout",
     "output_type": "stream",
     "text": [
      "[0 1 2 3 4 5 6 7 8 9] 1 \n",
      "\n",
      "[[0 1 2 3 4]\n",
      " [5 6 7 8 9]] 2 \n",
      "\n",
      "[[[0 1 2 3 4]\n",
      "  [5 6 7 8 9]]] 3\n"
     ]
    }
   ],
   "source": [
    "ar1 = np.arange(10)\n",
    "print(ar1,ar1.ndim,'\\n')\n",
    "ar2 = ar1.reshape(2,-1)\n",
    "print(ar2,ar2.ndim,'\\n')\n",
    "ar3 = ar2.reshape(1,2,-1)\n",
    "print(ar3,ar3.ndim)\n"
   ]
  },
  {
   "cell_type": "code",
   "execution_count": 20,
   "id": "5ac35f41",
   "metadata": {},
   "outputs": [
    {
     "data": {
      "text/plain": [
       "array([[[0, 1],\n",
       "        [2, 3]],\n",
       "\n",
       "       [[4, 5],\n",
       "        [6, 7]]])"
      ]
     },
     "execution_count": 20,
     "metadata": {},
     "output_type": "execute_result"
    }
   ],
   "source": [
    "# 3 -> 2,1\n",
    "ar3 = np.arange(8).reshape((2,2,2))\n",
    "ar3"
   ]
  },
  {
   "cell_type": "code",
   "execution_count": 22,
   "id": "819e1bbf",
   "metadata": {},
   "outputs": [
    {
     "name": "stdout",
     "output_type": "stream",
     "text": [
      "[[[0 1]\n",
      "  [2 3]]\n",
      "\n",
      " [[4 5]\n",
      "  [6 7]]] (2, 2, 2)\n",
      "[[0 1]\n",
      " [2 3]\n",
      " [4 5]\n",
      " [6 7]] (4, 2)\n",
      "[0 1 2 3 4 5 6 7] (8,)\n"
     ]
    }
   ],
   "source": [
    "ar3 = np.arange(8).reshape((2,2,2))\n",
    "ar2 = ar3.reshape(-1,2)\n",
    "ar1 = ar3.reshape(-1,)\n",
    "print(ar3, ar3.shape)\n",
    "print(ar2, ar2.shape)\n",
    "print(ar1, ar1.shape)\n"
   ]
  },
  {
   "cell_type": "code",
   "execution_count": 26,
   "id": "9711c4f8",
   "metadata": {},
   "outputs": [
    {
     "name": "stdout",
     "output_type": "stream",
     "text": [
      "[1 2 3 4 5 6 7 8 9]\n",
      "2\n",
      "9\n",
      "7\n"
     ]
    }
   ],
   "source": [
    "# indexing\n",
    "ar1 = np.arange(1,10)\n",
    "print(ar1)\n",
    "value = ar1[1]\n",
    "print(value)\n",
    "print(ar1[-1])\n",
    "print(ar1[-3])"
   ]
  },
  {
   "cell_type": "code",
   "execution_count": 29,
   "id": "2d9a9cae",
   "metadata": {},
   "outputs": [
    {
     "name": "stdout",
     "output_type": "stream",
     "text": [
      "[[1 2 3]\n",
      " [4 5 6]\n",
      " [7 8 9]]\n",
      "1\n",
      "2\n",
      "4\n",
      "9\n"
     ]
    }
   ],
   "source": [
    "ar2d = np.arange(1,10).reshape(3,3)\n",
    "print(ar2d)\n",
    "print(ar2d[0,0])\n",
    "print(ar2d[0,1])\n",
    "print(ar2d[1,0])\n",
    "print(ar2d[2,2])"
   ]
  },
  {
   "cell_type": "code",
   "execution_count": 31,
   "id": "f3066918",
   "metadata": {},
   "outputs": [
    {
     "name": "stdout",
     "output_type": "stream",
     "text": [
      "[ 1  2  3  4  5  6  7  8  9 10 11 12 13 14 15 16 17 18 19]\n",
      "[4 5 6]\n",
      "[16 17 18]\n"
     ]
    }
   ],
   "source": [
    "#slicing\n",
    "ar1 = np.arange(1,20)\n",
    "print(ar1)\n",
    "print(ar1[3:6])\n",
    "print(ar1[-4:-1])"
   ]
  },
  {
   "cell_type": "code",
   "execution_count": 39,
   "id": "8fd41299",
   "metadata": {},
   "outputs": [
    {
     "name": "stdout",
     "output_type": "stream",
     "text": [
      "[[1 2 3]\n",
      " [4 5 6]\n",
      " [7 8 9]]\n",
      "[[1 2]\n",
      " [4 5]]\n",
      "[[1 2 3]\n",
      " [4 5 6]]\n"
     ]
    }
   ],
   "source": [
    "ar2d = np.arange(1,10).reshape(3,3)\n",
    "print(ar2d)\n",
    "print(ar2d[:2,:2])\n",
    "print(ar2d[:2,:3])\n",
    "print(ar2d[1:,:3])"
   ]
  },
  {
   "cell_type": "code",
   "execution_count": 48,
   "id": "10aecbdf",
   "metadata": {},
   "outputs": [
    {
     "name": "stdout",
     "output_type": "stream",
     "text": [
      "[[2 3]\n",
      " [5 6]]\n",
      "[1 4]\n"
     ]
    }
   ],
   "source": [
    "print(ar2d[:2,1:])\n",
    "print(ar2d[:2,0])"
   ]
  },
  {
   "cell_type": "code",
   "execution_count": 50,
   "id": "bff6fcc8",
   "metadata": {},
   "outputs": [
    {
     "name": "stdout",
     "output_type": "stream",
     "text": [
      "[[1 2 3]\n",
      " [4 5 6]\n",
      " [7 8 9]]\n"
     ]
    }
   ],
   "source": [
    "# fancy indexing\n",
    "ar1 = np.arange(1,10).reshape(3,3)\n",
    "print(ar1)"
   ]
  },
  {
   "cell_type": "code",
   "execution_count": 51,
   "id": "764e96a5",
   "metadata": {},
   "outputs": [
    {
     "name": "stdout",
     "output_type": "stream",
     "text": [
      "[3 6]\n"
     ]
    }
   ],
   "source": [
    "print(ar1[(0,1),(2,2)])\n"
   ]
  },
  {
   "cell_type": "code",
   "execution_count": 49,
   "id": "0d088bce",
   "metadata": {},
   "outputs": [
    {
     "name": "stdout",
     "output_type": "stream",
     "text": [
      "[1 2 3 4 5 6 7 8 9]\n",
      "[6 7 8 9]\n"
     ]
    }
   ],
   "source": [
    "# boolean indexing\n",
    "ar1 = np.arange(1,10)\n",
    "print(ar1)\n",
    "print(ar1[ar1>5])\n"
   ]
  },
  {
   "cell_type": "code",
   "execution_count": 53,
   "id": "d16e1f43",
   "metadata": {},
   "outputs": [
    {
     "name": "stdout",
     "output_type": "stream",
     "text": [
      "[3 1 9 5]\n",
      "[1 3 5 9]\n",
      "[3 1 9 5]\n",
      "None\n"
     ]
    }
   ],
   "source": [
    "#np.sort(): 원본 미반영\n",
    "ar = np.array([3,1,9,5])\n",
    "print(ar)\n",
    "sort_ar = np.sort(ar)\n",
    "print(sort_ar)\n",
    "#ndarray.soft() : 원본 반영\n",
    "print(ar)\n",
    "sort_ar1 = ar.sort()\n",
    "print(sort_ar1)"
   ]
  },
  {
   "cell_type": "code",
   "execution_count": 54,
   "id": "438489ab",
   "metadata": {},
   "outputs": [
    {
     "name": "stdout",
     "output_type": "stream",
     "text": [
      "[9 5 3 1]\n"
     ]
    }
   ],
   "source": [
    "# 내림차순\n",
    "sort_ar_desc = np.sort(ar)[::-1]\n",
    "print(sort_ar_desc)"
   ]
  },
  {
   "cell_type": "code",
   "execution_count": 58,
   "id": "b3e845b0",
   "metadata": {},
   "outputs": [
    {
     "name": "stdout",
     "output_type": "stream",
     "text": [
      "[[ 8 12]\n",
      " [ 7  1]]\n",
      "[[ 7  1]\n",
      " [ 8 12]]\n",
      "[[ 8 12]\n",
      " [ 1  7]]\n"
     ]
    }
   ],
   "source": [
    "ar2 = np.array([[8,12],\n",
    "               [7,1]])\n",
    "print(ar2)\n",
    "sort_ar2_axis0 = np.sort(ar2,axis=0)\n",
    "print(sort_ar2_axis0)\n",
    "sort_ar2_axis1 = np.sort(ar2,axis=1)\n",
    "print(sort_ar2_axis1)"
   ]
  },
  {
   "cell_type": "code",
   "execution_count": 59,
   "id": "11875c33",
   "metadata": {},
   "outputs": [
    {
     "name": "stdout",
     "output_type": "stream",
     "text": [
      "[3 1 9 5]\n",
      "[1 0 3 2]\n"
     ]
    }
   ],
   "source": [
    "# 정렬 행렬의 인덱스 반환\n",
    "ar = np.array([3,1,9,5])\n",
    "print(ar)\n",
    "sort_indices = np.argsort(ar)\n",
    "print(sort_indices)"
   ]
  },
  {
   "cell_type": "code",
   "execution_count": 60,
   "id": "4f58a4f0",
   "metadata": {},
   "outputs": [],
   "source": [
    "#행렬 내적 \n",
    "\n",
    "a = np.array([[1,2,3],\n",
    "             [4,5,6]])\n",
    "b = np.array([[7,8],\n",
    "            [9,10],\n",
    "            [11,12]])"
   ]
  },
  {
   "cell_type": "code",
   "execution_count": 61,
   "id": "93f2aa4b",
   "metadata": {},
   "outputs": [
    {
     "data": {
      "text/plain": [
       "array([[ 58,  64],\n",
       "       [139, 154]])"
      ]
     },
     "execution_count": 61,
     "metadata": {},
     "output_type": "execute_result"
    }
   ],
   "source": [
    "np.dot(a,b)"
   ]
  },
  {
   "cell_type": "code",
   "execution_count": 64,
   "id": "fb6d20b7",
   "metadata": {},
   "outputs": [
    {
     "data": {
      "text/plain": [
       "array([[1, 3],\n",
       "       [2, 4]])"
      ]
     },
     "execution_count": 64,
     "metadata": {},
     "output_type": "execute_result"
    }
   ],
   "source": [
    "# 전치 행렬\n",
    "a = np.array([[1,2],\n",
    "             [3,4]])\n",
    "# a.T\n",
    "b = a.transpose()\n",
    "b"
   ]
  },
  {
   "cell_type": "code",
   "execution_count": null,
   "id": "2a517e93",
   "metadata": {},
   "outputs": [],
   "source": []
  },
  {
   "cell_type": "code",
   "execution_count": null,
   "id": "2a18eaf3",
   "metadata": {},
   "outputs": [],
   "source": []
  },
  {
   "cell_type": "code",
   "execution_count": null,
   "id": "a26c2a51",
   "metadata": {},
   "outputs": [],
   "source": []
  },
  {
   "cell_type": "code",
   "execution_count": null,
   "id": "cffe8e9f",
   "metadata": {},
   "outputs": [],
   "source": []
  },
  {
   "cell_type": "code",
   "execution_count": null,
   "id": "78ac565a",
   "metadata": {},
   "outputs": [],
   "source": []
  },
  {
   "cell_type": "code",
   "execution_count": null,
   "id": "5bb73dd6",
   "metadata": {},
   "outputs": [],
   "source": []
  },
  {
   "cell_type": "code",
   "execution_count": null,
   "id": "469c09ff",
   "metadata": {},
   "outputs": [],
   "source": []
  },
  {
   "cell_type": "code",
   "execution_count": null,
   "id": "750caf9e",
   "metadata": {},
   "outputs": [],
   "source": []
  },
  {
   "cell_type": "code",
   "execution_count": null,
   "id": "736905f0",
   "metadata": {},
   "outputs": [],
   "source": []
  },
  {
   "cell_type": "code",
   "execution_count": null,
   "id": "ad30dc83",
   "metadata": {},
   "outputs": [],
   "source": []
  },
  {
   "cell_type": "code",
   "execution_count": null,
   "id": "bc400608",
   "metadata": {},
   "outputs": [],
   "source": []
  },
  {
   "cell_type": "code",
   "execution_count": null,
   "id": "05ad29a8",
   "metadata": {},
   "outputs": [],
   "source": []
  },
  {
   "cell_type": "code",
   "execution_count": null,
   "id": "1ab7ae52",
   "metadata": {},
   "outputs": [],
   "source": []
  },
  {
   "cell_type": "code",
   "execution_count": null,
   "id": "40aa98b5",
   "metadata": {},
   "outputs": [],
   "source": []
  },
  {
   "cell_type": "code",
   "execution_count": null,
   "id": "2157f4b8",
   "metadata": {},
   "outputs": [],
   "source": []
  },
  {
   "cell_type": "code",
   "execution_count": null,
   "id": "bbfd39fe",
   "metadata": {},
   "outputs": [],
   "source": []
  }
 ],
 "metadata": {
  "kernelspec": {
   "display_name": "Python 3 (ipykernel)",
   "language": "python",
   "name": "python3"
  },
  "language_info": {
   "codemirror_mode": {
    "name": "ipython",
    "version": 3
   },
   "file_extension": ".py",
   "mimetype": "text/x-python",
   "name": "python",
   "nbconvert_exporter": "python",
   "pygments_lexer": "ipython3",
   "version": "3.8.12"
  }
 },
 "nbformat": 4,
 "nbformat_minor": 5
}

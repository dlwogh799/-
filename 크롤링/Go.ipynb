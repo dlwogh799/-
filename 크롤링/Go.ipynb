{
 "cells": [
  {
   "cell_type": "code",
   "execution_count": 1,
   "metadata": {},
   "outputs": [],
   "source": [
    "import os\n",
    "path = os.path.abspath('') # 현재 파일의 경로\n",
    "path\n",
    "os.chdir(path) # 작업하는 경로를 설정"
   ]
  },
  {
   "cell_type": "code",
   "execution_count": 2,
   "metadata": {},
   "outputs": [
    {
     "name": "stderr",
     "output_type": "stream",
     "text": [
      "Cloning into 'TextRecognitionDataGenerator'...\n",
      "Updating files:  37% (103/275)\n",
      "Updating files:  38% (105/275)\n",
      "Updating files:  39% (108/275)\n",
      "Updating files:  40% (110/275)\n",
      "Updating files:  41% (113/275)\n",
      "Updating files:  42% (116/275)\n",
      "Updating files:  43% (119/275)\n",
      "Updating files:  44% (121/275)\n",
      "Updating files:  45% (124/275)\n",
      "Updating files:  46% (127/275)\n",
      "Updating files:  47% (130/275)\n",
      "Updating files:  48% (132/275)\n",
      "Updating files:  48% (133/275)\n",
      "Updating files:  49% (135/275)\n",
      "Updating files:  50% (138/275)\n",
      "Updating files:  51% (141/275)\n",
      "Updating files:  52% (143/275)\n",
      "Updating files:  52% (145/275)\n",
      "Updating files:  53% (146/275)\n",
      "Updating files:  54% (149/275)\n",
      "Updating files:  55% (152/275)\n",
      "Updating files:  56% (154/275)\n",
      "Updating files:  57% (157/275)\n",
      "Updating files:  58% (160/275)\n",
      "Updating files:  59% (163/275)\n",
      "Updating files:  60% (165/275)\n",
      "Updating files:  61% (168/275)\n",
      "Updating files:  62% (171/275)\n",
      "Updating files:  63% (174/275)\n",
      "Updating files:  64% (176/275)\n",
      "Updating files:  65% (179/275)\n",
      "Updating files:  66% (182/275)\n",
      "Updating files:  67% (185/275)\n",
      "Updating files:  68% (187/275)\n",
      "Updating files:  69% (190/275)\n",
      "Updating files:  69% (192/275)\n",
      "Updating files:  70% (193/275)\n",
      "Updating files:  71% (196/275)\n",
      "Updating files:  72% (198/275)\n",
      "Updating files:  73% (201/275)\n",
      "Updating files:  74% (204/275)\n",
      "Updating files:  75% (207/275)\n",
      "Updating files:  76% (209/275)\n",
      "Updating files:  77% (212/275)\n",
      "Updating files:  78% (215/275)\n",
      "Updating files:  79% (218/275)\n",
      "Updating files:  80% (220/275)\n",
      "Updating files:  81% (223/275)\n",
      "Updating files:  82% (226/275)\n",
      "Updating files:  83% (229/275)\n",
      "Updating files:  84% (231/275)\n",
      "Updating files:  85% (234/275)\n",
      "Updating files:  86% (237/275)\n",
      "Updating files:  87% (240/275)\n",
      "Updating files:  88% (242/275)\n",
      "Updating files:  89% (245/275)\n",
      "Updating files:  90% (248/275)\n",
      "Updating files:  91% (251/275)\n",
      "Updating files:  92% (253/275)\n",
      "Updating files:  93% (256/275)\n",
      "Updating files:  94% (259/275)\n",
      "Updating files:  94% (261/275)\n",
      "Updating files:  95% (262/275)\n",
      "Updating files:  96% (264/275)\n",
      "Updating files:  97% (267/275)\n",
      "Updating files:  98% (270/275)\n",
      "Updating files:  99% (273/275)\n",
      "Updating files: 100% (275/275)\n",
      "Updating files: 100% (275/275), done.\n"
     ]
    }
   ],
   "source": [
    "!git clone https://github.com/Belval/TextRecognitionDataGenerator.git"
   ]
  },
  {
   "cell_type": "code",
   "execution_count": 3,
   "metadata": {},
   "outputs": [
    {
     "name": "stdout",
     "output_type": "stream",
     "text": [
      "Requirement already satisfied: pillow>=7.0.0 in c:\\users\\dlwog\\anaconda3\\envs\\cakd5\\lib\\site-packages (from -r TextRecognitionDataGenerator/requirements.txt (line 1)) (7.0.0)"
     ]
    },
    {
     "name": "stderr",
     "output_type": "stream",
     "text": [
      "WARNING: Ignoring invalid distribution -illow (c:\\users\\dlwog\\anaconda3\\envs\\cakd5\\lib\\site-packages)\n",
      "WARNING: Ignoring invalid distribution -illow (c:\\users\\dlwog\\anaconda3\\envs\\cakd5\\lib\\site-packages)\n",
      "WARNING: Ignoring invalid distribution -illow (c:\\users\\dlwog\\anaconda3\\envs\\cakd5\\lib\\site-packages)\n",
      "    WARNING: Ignoring invalid distribution -illow (c:\\users\\dlwog\\anaconda3\\envs\\cakd5\\lib\\site-packages)\n",
      "WARNING: Ignoring invalid distribution -illow (c:\\users\\dlwog\\anaconda3\\envs\\cakd5\\lib\\site-packages)\n",
      "WARNING: Ignoring invalid distribution -illow (c:\\users\\dlwog\\anaconda3\\envs\\cakd5\\lib\\site-packages)\n",
      "WARNING: Ignoring invalid distribution -illow (c:\\users\\dlwog\\anaconda3\\envs\\cakd5\\lib\\site-packages)\n",
      "WARNING: Ignoring invalid distribution -illow (c:\\users\\dlwog\\anaconda3\\envs\\cakd5\\lib\\site-packages)\n",
      "WARNING: Ignoring invalid distribution -illow (c:\\users\\dlwog\\anaconda3\\envs\\cakd5\\lib\\site-packages)\n",
      "WARNING: Ignoring invalid distribution -illow (c:\\users\\dlwog\\anaconda3\\envs\\cakd5\\lib\\site-packages)\n"
     ]
    },
    {
     "name": "stdout",
     "output_type": "stream",
     "text": [
      "\n",
      "Requirement already satisfied: requests>=2.20.0 in c:\\users\\dlwog\\anaconda3\\envs\\cakd5\\lib\\site-packages (from -r TextRecognitionDataGenerator/requirements.txt (line 2)) (2.27.1)\n",
      "Requirement already satisfied: opencv-python>=4.2.0.32 in c:\\users\\dlwog\\anaconda3\\envs\\cakd5\\lib\\site-packages (from -r TextRecognitionDataGenerator/requirements.txt (line 3)) (4.5.4.60)\n",
      "Requirement already satisfied: tqdm>=4.23.0 in c:\\users\\dlwog\\anaconda3\\envs\\cakd5\\lib\\site-packages (from -r TextRecognitionDataGenerator/requirements.txt (line 4)) (4.62.3)\n",
      "Requirement already satisfied: beautifulsoup4>=4.6.0 in c:\\users\\dlwog\\anaconda3\\envs\\cakd5\\lib\\site-packages (from -r TextRecognitionDataGenerator/requirements.txt (line 5)) (4.10.0)\n",
      "Collecting diffimg==0.2.3\n",
      "  Using cached diffimg-0.2.3-py3-none-any.whl\n",
      "Collecting arabic-reshaper==2.1.3\n",
      "  Downloading arabic_reshaper-2.1.3-py3-none-any.whl (20 kB)\n",
      "Requirement already satisfied: python-bidi==0.4.2 in c:\\users\\dlwog\\anaconda3\\envs\\cakd5\\lib\\site-packages (from -r TextRecognitionDataGenerator/requirements.txt (line 8)) (0.4.2)\n",
      "Requirement already satisfied: setuptools in c:\\users\\dlwog\\anaconda3\\envs\\cakd5\\lib\\site-packages (from arabic-reshaper==2.1.3->-r TextRecognitionDataGenerator/requirements.txt (line 7)) (58.0.4)\n",
      "Collecting future\n",
      "  Downloading future-0.18.2.tar.gz (829 kB)\n",
      "Requirement already satisfied: six in c:\\users\\dlwog\\anaconda3\\envs\\cakd5\\lib\\site-packages (from python-bidi==0.4.2->-r TextRecognitionDataGenerator/requirements.txt (line 8)) (1.16.0)\n",
      "Requirement already satisfied: urllib3<1.27,>=1.21.1 in c:\\users\\dlwog\\anaconda3\\envs\\cakd5\\lib\\site-packages (from requests>=2.20.0->-r TextRecognitionDataGenerator/requirements.txt (line 2)) (1.26.8)\n",
      "Requirement already satisfied: certifi>=2017.4.17 in c:\\users\\dlwog\\anaconda3\\envs\\cakd5\\lib\\site-packages (from requests>=2.20.0->-r TextRecognitionDataGenerator/requirements.txt (line 2)) (2021.10.8)\n",
      "Requirement already satisfied: idna<4,>=2.5 in c:\\users\\dlwog\\anaconda3\\envs\\cakd5\\lib\\site-packages (from requests>=2.20.0->-r TextRecognitionDataGenerator/requirements.txt (line 2)) (3.3)\n",
      "Requirement already satisfied: charset-normalizer~=2.0.0 in c:\\users\\dlwog\\anaconda3\\envs\\cakd5\\lib\\site-packages (from requests>=2.20.0->-r TextRecognitionDataGenerator/requirements.txt (line 2)) (2.0.11)\n",
      "Requirement already satisfied: numpy>=1.17.3 in c:\\users\\dlwog\\anaconda3\\envs\\cakd5\\lib\\site-packages (from opencv-python>=4.2.0.32->-r TextRecognitionDataGenerator/requirements.txt (line 3)) (1.22.0)\n",
      "Requirement already satisfied: colorama in c:\\users\\dlwog\\anaconda3\\envs\\cakd5\\lib\\site-packages (from tqdm>=4.23.0->-r TextRecognitionDataGenerator/requirements.txt (line 4)) (0.4.4)\n",
      "Requirement already satisfied: soupsieve>1.2 in c:\\users\\dlwog\\anaconda3\\envs\\cakd5\\lib\\site-packages (from beautifulsoup4>=4.6.0->-r TextRecognitionDataGenerator/requirements.txt (line 5)) (2.3.1)\n",
      "Building wheels for collected packages: future\n",
      "  Building wheel for future (setup.py): started\n",
      "  Building wheel for future (setup.py): finished with status 'done'\n",
      "  Created wheel for future: filename=future-0.18.2-py3-none-any.whl size=491070 sha256=f8a661ca33f6366716899ab63ee1f64740a29cabf20d66e712d3844aa3b14376\n",
      "  Stored in directory: c:\\users\\dlwog\\appdata\\local\\pip\\cache\\wheels\\8e\\70\\28\\3d6ccd6e315f65f245da085482a2e1c7d14b90b30f239e2cf4\n",
      "Successfully built future\n",
      "Installing collected packages: future, diffimg, arabic-reshaper\n",
      "  Attempting uninstall: diffimg\n",
      "    Found existing installation: diffimg 0.3.0\n",
      "    Uninstalling diffimg-0.3.0:\n",
      "      Successfully uninstalled diffimg-0.3.0\n",
      "Successfully installed arabic-reshaper-2.1.3 diffimg-0.2.3 future-0.18.2\n"
     ]
    }
   ],
   "source": [
    "!pip install -r TextRecognitionDataGenerator/requirements.txt"
   ]
  },
  {
   "cell_type": "code",
   "execution_count": 4,
   "metadata": {
    "scrolled": true
   },
   "outputs": [
    {
     "name": "stdout",
     "output_type": "stream",
     "text": [
      "Requirement already satisfied: pillow>=7.0.0 in c:\\users\\dlwog\\anaconda3\\envs\\cakd5\\lib\\site-packages (from -r TextRecognitionDataGenerator/requirements-hw.txt (line 1)) (7.0.0)"
     ]
    },
    {
     "name": "stderr",
     "output_type": "stream",
     "text": [
      "WARNING: Ignoring invalid distribution -illow (c:\\users\\dlwog\\anaconda3\\envs\\cakd5\\lib\\site-packages)\n",
      "WARNING: Ignoring invalid distribution -illow (c:\\users\\dlwog\\anaconda3\\envs\\cakd5\\lib\\site-packages)\n",
      "ERROR: Could not find a version that satisfies the requirement tensorflow<1.14,>=1.13.1 (from versions: 2.2.0rc1, 2.2.0rc2, 2.2.0rc3, 2.2.0rc4, 2.2.0, 2.2.1, 2.2.2, 2.2.3, 2.3.0rc0, 2.3.0rc1, 2.3.0rc2, 2.3.0, 2.3.1, 2.3.2, 2.3.3, 2.3.4, 2.4.0rc0, 2.4.0rc1, 2.4.0rc2, 2.4.0rc3, 2.4.0rc4, 2.4.0, 2.4.1, 2.4.2, 2.4.3, 2.4.4, 2.5.0rc0, 2.5.0rc1, 2.5.0rc2, 2.5.0rc3, 2.5.0, 2.5.1, 2.5.2, 2.5.3, 2.6.0rc0, 2.6.0rc1, 2.6.0rc2, 2.6.0, 2.6.1, 2.6.2, 2.6.3, 2.7.0rc0, 2.7.0rc1, 2.7.0, 2.7.1, 2.8.0rc0, 2.8.0rc1, 2.8.0)\n",
      "ERROR: No matching distribution found for tensorflow<1.14,>=1.13.1\n",
      "WARNING: Ignoring invalid distribution -illow (c:\\users\\dlwog\\anaconda3\\envs\\cakd5\\lib\\site-packages)\n",
      "WARNING: Ignoring invalid distribution -illow (c:\\users\\dlwog\\anaconda3\\envs\\cakd5\\lib\\site-packages)\n",
      "WARNING: Ignoring invalid distribution -illow (c:\\users\\dlwog\\anaconda3\\envs\\cakd5\\lib\\site-packages)\n"
     ]
    },
    {
     "name": "stdout",
     "output_type": "stream",
     "text": [
      "\n",
      "Collecting numpy<1.17,>=1.16.4\n",
      "  Using cached numpy-1.16.6.zip (5.1 MB)\n",
      "Requirement already satisfied: requests>=2.20.0 in c:\\users\\dlwog\\anaconda3\\envs\\cakd5\\lib\\site-packages (from -r TextRecognitionDataGenerator/requirements-hw.txt (line 3)) (2.27.1)\n",
      "Requirement already satisfied: opencv-python>=4.2.0.32 in c:\\users\\dlwog\\anaconda3\\envs\\cakd5\\lib\\site-packages (from -r TextRecognitionDataGenerator/requirements-hw.txt (line 4)) (4.5.4.60)\n",
      "Requirement already satisfied: tqdm>=4.23.0 in c:\\users\\dlwog\\anaconda3\\envs\\cakd5\\lib\\site-packages (from -r TextRecognitionDataGenerator/requirements-hw.txt (line 5)) (4.62.3)\n",
      "Requirement already satisfied: beautifulsoup4>=4.6.0 in c:\\users\\dlwog\\anaconda3\\envs\\cakd5\\lib\\site-packages (from -r TextRecognitionDataGenerator/requirements-hw.txt (line 6)) (4.10.0)\n",
      "Requirement already satisfied: diffimg==0.2.3 in c:\\users\\dlwog\\anaconda3\\envs\\cakd5\\lib\\site-packages (from -r TextRecognitionDataGenerator/requirements-hw.txt (line 7)) (0.2.3)\n"
     ]
    }
   ],
   "source": [
    "!pip install -r TextRecognitionDataGenerator/requirements-hw.txt"
   ]
  },
  {
   "cell_type": "code",
   "execution_count": 6,
   "metadata": {},
   "outputs": [
    {
     "data": {
      "text/plain": [
       "'C:\\\\cakd5\\\\workspace\\\\programming\\\\crawling'"
      ]
     },
     "execution_count": 6,
     "metadata": {},
     "output_type": "execute_result"
    }
   ],
   "source": [
    "%pwd"
   ]
  },
  {
   "cell_type": "code",
   "execution_count": 8,
   "metadata": {},
   "outputs": [
    {
     "name": "stderr",
     "output_type": "stream",
     "text": [
      "2022-02-18 15:05:25.045647: W tensorflow/stream_executor/platform/default/dso_loader.cc:64] Could not load dynamic library 'cudart64_110.dll'; dlerror: cudart64_110.dll not found\n",
      "2022-02-18 15:05:25.048081: I tensorflow/stream_executor/cuda/cudart_stub.cc:29] Ignore above cudart dlerror if you do not have a GPU set up on your machine.\n",
      "\n",
      "  0%|          | 0/1000 [00:00<?, ?it/s]2022-02-18 15:05:53.219914: W tensorflow/stream_executor/platform/default/dso_loader.cc:64] Could not load dynamic library 'cudart64_110.dll'; dlerror: cudart64_110.dll not found\n",
      "2022-02-18 15:05:53.219996: I tensorflow/stream_executor/cuda/cudart_stub.cc:29] Ignore above cudart dlerror if you do not have a GPU set up on your machine.\n",
      "\n",
      "  0%|          | 1/1000 [00:22<6:10:44, 22.27s/it]\n",
      "  1%|1         | 14/1000 [00:22<18:49,  1.15s/it] \n",
      "  3%|2         | 27/1000 [00:22<07:59,  2.03it/s]\n",
      "  4%|3         | 38/1000 [00:22<04:44,  3.39it/s]\n",
      "  5%|4         | 49/1000 [00:22<03:00,  5.27it/s]\n",
      "  6%|6         | 64/1000 [00:22<01:46,  8.83it/s]\n",
      "  8%|7         | 76/1000 [00:23<01:15, 12.25it/s]\n",
      "  9%|8         | 86/1000 [00:23<00:56, 16.13it/s]\n",
      " 10%|#         | 100/1000 [00:23<00:38, 23.56it/s]\n",
      " 11%|#1        | 111/1000 [00:23<00:31, 28.25it/s]\n",
      " 12%|#2        | 121/1000 [00:23<00:25, 34.04it/s]\n",
      " 14%|#3        | 136/1000 [00:23<00:18, 47.28it/s]\n",
      " 15%|#5        | 150/1000 [00:23<00:14, 59.85it/s]\n",
      " 16%|#6        | 162/1000 [00:23<00:12, 68.88it/s]\n",
      " 18%|#7        | 177/1000 [00:24<00:09, 83.39it/s]\n",
      " 19%|#9        | 190/1000 [00:24<00:08, 92.89it/s]\n",
      " 20%|##        | 204/1000 [00:24<00:07, 101.24it/s]\n",
      " 22%|##1       | 217/1000 [00:24<00:08, 88.96it/s] \n",
      " 23%|##3       | 230/1000 [00:24<00:07, 97.25it/s]\n",
      " 24%|##4       | 244/1000 [00:24<00:07, 105.74it/s]\n",
      " 26%|##5       | 258/1000 [00:24<00:06, 113.25it/s]\n",
      " 27%|##7       | 273/1000 [00:24<00:06, 120.71it/s]\n",
      " 29%|##8       | 286/1000 [00:24<00:05, 119.89it/s]\n",
      " 30%|###       | 301/1000 [00:25<00:05, 125.72it/s]\n",
      " 32%|###1      | 315/1000 [00:25<00:05, 126.20it/s]\n",
      " 33%|###2      | 329/1000 [00:25<00:05, 128.62it/s]\n",
      " 34%|###4      | 343/1000 [00:25<00:05, 130.02it/s]\n",
      " 36%|###5      | 357/1000 [00:25<00:04, 132.54it/s]\n",
      " 37%|###7      | 371/1000 [00:25<00:04, 128.78it/s]\n",
      " 38%|###8      | 384/1000 [00:25<00:05, 118.13it/s]\n",
      " 40%|###9      | 397/1000 [00:25<00:07, 85.43it/s] \n",
      " 41%|####      | 407/1000 [00:26<00:07, 78.36it/s]\n",
      " 42%|####1     | 416/1000 [00:26<00:07, 79.66it/s]\n",
      " 43%|####2     | 428/1000 [00:26<00:06, 88.75it/s]\n",
      " 44%|####4     | 441/1000 [00:26<00:05, 98.23it/s]\n",
      " 45%|####5     | 453/1000 [00:26<00:05, 103.36it/s]\n",
      " 47%|####6     | 468/1000 [00:26<00:04, 114.40it/s]\n",
      " 48%|####8     | 482/1000 [00:26<00:04, 119.50it/s]\n",
      " 50%|####9     | 495/1000 [00:26<00:04, 103.35it/s]\n",
      " 51%|#####     | 506/1000 [00:27<00:05, 94.14it/s] \n",
      " 52%|#####1    | 516/1000 [00:27<00:05, 86.52it/s]\n",
      " 53%|#####2    | 526/1000 [00:27<00:05, 81.91it/s]\n",
      " 54%|#####3    | 535/1000 [00:27<00:05, 81.15it/s]\n",
      " 54%|#####4    | 544/1000 [00:27<00:05, 76.35it/s]\n",
      " 55%|#####5    | 552/1000 [00:27<00:06, 70.84it/s]\n",
      " 56%|#####6    | 562/1000 [00:27<00:05, 77.42it/s]\n",
      " 57%|#####7    | 575/1000 [00:27<00:04, 89.53it/s]\n",
      " 59%|#####8    | 586/1000 [00:28<00:04, 93.73it/s]\n",
      " 60%|#####9    | 597/1000 [00:28<00:04, 96.34it/s]\n",
      " 61%|######    | 608/1000 [00:28<00:04, 95.39it/s]\n",
      " 62%|######1   | 618/1000 [00:28<00:04, 95.36it/s]\n",
      " 63%|######2   | 628/1000 [00:28<00:04, 91.58it/s]\n",
      " 64%|######4   | 640/1000 [00:28<00:03, 98.24it/s]\n",
      " 66%|######5   | 655/1000 [00:28<00:03, 110.83it/s]\n",
      " 67%|######6   | 668/1000 [00:28<00:02, 112.44it/s]\n",
      " 68%|######8   | 681/1000 [00:28<00:02, 115.44it/s]\n",
      " 70%|######9   | 695/1000 [00:29<00:02, 121.77it/s]\n",
      " 71%|#######   | 709/1000 [00:29<00:02, 126.29it/s]\n",
      " 72%|#######2  | 722/1000 [00:29<00:02, 118.16it/s]\n",
      " 73%|#######3  | 734/1000 [00:29<00:02, 108.75it/s]\n",
      " 75%|#######4  | 746/1000 [00:29<00:02, 110.88it/s]\n",
      " 76%|#######6  | 760/1000 [00:29<00:02, 118.22it/s]\n",
      " 77%|#######7  | 774/1000 [00:29<00:01, 123.66it/s]\n",
      " 79%|#######8  | 789/1000 [00:29<00:01, 128.26it/s]\n",
      " 80%|########  | 804/1000 [00:29<00:01, 132.58it/s]\n",
      " 82%|########1 | 818/1000 [00:30<00:01, 132.75it/s]\n",
      " 83%|########3 | 832/1000 [00:30<00:01, 131.83it/s]\n",
      " 85%|########4 | 847/1000 [00:30<00:01, 135.12it/s]\n",
      " 86%|########6 | 862/1000 [00:30<00:01, 137.06it/s]\n",
      " 88%|########7 | 876/1000 [00:30<00:00, 137.00it/s]\n",
      " 89%|########9 | 890/1000 [00:30<00:00, 131.42it/s]\n",
      " 90%|######### | 904/1000 [00:30<00:00, 132.37it/s]\n",
      " 92%|#########1| 919/1000 [00:30<00:00, 135.49it/s]\n",
      " 93%|#########3| 933/1000 [00:30<00:00, 136.23it/s]\n",
      " 95%|#########4| 947/1000 [00:30<00:00, 135.77it/s]\n",
      " 96%|#########6| 961/1000 [00:31<00:00, 129.15it/s]\n",
      " 98%|#########7| 976/1000 [00:31<00:00, 132.43it/s]\n",
      " 99%|#########9| 990/1000 [00:31<00:00, 129.82it/s]\n",
      "100%|##########| 1000/1000 [00:31<00:00, 31.87it/s]\n"
     ]
    }
   ],
   "source": [
    "!python /cakd5/workspace/programming/crawling/TextRecognitionDataGenerator/trdg/run.py -c 1000 -l ko"
   ]
  },
  {
   "cell_type": "code",
   "execution_count": null,
   "metadata": {},
   "outputs": [],
   "source": [
    "#### out 폴더가 생기면서, 데이터가 생성"
   ]
  },
  {
   "cell_type": "code",
   "execution_count": 9,
   "metadata": {},
   "outputs": [],
   "source": [
    "os.rename('out','input') # 폴더명 변경\n",
    "os.mkdir(path+'/output') # 폴더 생성"
   ]
  },
  {
   "cell_type": "code",
   "execution_count": null,
   "metadata": {},
   "outputs": [],
   "source": [
    "# 다음 모델에 적용하기 위해서 input 경로와 output 경로를 설정해 준 것임."
   ]
  },
  {
   "cell_type": "code",
   "execution_count": 10,
   "metadata": {},
   "outputs": [
    {
     "name": "stderr",
     "output_type": "stream",
     "text": [
      "Cloning into 'TRDG2DTRB'...\n"
     ]
    }
   ],
   "source": [
    "!git clone https://github.com/DaveLogs/TRDG2DTRB.git"
   ]
  },
  {
   "cell_type": "code",
   "execution_count": 11,
   "metadata": {
    "scrolled": true
   },
   "outputs": [
    {
     "name": "stdout",
     "output_type": "stream",
     "text": [
      "input path:  C:\\cakd5\\workspace\\programming\\crawling\\input\n",
      "output path:  C:\\cakd5\\workspace\\programming\\crawling\\output\n",
      "\n",
      "Output folder already exists.\n",
      "\n",
      "So, delete all data of output folder [C:\\cakd5\\workspace\\programming\\crawling\\output]\n",
      "\n",
      "Total file count:  1000\n",
      "\n",
      " 100 / 1000 Processing !!\n",
      " 200 / 1000 Processing !!\n",
      " 300 / 1000 Processing !!\n",
      " 400 / 1000 Processing !!\n",
      " 500 / 1000 Processing !!\n",
      " 600 / 1000 Processing !!\n",
      " 700 / 1000 Processing !!\n",
      " 800 / 1000 Processing !!\n",
      " 900 / 1000 Processing !!\n",
      "1000 / 1000 Processing !!\n",
      "Conversion complete!\n",
      "\n"
     ]
    }
   ],
   "source": [
    "!python TRDG2DTRB/convert.py --input_path ./input --output_path ./output"
   ]
  },
  {
   "cell_type": "code",
   "execution_count": 12,
   "metadata": {},
   "outputs": [
    {
     "name": "stderr",
     "output_type": "stream",
     "text": [
      "Cloning into 'deep-text-recognition-benchmark'...\n"
     ]
    }
   ],
   "source": [
    "!git clone https://github.com/clovaai/deep-text-recognition-benchmark.git"
   ]
  },
  {
   "cell_type": "code",
   "execution_count": 13,
   "metadata": {},
   "outputs": [
    {
     "name": "stdout",
     "output_type": "stream",
     "text": [
      "Requirement already satisfied: torch in c:\\users\\dlwog\\anaconda3\\envs\\cakd5\\lib\\site-packages (1.10.2)\n",
      "Requirement already satisfied: torchvision in c:\\users\\dlwog\\anaconda3\\envs\\cakd5\\lib\\site-packages (0.11.3)\n",
      "Requirement already satisfied: typing-extensions in c:\\users\\dlwog\\anaconda3\\envs\\cakd5\\lib\\site-packages (from torch) (4.1.1)\n",
      "Requirement already satisfied: numpy in c:\\users\\dlwog\\anaconda3\\envs\\cakd5\\lib\\site-packages (from torchvision) (1.22.0)\n",
      "Requirement already satisfied: pillow!=8.3.0,>=5.3.0 in c:\\users\\dlwog\\anaconda3\\envs\\cakd5\\lib\\site-packages (from torchvision) (7.0.0)\n"
     ]
    },
    {
     "name": "stderr",
     "output_type": "stream",
     "text": [
      "WARNING: Ignoring invalid distribution -illow (c:\\users\\dlwog\\anaconda3\\envs\\cakd5\\lib\\site-packages)\n",
      "WARNING: Ignoring invalid distribution -illow (c:\\users\\dlwog\\anaconda3\\envs\\cakd5\\lib\\site-packages)\n",
      "WARNING: Ignoring invalid distribution -illow (c:\\users\\dlwog\\anaconda3\\envs\\cakd5\\lib\\site-packages)\n",
      "WARNING: Ignoring invalid distribution -illow (c:\\users\\dlwog\\anaconda3\\envs\\cakd5\\lib\\site-packages)\n",
      "WARNING: Ignoring invalid distribution -illow (c:\\users\\dlwog\\anaconda3\\envs\\cakd5\\lib\\site-packages)\n",
      "WARNING: Ignoring invalid distribution -illow (c:\\users\\dlwog\\anaconda3\\envs\\cakd5\\lib\\site-packages)\n"
     ]
    },
    {
     "name": "stdout",
     "output_type": "stream",
     "text": [
      "Collecting lmdb\n",
      "  Downloading lmdb-1.3.0-cp38-cp38-win_amd64.whl (106 kB)\n",
      "Requirement already satisfied: pillow in c:\\users\\dlwog\\anaconda3\\envs\\cakd5\\lib\\site-packages (7.0.0)\n",
      "Collecting nltk\n",
      "  Downloading nltk-3.7-py3-none-any.whl (1.5 MB)\n",
      "Collecting natsort\n",
      "  Downloading natsort-8.1.0-py3-none-any.whl (37 kB)\n",
      "Collecting regex>=2021.8.3\n",
      "  Downloading regex-2022.1.18-cp38-cp38-win_amd64.whl (273 kB)\n",
      "Requirement already satisfied: joblib in c:\\users\\dlwog\\anaconda3\\envs\\cakd5\\lib\\site-packages (from nltk) (1.1.0)\n",
      "Collecting click\n",
      "  Downloading click-8.0.3-py3-none-any.whl (97 kB)\n",
      "Requirement already satisfied: tqdm in c:\\users\\dlwog\\anaconda3\\envs\\cakd5\\lib\\site-packages (from nltk) (4.62.3)\n",
      "Requirement already satisfied: colorama in c:\\users\\dlwog\\anaconda3\\envs\\cakd5\\lib\\site-packages (from click->nltk) (0.4.4)\n",
      "Installing collected packages: regex, click, nltk, natsort, lmdb\n",
      "Successfully installed click-8.0.3 lmdb-1.3.0 natsort-8.1.0 nltk-3.7 regex-2022.1.18\n"
     ]
    },
    {
     "name": "stderr",
     "output_type": "stream",
     "text": [
      "WARNING: Ignoring invalid distribution -illow (c:\\users\\dlwog\\anaconda3\\envs\\cakd5\\lib\\site-packages)\n",
      "WARNING: Ignoring invalid distribution -illow (c:\\users\\dlwog\\anaconda3\\envs\\cakd5\\lib\\site-packages)\n",
      "WARNING: Ignoring invalid distribution -illow (c:\\users\\dlwog\\anaconda3\\envs\\cakd5\\lib\\site-packages)\n",
      "WARNING: Ignoring invalid distribution -illow (c:\\users\\dlwog\\anaconda3\\envs\\cakd5\\lib\\site-packages)\n",
      "WARNING: Ignoring invalid distribution -illow (c:\\users\\dlwog\\anaconda3\\envs\\cakd5\\lib\\site-packages)\n",
      "WARNING: Ignoring invalid distribution -illow (c:\\users\\dlwog\\anaconda3\\envs\\cakd5\\lib\\site-packages)\n",
      "WARNING: Ignoring invalid distribution -illow (c:\\users\\dlwog\\anaconda3\\envs\\cakd5\\lib\\site-packages)\n",
      "WARNING: Ignoring invalid distribution -illow (c:\\users\\dlwog\\anaconda3\\envs\\cakd5\\lib\\site-packages)\n",
      "WARNING: Ignoring invalid distribution -illow (c:\\users\\dlwog\\anaconda3\\envs\\cakd5\\lib\\site-packages)\n",
      "WARNING: Ignoring invalid distribution -illow (c:\\users\\dlwog\\anaconda3\\envs\\cakd5\\lib\\site-packages)\n",
      "WARNING: Ignoring invalid distribution -illow (c:\\users\\dlwog\\anaconda3\\envs\\cakd5\\lib\\site-packages)\n"
     ]
    },
    {
     "name": "stdout",
     "output_type": "stream",
     "text": [
      "Collecting fire\n",
      "  Downloading fire-0.4.0.tar.gz (87 kB)\n",
      "Requirement already satisfied: six in c:\\users\\dlwog\\anaconda3\\envs\\cakd5\\lib\\site-packages (from fire) (1.16.0)\n",
      "Requirement already satisfied: termcolor in c:\\users\\dlwog\\anaconda3\\envs\\cakd5\\lib\\site-packages (from fire) (1.1.0)\n",
      "Building wheels for collected packages: fire\n",
      "  Building wheel for fire (setup.py): started\n",
      "  Building wheel for fire (setup.py): finished with status 'done'\n",
      "  Created wheel for fire: filename=fire-0.4.0-py2.py3-none-any.whl size=115943 sha256=75c38e9530406ba3b91d34c33c3827b446b7ec060c50d069414a160d243db3a9\n",
      "  Stored in directory: c:\\users\\dlwog\\appdata\\local\\pip\\cache\\wheels\\1f\\10\\06\\2a990ee4d73a8479fe2922445e8a876d38cfbfed052284c6a1\n",
      "Successfully built fire\n",
      "Installing collected packages: fire\n",
      "Successfully installed fire-0.4.0\n"
     ]
    },
    {
     "name": "stderr",
     "output_type": "stream",
     "text": [
      "WARNING: Ignoring invalid distribution -illow (c:\\users\\dlwog\\anaconda3\\envs\\cakd5\\lib\\site-packages)\n",
      "WARNING: Ignoring invalid distribution -illow (c:\\users\\dlwog\\anaconda3\\envs\\cakd5\\lib\\site-packages)\n",
      "WARNING: Ignoring invalid distribution -illow (c:\\users\\dlwog\\anaconda3\\envs\\cakd5\\lib\\site-packages)\n",
      "WARNING: Ignoring invalid distribution -illow (c:\\users\\dlwog\\anaconda3\\envs\\cakd5\\lib\\site-packages)\n",
      "WARNING: Ignoring invalid distribution -illow (c:\\users\\dlwog\\anaconda3\\envs\\cakd5\\lib\\site-packages)\n",
      "WARNING: Ignoring invalid distribution -illow (c:\\users\\dlwog\\anaconda3\\envs\\cakd5\\lib\\site-packages)\n",
      "WARNING: Ignoring invalid distribution -illow (c:\\users\\dlwog\\anaconda3\\envs\\cakd5\\lib\\site-packages)\n"
     ]
    }
   ],
   "source": [
    "!pip install torch torchvision\n",
    "!pip install lmdb pillow nltk natsort\n",
    "!pip install fire"
   ]
  },
  {
   "cell_type": "code",
   "execution_count": null,
   "metadata": {},
   "outputs": [],
   "source": [
    "## ----------------------------------------------------------------------------------------"
   ]
  },
  {
   "cell_type": "code",
   "execution_count": 15,
   "metadata": {},
   "outputs": [],
   "source": [
    "os.rename('output','data') # 폴더명 변경"
   ]
  },
  {
   "cell_type": "code",
   "execution_count": 18,
   "metadata": {
    "scrolled": true
   },
   "outputs": [
    {
     "name": "stdout",
     "output_type": "stream",
     "text": [
      "Written 1000 / 1000"
     ]
    },
    {
     "name": "stderr",
     "output_type": "stream",
     "text": [
      "/cakd5/workspace/programming/crawling/deep-text-recognition-benchmark/create_lmdb_dataset.py:38: DeprecationWarning: an integer is required (got type float).  Implicit conversion to integers using __int__ is deprecated, and may be removed in a future version of Python.\n",
      "  env = lmdb.open(outputPath, map_size=1099511627776/1024)\n"
     ]
    },
    {
     "name": "stdout",
     "output_type": "stream",
     "text": [
      "\n",
      "Created dataset with 1000 samples\n"
     ]
    }
   ],
   "source": [
    "!python /cakd5/workspace/programming/crawling/deep-text-recognition-benchmark/create_lmdb_dataset.py \\\n",
    "        --inputPath data/ \\\n",
    "        --gtFile data/gt.txt \\\n",
    "        --outputPath result/"
   ]
  },
  {
   "cell_type": "code",
   "execution_count": 10,
   "metadata": {},
   "outputs": [],
   "source": [
    "os.mkdir(path+'/lmdb')\n",
    "os.chdir('./lmdb')\n",
    "os.mkdir(path+'/lmdb'+'/training')\n",
    "os.mkdir(path+'/lmdb'+'/validation')"
   ]
  },
  {
   "cell_type": "code",
   "execution_count": 11,
   "metadata": {},
   "outputs": [
    {
     "data": {
      "text/plain": [
       "'c:\\\\Users\\\\admin\\\\Resilio Sync\\\\Sync\\\\workspace\\\\Semi_project\\\\easyocr_training'"
      ]
     },
     "execution_count": 11,
     "metadata": {},
     "output_type": "execute_result"
    }
   ],
   "source": [
    "path"
   ]
  }
 ],
 "metadata": {
  "interpreter": {
   "hash": "36b4fa4aa7861c46a6b204158724d941cd165081ff4fedf2cf40fc3dcd09c28c"
  },
  "kernelspec": {
   "display_name": "Python 3 (ipykernel)",
   "language": "python",
   "name": "python3"
  },
  "language_info": {
   "codemirror_mode": {
    "name": "ipython",
    "version": 3
   },
   "file_extension": ".py",
   "mimetype": "text/x-python",
   "name": "python",
   "nbconvert_exporter": "python",
   "pygments_lexer": "ipython3",
   "version": "3.8.12"
  }
 },
 "nbformat": 4,
 "nbformat_minor": 2
}

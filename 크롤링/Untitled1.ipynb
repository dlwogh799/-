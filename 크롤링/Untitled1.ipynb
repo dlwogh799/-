{
 "cells": [
  {
   "cell_type": "code",
   "execution_count": 2,
   "id": "dc3dbc18",
   "metadata": {},
   "outputs": [
    {
     "name": "stderr",
     "output_type": "stream",
     "text": [
      "Cloning into 'TextRecognitionDataGenerator'...\n",
      "Updating files:  36% (101/275)\n",
      "Updating files:  37% (102/275)\n",
      "Updating files:  38% (105/275)\n",
      "Updating files:  39% (108/275)\n",
      "Updating files:  40% (110/275)\n",
      "Updating files:  40% (111/275)\n",
      "Updating files:  41% (113/275)\n",
      "Updating files:  42% (116/275)\n",
      "Updating files:  43% (119/275)\n",
      "Updating files:  44% (121/275)\n",
      "Updating files:  45% (124/275)\n",
      "Updating files:  46% (127/275)\n",
      "Updating files:  47% (130/275)\n",
      "Updating files:  48% (132/275)\n",
      "Updating files:  49% (135/275)\n",
      "Updating files:  50% (138/275)\n",
      "Updating files:  51% (141/275)\n",
      "Updating files:  52% (143/275)\n",
      "Updating files:  52% (145/275)\n",
      "Updating files:  53% (146/275)\n",
      "Updating files:  54% (149/275)\n",
      "Updating files:  55% (152/275)\n",
      "Updating files:  56% (154/275)\n",
      "Updating files:  57% (157/275)\n",
      "Updating files:  58% (160/275)\n",
      "Updating files:  59% (163/275)\n",
      "Updating files:  60% (165/275)\n",
      "Updating files:  61% (168/275)\n",
      "Updating files:  62% (171/275)\n",
      "Updating files:  63% (174/275)\n",
      "Updating files:  64% (176/275)\n",
      "Updating files:  65% (179/275)\n",
      "Updating files:  66% (182/275)\n",
      "Updating files:  67% (185/275)\n",
      "Updating files:  68% (187/275)\n",
      "Updating files:  69% (190/275)\n",
      "Updating files:  70% (193/275)\n",
      "Updating files:  71% (196/275)\n",
      "Updating files:  72% (198/275)\n",
      "Updating files:  73% (201/275)\n",
      "Updating files:  74% (204/275)\n",
      "Updating files:  75% (207/275)\n",
      "Updating files:  76% (209/275)\n",
      "Updating files:  77% (212/275)\n",
      "Updating files:  78% (215/275)\n",
      "Updating files:  79% (218/275)\n",
      "Updating files:  80% (220/275)\n",
      "Updating files:  81% (223/275)\n",
      "Updating files:  82% (226/275)\n",
      "Updating files:  83% (229/275)\n",
      "Updating files:  84% (231/275)\n",
      "Updating files:  85% (234/275)\n",
      "Updating files:  86% (237/275)\n",
      "Updating files:  87% (240/275)\n",
      "Updating files:  88% (242/275)\n",
      "Updating files:  89% (245/275)\n",
      "Updating files:  90% (248/275)\n",
      "Updating files:  91% (251/275)\n",
      "Updating files:  92% (253/275)\n",
      "Updating files:  93% (256/275)\n",
      "Updating files:  94% (259/275)\n",
      "Updating files:  94% (261/275)\n",
      "Updating files:  95% (262/275)\n",
      "Updating files:  96% (264/275)\n",
      "Updating files:  97% (267/275)\n",
      "Updating files:  98% (270/275)\n",
      "Updating files:  99% (273/275)\n",
      "Updating files: 100% (275/275)\n",
      "Updating files: 100% (275/275), done.\n"
     ]
    }
   ],
   "source": [
    "! git clone https://github.com/Belval/TextRecognitionDataGenerator.git"
   ]
  },
  {
   "cell_type": "code",
   "execution_count": 4,
   "id": "6078599c",
   "metadata": {},
   "outputs": [
    {
     "name": "stdout",
     "output_type": "stream",
     "text": [
      "Requirement already satisfied: pillow in c:\\users\\dlwog\\anaconda3\\envs\\cakd5\\lib\\site-packages (8.2.0)\n"
     ]
    }
   ],
   "source": [
    "! pip3 install pillow"
   ]
  },
  {
   "cell_type": "code",
   "execution_count": 19,
   "id": "d8a3a999",
   "metadata": {},
   "outputs": [
    {
     "name": "stdout",
     "output_type": "stream",
     "text": [
      "Collecting trdg\n",
      "  Downloading trdg-1.7.0-py3-none-any.whl (91.2 MB)\n",
      "Requirement already satisfied: tqdm>=4.23.0 in c:\\users\\dlwog\\anaconda3\\envs\\cakd5\\lib\\site-packages (from trdg) (4.62.3)\n",
      "Requirement already satisfied: pillow>=7.0.0 in c:\\users\\dlwog\\anaconda3\\envs\\cakd5\\lib\\site-packages (from trdg) (8.2.0)"
     ]
    },
    {
     "name": "stderr",
     "output_type": "stream",
     "text": [
      "ERROR: Could not install packages due to an OSError: [WinError 5] 액세스가 거부되었습니다: 'C:\\\\Users\\\\dlwog\\\\anaconda3\\\\envs\\\\cakd5\\\\Lib\\\\site-packages\\\\~il\\\\_imaging.cp38-win_amd64.pyd'\n",
      "Consider using the `--user` option or check the permissions.\n",
      "\n"
     ]
    },
    {
     "name": "stdout",
     "output_type": "stream",
     "text": [
      "\n",
      "Collecting diffimg==0.2.3\n",
      "  Downloading diffimg-0.2.3.tar.gz (4.1 kB)\n",
      "Requirement already satisfied: requests>=2.20.0 in c:\\users\\dlwog\\anaconda3\\envs\\cakd5\\lib\\site-packages (from trdg) (2.27.1)\n",
      "Requirement already satisfied: opencv-python>=4.2.0.32 in c:\\users\\dlwog\\anaconda3\\envs\\cakd5\\lib\\site-packages (from trdg) (4.5.4.60)\n",
      "Collecting numpy<1.17,>=1.16.4\n",
      "  Downloading numpy-1.16.6.zip (5.1 MB)\n",
      "Requirement already satisfied: beautifulsoup4>=4.6.0 in c:\\users\\dlwog\\anaconda3\\envs\\cakd5\\lib\\site-packages (from trdg) (4.10.0)\n",
      "Requirement already satisfied: soupsieve>1.2 in c:\\users\\dlwog\\anaconda3\\envs\\cakd5\\lib\\site-packages (from beautifulsoup4>=4.6.0->trdg) (2.3.1)\n",
      "Collecting opencv-python>=4.2.0.32\n",
      "  Using cached opencv_python-4.5.5.62-cp36-abi3-win_amd64.whl (35.4 MB)\n",
      "  Downloading opencv_python-4.5.4.58-cp38-cp38-win_amd64.whl (35.1 MB)\n",
      "  Downloading opencv_python-4.5.3.56-cp38-cp38-win_amd64.whl (34.9 MB)\n",
      "  Downloading opencv_python-4.5.2.54-cp38-cp38-win_amd64.whl (34.7 MB)\n",
      "  Downloading opencv_python-4.5.2.52-cp38-cp38-win_amd64.whl (34.7 MB)\n",
      "  Downloading opencv_python-4.5.1.48-cp38-cp38-win_amd64.whl (34.9 MB)\n",
      "  Downloading opencv_python-4.4.0.46-cp38-cp38-win_amd64.whl (33.5 MB)\n",
      "  Downloading opencv_python-4.4.0.44-cp38-cp38-win_amd64.whl (33.5 MB)\n",
      "  Downloading opencv_python-4.4.0.42-cp38-cp38-win_amd64.whl (33.5 MB)\n",
      "  Downloading opencv_python-4.4.0.40-cp38-cp38-win_amd64.whl (33.5 MB)\n",
      "  Downloading opencv_python-4.3.0.38-cp38-cp38-win_amd64.whl (33.4 MB)\n",
      "  Downloading opencv_python-4.3.0.36-cp38-cp38-win_amd64.whl (33.4 MB)\n",
      "  Downloading opencv_python-4.2.0.34-cp38-cp38-win_amd64.whl (33.1 MB)\n",
      "  Downloading opencv_python-4.2.0.32-cp38-cp38-win_amd64.whl (33.1 MB)\n",
      "INFO: pip is looking at multiple versions of <Python from Requires-Python> to determine which version is compatible with other requirements. This could take a while.\n",
      "INFO: pip is looking at multiple versions of numpy to determine which version is compatible with other requirements. This could take a while.\n",
      "Collecting numpy<1.17,>=1.16.4\n",
      "  Downloading numpy-1.16.5.zip (5.1 MB)\n",
      "  Downloading numpy-1.16.4.zip (5.1 MB)\n",
      "INFO: pip is looking at multiple versions of beautifulsoup4 to determine which version is compatible with other requirements. This could take a while.\n",
      "Collecting beautifulsoup4>=4.6.0\n",
      "  Using cached beautifulsoup4-4.10.0-py3-none-any.whl (97 kB)\n",
      "  Downloading beautifulsoup4-4.9.3-py3-none-any.whl (115 kB)\n",
      "INFO: pip is looking at multiple versions of numpy to determine which version is compatible with other requirements. This could take a while.\n",
      "  Downloading beautifulsoup4-4.9.2-py3-none-any.whl (115 kB)\n",
      "INFO: pip is looking at multiple versions of <Python from Requires-Python> to determine which version is compatible with other requirements. This could take a while.\n",
      "  Downloading beautifulsoup4-4.9.1-py3-none-any.whl (115 kB)\n",
      "INFO: This is taking longer than usual. You might need to provide the dependency resolver with stricter constraints to reduce runtime. If you want to abort this run, you can press Ctrl + C to do so. To improve how pip performs, tell us what happened here: https://pip.pypa.io/surveys/backtracking\n",
      "INFO: This is taking longer than usual. You might need to provide the dependency resolver with stricter constraints to reduce runtime. If you want to abort this run, you can press Ctrl + C to do so. To improve how pip performs, tell us what happened here: https://pip.pypa.io/surveys/backtracking\n",
      "  Downloading beautifulsoup4-4.9.0-py3-none-any.whl (109 kB)\n",
      "  Downloading beautifulsoup4-4.8.2-py3-none-any.whl (106 kB)\n",
      "  Downloading beautifulsoup4-4.8.1-py3-none-any.whl (101 kB)\n",
      "INFO: pip is looking at multiple versions of beautifulsoup4 to determine which version is compatible with other requirements. This could take a while.\n",
      "  Downloading beautifulsoup4-4.8.0-py3-none-any.whl (97 kB)\n",
      "  Downloading beautifulsoup4-4.7.1-py3-none-any.whl (94 kB)\n",
      "  Downloading beautifulsoup4-4.7.0-py3-none-any.whl (92 kB)\n",
      "  Downloading beautifulsoup4-4.6.3-py3-none-any.whl (90 kB)\n",
      "  Downloading beautifulsoup4-4.6.2-py3-none-any.whl (90 kB)\n",
      "INFO: This is taking longer than usual. You might need to provide the dependency resolver with stricter constraints to reduce runtime. If you want to abort this run, you can press Ctrl + C to do so. To improve how pip performs, tell us what happened here: https://pip.pypa.io/surveys/backtracking\n",
      "  Downloading beautifulsoup4-4.6.1-py3-none-any.whl (89 kB)\n",
      "  Downloading beautifulsoup4-4.6.0-py3-none-any.whl (86 kB)\n",
      "INFO: pip is looking at multiple versions of diffimg to determine which version is compatible with other requirements. This could take a while.\n",
      "INFO: pip is looking at multiple versions of trdg to determine which version is compatible with other requirements. This could take a while.\n",
      "Collecting trdg\n",
      "  Downloading trdg-1.6.0-py3-none-any.whl (49.9 MB)\n",
      "Collecting pillow==7.0.0\n",
      "  Downloading Pillow-7.0.0-cp38-cp38-win_amd64.whl (2.0 MB)\n",
      "Requirement already satisfied: numpy>=1.17.3 in c:\\users\\dlwog\\anaconda3\\envs\\cakd5\\lib\\site-packages (from trdg) (1.22.0)\n",
      "Requirement already satisfied: idna<4,>=2.5 in c:\\users\\dlwog\\anaconda3\\envs\\cakd5\\lib\\site-packages (from requests>=2.20.0->trdg) (3.3)\n",
      "Requirement already satisfied: urllib3<1.27,>=1.21.1 in c:\\users\\dlwog\\anaconda3\\envs\\cakd5\\lib\\site-packages (from requests>=2.20.0->trdg) (1.26.8)\n",
      "Requirement already satisfied: charset-normalizer~=2.0.0 in c:\\users\\dlwog\\anaconda3\\envs\\cakd5\\lib\\site-packages (from requests>=2.20.0->trdg) (2.0.11)\n",
      "Requirement already satisfied: certifi>=2017.4.17 in c:\\users\\dlwog\\anaconda3\\envs\\cakd5\\lib\\site-packages (from requests>=2.20.0->trdg) (2021.10.8)\n",
      "Requirement already satisfied: colorama in c:\\users\\dlwog\\anaconda3\\envs\\cakd5\\lib\\site-packages (from tqdm>=4.23.0->trdg) (0.4.4)\n",
      "Building wheels for collected packages: diffimg\n",
      "  Building wheel for diffimg (setup.py): started\n",
      "  Building wheel for diffimg (setup.py): finished with status 'done'\n",
      "  Created wheel for diffimg: filename=diffimg-0.2.3-py3-none-any.whl size=4049 sha256=427a071b16ed44dd68c7e67fe44092cde5f5b3251d4b03a310af2c6a000e3e77\n",
      "  Stored in directory: c:\\users\\dlwog\\appdata\\local\\pip\\cache\\wheels\\b8\\07\\f3\\5e94f9f7d95f9aebeca7245b6f56ae228959d188f8af2929ce\n",
      "Successfully built diffimg\n",
      "Installing collected packages: pillow, diffimg, trdg\n",
      "  Attempting uninstall: pillow\n",
      "    Found existing installation: Pillow 8.2.0\n",
      "    Uninstalling Pillow-8.2.0:\n",
      "      Successfully uninstalled Pillow-8.2.0\n"
     ]
    }
   ],
   "source": [
    "!pip install trdg"
   ]
  },
  {
   "cell_type": "code",
   "execution_count": 5,
   "id": "4bfe38f6",
   "metadata": {},
   "outputs": [
    {
     "name": "stdout",
     "output_type": "stream",
     "text": [
      "Requirement already satisfied: numpy in c:\\users\\dlwog\\anaconda3\\envs\\cakd5\\lib\\site-packages (1.22.0)\n"
     ]
    }
   ],
   "source": [
    "! pip3 install numpy"
   ]
  },
  {
   "cell_type": "code",
   "execution_count": 6,
   "id": "60c13cc0",
   "metadata": {},
   "outputs": [
    {
     "name": "stdout",
     "output_type": "stream",
     "text": [
      "Requirement already satisfied: requests in c:\\users\\dlwog\\anaconda3\\envs\\cakd5\\lib\\site-packages (2.27.1)\n",
      "Requirement already satisfied: charset-normalizer~=2.0.0 in c:\\users\\dlwog\\anaconda3\\envs\\cakd5\\lib\\site-packages (from requests) (2.0.11)\n",
      "Requirement already satisfied: urllib3<1.27,>=1.21.1 in c:\\users\\dlwog\\anaconda3\\envs\\cakd5\\lib\\site-packages (from requests) (1.26.8)\n",
      "Requirement already satisfied: certifi>=2017.4.17 in c:\\users\\dlwog\\anaconda3\\envs\\cakd5\\lib\\site-packages (from requests) (2021.10.8)\n",
      "Requirement already satisfied: idna<4,>=2.5 in c:\\users\\dlwog\\anaconda3\\envs\\cakd5\\lib\\site-packages (from requests) (3.3)\n"
     ]
    }
   ],
   "source": [
    "! pip3 install requests"
   ]
  },
  {
   "cell_type": "code",
   "execution_count": 7,
   "id": "772685f1",
   "metadata": {},
   "outputs": [
    {
     "name": "stdout",
     "output_type": "stream",
     "text": [
      "Requirement already satisfied: opencv-python in c:\\users\\dlwog\\anaconda3\\envs\\cakd5\\lib\\site-packages (4.5.4.60)\n",
      "Requirement already satisfied: numpy>=1.17.3 in c:\\users\\dlwog\\anaconda3\\envs\\cakd5\\lib\\site-packages (from opencv-python) (1.22.0)\n"
     ]
    }
   ],
   "source": [
    "! pip3 install opencv-python"
   ]
  },
  {
   "cell_type": "code",
   "execution_count": 8,
   "id": "90ea0a33",
   "metadata": {},
   "outputs": [
    {
     "name": "stdout",
     "output_type": "stream",
     "text": [
      "Requirement already satisfied: tqdm in c:\\users\\dlwog\\anaconda3\\envs\\cakd5\\lib\\site-packages (4.62.3)\n",
      "Requirement already satisfied: colorama in c:\\users\\dlwog\\anaconda3\\envs\\cakd5\\lib\\site-packages (from tqdm) (0.4.4)\n"
     ]
    }
   ],
   "source": [
    "! pip3 install tqdm"
   ]
  },
  {
   "cell_type": "code",
   "execution_count": 14,
   "id": "39cab461",
   "metadata": {},
   "outputs": [
    {
     "name": "stdout",
     "output_type": "stream",
     "text": [
      "Requirement already satisfied: beautifulsoup4 in c:\\users\\dlwog\\anaconda3\\envs\\cakd5\\lib\\site-packages (4.10.0)\n",
      "Requirement already satisfied: soupsieve>1.2 in c:\\users\\dlwog\\anaconda3\\envs\\cakd5\\lib\\site-packages (from beautifulsoup4) (2.3.1)\n"
     ]
    }
   ],
   "source": [
    "! pip3 install beautifulsoup4"
   ]
  },
  {
   "cell_type": "code",
   "execution_count": 17,
   "id": "4f129eef",
   "metadata": {},
   "outputs": [
    {
     "name": "stdout",
     "output_type": "stream",
     "text": [
      "Collecting diffimg\n",
      "  Downloading diffimg-0.3.0.tar.gz (4.3 kB)\n",
      "Requirement already satisfied: Pillow>=4.3 in c:\\users\\dlwog\\anaconda3\\envs\\cakd5\\lib\\site-packages (from diffimg) (8.2.0)\n",
      "Building wheels for collected packages: diffimg\n",
      "  Building wheel for diffimg (setup.py): started\n",
      "  Building wheel for diffimg (setup.py): finished with status 'done'\n",
      "  Created wheel for diffimg: filename=diffimg-0.3.0-py3-none-any.whl size=4208 sha256=a025c611623659fe8eab45cd89322ff810f5bff1199418899362d894a5af3bcc\n",
      "  Stored in directory: c:\\users\\dlwog\\appdata\\local\\pip\\cache\\wheels\\be\\2f\\71\\fb1c93d0e8b5e595d0da60ba9b56088ec1cafa11bf8581c3df\n",
      "Successfully built diffimg\n",
      "Installing collected packages: diffimg\n",
      "Successfully installed diffimg-0.3.0\n"
     ]
    }
   ],
   "source": [
    "! pip3 install  diffimg"
   ]
  },
  {
   "cell_type": "code",
   "execution_count": 11,
   "id": "3540eda4",
   "metadata": {},
   "outputs": [
    {
     "name": "stdout",
     "output_type": "stream",
     "text": [
      "Requirement already satisfied: tensorflow in c:\\users\\dlwog\\anaconda3\\envs\\cakd5\\lib\\site-packages (2.8.0)\n",
      "Requirement already satisfied: keras-preprocessing>=1.1.1 in c:\\users\\dlwog\\anaconda3\\envs\\cakd5\\lib\\site-packages (from tensorflow) (1.1.2)\n",
      "Requirement already satisfied: wrapt>=1.11.0 in c:\\users\\dlwog\\anaconda3\\envs\\cakd5\\lib\\site-packages (from tensorflow) (1.13.3)\n",
      "Requirement already satisfied: astunparse>=1.6.0 in c:\\users\\dlwog\\anaconda3\\envs\\cakd5\\lib\\site-packages (from tensorflow) (1.6.3)\n",
      "Requirement already satisfied: grpcio<2.0,>=1.24.3 in c:\\users\\dlwog\\anaconda3\\envs\\cakd5\\lib\\site-packages (from tensorflow) (1.43.0)\n",
      "Requirement already satisfied: tensorboard<2.9,>=2.8 in c:\\users\\dlwog\\anaconda3\\envs\\cakd5\\lib\\site-packages (from tensorflow) (2.8.0)\n",
      "Requirement already satisfied: h5py>=2.9.0 in c:\\users\\dlwog\\anaconda3\\envs\\cakd5\\lib\\site-packages (from tensorflow) (3.6.0)\n",
      "Requirement already satisfied: opt-einsum>=2.3.2 in c:\\users\\dlwog\\anaconda3\\envs\\cakd5\\lib\\site-packages (from tensorflow) (3.3.0)\n",
      "Requirement already satisfied: flatbuffers>=1.12 in c:\\users\\dlwog\\anaconda3\\envs\\cakd5\\lib\\site-packages (from tensorflow) (2.0)\n",
      "Requirement already satisfied: tensorflow-io-gcs-filesystem>=0.23.1 in c:\\users\\dlwog\\anaconda3\\envs\\cakd5\\lib\\site-packages (from tensorflow) (0.24.0)\n",
      "Requirement already satisfied: typing-extensions>=3.6.6 in c:\\users\\dlwog\\anaconda3\\envs\\cakd5\\lib\\site-packages (from tensorflow) (4.1.1)\n",
      "Requirement already satisfied: numpy>=1.20 in c:\\users\\dlwog\\anaconda3\\envs\\cakd5\\lib\\site-packages (from tensorflow) (1.22.0)\n",
      "Requirement already satisfied: gast>=0.2.1 in c:\\users\\dlwog\\anaconda3\\envs\\cakd5\\lib\\site-packages (from tensorflow) (0.5.3)\n",
      "Requirement already satisfied: keras<2.9,>=2.8.0rc0 in c:\\users\\dlwog\\anaconda3\\envs\\cakd5\\lib\\site-packages (from tensorflow) (2.8.0)\n",
      "Requirement already satisfied: termcolor>=1.1.0 in c:\\users\\dlwog\\anaconda3\\envs\\cakd5\\lib\\site-packages (from tensorflow) (1.1.0)\n",
      "Requirement already satisfied: libclang>=9.0.1 in c:\\users\\dlwog\\anaconda3\\envs\\cakd5\\lib\\site-packages (from tensorflow) (13.0.0)\n",
      "Requirement already satisfied: tf-estimator-nightly==2.8.0.dev2021122109 in c:\\users\\dlwog\\anaconda3\\envs\\cakd5\\lib\\site-packages (from tensorflow) (2.8.0.dev2021122109)\n",
      "Requirement already satisfied: protobuf>=3.9.2 in c:\\users\\dlwog\\anaconda3\\envs\\cakd5\\lib\\site-packages (from tensorflow) (3.19.4)\n",
      "Requirement already satisfied: setuptools in c:\\users\\dlwog\\anaconda3\\envs\\cakd5\\lib\\site-packages (from tensorflow) (58.0.4)\n",
      "Requirement already satisfied: google-pasta>=0.1.1 in c:\\users\\dlwog\\anaconda3\\envs\\cakd5\\lib\\site-packages (from tensorflow) (0.2.0)\n",
      "Requirement already satisfied: six>=1.12.0 in c:\\users\\dlwog\\anaconda3\\envs\\cakd5\\lib\\site-packages (from tensorflow) (1.16.0)\n",
      "Requirement already satisfied: absl-py>=0.4.0 in c:\\users\\dlwog\\anaconda3\\envs\\cakd5\\lib\\site-packages (from tensorflow) (1.0.0)\n",
      "Requirement already satisfied: wheel<1.0,>=0.23.0 in c:\\users\\dlwog\\anaconda3\\envs\\cakd5\\lib\\site-packages (from astunparse>=1.6.0->tensorflow) (0.37.0)\n",
      "Requirement already satisfied: tensorboard-data-server<0.7.0,>=0.6.0 in c:\\users\\dlwog\\anaconda3\\envs\\cakd5\\lib\\site-packages (from tensorboard<2.9,>=2.8->tensorflow) (0.6.1)\n",
      "Requirement already satisfied: google-auth-oauthlib<0.5,>=0.4.1 in c:\\users\\dlwog\\anaconda3\\envs\\cakd5\\lib\\site-packages (from tensorboard<2.9,>=2.8->tensorflow) (0.4.6)\n",
      "Requirement already satisfied: google-auth<3,>=1.6.3 in c:\\users\\dlwog\\anaconda3\\envs\\cakd5\\lib\\site-packages (from tensorboard<2.9,>=2.8->tensorflow) (2.6.0)\n",
      "Requirement already satisfied: tensorboard-plugin-wit>=1.6.0 in c:\\users\\dlwog\\anaconda3\\envs\\cakd5\\lib\\site-packages (from tensorboard<2.9,>=2.8->tensorflow) (1.8.1)\n",
      "Requirement already satisfied: requests<3,>=2.21.0 in c:\\users\\dlwog\\anaconda3\\envs\\cakd5\\lib\\site-packages (from tensorboard<2.9,>=2.8->tensorflow) (2.27.1)\n",
      "Requirement already satisfied: werkzeug>=0.11.15 in c:\\users\\dlwog\\anaconda3\\envs\\cakd5\\lib\\site-packages (from tensorboard<2.9,>=2.8->tensorflow) (2.0.3)\n",
      "Requirement already satisfied: markdown>=2.6.8 in c:\\users\\dlwog\\anaconda3\\envs\\cakd5\\lib\\site-packages (from tensorboard<2.9,>=2.8->tensorflow) (3.3.6)\n",
      "Requirement already satisfied: rsa<5,>=3.1.4 in c:\\users\\dlwog\\anaconda3\\envs\\cakd5\\lib\\site-packages (from google-auth<3,>=1.6.3->tensorboard<2.9,>=2.8->tensorflow) (4.8)\n",
      "Requirement already satisfied: cachetools<6.0,>=2.0.0 in c:\\users\\dlwog\\anaconda3\\envs\\cakd5\\lib\\site-packages (from google-auth<3,>=1.6.3->tensorboard<2.9,>=2.8->tensorflow) (5.0.0)\n",
      "Requirement already satisfied: pyasn1-modules>=0.2.1 in c:\\users\\dlwog\\anaconda3\\envs\\cakd5\\lib\\site-packages (from google-auth<3,>=1.6.3->tensorboard<2.9,>=2.8->tensorflow) (0.2.8)\n",
      "Requirement already satisfied: requests-oauthlib>=0.7.0 in c:\\users\\dlwog\\anaconda3\\envs\\cakd5\\lib\\site-packages (from google-auth-oauthlib<0.5,>=0.4.1->tensorboard<2.9,>=2.8->tensorflow) (1.3.1)\n",
      "Requirement already satisfied: importlib-metadata>=4.4 in c:\\users\\dlwog\\anaconda3\\envs\\cakd5\\lib\\site-packages (from markdown>=2.6.8->tensorboard<2.9,>=2.8->tensorflow) (4.8.2)\n",
      "Requirement already satisfied: zipp>=0.5 in c:\\users\\dlwog\\anaconda3\\envs\\cakd5\\lib\\site-packages (from importlib-metadata>=4.4->markdown>=2.6.8->tensorboard<2.9,>=2.8->tensorflow) (3.6.0)\n",
      "Requirement already satisfied: pyasn1<0.5.0,>=0.4.6 in c:\\users\\dlwog\\anaconda3\\envs\\cakd5\\lib\\site-packages (from pyasn1-modules>=0.2.1->google-auth<3,>=1.6.3->tensorboard<2.9,>=2.8->tensorflow) (0.4.8)\n",
      "Requirement already satisfied: idna<4,>=2.5 in c:\\users\\dlwog\\anaconda3\\envs\\cakd5\\lib\\site-packages (from requests<3,>=2.21.0->tensorboard<2.9,>=2.8->tensorflow) (3.3)\n",
      "Requirement already satisfied: urllib3<1.27,>=1.21.1 in c:\\users\\dlwog\\anaconda3\\envs\\cakd5\\lib\\site-packages (from requests<3,>=2.21.0->tensorboard<2.9,>=2.8->tensorflow) (1.26.8)\n",
      "Requirement already satisfied: charset-normalizer~=2.0.0 in c:\\users\\dlwog\\anaconda3\\envs\\cakd5\\lib\\site-packages (from requests<3,>=2.21.0->tensorboard<2.9,>=2.8->tensorflow) (2.0.11)\n",
      "Requirement already satisfied: certifi>=2017.4.17 in c:\\users\\dlwog\\anaconda3\\envs\\cakd5\\lib\\site-packages (from requests<3,>=2.21.0->tensorboard<2.9,>=2.8->tensorflow) (2021.10.8)\n",
      "Requirement already satisfied: oauthlib>=3.0.0 in c:\\users\\dlwog\\anaconda3\\envs\\cakd5\\lib\\site-packages (from requests-oauthlib>=0.7.0->google-auth-oauthlib<0.5,>=0.4.1->tensorboard<2.9,>=2.8->tensorflow) (3.2.0)\n"
     ]
    }
   ],
   "source": [
    "! pip3 install tensorflow"
   ]
  },
  {
   "cell_type": "code",
   "execution_count": 12,
   "id": "32816e2a",
   "metadata": {},
   "outputs": [
    {
     "name": "stdout",
     "output_type": "stream",
     "text": [
      "Requirement already satisfied: matplotlib in c:\\users\\dlwog\\anaconda3\\envs\\cakd5\\lib\\site-packages (3.5.1)\n",
      "Requirement already satisfied: kiwisolver>=1.0.1 in c:\\users\\dlwog\\anaconda3\\envs\\cakd5\\lib\\site-packages (from matplotlib) (1.3.2)\n",
      "Requirement already satisfied: pillow>=6.2.0 in c:\\users\\dlwog\\anaconda3\\envs\\cakd5\\lib\\site-packages (from matplotlib) (8.2.0)\n",
      "Requirement already satisfied: python-dateutil>=2.7 in c:\\users\\dlwog\\anaconda3\\envs\\cakd5\\lib\\site-packages (from matplotlib) (2.8.2)\n",
      "Requirement already satisfied: cycler>=0.10 in c:\\users\\dlwog\\anaconda3\\envs\\cakd5\\lib\\site-packages (from matplotlib) (0.11.0)\n",
      "Requirement already satisfied: packaging>=20.0 in c:\\users\\dlwog\\anaconda3\\envs\\cakd5\\lib\\site-packages (from matplotlib) (21.3)\n",
      "Requirement already satisfied: numpy>=1.17 in c:\\users\\dlwog\\anaconda3\\envs\\cakd5\\lib\\site-packages (from matplotlib) (1.22.0)\n",
      "Requirement already satisfied: pyparsing>=2.2.1 in c:\\users\\dlwog\\anaconda3\\envs\\cakd5\\lib\\site-packages (from matplotlib) (3.0.4)\n",
      "Requirement already satisfied: fonttools>=4.22.0 in c:\\users\\dlwog\\anaconda3\\envs\\cakd5\\lib\\site-packages (from matplotlib) (4.28.5)\n",
      "Requirement already satisfied: six>=1.5 in c:\\users\\dlwog\\anaconda3\\envs\\cakd5\\lib\\site-packages (from python-dateutil>=2.7->matplotlib) (1.16.0)\n"
     ]
    }
   ],
   "source": [
    "!pip3 install matplotlib"
   ]
  },
  {
   "cell_type": "code",
   "execution_count": 13,
   "id": "e6b99f4e",
   "metadata": {},
   "outputs": [
    {
     "name": "stdout",
     "output_type": "stream",
     "text": [
      "Requirement already satisfied: seaborn in c:\\users\\dlwog\\anaconda3\\envs\\cakd5\\lib\\site-packages (0.11.2)\n",
      "Requirement already satisfied: pandas>=0.23 in c:\\users\\dlwog\\anaconda3\\envs\\cakd5\\lib\\site-packages (from seaborn) (1.3.5)\n",
      "Requirement already satisfied: numpy>=1.15 in c:\\users\\dlwog\\anaconda3\\envs\\cakd5\\lib\\site-packages (from seaborn) (1.22.0)\n",
      "Requirement already satisfied: matplotlib>=2.2 in c:\\users\\dlwog\\anaconda3\\envs\\cakd5\\lib\\site-packages (from seaborn) (3.5.1)\n",
      "Requirement already satisfied: scipy>=1.0 in c:\\users\\dlwog\\anaconda3\\envs\\cakd5\\lib\\site-packages (from seaborn) (1.7.3)\n",
      "Requirement already satisfied: cycler>=0.10 in c:\\users\\dlwog\\anaconda3\\envs\\cakd5\\lib\\site-packages (from matplotlib>=2.2->seaborn) (0.11.0)\n",
      "Requirement already satisfied: kiwisolver>=1.0.1 in c:\\users\\dlwog\\anaconda3\\envs\\cakd5\\lib\\site-packages (from matplotlib>=2.2->seaborn) (1.3.2)\n",
      "Requirement already satisfied: fonttools>=4.22.0 in c:\\users\\dlwog\\anaconda3\\envs\\cakd5\\lib\\site-packages (from matplotlib>=2.2->seaborn) (4.28.5)\n",
      "Requirement already satisfied: python-dateutil>=2.7 in c:\\users\\dlwog\\anaconda3\\envs\\cakd5\\lib\\site-packages (from matplotlib>=2.2->seaborn) (2.8.2)\n",
      "Requirement already satisfied: pyparsing>=2.2.1 in c:\\users\\dlwog\\anaconda3\\envs\\cakd5\\lib\\site-packages (from matplotlib>=2.2->seaborn) (3.0.4)\n",
      "Requirement already satisfied: packaging>=20.0 in c:\\users\\dlwog\\anaconda3\\envs\\cakd5\\lib\\site-packages (from matplotlib>=2.2->seaborn) (21.3)\n",
      "Requirement already satisfied: pillow>=6.2.0 in c:\\users\\dlwog\\anaconda3\\envs\\cakd5\\lib\\site-packages (from matplotlib>=2.2->seaborn) (8.2.0)\n",
      "Requirement already satisfied: pytz>=2017.3 in c:\\users\\dlwog\\anaconda3\\envs\\cakd5\\lib\\site-packages (from pandas>=0.23->seaborn) (2021.3)\n",
      "Requirement already satisfied: six>=1.5 in c:\\users\\dlwog\\anaconda3\\envs\\cakd5\\lib\\site-packages (from python-dateutil>=2.7->matplotlib>=2.2->seaborn) (1.16.0)\n"
     ]
    }
   ],
   "source": [
    "! pip3 install seaborn"
   ]
  },
  {
   "cell_type": "code",
   "execution_count": 20,
   "id": "f5eb4e2e",
   "metadata": {},
   "outputs": [
    {
     "name": "stderr",
     "output_type": "stream",
     "text": [
      "Python\n"
     ]
    }
   ],
   "source": [
    "! python3 run.py -c 10"
   ]
  },
  {
   "cell_type": "code",
   "execution_count": 1,
   "id": "56315c99",
   "metadata": {},
   "outputs": [
    {
     "data": {
      "text/plain": [
       "'C:\\\\cakd5\\\\workspace\\\\programming\\\\crawling'"
      ]
     },
     "execution_count": 1,
     "metadata": {},
     "output_type": "execute_result"
    }
   ],
   "source": [
    "%pwd\n"
   ]
  },
  {
   "cell_type": "code",
   "execution_count": 4,
   "id": "b1d37599",
   "metadata": {
    "scrolled": true
   },
   "outputs": [
    {
     "ename": "FileNotFoundError",
     "evalue": "[WinError 3] 지정된 경로를 찾을 수 없습니다: './TextRecognitionDataGenerator/trdg'",
     "output_type": "error",
     "traceback": [
      "\u001b[1;31m---------------------------------------------------------------------------\u001b[0m",
      "\u001b[1;31mFileNotFoundError\u001b[0m                         Traceback (most recent call last)",
      "\u001b[1;32m~\\AppData\\Local\\Temp/ipykernel_13532/110395268.py\u001b[0m in \u001b[0;36m<module>\u001b[1;34m\u001b[0m\n\u001b[0;32m      1\u001b[0m \u001b[1;32mimport\u001b[0m \u001b[0mos\u001b[0m\u001b[1;33m\u001b[0m\u001b[1;33m\u001b[0m\u001b[0m\n\u001b[1;32m----> 2\u001b[1;33m \u001b[0mos\u001b[0m\u001b[1;33m.\u001b[0m\u001b[0mchdir\u001b[0m\u001b[1;33m(\u001b[0m\u001b[1;34m'./TextRecognitionDataGenerator/trdg'\u001b[0m\u001b[1;33m)\u001b[0m\u001b[1;33m\u001b[0m\u001b[1;33m\u001b[0m\u001b[0m\n\u001b[0m\u001b[0;32m      3\u001b[0m \u001b[0mget_ipython\u001b[0m\u001b[1;33m(\u001b[0m\u001b[1;33m)\u001b[0m\u001b[1;33m.\u001b[0m\u001b[0msystem\u001b[0m\u001b[1;33m(\u001b[0m\u001b[1;34m'python run.py -c 10'\u001b[0m\u001b[1;33m)\u001b[0m\u001b[1;33m\u001b[0m\u001b[1;33m\u001b[0m\u001b[0m\n",
      "\u001b[1;31mFileNotFoundError\u001b[0m: [WinError 3] 지정된 경로를 찾을 수 없습니다: './TextRecognitionDataGenerator/trdg'"
     ]
    }
   ],
   "source": [
    "import os\n",
    "os.chdir('./TextRecognitionDataGenerator/trdg')\n"
   ]
  },
  {
   "cell_type": "code",
   "execution_count": 5,
   "id": "a9228fbd",
   "metadata": {},
   "outputs": [
    {
     "name": "stderr",
     "output_type": "stream",
     "text": [
      "2022-02-16 16:43:17.878498: W tensorflow/stream_executor/platform/default/dso_loader.cc:64] Could not load dynamic library 'cudart64_110.dll'; dlerror: cudart64_110.dll not found\n",
      "2022-02-16 16:43:17.879843: I tensorflow/stream_executor/cuda/cudart_stub.cc:29] Ignore above cudart dlerror if you do not have a GPU set up on your machine.\n",
      "\n",
      "  0%|          | 0/10 [00:00<?, ?it/s]2022-02-16 16:43:42.596181: W tensorflow/stream_executor/platform/default/dso_loader.cc:64] Could not load dynamic library 'cudart64_110.dll'; dlerror: cudart64_110.dll not found\n",
      "2022-02-16 16:43:42.596248: I tensorflow/stream_executor/cuda/cudart_stub.cc:29] Ignore above cudart dlerror if you do not have a GPU set up on your machine.\n",
      "\n",
      " 10%|#         | 1/10 [00:19<02:56, 19.64s/it]\n",
      " 40%|####      | 4/10 [00:19<00:22,  3.74s/it]\n",
      " 70%|#######   | 7/10 [00:19<00:05,  1.76s/it]\n",
      "100%|##########| 10/10 [00:19<00:00,  2.00s/it]\n"
     ]
    }
   ],
   "source": [
    "!python run.py -c 10"
   ]
  },
  {
   "cell_type": "code",
   "execution_count": 6,
   "id": "053da8c7",
   "metadata": {},
   "outputs": [
    {
     "name": "stderr",
     "output_type": "stream",
     "text": [
      "2022-02-16 17:23:36.565064: W tensorflow/stream_executor/platform/default/dso_loader.cc:64] Could not load dynamic library 'cudart64_110.dll'; dlerror: cudart64_110.dll not found\n",
      "2022-02-16 17:23:36.566605: I tensorflow/stream_executor/cuda/cudart_stub.cc:29] Ignore above cudart dlerror if you do not have a GPU set up on your machine.\n",
      "\n",
      "  0%|          | 0/10 [00:00<?, ?it/s]2022-02-16 17:23:56.293874: W tensorflow/stream_executor/platform/default/dso_loader.cc:64] Could not load dynamic library 'cudart64_110.dll'; dlerror: cudart64_110.dll not found\n",
      "2022-02-16 17:23:56.293939: I tensorflow/stream_executor/cuda/cudart_stub.cc:29] Ignore above cudart dlerror if you do not have a GPU set up on your machine.\n",
      "\n",
      " 10%|#         | 1/10 [00:17<02:33, 17.03s/it]\n",
      "100%|##########| 10/10 [00:17<00:00,  1.71s/it]\n"
     ]
    }
   ],
   "source": [
    "!python run.py -c 10 -l ko"
   ]
  },
  {
   "cell_type": "code",
   "execution_count": 7,
   "id": "04705266",
   "metadata": {},
   "outputs": [
    {
     "name": "stderr",
     "output_type": "stream",
     "text": [
      "2022-02-16 17:24:38.958570: W tensorflow/stream_executor/platform/default/dso_loader.cc:64] Could not load dynamic library 'cudart64_110.dll'; dlerror: cudart64_110.dll not found\n",
      "2022-02-16 17:24:38.958637: I tensorflow/stream_executor/cuda/cudart_stub.cc:29] Ignore above cudart dlerror if you do not have a GPU set up on your machine.\n",
      "\n",
      "  0%|          | 0/1000 [00:00<?, ?it/s]2022-02-16 17:24:53.749913: W tensorflow/stream_executor/platform/default/dso_loader.cc:64] Could not load dynamic library 'cudart64_110.dll'; dlerror: cudart64_110.dll not found\n",
      "2022-02-16 17:24:53.749977: I tensorflow/stream_executor/cuda/cudart_stub.cc:29] Ignore above cudart dlerror if you do not have a GPU set up on your machine.\n",
      "\n",
      "  0%|          | 1/1000 [00:13<3:49:17, 13.77s/it]\n",
      "  0%|          | 5/1000 [00:13<34:28,  2.08s/it]  \n",
      "  1%|          | 9/1000 [00:14<15:46,  1.05it/s]\n",
      "  1%|1         | 14/1000 [00:14<08:06,  2.03it/s]\n",
      "  2%|1         | 19/1000 [00:14<04:52,  3.35it/s]\n",
      "  2%|2         | 24/1000 [00:14<03:11,  5.09it/s]\n",
      "  3%|2         | 29/1000 [00:14<02:14,  7.23it/s]\n",
      "  3%|3         | 33/1000 [00:14<01:44,  9.26it/s]\n",
      "  4%|3         | 37/1000 [00:14<01:23, 11.47it/s]\n",
      "  4%|4         | 41/1000 [00:15<01:17, 12.41it/s]\n",
      "  4%|4         | 44/1000 [00:15<01:13, 13.08it/s]\n",
      "  5%|4         | 47/1000 [00:15<01:06, 14.24it/s]\n",
      "  5%|5         | 50/1000 [00:15<01:04, 14.64it/s]\n",
      "  5%|5         | 53/1000 [00:15<01:06, 14.28it/s]\n",
      "  6%|5         | 55/1000 [00:15<01:04, 14.67it/s]\n",
      "  6%|5         | 58/1000 [00:16<00:58, 16.07it/s]\n",
      "  6%|6         | 62/1000 [00:16<00:46, 20.10it/s]\n",
      "  7%|6         | 67/1000 [00:16<00:35, 26.21it/s]\n",
      "  7%|7         | 73/1000 [00:16<00:28, 32.31it/s]\n",
      "  8%|7         | 77/1000 [00:16<00:27, 33.58it/s]\n",
      "  8%|8         | 82/1000 [00:16<00:25, 35.35it/s]\n",
      "  9%|8         | 87/1000 [00:16<00:23, 38.43it/s]\n",
      "  9%|9         | 94/1000 [00:16<00:19, 46.53it/s]\n",
      " 10%|#         | 100/1000 [00:16<00:17, 50.02it/s]\n",
      " 11%|#         | 106/1000 [00:17<00:20, 44.30it/s]\n",
      " 11%|#1        | 112/1000 [00:17<00:18, 46.87it/s]\n",
      " 12%|#1        | 119/1000 [00:17<00:17, 50.52it/s]\n",
      " 12%|#2        | 125/1000 [00:17<00:17, 48.75it/s]\n",
      " 13%|#3        | 131/1000 [00:17<00:20, 42.52it/s]\n",
      " 14%|#3        | 136/1000 [00:17<00:26, 33.22it/s]\n",
      " 14%|#4        | 140/1000 [00:18<00:28, 29.88it/s]\n",
      " 14%|#4        | 144/1000 [00:18<00:27, 30.85it/s]\n",
      " 15%|#4        | 148/1000 [00:18<00:33, 25.72it/s]\n",
      " 15%|#5        | 151/1000 [00:18<00:32, 25.75it/s]\n",
      " 16%|#5        | 155/1000 [00:18<00:29, 28.64it/s]\n",
      " 16%|#6        | 161/1000 [00:18<00:28, 29.14it/s]\n",
      " 17%|#6        | 168/1000 [00:18<00:22, 37.24it/s]\n",
      " 17%|#7        | 174/1000 [00:19<00:21, 39.03it/s]\n",
      " 18%|#7        | 179/1000 [00:19<00:20, 40.18it/s]\n",
      " 18%|#8        | 184/1000 [00:19<00:19, 40.99it/s]\n",
      " 19%|#9        | 190/1000 [00:19<00:18, 44.41it/s]\n",
      " 20%|#9        | 197/1000 [00:19<00:18, 43.07it/s]\n",
      " 20%|##        | 202/1000 [00:19<00:18, 43.39it/s]\n",
      " 21%|##        | 208/1000 [00:19<00:17, 46.49it/s]\n",
      " 22%|##1       | 215/1000 [00:19<00:15, 50.35it/s]\n",
      " 22%|##2       | 222/1000 [00:20<00:14, 52.57it/s]\n",
      " 23%|##2       | 229/1000 [00:20<00:13, 55.39it/s]\n",
      " 24%|##3       | 235/1000 [00:20<00:24, 30.99it/s]\n",
      " 24%|##4       | 240/1000 [00:20<00:24, 30.63it/s]\n",
      " 24%|##4       | 244/1000 [00:20<00:25, 29.75it/s]\n",
      " 25%|##4       | 248/1000 [00:21<00:27, 27.78it/s]\n",
      " 25%|##5       | 252/1000 [00:21<00:27, 27.49it/s]\n",
      " 26%|##5       | 256/1000 [00:21<00:25, 28.63it/s]\n",
      " 26%|##6       | 261/1000 [00:21<00:22, 32.95it/s]\n",
      " 27%|##6       | 268/1000 [00:21<00:18, 40.65it/s]\n",
      " 28%|##7       | 275/1000 [00:21<00:15, 47.63it/s]\n",
      " 28%|##8       | 281/1000 [00:21<00:16, 44.81it/s]\n",
      " 29%|##8       | 286/1000 [00:21<00:15, 45.76it/s]\n",
      " 29%|##9       | 291/1000 [00:22<00:16, 43.34it/s]\n",
      " 30%|##9       | 299/1000 [00:22<00:13, 50.28it/s]\n",
      " 30%|###       | 305/1000 [00:22<00:14, 48.77it/s]\n",
      " 31%|###1      | 311/1000 [00:22<00:13, 49.38it/s]\n",
      " 32%|###1      | 318/1000 [00:22<00:14, 48.44it/s]\n",
      " 32%|###2      | 324/1000 [00:22<00:13, 51.16it/s]\n",
      " 33%|###3      | 330/1000 [00:22<00:13, 49.48it/s]\n",
      " 34%|###3      | 336/1000 [00:23<00:17, 37.18it/s]\n",
      " 34%|###4      | 341/1000 [00:23<00:17, 37.01it/s]\n",
      " 35%|###4      | 346/1000 [00:23<00:18, 36.01it/s]\n",
      " 35%|###5      | 350/1000 [00:23<00:22, 29.46it/s]\n",
      " 35%|###5      | 354/1000 [00:23<00:26, 24.65it/s]\n",
      " 36%|###5      | 359/1000 [00:23<00:22, 28.03it/s]\n",
      " 36%|###6      | 364/1000 [00:24<00:20, 31.72it/s]\n",
      " 37%|###7      | 372/1000 [00:24<00:15, 41.59it/s]\n",
      " 38%|###7      | 379/1000 [00:24<00:13, 45.11it/s]\n",
      " 38%|###8      | 384/1000 [00:24<00:13, 44.07it/s]\n",
      " 39%|###9      | 390/1000 [00:24<00:13, 46.84it/s]\n",
      " 40%|###9      | 397/1000 [00:24<00:11, 52.71it/s]\n",
      " 40%|####      | 405/1000 [00:24<00:10, 58.16it/s]\n",
      " 41%|####1     | 412/1000 [00:24<00:11, 52.82it/s]\n",
      " 42%|####1     | 418/1000 [00:25<00:11, 50.12it/s]\n",
      " 42%|####2     | 424/1000 [00:25<00:11, 50.81it/s]\n",
      " 43%|####3     | 431/1000 [00:25<00:10, 54.60it/s]\n",
      " 44%|####3     | 438/1000 [00:25<00:09, 57.30it/s]\n",
      " 44%|####4     | 444/1000 [00:25<00:09, 56.52it/s]\n",
      " 45%|####5     | 450/1000 [00:25<00:15, 34.63it/s]\n",
      " 46%|####5     | 455/1000 [00:26<00:17, 30.88it/s]\n",
      " 46%|####5     | 459/1000 [00:26<00:17, 31.13it/s]\n",
      " 46%|####6     | 463/1000 [00:26<00:16, 32.07it/s]\n",
      " 47%|####6     | 467/1000 [00:26<00:16, 31.41it/s]\n",
      " 47%|####7     | 471/1000 [00:26<00:18, 28.33it/s]\n",
      " 48%|####7     | 476/1000 [00:26<00:16, 32.62it/s]\n",
      " 48%|####8     | 482/1000 [00:26<00:13, 37.59it/s]\n",
      " 49%|####8     | 489/1000 [00:26<00:11, 45.17it/s]\n",
      " 50%|####9     | 495/1000 [00:26<00:10, 48.52it/s]\n",
      " 50%|#####     | 501/1000 [00:27<00:11, 44.49it/s]\n",
      " 51%|#####     | 507/1000 [00:27<00:10, 46.80it/s]\n",
      " 52%|#####1    | 515/1000 [00:27<00:08, 54.02it/s]\n",
      " 52%|#####2    | 522/1000 [00:27<00:08, 57.01it/s]\n",
      " 53%|#####2    | 528/1000 [00:27<00:11, 42.44it/s]\n",
      " 53%|#####3    | 534/1000 [00:27<00:11, 41.35it/s]\n",
      " 54%|#####4    | 540/1000 [00:28<00:11, 39.48it/s]\n",
      " 55%|#####4    | 545/1000 [00:28<00:11, 39.06it/s]\n",
      " 55%|#####5    | 550/1000 [00:28<00:14, 30.07it/s]\n",
      " 55%|#####5    | 554/1000 [00:28<00:18, 24.30it/s]\n",
      " 56%|#####5    | 558/1000 [00:28<00:17, 25.21it/s]\n",
      " 56%|#####6    | 561/1000 [00:29<00:18, 23.94it/s]\n",
      " 56%|#####6    | 565/1000 [00:29<00:16, 26.55it/s]\n",
      " 57%|#####6    | 569/1000 [00:29<00:14, 29.00it/s]\n",
      " 57%|#####7    | 575/1000 [00:29<00:12, 34.05it/s]\n",
      " 58%|#####8    | 582/1000 [00:29<00:09, 42.25it/s]\n",
      " 59%|#####8    | 590/1000 [00:29<00:08, 50.12it/s]\n",
      " 60%|#####9    | 597/1000 [00:29<00:07, 51.68it/s]\n",
      " 60%|######    | 603/1000 [00:29<00:08, 48.25it/s]\n",
      " 61%|######    | 609/1000 [00:29<00:07, 49.17it/s]\n",
      " 62%|######1   | 616/1000 [00:30<00:07, 53.49it/s]\n",
      " 62%|######2   | 622/1000 [00:30<00:07, 53.25it/s]\n",
      " 63%|######2   | 628/1000 [00:30<00:07, 52.94it/s]\n",
      " 63%|######3   | 634/1000 [00:30<00:06, 54.26it/s]\n",
      " 64%|######4   | 640/1000 [00:30<00:06, 55.19it/s]\n",
      " 65%|######4   | 647/1000 [00:30<00:05, 59.11it/s]\n",
      " 65%|######5   | 653/1000 [00:30<00:05, 58.77it/s]\n",
      " 66%|######5   | 659/1000 [00:31<00:10, 31.16it/s]\n",
      " 66%|######6   | 664/1000 [00:31<00:10, 31.80it/s]\n",
      " 67%|######6   | 669/1000 [00:31<00:10, 31.66it/s]\n",
      " 67%|######7   | 673/1000 [00:31<00:12, 25.78it/s]\n",
      " 68%|######7   | 677/1000 [00:31<00:11, 27.34it/s]\n",
      " 68%|######8   | 681/1000 [00:31<00:11, 27.97it/s]\n",
      " 68%|######8   | 685/1000 [00:32<00:10, 28.74it/s]\n",
      " 69%|######9   | 690/1000 [00:32<00:09, 33.07it/s]\n",
      " 70%|######9   | 697/1000 [00:32<00:07, 40.30it/s]\n",
      " 70%|#######   | 702/1000 [00:32<00:08, 36.97it/s]\n",
      " 71%|#######   | 708/1000 [00:32<00:07, 40.28it/s]\n",
      " 71%|#######1  | 714/1000 [00:32<00:06, 43.60it/s]\n",
      " 72%|#######2  | 721/1000 [00:32<00:05, 50.15it/s]\n",
      " 73%|#######2  | 727/1000 [00:32<00:05, 51.79it/s]\n",
      " 73%|#######3  | 733/1000 [00:33<00:05, 46.07it/s]\n",
      " 74%|#######4  | 740/1000 [00:33<00:05, 50.92it/s]\n",
      " 75%|#######4  | 747/1000 [00:33<00:04, 54.08it/s]\n",
      " 75%|#######5  | 754/1000 [00:33<00:04, 56.49it/s]\n",
      " 76%|#######6  | 760/1000 [00:33<00:05, 42.57it/s]\n",
      " 76%|#######6  | 765/1000 [00:33<00:05, 40.23it/s]\n",
      " 77%|#######7  | 770/1000 [00:33<00:05, 38.94it/s]\n",
      " 78%|#######7  | 775/1000 [00:34<00:06, 34.25it/s]\n",
      " 78%|#######7  | 779/1000 [00:34<00:08, 24.70it/s]\n",
      " 78%|#######8  | 782/1000 [00:34<00:08, 25.58it/s]\n",
      " 78%|#######8  | 785/1000 [00:34<00:08, 26.15it/s]\n",
      " 79%|#######9  | 791/1000 [00:34<00:06, 32.46it/s]\n",
      " 80%|#######9  | 799/1000 [00:34<00:04, 42.14it/s]\n",
      " 80%|########  | 805/1000 [00:34<00:04, 46.03it/s]\n",
      " 81%|########1 | 810/1000 [00:35<00:04, 43.39it/s]\n",
      " 82%|########1 | 817/1000 [00:35<00:03, 48.99it/s]\n",
      " 82%|########2 | 823/1000 [00:35<00:03, 48.82it/s]\n",
      " 83%|########2 | 830/1000 [00:35<00:03, 53.49it/s]\n",
      " 84%|########3 | 836/1000 [00:35<00:03, 44.72it/s]\n",
      " 84%|########4 | 841/1000 [00:35<00:03, 42.84it/s]\n",
      " 85%|########4 | 846/1000 [00:35<00:03, 44.14it/s]\n",
      " 85%|########5 | 853/1000 [00:35<00:03, 48.34it/s]\n",
      " 86%|########5 | 858/1000 [00:36<00:03, 47.20it/s]\n",
      " 86%|########6 | 863/1000 [00:37<00:09, 14.36it/s]\n",
      " 87%|########6 | 867/1000 [00:37<00:10, 12.43it/s]\n",
      " 87%|########7 | 870/1000 [00:37<00:09, 13.79it/s]\n",
      " 87%|########7 | 873/1000 [00:37<00:08, 15.21it/s]\n",
      " 88%|########7 | 876/1000 [00:37<00:07, 16.68it/s]\n",
      " 88%|########8 | 881/1000 [00:37<00:05, 22.00it/s]\n",
      " 89%|########8 | 888/1000 [00:38<00:03, 29.19it/s]\n",
      " 89%|########9 | 893/1000 [00:38<00:03, 32.28it/s]\n",
      " 90%|########9 | 899/1000 [00:38<00:02, 38.07it/s]\n",
      " 91%|######### | 906/1000 [00:38<00:02, 45.45it/s]\n",
      " 91%|#########1| 913/1000 [00:38<00:01, 51.36it/s]\n",
      " 92%|#########2| 920/1000 [00:38<00:01, 55.26it/s]\n",
      " 93%|#########2| 926/1000 [00:38<00:01, 44.73it/s]\n",
      " 93%|#########3| 932/1000 [00:39<00:01, 38.43it/s]\n",
      " 94%|#########3| 937/1000 [00:39<00:01, 36.70it/s]\n",
      " 94%|#########4| 942/1000 [00:39<00:01, 31.14it/s]\n",
      " 95%|#########4| 946/1000 [00:39<00:01, 30.02it/s]\n",
      " 95%|#########5| 950/1000 [00:39<00:01, 25.72it/s]\n",
      " 95%|#########5| 953/1000 [00:39<00:02, 23.07it/s]\n",
      " 96%|#########5| 956/1000 [00:40<00:02, 16.63it/s]\n",
      " 96%|#########5| 959/1000 [00:40<00:02, 18.20it/s]\n",
      " 96%|#########6| 963/1000 [00:40<00:01, 21.32it/s]\n",
      " 97%|#########6| 966/1000 [00:40<00:01, 22.58it/s]\n",
      " 97%|#########6| 969/1000 [00:40<00:01, 21.75it/s]\n",
      " 97%|#########7| 973/1000 [00:40<00:01, 25.01it/s]\n",
      " 98%|#########7| 977/1000 [00:41<00:00, 26.99it/s]\n",
      " 98%|#########8| 981/1000 [00:41<00:00, 29.06it/s]\n",
      " 99%|#########8| 986/1000 [00:41<00:00, 32.33it/s]\n",
      " 99%|#########9| 992/1000 [00:41<00:00, 37.04it/s]\n",
      "100%|#########9| 996/1000 [00:41<00:00, 34.89it/s]\n",
      "100%|##########| 1000/1000 [00:41<00:00, 21.10it/s]\n",
      "100%|##########| 1000/1000 [00:41<00:00, 23.83it/s]\n"
     ]
    }
   ],
   "source": [
    "!python run.py -c 1000"
   ]
  },
  {
   "cell_type": "code",
   "execution_count": null,
   "id": "bcdee9c3",
   "metadata": {},
   "outputs": [],
   "source": []
  },
  {
   "cell_type": "code",
   "execution_count": null,
   "id": "74193d87",
   "metadata": {},
   "outputs": [],
   "source": []
  },
  {
   "cell_type": "code",
   "execution_count": null,
   "id": "dd555cb7",
   "metadata": {},
   "outputs": [],
   "source": []
  },
  {
   "cell_type": "code",
   "execution_count": null,
   "id": "b3d06368",
   "metadata": {},
   "outputs": [],
   "source": []
  },
  {
   "cell_type": "code",
   "execution_count": null,
   "id": "d17dd25d",
   "metadata": {},
   "outputs": [],
   "source": []
  },
  {
   "cell_type": "code",
   "execution_count": null,
   "id": "902fc402",
   "metadata": {},
   "outputs": [],
   "source": []
  },
  {
   "cell_type": "code",
   "execution_count": null,
   "id": "3b0309df",
   "metadata": {},
   "outputs": [],
   "source": []
  }
 ],
 "metadata": {
  "kernelspec": {
   "display_name": "Python 3 (ipykernel)",
   "language": "python",
   "name": "python3"
  },
  "language_info": {
   "codemirror_mode": {
    "name": "ipython",
    "version": 3
   },
   "file_extension": ".py",
   "mimetype": "text/x-python",
   "name": "python",
   "nbconvert_exporter": "python",
   "pygments_lexer": "ipython3",
   "version": "3.8.12"
  }
 },
 "nbformat": 4,
 "nbformat_minor": 5
}

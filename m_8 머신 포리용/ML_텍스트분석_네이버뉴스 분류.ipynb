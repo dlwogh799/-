{
 "cells": [
  {
   "cell_type": "markdown",
   "id": "8aa342aa",
   "metadata": {},
   "source": [
    "[과제https://news.naver.com/사이트에서 4개의 뉴스 카테고리를 선택해서 뉴스기사를 크롤링한후 다음을 수행\n",
    "\n",
    "- 뉴스기사 카테고리별 저장\n",
    "- 텍스트 전처리 및 피처 벡터화\n",
    "- 모델링 및 평가(성능개선)"
   ]
  },
  {
   "cell_type": "code",
   "execution_count": null,
   "id": "14b92732",
   "metadata": {},
   "outputs": [],
   "source": []
  },
  {
   "cell_type": "code",
   "execution_count": null,
   "id": "04f5705e",
   "metadata": {},
   "outputs": [],
   "source": []
  }
 ],
 "metadata": {
  "kernelspec": {
   "display_name": "Python 3 (ipykernel)",
   "language": "python",
   "name": "python3"
  },
  "language_info": {
   "codemirror_mode": {
    "name": "ipython",
    "version": 3
   },
   "file_extension": ".py",
   "mimetype": "text/x-python",
   "name": "python",
   "nbconvert_exporter": "python",
   "pygments_lexer": "ipython3",
   "version": "3.8.12"
  }
 },
 "nbformat": 4,
 "nbformat_minor": 5
}

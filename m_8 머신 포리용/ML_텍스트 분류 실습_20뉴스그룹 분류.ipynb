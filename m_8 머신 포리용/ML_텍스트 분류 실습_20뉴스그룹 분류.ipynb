{
 "cells": [
  {
   "cell_type": "code",
   "execution_count": 1,
   "id": "9015092d",
   "metadata": {},
   "outputs": [
    {
     "data": {
      "text/plain": [
       "dict_keys(['data', 'filenames', 'target_names', 'target', 'DESCR'])"
      ]
     },
     "execution_count": 1,
     "metadata": {},
     "output_type": "execute_result"
    }
   ],
   "source": [
    "from sklearn.datasets import fetch_20newsgroups\n",
    "\n",
    "news_data = fetch_20newsgroups(subset='all',random_state=156)\n",
    "\n",
    "news_data.keys()"
   ]
  },
  {
   "cell_type": "code",
   "execution_count": 2,
   "id": "7ef115cc",
   "metadata": {},
   "outputs": [
    {
     "data": {
      "text/plain": [
       "0     799\n",
       "1     973\n",
       "2     985\n",
       "3     982\n",
       "4     963\n",
       "5     988\n",
       "6     975\n",
       "7     990\n",
       "8     996\n",
       "9     994\n",
       "10    999\n",
       "11    991\n",
       "12    984\n",
       "13    990\n",
       "14    987\n",
       "15    997\n",
       "16    910\n",
       "17    940\n",
       "18    775\n",
       "19    628\n",
       "dtype: int64"
      ]
     },
     "execution_count": 2,
     "metadata": {},
     "output_type": "execute_result"
    }
   ],
   "source": [
    "import pandas as pd\n",
    "pd.Series(news_data.target).value_counts().sort_index()"
   ]
  },
  {
   "cell_type": "code",
   "execution_count": 3,
   "id": "fabb408d",
   "metadata": {},
   "outputs": [
    {
     "data": {
      "text/plain": [
       "'From: egreen@east.sun.com (Ed Green - Pixel Cruncher)\\nSubject: Re: Observation re: helmets\\nOrganization: Sun Microsystems, RTP, NC\\nLines: 21\\nDistribution: world\\nReply-To: egreen@east.sun.com\\nNNTP-Posting-Host: laser.east.sun.com\\n\\nIn article 211353@mavenry.altcit.eskimo.com, maven@mavenry.altcit.eskimo.com (Norman Hamer) writes:\\n> \\n> The question for the day is re: passenger helmets, if you don\\'t know for \\n>certain who\\'s gonna ride with you (like say you meet them at a .... church \\n>meeting, yeah, that\\'s the ticket)... What are some guidelines? Should I just \\n>pick up another shoei in my size to have a backup helmet (XL), or should I \\n>maybe get an inexpensive one of a smaller size to accomodate my likely \\n>passenger? \\n\\nIf your primary concern is protecting the passenger in the event of a\\ncrash, have him or her fitted for a helmet that is their size.  If your\\nprimary concern is complying with stupid helmet laws, carry a real big\\nspare (you can put a big or small head in a big helmet, but not in a\\nsmall one).\\n\\n---\\nEd Green, former Ninjaite |I was drinking last night with a biker,\\n  Ed.Green@East.Sun.COM   |and I showed him a picture of you.  I said,\\nDoD #0111  (919)460-8302  |\"Go on, get to know her, you\\'ll like her!\"\\n (The Grateful Dead) -->  |It seemed like the least I could do...\\n\\n'"
      ]
     },
     "execution_count": 3,
     "metadata": {},
     "output_type": "execute_result"
    }
   ],
   "source": [
    "news_data.data[0]"
   ]
  },
  {
   "cell_type": "code",
   "execution_count": 4,
   "id": "0d727e10",
   "metadata": {},
   "outputs": [
    {
     "data": {
      "text/plain": [
       "18846"
      ]
     },
     "execution_count": 4,
     "metadata": {},
     "output_type": "execute_result"
    }
   ],
   "source": [
    "len(news_data.data)"
   ]
  },
  {
   "cell_type": "code",
   "execution_count": null,
   "id": "43f6d6a6",
   "metadata": {},
   "outputs": [],
   "source": []
  }
 ],
 "metadata": {
  "kernelspec": {
   "display_name": "Python 3 (ipykernel)",
   "language": "python",
   "name": "python3"
  },
  "language_info": {
   "codemirror_mode": {
    "name": "ipython",
    "version": 3
   },
   "file_extension": ".py",
   "mimetype": "text/x-python",
   "name": "python",
   "nbconvert_exporter": "python",
   "pygments_lexer": "ipython3",
   "version": "3.8.12"
  }
 },
 "nbformat": 4,
 "nbformat_minor": 5
}
